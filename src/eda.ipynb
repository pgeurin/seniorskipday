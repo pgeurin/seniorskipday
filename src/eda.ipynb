{
 "cells": [
  {
   "cell_type": "code",
   "execution_count": 1,
   "metadata": {},
   "outputs": [],
   "source": [
    "teachers = pd.read_csv('../data/teachers.csv')\n",
    "students = pd.read_csv('../data/students.csv')\n",
    "sessions = pd.read_csv('../data/sessions.csv')\n",
    "schools = pd.read_csv('../data/schools.csv')\n",
    "posts = pd.read_csv('../data/posts.csv')\n",
    "planning_events = pd.read_csv('../data/planning_events.csv')\n",
    "child_posts = pd.read_csv('../data/child_posts.csv')\n",
    "classrooms = pd.read_csv('../data/classrooms.csv')\n",
    "lesson_posts = pd.read_csv('../data/lesson_posts.csv')\n",
    "parents = pd.read_csv('../data/parents.csv')\n",
    "sessions['start_date'] = pd.to_datetime(sessions['start_date'])\n",
    "sessions['stop_date'] = pd.to_datetime(sessions['stop_date'])\n",
    "sessions['exists']=1\n",
    "posts['exists']=1\n",
    "posts['new_date'] = pd.to_datetime(posts.date, errors='coerce')"
   ]
  },
  {
   "cell_type": "markdown",
   "metadata": {
    "heading_collapsed": true
   },
   "source": [
    "## Sessions analysis"
   ]
  },
  {
   "cell_type": "code",
   "execution_count": 2,
   "metadata": {
    "hidden": true,
    "scrolled": true
   },
   "outputs": [
    {
     "data": {
      "text/html": [
       "<div>\n",
       "<style scoped>\n",
       "    .dataframe tbody tr th:only-of-type {\n",
       "        vertical-align: middle;\n",
       "    }\n",
       "\n",
       "    .dataframe tbody tr th {\n",
       "        vertical-align: top;\n",
       "    }\n",
       "\n",
       "    .dataframe thead th {\n",
       "        text-align: right;\n",
       "    }\n",
       "</style>\n",
       "<table border=\"1\" class=\"dataframe\">\n",
       "  <thead>\n",
       "    <tr style=\"text-align: right;\">\n",
       "      <th></th>\n",
       "      <th>id</th>\n",
       "      <th>current</th>\n",
       "      <th>start_date</th>\n",
       "      <th>stop_date</th>\n",
       "      <th>name</th>\n",
       "      <th>school_id</th>\n",
       "      <th>inactive</th>\n",
       "      <th>exists</th>\n",
       "    </tr>\n",
       "  </thead>\n",
       "  <tbody>\n",
       "    <tr>\n",
       "      <th>0</th>\n",
       "      <td>1</td>\n",
       "      <td>f</td>\n",
       "      <td>2012-01-03</td>\n",
       "      <td>2012-06-20</td>\n",
       "      <td>2011-12</td>\n",
       "      <td>2</td>\n",
       "      <td>f</td>\n",
       "      <td>1</td>\n",
       "    </tr>\n",
       "    <tr>\n",
       "      <th>1</th>\n",
       "      <td>2</td>\n",
       "      <td>f</td>\n",
       "      <td>2012-06-25</td>\n",
       "      <td>2012-08-17</td>\n",
       "      <td>Summer 2012</td>\n",
       "      <td>2</td>\n",
       "      <td>f</td>\n",
       "      <td>1</td>\n",
       "    </tr>\n",
       "    <tr>\n",
       "      <th>2</th>\n",
       "      <td>6</td>\n",
       "      <td>f</td>\n",
       "      <td>2013-09-01</td>\n",
       "      <td>2014-07-01</td>\n",
       "      <td>2013-14</td>\n",
       "      <td>3</td>\n",
       "      <td>f</td>\n",
       "      <td>1</td>\n",
       "    </tr>\n",
       "    <tr>\n",
       "      <th>3</th>\n",
       "      <td>3</td>\n",
       "      <td>f</td>\n",
       "      <td>2012-09-04</td>\n",
       "      <td>2013-06-19</td>\n",
       "      <td>2012-13</td>\n",
       "      <td>2</td>\n",
       "      <td>f</td>\n",
       "      <td>1</td>\n",
       "    </tr>\n",
       "    <tr>\n",
       "      <th>4</th>\n",
       "      <td>4</td>\n",
       "      <td>f</td>\n",
       "      <td>2012-09-01</td>\n",
       "      <td>2013-06-30</td>\n",
       "      <td>2012-13</td>\n",
       "      <td>3</td>\n",
       "      <td>f</td>\n",
       "      <td>1</td>\n",
       "    </tr>\n",
       "  </tbody>\n",
       "</table>\n",
       "</div>"
      ],
      "text/plain": [
       "   id current start_date  stop_date         name  school_id inactive  exists\n",
       "0   1       f 2012-01-03 2012-06-20      2011-12          2        f       1\n",
       "1   2       f 2012-06-25 2012-08-17  Summer 2012          2        f       1\n",
       "2   6       f 2013-09-01 2014-07-01      2013-14          3        f       1\n",
       "3   3       f 2012-09-04 2013-06-19      2012-13          2        f       1\n",
       "4   4       f 2012-09-01 2013-06-30      2012-13          3        f       1"
      ]
     },
     "execution_count": 2,
     "metadata": {},
     "output_type": "execute_result"
    }
   ],
   "source": [
    "sessions.head()"
   ]
  },
  {
   "cell_type": "code",
   "execution_count": null,
   "metadata": {
    "hidden": true
   },
   "outputs": [],
   "source": []
  },
  {
   "cell_type": "code",
   "execution_count": 3,
   "metadata": {
    "hidden": true
   },
   "outputs": [
    {
     "data": {
      "text/plain": [
       "14"
      ]
     },
     "execution_count": 3,
     "metadata": {},
     "output_type": "execute_result"
    }
   ],
   "source": [
    "# churners:\n",
    "sum(sessions.groupby('school_id')['stop_date'].max()<pd.to_datetime('april 28, 2018'))"
   ]
  },
  {
   "cell_type": "code",
   "execution_count": 4,
   "metadata": {
    "hidden": true
   },
   "outputs": [
    {
     "data": {
      "text/plain": [
       "1973"
      ]
     },
     "execution_count": 4,
     "metadata": {},
     "output_type": "execute_result"
    }
   ],
   "source": [
    "sum(sessions['stop_date']<pd.to_datetime('april 28, 2018'))"
   ]
  },
  {
   "cell_type": "code",
   "execution_count": 5,
   "metadata": {
    "hidden": true,
    "scrolled": false
   },
   "outputs": [
    {
     "data": {
      "text/plain": [
       "Text(0.5,1,'school_id start/stop dates')"
      ]
     },
     "execution_count": 5,
     "metadata": {},
     "output_type": "execute_result"
    },
    {
     "data": {
      "image/png": "[encoded data removed]",
      "text/plain": [
       "<Figure size 1440x2880 with 1 Axes>"
      ]
     },
     "metadata": {},
     "output_type": "display_data"
    }
   ],
   "source": [
    "fig, ax = plt.subplots(1,1, figsize=(20,40))\n",
    "point_pairs = [((sessions.start_date[i],sessions.stop_date[i]),(sessions.school_id[i],sessions.school_id[i])) for i in range(len(sessions))]\n",
    "# point_pairs = [((sessions.start_date[i],sessions.stop_date[i]),(sessions.school_id[i],sessions.school_id[i])) for i in range(100)]\n",
    "for x in point_pairs:\n",
    "    ax.plot(x[0], x[1], alpha=.5)\n",
    "ax.set_xlabel('start/stop date')\n",
    "ax.set_ylabel('school_id')\n",
    "ax.set_title('school_id start/stop dates')"
   ]
  },
  {
   "cell_type": "code",
   "execution_count": 6,
   "metadata": {
    "hidden": true
   },
   "outputs": [
    {
     "data": {
      "text/plain": [
       "Timestamp('2012-01-03 00:00:00')"
      ]
     },
     "execution_count": 6,
     "metadata": {},
     "output_type": "execute_result"
    }
   ],
   "source": [
    "sessions.start_date[0]"
   ]
  },
  {
   "cell_type": "code",
   "execution_count": null,
   "metadata": {
    "hidden": true
   },
   "outputs": [],
   "source": []
  },
  {
   "cell_type": "code",
   "execution_count": 7,
   "metadata": {
    "hidden": true
   },
   "outputs": [
    {
     "data": {
      "text/html": [
       "<div>\n",
       "<style scoped>\n",
       "    .dataframe tbody tr th:only-of-type {\n",
       "        vertical-align: middle;\n",
       "    }\n",
       "\n",
       "    .dataframe tbody tr th {\n",
       "        vertical-align: top;\n",
       "    }\n",
       "\n",
       "    .dataframe thead th {\n",
       "        text-align: right;\n",
       "    }\n",
       "</style>\n",
       "<table border=\"1\" class=\"dataframe\">\n",
       "  <thead>\n",
       "    <tr style=\"text-align: right;\">\n",
       "      <th></th>\n",
       "      <th>start_date</th>\n",
       "      <th>id</th>\n",
       "      <th>school_id</th>\n",
       "      <th>exists</th>\n",
       "    </tr>\n",
       "  </thead>\n",
       "  <tbody>\n",
       "    <tr>\n",
       "      <th>0</th>\n",
       "      <td>2012-01-03</td>\n",
       "      <td>4596</td>\n",
       "      <td>24</td>\n",
       "      <td>0.693147</td>\n",
       "    </tr>\n",
       "    <tr>\n",
       "      <th>1</th>\n",
       "      <td>2012-06-25</td>\n",
       "      <td>4598</td>\n",
       "      <td>24</td>\n",
       "      <td>0.693147</td>\n",
       "    </tr>\n",
       "    <tr>\n",
       "      <th>2</th>\n",
       "      <td>2012-09-01</td>\n",
       "      <td>4</td>\n",
       "      <td>3</td>\n",
       "      <td>0.000000</td>\n",
       "    </tr>\n",
       "    <tr>\n",
       "      <th>3</th>\n",
       "      <td>2012-09-04</td>\n",
       "      <td>6662</td>\n",
       "      <td>90</td>\n",
       "      <td>1.098612</td>\n",
       "    </tr>\n",
       "    <tr>\n",
       "      <th>4</th>\n",
       "      <td>2013-06-20</td>\n",
       "      <td>4606</td>\n",
       "      <td>24</td>\n",
       "      <td>0.693147</td>\n",
       "    </tr>\n",
       "  </tbody>\n",
       "</table>\n",
       "</div>"
      ],
      "text/plain": [
       "  start_date    id  school_id    exists\n",
       "0 2012-01-03  4596         24  0.693147\n",
       "1 2012-06-25  4598         24  0.693147\n",
       "2 2012-09-01     4          3  0.000000\n",
       "3 2012-09-04  6662         90  1.098612\n",
       "4 2013-06-20  4606         24  0.693147"
      ]
     },
     "execution_count": 7,
     "metadata": {},
     "output_type": "execute_result"
    }
   ],
   "source": [
    "sessions.groupby('start_date').sum().head(5)\n",
    "sum_sessions_date_indexed = sessions.groupby('start_date').sum()\n",
    "sum_sessions_date_indexed['exists'] = np.log(sum_sessions_date_indexed['exists'])\n",
    "sum_sessions_date_indexed[sum_sessions_date_indexed['school_id']==465]['exists']\n",
    "sum_sessions = sum_sessions_date_indexed.reset_index()\n",
    "sum_sessions.head()"
   ]
  },
  {
   "cell_type": "code",
   "execution_count": 8,
   "metadata": {
    "hidden": true
   },
   "outputs": [
    {
     "name": "stdout",
     "output_type": "stream",
     "text": [
      "max stop = 2023-12-31 00:00:00\n",
      "max start = 2023-01-01 00:00:00\n",
      "min stop = 2012-06-20 00:00:00\n",
      "min start = 2012-01-03 00:00:00\n"
     ]
    },
    {
     "data": {
      "image/png": "[encoded data removed]",
      "text/plain": [
       "<Figure size 1440x216 with 1 Axes>"
      ]
     },
     "metadata": {},
     "output_type": "display_data"
    }
   ],
   "source": [
    "fig, ax = plt.subplots(1, 1, figsize=(20,3))\n",
    "ax.plot(sum_sessions[sum_sessions['school_id']==24]['start_date'], sum_sessions[sum_sessions['school_id']==24]['exists'])\n",
    "sessions.describe()\n",
    "print('max stop = ' + str(sessions.stop_date.max()))\n",
    "print('max start = ' + str(sessions.start_date.max()))\n",
    "print('min stop = ' + str(sessions.stop_date.min()))\n",
    "print('min start = ' + str(sessions.start_date.min()))"
   ]
  },
  {
   "cell_type": "code",
   "execution_count": 9,
   "metadata": {
    "hidden": true
   },
   "outputs": [
    {
     "data": {
      "text/html": [
       "<div>\n",
       "<style scoped>\n",
       "    .dataframe tbody tr th:only-of-type {\n",
       "        vertical-align: middle;\n",
       "    }\n",
       "\n",
       "    .dataframe tbody tr th {\n",
       "        vertical-align: top;\n",
       "    }\n",
       "\n",
       "    .dataframe thead th {\n",
       "        text-align: right;\n",
       "    }\n",
       "</style>\n",
       "<table border=\"1\" class=\"dataframe\">\n",
       "  <thead>\n",
       "    <tr style=\"text-align: right;\">\n",
       "      <th></th>\n",
       "      <th>id</th>\n",
       "      <th>current</th>\n",
       "      <th>start_date</th>\n",
       "      <th>stop_date</th>\n",
       "      <th>name</th>\n",
       "      <th>school_id</th>\n",
       "      <th>inactive</th>\n",
       "      <th>exists</th>\n",
       "    </tr>\n",
       "  </thead>\n",
       "  <tbody>\n",
       "    <tr>\n",
       "      <th>0</th>\n",
       "      <td>1</td>\n",
       "      <td>f</td>\n",
       "      <td>2012-01-03</td>\n",
       "      <td>2012-06-20</td>\n",
       "      <td>2011-12</td>\n",
       "      <td>2</td>\n",
       "      <td>f</td>\n",
       "      <td>1</td>\n",
       "    </tr>\n",
       "    <tr>\n",
       "      <th>1</th>\n",
       "      <td>2</td>\n",
       "      <td>f</td>\n",
       "      <td>2012-06-25</td>\n",
       "      <td>2012-08-17</td>\n",
       "      <td>Summer 2012</td>\n",
       "      <td>2</td>\n",
       "      <td>f</td>\n",
       "      <td>1</td>\n",
       "    </tr>\n",
       "    <tr>\n",
       "      <th>2</th>\n",
       "      <td>6</td>\n",
       "      <td>f</td>\n",
       "      <td>2013-09-01</td>\n",
       "      <td>2014-07-01</td>\n",
       "      <td>2013-14</td>\n",
       "      <td>3</td>\n",
       "      <td>f</td>\n",
       "      <td>1</td>\n",
       "    </tr>\n",
       "  </tbody>\n",
       "</table>\n",
       "</div>"
      ],
      "text/plain": [
       "   id current start_date  stop_date         name  school_id inactive  exists\n",
       "0   1       f 2012-01-03 2012-06-20      2011-12          2        f       1\n",
       "1   2       f 2012-06-25 2012-08-17  Summer 2012          2        f       1\n",
       "2   6       f 2013-09-01 2014-07-01      2013-14          3        f       1"
      ]
     },
     "execution_count": 9,
     "metadata": {},
     "output_type": "execute_result"
    }
   ],
   "source": [
    "sessions.head(3)"
   ]
  },
  {
   "cell_type": "code",
   "execution_count": 10,
   "metadata": {
    "hidden": true
   },
   "outputs": [
    {
     "data": {
      "text/plain": [
       "school_id\n",
       "2     AxesSubplot(0.125,0.125;0.775x0.755)\n",
       "3     AxesSubplot(0.125,0.125;0.775x0.755)\n",
       "22    AxesSubplot(0.125,0.125;0.775x0.755)\n",
       "Name: exists, dtype: object"
      ]
     },
     "execution_count": 10,
     "metadata": {},
     "output_type": "execute_result"
    },
    {
     "data": {
      "image/png": "[encoded data removed]",
      "text/plain": [
       "<Figure size 432x288 with 1 Axes>"
      ]
     },
     "metadata": {},
     "output_type": "display_data"
    }
   ],
   "source": [
    "sessions_grouped = sessions[['start_date','school_id','exists']].groupby(['start_date','school_id']).sum().reset_index().head()\n",
    "# sessions_grouped.set_index('start_date', inplace=True)\n",
    "sessions_grouped.groupby('school_id')['exists'].plot(legend=True)"
   ]
  },
  {
   "cell_type": "code",
   "execution_count": 11,
   "metadata": {
    "hidden": true
   },
   "outputs": [
    {
     "data": {
      "image/png": "[encoded data removed]",
      "text/plain": [
       "<Figure size 1440x1440 with 1 Axes>"
      ]
     },
     "metadata": {},
     "output_type": "display_data"
    }
   ],
   "source": [
    "fig, ax = plt.subplots(1,1, figsize=(20,20))\n",
    "ax.plot(sessions[['exists','start_date']].groupby('start_date').sum());"
   ]
  },
  {
   "cell_type": "markdown",
   "metadata": {
    "heading_collapsed": true
   },
   "source": [
    "## Posts analysis"
   ]
  },
  {
   "cell_type": "code",
   "execution_count": null,
   "metadata": {
    "hidden": true
   },
   "outputs": [],
   "source": []
  },
  {
   "cell_type": "code",
   "execution_count": null,
   "metadata": {
    "hidden": true
   },
   "outputs": [],
   "source": [
    "posts.describe()"
   ]
  },
  {
   "cell_type": "code",
   "execution_count": null,
   "metadata": {
    "hidden": true
   },
   "outputs": [],
   "source": [
    "sorted_post_date = posts.date.sort_values()"
   ]
  },
  {
   "cell_type": "code",
   "execution_count": 16,
   "metadata": {
    "hidden": true
   },
   "outputs": [],
   "source": [
    "# # posts.date.dtypes\n",
    "# # posts.date.apply(lambda x: not isinstance(x, pd.Timestamp))\n",
    "# sorted_post_date.iloc[-170:]\n",
    "# # posts.date.dtypes\n",
    "# posts['new_date'] = pd.to_datetime(posts.date, errors='coerce')\n",
    "# # len(posts.date)\n",
    "# # posts.date>'2018-12-12'"
   ]
  },
  {
   "cell_type": "code",
   "execution_count": 17,
   "metadata": {
    "hidden": true
   },
   "outputs": [
    {
     "name": "stdout",
     "output_type": "stream",
     "text": [
      "2020-08-24 00:00:00\n",
      "1908-10-09 00:00:00\n"
     ]
    }
   ],
   "source": [
    "print(posts.new_date.max())\n",
    "print(posts.new_date.min())"
   ]
  },
  {
   "cell_type": "code",
   "execution_count": 19,
   "metadata": {
    "hidden": true
   },
   "outputs": [],
   "source": [
    "# posts['exists']=1\n",
    "# posts.head(3)"
   ]
  },
  {
   "cell_type": "code",
   "execution_count": null,
   "metadata": {
    "hidden": true
   },
   "outputs": [],
   "source": [
    "posts[['new_date','classroom_id','exists']].groupby(['classroom_id', 'new_date']).sum().plot();"
   ]
  },
  {
   "cell_type": "code",
   "execution_count": null,
   "metadata": {
    "hidden": true
   },
   "outputs": [],
   "source": [
    "posts[['new_date','classroom_id','exists']].groupby(['classroom_id', 'new_date']).sum()"
   ]
  },
  {
   "cell_type": "code",
   "execution_count": null,
   "metadata": {
    "hidden": true
   },
   "outputs": [],
   "source": [
    "sum_post = posts[['new_date','classroom_id','exists']].groupby(['classroom_id', 'new_date']).sum()\n",
    "sum_post['exists'] = np.log(sum_post['exists'])\n",
    "sum_post = sum_post.reset_index()\n",
    "sum_post_date_indexed = sum_post.copy()\n",
    "sum_post_date_indexed.set_index('new_date',inplace=True)\n",
    "# plt.plot(sum_post[sum_post['classroom_id']==1])\n",
    "# plt.scatter(sum_post[sum_post['classroom_id']==1][new_date], sum_post[sum_post['classroom_id']==1]['exists'])"
   ]
  },
  {
   "cell_type": "code",
   "execution_count": null,
   "metadata": {
    "hidden": true
   },
   "outputs": [],
   "source": [
    "sum_post[sum_post['classroom_id']==3]"
   ]
  },
  {
   "cell_type": "code",
   "execution_count": null,
   "metadata": {
    "hidden": true
   },
   "outputs": [],
   "source": [
    "sum_post['classroom_id'].value_counts()[60:61]\n",
    "sum_post.head()"
   ]
  },
  {
   "cell_type": "code",
   "execution_count": null,
   "metadata": {
    "hidden": true
   },
   "outputs": [],
   "source": [
    "# plt.plot(sum_post[sum_post['classroom_id']==1]);\n",
    "np.exp(5)"
   ]
  },
  {
   "cell_type": "code",
   "execution_count": null,
   "metadata": {
    "hidden": true,
    "scrolled": true
   },
   "outputs": [],
   "source": [
    "fig, ax = plt.subplots(2,1, figsize=(20,3))\n",
    "ax[0].scatter(sum_post[sum_post['classroom_id']==77]['new_date'].values,sum_post[sum_post['classroom_id']==77]['exists'])\n",
    "ax[1].plot(sum_post[sum_post['classroom_id']==77]['new_date'],sum_post[sum_post['classroom_id']==77]['exists']);\n",
    "ax[0].set_title(\"Class 77 log(posts)\")"
   ]
  },
  {
   "cell_type": "code",
   "execution_count": null,
   "metadata": {
    "hidden": true
   },
   "outputs": [],
   "source": [
    "fig, ax = plt.subplots(2,1, figsize=(20,3))\n",
    "ax[0].scatter(sum_post[sum_post['classroom_id']==852]['new_date'].values,sum_post[sum_post['classroom_id']==852]['exists'])\n",
    "ax[1].plot(sum_post[sum_post['classroom_id']==852]['new_date'],sum_post[sum_post['classroom_id']==852]['exists']);\n",
    "ax[0].set_title(\"Class 852 log(posts)\")"
   ]
  },
  {
   "cell_type": "code",
   "execution_count": null,
   "metadata": {
    "hidden": true,
    "scrolled": false
   },
   "outputs": [],
   "source": [
    "classroom_id = 51\n",
    "for classroom_id in sum_post['classroom_id'].unique()[0:30]:\n",
    "    fig, ax = plt.subplots(2,1, figsize=(20,3))\n",
    "    ax[0].scatter(sum_post[sum_post['classroom_id']==classroom_id]['new_date'].values,sum_post[sum_post['classroom_id']==classroom_id]['exists'])\n",
    "    ax[1].plot(sum_post[sum_post['classroom_id']==classroom_id]['new_date'],sum_post[sum_post['classroom_id']==classroom_id]['exists']);\n",
    "    ax[0].set_title(f\"Class {classroom_id} log(posts)\")\n",
    "    plt.show()"
   ]
  },
  {
   "cell_type": "markdown",
   "metadata": {},
   "source": [
    "## Peek at all data:"
   ]
  },
  {
   "cell_type": "code",
   "execution_count": 48,
   "metadata": {},
   "outputs": [
    {
     "data": {
      "text/html": [
       "<div>\n",
       "<style scoped>\n",
       "    .dataframe tbody tr th:only-of-type {\n",
       "        vertical-align: middle;\n",
       "    }\n",
       "\n",
       "    .dataframe tbody tr th {\n",
       "        vertical-align: top;\n",
       "    }\n",
       "\n",
       "    .dataframe thead th {\n",
       "        text-align: right;\n",
       "    }\n",
       "</style>\n",
       "<table border=\"1\" class=\"dataframe\">\n",
       "  <thead>\n",
       "    <tr style=\"text-align: right;\">\n",
       "      <th></th>\n",
       "      <th>id</th>\n",
       "      <th>date</th>\n",
       "      <th>classroom_id</th>\n",
       "      <th>picture_file_name</th>\n",
       "      <th>private</th>\n",
       "      <th>exists</th>\n",
       "      <th>new_date</th>\n",
       "    </tr>\n",
       "  </thead>\n",
       "  <tbody>\n",
       "    <tr>\n",
       "      <th>0</th>\n",
       "      <td>4319418</td>\n",
       "      <td>2018-01-25</td>\n",
       "      <td>1684</td>\n",
       "      <td>NaN</td>\n",
       "      <td>f</td>\n",
       "      <td>1</td>\n",
       "      <td>2018-01-25</td>\n",
       "    </tr>\n",
       "    <tr>\n",
       "      <th>1</th>\n",
       "      <td>4319419</td>\n",
       "      <td>2018-01-25</td>\n",
       "      <td>1684</td>\n",
       "      <td>NaN</td>\n",
       "      <td>f</td>\n",
       "      <td>1</td>\n",
       "      <td>2018-01-25</td>\n",
       "    </tr>\n",
       "    <tr>\n",
       "      <th>2</th>\n",
       "      <td>4319420</td>\n",
       "      <td>2018-01-25</td>\n",
       "      <td>1684</td>\n",
       "      <td>NaN</td>\n",
       "      <td>f</td>\n",
       "      <td>1</td>\n",
       "      <td>2018-01-25</td>\n",
       "    </tr>\n",
       "    <tr>\n",
       "      <th>3</th>\n",
       "      <td>4319421</td>\n",
       "      <td>2018-01-25</td>\n",
       "      <td>1684</td>\n",
       "      <td>NaN</td>\n",
       "      <td>f</td>\n",
       "      <td>1</td>\n",
       "      <td>2018-01-25</td>\n",
       "    </tr>\n",
       "    <tr>\n",
       "      <th>4</th>\n",
       "      <td>4319422</td>\n",
       "      <td>2018-01-25</td>\n",
       "      <td>1684</td>\n",
       "      <td>NaN</td>\n",
       "      <td>f</td>\n",
       "      <td>1</td>\n",
       "      <td>2018-01-25</td>\n",
       "    </tr>\n",
       "  </tbody>\n",
       "</table>\n",
       "</div>"
      ],
      "text/plain": [
       "        id        date  classroom_id picture_file_name private  exists  \\\n",
       "0  4319418  2018-01-25          1684               NaN       f       1   \n",
       "1  4319419  2018-01-25          1684               NaN       f       1   \n",
       "2  4319420  2018-01-25          1684               NaN       f       1   \n",
       "3  4319421  2018-01-25          1684               NaN       f       1   \n",
       "4  4319422  2018-01-25          1684               NaN       f       1   \n",
       "\n",
       "    new_date  \n",
       "0 2018-01-25  \n",
       "1 2018-01-25  \n",
       "2 2018-01-25  \n",
       "3 2018-01-25  \n",
       "4 2018-01-25  "
      ]
     },
     "execution_count": 48,
     "metadata": {},
     "output_type": "execute_result"
    }
   ],
   "source": [
    "posts.head()"
   ]
  },
  {
   "cell_type": "code",
   "execution_count": null,
   "metadata": {},
   "outputs": [],
   "source": [
    "planning_events.head(3)"
   ]
  },
  {
   "cell_type": "code",
   "execution_count": 47,
   "metadata": {},
   "outputs": [
    {
     "data": {
      "text/html": [
       "<div>\n",
       "<style scoped>\n",
       "    .dataframe tbody tr th:only-of-type {\n",
       "        vertical-align: middle;\n",
       "    }\n",
       "\n",
       "    .dataframe tbody tr th {\n",
       "        vertical-align: top;\n",
       "    }\n",
       "\n",
       "    .dataframe thead th {\n",
       "        text-align: right;\n",
       "    }\n",
       "</style>\n",
       "<table border=\"1\" class=\"dataframe\">\n",
       "  <thead>\n",
       "    <tr style=\"text-align: right;\">\n",
       "      <th></th>\n",
       "      <th>id</th>\n",
       "      <th>school_id</th>\n",
       "      <th>lesson_set_id</th>\n",
       "      <th>inactive</th>\n",
       "      <th>classroom_type</th>\n",
       "    </tr>\n",
       "  </thead>\n",
       "  <tbody>\n",
       "    <tr>\n",
       "      <th>0</th>\n",
       "      <td>2650</td>\n",
       "      <td>855</td>\n",
       "      <td>1281</td>\n",
       "      <td>f</td>\n",
       "      <td>Primary</td>\n",
       "    </tr>\n",
       "    <tr>\n",
       "      <th>1</th>\n",
       "      <td>174</td>\n",
       "      <td>48</td>\n",
       "      <td>126</td>\n",
       "      <td>t</td>\n",
       "      <td>Primary</td>\n",
       "    </tr>\n",
       "    <tr>\n",
       "      <th>2</th>\n",
       "      <td>2645</td>\n",
       "      <td>862</td>\n",
       "      <td>1276</td>\n",
       "      <td>f</td>\n",
       "      <td>Lower Elementary</td>\n",
       "    </tr>\n",
       "    <tr>\n",
       "      <th>3</th>\n",
       "      <td>3183</td>\n",
       "      <td>968</td>\n",
       "      <td>1563</td>\n",
       "      <td>f</td>\n",
       "      <td>Infant</td>\n",
       "    </tr>\n",
       "    <tr>\n",
       "      <th>4</th>\n",
       "      <td>3680</td>\n",
       "      <td>224</td>\n",
       "      <td>306</td>\n",
       "      <td>f</td>\n",
       "      <td>Primary</td>\n",
       "    </tr>\n",
       "    <tr>\n",
       "      <th>5</th>\n",
       "      <td>256</td>\n",
       "      <td>80</td>\n",
       "      <td>162</td>\n",
       "      <td>f</td>\n",
       "      <td>Lower Elementary</td>\n",
       "    </tr>\n",
       "    <tr>\n",
       "      <th>6</th>\n",
       "      <td>3190</td>\n",
       "      <td>969</td>\n",
       "      <td>1566</td>\n",
       "      <td>f</td>\n",
       "      <td>Primary</td>\n",
       "    </tr>\n",
       "    <tr>\n",
       "      <th>7</th>\n",
       "      <td>2599</td>\n",
       "      <td>220</td>\n",
       "      <td>1253</td>\n",
       "      <td>f</td>\n",
       "      <td>Lower Elementary</td>\n",
       "    </tr>\n",
       "    <tr>\n",
       "      <th>8</th>\n",
       "      <td>3184</td>\n",
       "      <td>968</td>\n",
       "      <td>1563</td>\n",
       "      <td>f</td>\n",
       "      <td>Infant</td>\n",
       "    </tr>\n",
       "    <tr>\n",
       "      <th>9</th>\n",
       "      <td>3675</td>\n",
       "      <td>1099</td>\n",
       "      <td>1847</td>\n",
       "      <td>f</td>\n",
       "      <td>Infant</td>\n",
       "    </tr>\n",
       "  </tbody>\n",
       "</table>\n",
       "</div>"
      ],
      "text/plain": [
       "     id  school_id  lesson_set_id inactive    classroom_type\n",
       "0  2650        855           1281        f           Primary\n",
       "1   174         48            126        t           Primary\n",
       "2  2645        862           1276        f  Lower Elementary\n",
       "3  3183        968           1563        f            Infant\n",
       "4  3680        224            306        f           Primary\n",
       "5   256         80            162        f  Lower Elementary\n",
       "6  3190        969           1566        f           Primary\n",
       "7  2599        220           1253        f  Lower Elementary\n",
       "8  3184        968           1563        f            Infant\n",
       "9  3675       1099           1847        f            Infant"
      ]
     },
     "execution_count": 47,
     "metadata": {},
     "output_type": "execute_result"
    }
   ],
   "source": [
    "classrooms.head(10)"
   ]
  },
  {
   "cell_type": "code",
   "execution_count": null,
   "metadata": {
    "scrolled": true
   },
   "outputs": [],
   "source": [
    "teachers.head(10)"
   ]
  },
  {
   "cell_type": "code",
   "execution_count": null,
   "metadata": {
    "scrolled": false
   },
   "outputs": [],
   "source": [
    "students.head()"
   ]
  },
  {
   "cell_type": "code",
   "execution_count": null,
   "metadata": {},
   "outputs": [],
   "source": [
    "schools.head(5)"
   ]
  },
  {
   "cell_type": "code",
   "execution_count": 20,
   "metadata": {},
   "outputs": [
    {
     "data": {
      "text/html": [
       "<div>\n",
       "<style scoped>\n",
       "    .dataframe tbody tr th:only-of-type {\n",
       "        vertical-align: middle;\n",
       "    }\n",
       "\n",
       "    .dataframe tbody tr th {\n",
       "        vertical-align: top;\n",
       "    }\n",
       "\n",
       "    .dataframe thead th {\n",
       "        text-align: right;\n",
       "    }\n",
       "</style>\n",
       "<table border=\"1\" class=\"dataframe\">\n",
       "  <thead>\n",
       "    <tr style=\"text-align: right;\">\n",
       "      <th></th>\n",
       "      <th>lesson_id</th>\n",
       "      <th>post_id</th>\n",
       "    </tr>\n",
       "  </thead>\n",
       "  <tbody>\n",
       "    <tr>\n",
       "      <th>0</th>\n",
       "      <td>17689</td>\n",
       "      <td>472955</td>\n",
       "    </tr>\n",
       "    <tr>\n",
       "      <th>1</th>\n",
       "      <td>17690</td>\n",
       "      <td>472955</td>\n",
       "    </tr>\n",
       "    <tr>\n",
       "      <th>2</th>\n",
       "      <td>17737</td>\n",
       "      <td>472955</td>\n",
       "    </tr>\n",
       "  </tbody>\n",
       "</table>\n",
       "</div>"
      ],
      "text/plain": [
       "   lesson_id  post_id\n",
       "0      17689   472955\n",
       "1      17690   472955\n",
       "2      17737   472955"
      ]
     },
     "execution_count": 20,
     "metadata": {},
     "output_type": "execute_result"
    }
   ],
   "source": [
    "lesson_posts.head(3)"
   ]
  },
  {
   "cell_type": "code",
   "execution_count": 28,
   "metadata": {},
   "outputs": [
    {
     "data": {
      "image/png": "[encoded data removed]",
      "text/plain": [
       "<Figure size 432x288 with 1 Axes>"
      ]
     },
     "metadata": {},
     "output_type": "display_data"
    }
   ],
   "source": [
    "plt.hist(lesson_posts.groupby('lesson_id').sum()['post_id'], bins=30);"
   ]
  },
  {
   "cell_type": "code",
   "execution_count": null,
   "metadata": {},
   "outputs": [],
   "source": [
    "child_posts.head(3)"
   ]
  },
  {
   "cell_type": "markdown",
   "metadata": {},
   "source": [
    "## Combine data into one dataframe for analysis:"
   ]
  },
  {
   "cell_type": "code",
   "execution_count": 41,
   "metadata": {},
   "outputs": [],
   "source": [
    "posts = pd.read_csv('../data/posts.csv')\n",
    "posts['exists']=1\n",
    "posts['new_date'] = pd.to_datetime(posts.date, errors='coerce')"
   ]
  },
  {
   "cell_type": "code",
   "execution_count": 42,
   "metadata": {},
   "outputs": [
    {
     "name": "stdout",
     "output_type": "stream",
     "text": [
      "4584013\n"
     ]
    },
    {
     "data": {
      "text/html": [
       "<div>\n",
       "<style scoped>\n",
       "    .dataframe tbody tr th:only-of-type {\n",
       "        vertical-align: middle;\n",
       "    }\n",
       "\n",
       "    .dataframe tbody tr th {\n",
       "        vertical-align: top;\n",
       "    }\n",
       "\n",
       "    .dataframe thead th {\n",
       "        text-align: right;\n",
       "    }\n",
       "</style>\n",
       "<table border=\"1\" class=\"dataframe\">\n",
       "  <thead>\n",
       "    <tr style=\"text-align: right;\">\n",
       "      <th></th>\n",
       "      <th>id</th>\n",
       "      <th>date</th>\n",
       "      <th>classroom_id</th>\n",
       "      <th>picture_file_name</th>\n",
       "      <th>private</th>\n",
       "      <th>exists</th>\n",
       "      <th>new_date</th>\n",
       "    </tr>\n",
       "  </thead>\n",
       "  <tbody>\n",
       "    <tr>\n",
       "      <th>0</th>\n",
       "      <td>4319418</td>\n",
       "      <td>2018-01-25</td>\n",
       "      <td>1684</td>\n",
       "      <td>NaN</td>\n",
       "      <td>f</td>\n",
       "      <td>1</td>\n",
       "      <td>2018-01-25</td>\n",
       "    </tr>\n",
       "    <tr>\n",
       "      <th>1</th>\n",
       "      <td>4319419</td>\n",
       "      <td>2018-01-25</td>\n",
       "      <td>1684</td>\n",
       "      <td>NaN</td>\n",
       "      <td>f</td>\n",
       "      <td>1</td>\n",
       "      <td>2018-01-25</td>\n",
       "    </tr>\n",
       "    <tr>\n",
       "      <th>2</th>\n",
       "      <td>4319420</td>\n",
       "      <td>2018-01-25</td>\n",
       "      <td>1684</td>\n",
       "      <td>NaN</td>\n",
       "      <td>f</td>\n",
       "      <td>1</td>\n",
       "      <td>2018-01-25</td>\n",
       "    </tr>\n",
       "    <tr>\n",
       "      <th>3</th>\n",
       "      <td>4319421</td>\n",
       "      <td>2018-01-25</td>\n",
       "      <td>1684</td>\n",
       "      <td>NaN</td>\n",
       "      <td>f</td>\n",
       "      <td>1</td>\n",
       "      <td>2018-01-25</td>\n",
       "    </tr>\n",
       "    <tr>\n",
       "      <th>4</th>\n",
       "      <td>4319422</td>\n",
       "      <td>2018-01-25</td>\n",
       "      <td>1684</td>\n",
       "      <td>NaN</td>\n",
       "      <td>f</td>\n",
       "      <td>1</td>\n",
       "      <td>2018-01-25</td>\n",
       "    </tr>\n",
       "  </tbody>\n",
       "</table>\n",
       "</div>"
      ],
      "text/plain": [
       "        id        date  classroom_id picture_file_name private  exists  \\\n",
       "0  4319418  2018-01-25          1684               NaN       f       1   \n",
       "1  4319419  2018-01-25          1684               NaN       f       1   \n",
       "2  4319420  2018-01-25          1684               NaN       f       1   \n",
       "3  4319421  2018-01-25          1684               NaN       f       1   \n",
       "4  4319422  2018-01-25          1684               NaN       f       1   \n",
       "\n",
       "    new_date  \n",
       "0 2018-01-25  \n",
       "1 2018-01-25  \n",
       "2 2018-01-25  \n",
       "3 2018-01-25  \n",
       "4 2018-01-25  "
      ]
     },
     "execution_count": 42,
     "metadata": {},
     "output_type": "execute_result"
    }
   ],
   "source": [
    "print(len(posts))\n",
    "posts.head()"
   ]
  },
  {
   "cell_type": "code",
   "execution_count": 43,
   "metadata": {
    "scrolled": true
   },
   "outputs": [
    {
     "name": "stdout",
     "output_type": "stream",
     "text": [
      "4584013\n"
     ]
    },
    {
     "data": {
      "text/html": [
       "<div>\n",
       "<style scoped>\n",
       "    .dataframe tbody tr th:only-of-type {\n",
       "        vertical-align: middle;\n",
       "    }\n",
       "\n",
       "    .dataframe tbody tr th {\n",
       "        vertical-align: top;\n",
       "    }\n",
       "\n",
       "    .dataframe thead th {\n",
       "        text-align: right;\n",
       "    }\n",
       "</style>\n",
       "<table border=\"1\" class=\"dataframe\">\n",
       "  <thead>\n",
       "    <tr style=\"text-align: right;\">\n",
       "      <th></th>\n",
       "      <th>id_x</th>\n",
       "      <th>date</th>\n",
       "      <th>classroom_id</th>\n",
       "      <th>picture_file_name</th>\n",
       "      <th>private</th>\n",
       "      <th>exists</th>\n",
       "      <th>new_date</th>\n",
       "      <th>id_y</th>\n",
       "      <th>school_id</th>\n",
       "      <th>lesson_set_id</th>\n",
       "      <th>inactive</th>\n",
       "      <th>classroom_type</th>\n",
       "      <th>post_id</th>\n",
       "    </tr>\n",
       "  </thead>\n",
       "  <tbody>\n",
       "    <tr>\n",
       "      <th>0</th>\n",
       "      <td>4319418</td>\n",
       "      <td>2018-01-25</td>\n",
       "      <td>1684</td>\n",
       "      <td>NaN</td>\n",
       "      <td>f</td>\n",
       "      <td>1</td>\n",
       "      <td>2018-01-25</td>\n",
       "      <td>1684</td>\n",
       "      <td>437</td>\n",
       "      <td>914</td>\n",
       "      <td>f</td>\n",
       "      <td>Lower Elementary</td>\n",
       "      <td>4319418</td>\n",
       "    </tr>\n",
       "    <tr>\n",
       "      <th>1</th>\n",
       "      <td>4319419</td>\n",
       "      <td>2018-01-25</td>\n",
       "      <td>1684</td>\n",
       "      <td>NaN</td>\n",
       "      <td>f</td>\n",
       "      <td>1</td>\n",
       "      <td>2018-01-25</td>\n",
       "      <td>1684</td>\n",
       "      <td>437</td>\n",
       "      <td>914</td>\n",
       "      <td>f</td>\n",
       "      <td>Lower Elementary</td>\n",
       "      <td>4319419</td>\n",
       "    </tr>\n",
       "    <tr>\n",
       "      <th>2</th>\n",
       "      <td>4319420</td>\n",
       "      <td>2018-01-25</td>\n",
       "      <td>1684</td>\n",
       "      <td>NaN</td>\n",
       "      <td>f</td>\n",
       "      <td>1</td>\n",
       "      <td>2018-01-25</td>\n",
       "      <td>1684</td>\n",
       "      <td>437</td>\n",
       "      <td>914</td>\n",
       "      <td>f</td>\n",
       "      <td>Lower Elementary</td>\n",
       "      <td>4319420</td>\n",
       "    </tr>\n",
       "    <tr>\n",
       "      <th>3</th>\n",
       "      <td>4319421</td>\n",
       "      <td>2018-01-25</td>\n",
       "      <td>1684</td>\n",
       "      <td>NaN</td>\n",
       "      <td>f</td>\n",
       "      <td>1</td>\n",
       "      <td>2018-01-25</td>\n",
       "      <td>1684</td>\n",
       "      <td>437</td>\n",
       "      <td>914</td>\n",
       "      <td>f</td>\n",
       "      <td>Lower Elementary</td>\n",
       "      <td>4319421</td>\n",
       "    </tr>\n",
       "    <tr>\n",
       "      <th>4</th>\n",
       "      <td>4319422</td>\n",
       "      <td>2018-01-25</td>\n",
       "      <td>1684</td>\n",
       "      <td>NaN</td>\n",
       "      <td>f</td>\n",
       "      <td>1</td>\n",
       "      <td>2018-01-25</td>\n",
       "      <td>1684</td>\n",
       "      <td>437</td>\n",
       "      <td>914</td>\n",
       "      <td>f</td>\n",
       "      <td>Lower Elementary</td>\n",
       "      <td>4319422</td>\n",
       "    </tr>\n",
       "    <tr>\n",
       "      <th>5</th>\n",
       "      <td>4376681</td>\n",
       "      <td>2018-01-29</td>\n",
       "      <td>2859</td>\n",
       "      <td>20180129142656_5863f9e3-d886-4071-807c-8af9db3...</td>\n",
       "      <td>f</td>\n",
       "      <td>1</td>\n",
       "      <td>2018-01-29</td>\n",
       "      <td>2859</td>\n",
       "      <td>544</td>\n",
       "      <td>1558</td>\n",
       "      <td>f</td>\n",
       "      <td>Preschool</td>\n",
       "      <td>4376681</td>\n",
       "    </tr>\n",
       "    <tr>\n",
       "      <th>6</th>\n",
       "      <td>4376671</td>\n",
       "      <td>2018-01-29</td>\n",
       "      <td>2859</td>\n",
       "      <td>20180129142656_5863f9e3-d886-4071-807c-8af9db3...</td>\n",
       "      <td>f</td>\n",
       "      <td>1</td>\n",
       "      <td>2018-01-29</td>\n",
       "      <td>2859</td>\n",
       "      <td>544</td>\n",
       "      <td>1558</td>\n",
       "      <td>f</td>\n",
       "      <td>Preschool</td>\n",
       "      <td>4376671</td>\n",
       "    </tr>\n",
       "    <tr>\n",
       "      <th>7</th>\n",
       "      <td>4376672</td>\n",
       "      <td>2018-01-26</td>\n",
       "      <td>2859</td>\n",
       "      <td>20180129142656_5863f9e3-d886-4071-807c-8af9db3...</td>\n",
       "      <td>f</td>\n",
       "      <td>1</td>\n",
       "      <td>2018-01-26</td>\n",
       "      <td>2859</td>\n",
       "      <td>544</td>\n",
       "      <td>1558</td>\n",
       "      <td>f</td>\n",
       "      <td>Preschool</td>\n",
       "      <td>4376672</td>\n",
       "    </tr>\n",
       "    <tr>\n",
       "      <th>8</th>\n",
       "      <td>4376683</td>\n",
       "      <td>2018-01-29</td>\n",
       "      <td>2427</td>\n",
       "      <td>20180129133055_2d125c6c-580c-456f-9220-72632d5...</td>\n",
       "      <td>f</td>\n",
       "      <td>1</td>\n",
       "      <td>2018-01-29</td>\n",
       "      <td>2427</td>\n",
       "      <td>823</td>\n",
       "      <td>1178</td>\n",
       "      <td>f</td>\n",
       "      <td>Infant</td>\n",
       "      <td>4376683</td>\n",
       "    </tr>\n",
       "    <tr>\n",
       "      <th>9</th>\n",
       "      <td>522797</td>\n",
       "      <td>2016-09-09</td>\n",
       "      <td>338</td>\n",
       "      <td>Henry_D.jpg</td>\n",
       "      <td>f</td>\n",
       "      <td>1</td>\n",
       "      <td>2016-09-09</td>\n",
       "      <td>338</td>\n",
       "      <td>103</td>\n",
       "      <td>212</td>\n",
       "      <td>f</td>\n",
       "      <td>Preschool/Kindergarten</td>\n",
       "      <td>522797</td>\n",
       "    </tr>\n",
       "    <tr>\n",
       "      <th>10</th>\n",
       "      <td>4322055</td>\n",
       "      <td>2018-01-25</td>\n",
       "      <td>649</td>\n",
       "      <td>20180125143935_ca23fba2-5c50-46e7-99de-f81e216...</td>\n",
       "      <td>f</td>\n",
       "      <td>1</td>\n",
       "      <td>2018-01-25</td>\n",
       "      <td>649</td>\n",
       "      <td>266</td>\n",
       "      <td>357</td>\n",
       "      <td>f</td>\n",
       "      <td>Primary</td>\n",
       "      <td>4322055</td>\n",
       "    </tr>\n",
       "    <tr>\n",
       "      <th>11</th>\n",
       "      <td>4319428</td>\n",
       "      <td>2018-01-25</td>\n",
       "      <td>446</td>\n",
       "      <td>NaN</td>\n",
       "      <td>f</td>\n",
       "      <td>1</td>\n",
       "      <td>2018-01-25</td>\n",
       "      <td>446</td>\n",
       "      <td>217</td>\n",
       "      <td>713</td>\n",
       "      <td>f</td>\n",
       "      <td>Upper Elementary</td>\n",
       "      <td>4319428</td>\n",
       "    </tr>\n",
       "    <tr>\n",
       "      <th>12</th>\n",
       "      <td>4319429</td>\n",
       "      <td>2018-01-25</td>\n",
       "      <td>446</td>\n",
       "      <td>NaN</td>\n",
       "      <td>f</td>\n",
       "      <td>1</td>\n",
       "      <td>2018-01-25</td>\n",
       "      <td>446</td>\n",
       "      <td>217</td>\n",
       "      <td>713</td>\n",
       "      <td>f</td>\n",
       "      <td>Upper Elementary</td>\n",
       "      <td>4319429</td>\n",
       "    </tr>\n",
       "    <tr>\n",
       "      <th>13</th>\n",
       "      <td>4319438</td>\n",
       "      <td>2018-01-25</td>\n",
       "      <td>2540</td>\n",
       "      <td>NaN</td>\n",
       "      <td>t</td>\n",
       "      <td>1</td>\n",
       "      <td>2018-01-25</td>\n",
       "      <td>2540</td>\n",
       "      <td>839</td>\n",
       "      <td>1485</td>\n",
       "      <td>f</td>\n",
       "      <td>Lower Elementary</td>\n",
       "      <td>4319438</td>\n",
       "    </tr>\n",
       "    <tr>\n",
       "      <th>14</th>\n",
       "      <td>4319439</td>\n",
       "      <td>2018-01-25</td>\n",
       "      <td>1684</td>\n",
       "      <td>NaN</td>\n",
       "      <td>f</td>\n",
       "      <td>1</td>\n",
       "      <td>2018-01-25</td>\n",
       "      <td>1684</td>\n",
       "      <td>437</td>\n",
       "      <td>914</td>\n",
       "      <td>f</td>\n",
       "      <td>Lower Elementary</td>\n",
       "      <td>4319439</td>\n",
       "    </tr>\n",
       "    <tr>\n",
       "      <th>15</th>\n",
       "      <td>4319443</td>\n",
       "      <td>2018-01-25</td>\n",
       "      <td>2540</td>\n",
       "      <td>NaN</td>\n",
       "      <td>t</td>\n",
       "      <td>1</td>\n",
       "      <td>2018-01-25</td>\n",
       "      <td>2540</td>\n",
       "      <td>839</td>\n",
       "      <td>1485</td>\n",
       "      <td>f</td>\n",
       "      <td>Lower Elementary</td>\n",
       "      <td>4319443</td>\n",
       "    </tr>\n",
       "    <tr>\n",
       "      <th>16</th>\n",
       "      <td>4319435</td>\n",
       "      <td>2018-01-25</td>\n",
       "      <td>3300</td>\n",
       "      <td>NaN</td>\n",
       "      <td>f</td>\n",
       "      <td>1</td>\n",
       "      <td>2018-01-25</td>\n",
       "      <td>3300</td>\n",
       "      <td>1009</td>\n",
       "      <td>1650</td>\n",
       "      <td>f</td>\n",
       "      <td>Elementary</td>\n",
       "      <td>4319435</td>\n",
       "    </tr>\n",
       "    <tr>\n",
       "      <th>17</th>\n",
       "      <td>4319444</td>\n",
       "      <td>2018-01-25</td>\n",
       "      <td>3300</td>\n",
       "      <td>NaN</td>\n",
       "      <td>f</td>\n",
       "      <td>1</td>\n",
       "      <td>2018-01-25</td>\n",
       "      <td>3300</td>\n",
       "      <td>1009</td>\n",
       "      <td>1650</td>\n",
       "      <td>f</td>\n",
       "      <td>Elementary</td>\n",
       "      <td>4319444</td>\n",
       "    </tr>\n",
       "    <tr>\n",
       "      <th>18</th>\n",
       "      <td>4319447</td>\n",
       "      <td>2018-01-25</td>\n",
       "      <td>2540</td>\n",
       "      <td>NaN</td>\n",
       "      <td>t</td>\n",
       "      <td>1</td>\n",
       "      <td>2018-01-25</td>\n",
       "      <td>2540</td>\n",
       "      <td>839</td>\n",
       "      <td>1485</td>\n",
       "      <td>f</td>\n",
       "      <td>Lower Elementary</td>\n",
       "      <td>4319447</td>\n",
       "    </tr>\n",
       "    <tr>\n",
       "      <th>19</th>\n",
       "      <td>4319456</td>\n",
       "      <td>2018-01-25</td>\n",
       "      <td>2540</td>\n",
       "      <td>NaN</td>\n",
       "      <td>t</td>\n",
       "      <td>1</td>\n",
       "      <td>2018-01-25</td>\n",
       "      <td>2540</td>\n",
       "      <td>839</td>\n",
       "      <td>1485</td>\n",
       "      <td>f</td>\n",
       "      <td>Lower Elementary</td>\n",
       "      <td>4319456</td>\n",
       "    </tr>\n",
       "    <tr>\n",
       "      <th>20</th>\n",
       "      <td>4319482</td>\n",
       "      <td>2018-01-25</td>\n",
       "      <td>2440</td>\n",
       "      <td>NaN</td>\n",
       "      <td>f</td>\n",
       "      <td>1</td>\n",
       "      <td>2018-01-25</td>\n",
       "      <td>2440</td>\n",
       "      <td>825</td>\n",
       "      <td>1180</td>\n",
       "      <td>f</td>\n",
       "      <td>Primary</td>\n",
       "      <td>4319482</td>\n",
       "    </tr>\n",
       "    <tr>\n",
       "      <th>21</th>\n",
       "      <td>4319491</td>\n",
       "      <td>2018-01-24</td>\n",
       "      <td>3153</td>\n",
       "      <td>NaN</td>\n",
       "      <td>t</td>\n",
       "      <td>1</td>\n",
       "      <td>2018-01-24</td>\n",
       "      <td>3153</td>\n",
       "      <td>951</td>\n",
       "      <td>1541</td>\n",
       "      <td>f</td>\n",
       "      <td>Primary</td>\n",
       "      <td>4319491</td>\n",
       "    </tr>\n",
       "    <tr>\n",
       "      <th>22</th>\n",
       "      <td>4319503</td>\n",
       "      <td>2018-01-24</td>\n",
       "      <td>3153</td>\n",
       "      <td>NaN</td>\n",
       "      <td>t</td>\n",
       "      <td>1</td>\n",
       "      <td>2018-01-24</td>\n",
       "      <td>3153</td>\n",
       "      <td>951</td>\n",
       "      <td>1541</td>\n",
       "      <td>f</td>\n",
       "      <td>Primary</td>\n",
       "      <td>4319503</td>\n",
       "    </tr>\n",
       "    <tr>\n",
       "      <th>23</th>\n",
       "      <td>4319505</td>\n",
       "      <td>2018-01-24</td>\n",
       "      <td>3153</td>\n",
       "      <td>NaN</td>\n",
       "      <td>t</td>\n",
       "      <td>1</td>\n",
       "      <td>2018-01-24</td>\n",
       "      <td>3153</td>\n",
       "      <td>951</td>\n",
       "      <td>1541</td>\n",
       "      <td>f</td>\n",
       "      <td>Primary</td>\n",
       "      <td>4319505</td>\n",
       "    </tr>\n",
       "    <tr>\n",
       "      <th>24</th>\n",
       "      <td>4319511</td>\n",
       "      <td>2018-01-25</td>\n",
       "      <td>3300</td>\n",
       "      <td>NaN</td>\n",
       "      <td>f</td>\n",
       "      <td>1</td>\n",
       "      <td>2018-01-25</td>\n",
       "      <td>3300</td>\n",
       "      <td>1009</td>\n",
       "      <td>1650</td>\n",
       "      <td>f</td>\n",
       "      <td>Elementary</td>\n",
       "      <td>4319511</td>\n",
       "    </tr>\n",
       "    <tr>\n",
       "      <th>25</th>\n",
       "      <td>4319484</td>\n",
       "      <td>2018-01-25</td>\n",
       "      <td>3300</td>\n",
       "      <td>NaN</td>\n",
       "      <td>f</td>\n",
       "      <td>1</td>\n",
       "      <td>2018-01-25</td>\n",
       "      <td>3300</td>\n",
       "      <td>1009</td>\n",
       "      <td>1650</td>\n",
       "      <td>f</td>\n",
       "      <td>Elementary</td>\n",
       "      <td>4319484</td>\n",
       "    </tr>\n",
       "    <tr>\n",
       "      <th>26</th>\n",
       "      <td>4319485</td>\n",
       "      <td>2018-01-25</td>\n",
       "      <td>3300</td>\n",
       "      <td>NaN</td>\n",
       "      <td>f</td>\n",
       "      <td>1</td>\n",
       "      <td>2018-01-25</td>\n",
       "      <td>3300</td>\n",
       "      <td>1009</td>\n",
       "      <td>1650</td>\n",
       "      <td>f</td>\n",
       "      <td>Elementary</td>\n",
       "      <td>4319485</td>\n",
       "    </tr>\n",
       "    <tr>\n",
       "      <th>27</th>\n",
       "      <td>4319437</td>\n",
       "      <td>2018-01-25</td>\n",
       "      <td>1986</td>\n",
       "      <td>NaN</td>\n",
       "      <td>f</td>\n",
       "      <td>1</td>\n",
       "      <td>2018-01-25</td>\n",
       "      <td>1986</td>\n",
       "      <td>429</td>\n",
       "      <td>722</td>\n",
       "      <td>f</td>\n",
       "      <td>Toddler</td>\n",
       "      <td>4319437</td>\n",
       "    </tr>\n",
       "    <tr>\n",
       "      <th>28</th>\n",
       "      <td>4376674</td>\n",
       "      <td>2018-01-29</td>\n",
       "      <td>2859</td>\n",
       "      <td>20180129142656_5863f9e3-d886-4071-807c-8af9db3...</td>\n",
       "      <td>f</td>\n",
       "      <td>1</td>\n",
       "      <td>2018-01-29</td>\n",
       "      <td>2859</td>\n",
       "      <td>544</td>\n",
       "      <td>1558</td>\n",
       "      <td>f</td>\n",
       "      <td>Preschool</td>\n",
       "      <td>4376674</td>\n",
       "    </tr>\n",
       "    <tr>\n",
       "      <th>29</th>\n",
       "      <td>4319433</td>\n",
       "      <td>2018-01-25</td>\n",
       "      <td>1684</td>\n",
       "      <td>NaN</td>\n",
       "      <td>f</td>\n",
       "      <td>1</td>\n",
       "      <td>2018-01-25</td>\n",
       "      <td>1684</td>\n",
       "      <td>437</td>\n",
       "      <td>914</td>\n",
       "      <td>f</td>\n",
       "      <td>Lower Elementary</td>\n",
       "      <td>4319433</td>\n",
       "    </tr>\n",
       "    <tr>\n",
       "      <th>...</th>\n",
       "      <td>...</td>\n",
       "      <td>...</td>\n",
       "      <td>...</td>\n",
       "      <td>...</td>\n",
       "      <td>...</td>\n",
       "      <td>...</td>\n",
       "      <td>...</td>\n",
       "      <td>...</td>\n",
       "      <td>...</td>\n",
       "      <td>...</td>\n",
       "      <td>...</td>\n",
       "      <td>...</td>\n",
       "      <td>...</td>\n",
       "    </tr>\n",
       "    <tr>\n",
       "      <th>4583983</th>\n",
       "      <td>4376664</td>\n",
       "      <td>2018-01-26</td>\n",
       "      <td>2859</td>\n",
       "      <td>20180129142656_5863f9e3-d886-4071-807c-8af9db3...</td>\n",
       "      <td>f</td>\n",
       "      <td>1</td>\n",
       "      <td>2018-01-26</td>\n",
       "      <td>2859</td>\n",
       "      <td>544</td>\n",
       "      <td>1558</td>\n",
       "      <td>f</td>\n",
       "      <td>Preschool</td>\n",
       "      <td>4376664</td>\n",
       "    </tr>\n",
       "    <tr>\n",
       "      <th>4583984</th>\n",
       "      <td>4376608</td>\n",
       "      <td>2018-01-29</td>\n",
       "      <td>649</td>\n",
       "      <td>20180129143223_f2bab9a2-c091-43a3-997f-b7497cb...</td>\n",
       "      <td>f</td>\n",
       "      <td>1</td>\n",
       "      <td>2018-01-29</td>\n",
       "      <td>649</td>\n",
       "      <td>266</td>\n",
       "      <td>357</td>\n",
       "      <td>f</td>\n",
       "      <td>Primary</td>\n",
       "      <td>4376608</td>\n",
       "    </tr>\n",
       "    <tr>\n",
       "      <th>4583985</th>\n",
       "      <td>4319390</td>\n",
       "      <td>2018-01-25</td>\n",
       "      <td>2862</td>\n",
       "      <td>NaN</td>\n",
       "      <td>f</td>\n",
       "      <td>1</td>\n",
       "      <td>2018-01-25</td>\n",
       "      <td>2862</td>\n",
       "      <td>544</td>\n",
       "      <td>1558</td>\n",
       "      <td>f</td>\n",
       "      <td>Preschool</td>\n",
       "      <td>4319390</td>\n",
       "    </tr>\n",
       "    <tr>\n",
       "      <th>4583986</th>\n",
       "      <td>4319393</td>\n",
       "      <td>2018-01-25</td>\n",
       "      <td>2862</td>\n",
       "      <td>NaN</td>\n",
       "      <td>f</td>\n",
       "      <td>1</td>\n",
       "      <td>2018-01-25</td>\n",
       "      <td>2862</td>\n",
       "      <td>544</td>\n",
       "      <td>1558</td>\n",
       "      <td>f</td>\n",
       "      <td>Preschool</td>\n",
       "      <td>4319393</td>\n",
       "    </tr>\n",
       "    <tr>\n",
       "      <th>4583987</th>\n",
       "      <td>4319395</td>\n",
       "      <td>2018-01-25</td>\n",
       "      <td>2862</td>\n",
       "      <td>NaN</td>\n",
       "      <td>f</td>\n",
       "      <td>1</td>\n",
       "      <td>2018-01-25</td>\n",
       "      <td>2862</td>\n",
       "      <td>544</td>\n",
       "      <td>1558</td>\n",
       "      <td>f</td>\n",
       "      <td>Preschool</td>\n",
       "      <td>4319395</td>\n",
       "    </tr>\n",
       "    <tr>\n",
       "      <th>4583988</th>\n",
       "      <td>4376657</td>\n",
       "      <td>2018-01-26</td>\n",
       "      <td>2859</td>\n",
       "      <td>20180129142656_5863f9e3-d886-4071-807c-8af9db3...</td>\n",
       "      <td>f</td>\n",
       "      <td>1</td>\n",
       "      <td>2018-01-26</td>\n",
       "      <td>2859</td>\n",
       "      <td>544</td>\n",
       "      <td>1558</td>\n",
       "      <td>f</td>\n",
       "      <td>Preschool</td>\n",
       "      <td>4376657</td>\n",
       "    </tr>\n",
       "    <tr>\n",
       "      <th>4583989</th>\n",
       "      <td>4376607</td>\n",
       "      <td>2018-01-29</td>\n",
       "      <td>45</td>\n",
       "      <td>20180129143315_bb656051-23e8-4405-b7bf-c4203e5...</td>\n",
       "      <td>f</td>\n",
       "      <td>1</td>\n",
       "      <td>2018-01-29</td>\n",
       "      <td>45</td>\n",
       "      <td>23</td>\n",
       "      <td>43</td>\n",
       "      <td>f</td>\n",
       "      <td>Elementary</td>\n",
       "      <td>4376607</td>\n",
       "    </tr>\n",
       "    <tr>\n",
       "      <th>4583990</th>\n",
       "      <td>4376673</td>\n",
       "      <td>2018-01-30</td>\n",
       "      <td>2859</td>\n",
       "      <td>20180129142656_5863f9e3-d886-4071-807c-8af9db3...</td>\n",
       "      <td>f</td>\n",
       "      <td>1</td>\n",
       "      <td>2018-01-30</td>\n",
       "      <td>2859</td>\n",
       "      <td>544</td>\n",
       "      <td>1558</td>\n",
       "      <td>f</td>\n",
       "      <td>Preschool</td>\n",
       "      <td>4376673</td>\n",
       "    </tr>\n",
       "    <tr>\n",
       "      <th>4583991</th>\n",
       "      <td>4376655</td>\n",
       "      <td>2018-01-29</td>\n",
       "      <td>2859</td>\n",
       "      <td>20180129142656_5863f9e3-d886-4071-807c-8af9db3...</td>\n",
       "      <td>f</td>\n",
       "      <td>1</td>\n",
       "      <td>2018-01-29</td>\n",
       "      <td>2859</td>\n",
       "      <td>544</td>\n",
       "      <td>1558</td>\n",
       "      <td>f</td>\n",
       "      <td>Preschool</td>\n",
       "      <td>4376655</td>\n",
       "    </tr>\n",
       "    <tr>\n",
       "      <th>4583992</th>\n",
       "      <td>4376667</td>\n",
       "      <td>2018-01-25</td>\n",
       "      <td>2859</td>\n",
       "      <td>20180129142656_5863f9e3-d886-4071-807c-8af9db3...</td>\n",
       "      <td>f</td>\n",
       "      <td>1</td>\n",
       "      <td>2018-01-25</td>\n",
       "      <td>2859</td>\n",
       "      <td>544</td>\n",
       "      <td>1558</td>\n",
       "      <td>f</td>\n",
       "      <td>Preschool</td>\n",
       "      <td>4376667</td>\n",
       "    </tr>\n",
       "    <tr>\n",
       "      <th>4583993</th>\n",
       "      <td>4376659</td>\n",
       "      <td>2018-01-24</td>\n",
       "      <td>2859</td>\n",
       "      <td>20180129142656_5863f9e3-d886-4071-807c-8af9db3...</td>\n",
       "      <td>f</td>\n",
       "      <td>1</td>\n",
       "      <td>2018-01-24</td>\n",
       "      <td>2859</td>\n",
       "      <td>544</td>\n",
       "      <td>1558</td>\n",
       "      <td>f</td>\n",
       "      <td>Preschool</td>\n",
       "      <td>4376659</td>\n",
       "    </tr>\n",
       "    <tr>\n",
       "      <th>4583994</th>\n",
       "      <td>4376609</td>\n",
       "      <td>2018-01-29</td>\n",
       "      <td>649</td>\n",
       "      <td>20180129143231_1902f9be-f3a5-43c7-a6dc-96b1dbd...</td>\n",
       "      <td>f</td>\n",
       "      <td>1</td>\n",
       "      <td>2018-01-29</td>\n",
       "      <td>649</td>\n",
       "      <td>266</td>\n",
       "      <td>357</td>\n",
       "      <td>f</td>\n",
       "      <td>Primary</td>\n",
       "      <td>4376609</td>\n",
       "    </tr>\n",
       "    <tr>\n",
       "      <th>4583995</th>\n",
       "      <td>4319403</td>\n",
       "      <td>2018-01-25</td>\n",
       "      <td>1684</td>\n",
       "      <td>NaN</td>\n",
       "      <td>f</td>\n",
       "      <td>1</td>\n",
       "      <td>2018-01-25</td>\n",
       "      <td>1684</td>\n",
       "      <td>437</td>\n",
       "      <td>914</td>\n",
       "      <td>f</td>\n",
       "      <td>Lower Elementary</td>\n",
       "      <td>4319403</td>\n",
       "    </tr>\n",
       "    <tr>\n",
       "      <th>4583996</th>\n",
       "      <td>4319404</td>\n",
       "      <td>2018-01-25</td>\n",
       "      <td>1684</td>\n",
       "      <td>NaN</td>\n",
       "      <td>f</td>\n",
       "      <td>1</td>\n",
       "      <td>2018-01-25</td>\n",
       "      <td>1684</td>\n",
       "      <td>437</td>\n",
       "      <td>914</td>\n",
       "      <td>f</td>\n",
       "      <td>Lower Elementary</td>\n",
       "      <td>4319404</td>\n",
       "    </tr>\n",
       "    <tr>\n",
       "      <th>4583997</th>\n",
       "      <td>4319405</td>\n",
       "      <td>2018-01-25</td>\n",
       "      <td>1684</td>\n",
       "      <td>NaN</td>\n",
       "      <td>f</td>\n",
       "      <td>1</td>\n",
       "      <td>2018-01-25</td>\n",
       "      <td>1684</td>\n",
       "      <td>437</td>\n",
       "      <td>914</td>\n",
       "      <td>f</td>\n",
       "      <td>Lower Elementary</td>\n",
       "      <td>4319405</td>\n",
       "    </tr>\n",
       "    <tr>\n",
       "      <th>4583998</th>\n",
       "      <td>4319406</td>\n",
       "      <td>2018-01-25</td>\n",
       "      <td>1684</td>\n",
       "      <td>NaN</td>\n",
       "      <td>f</td>\n",
       "      <td>1</td>\n",
       "      <td>2018-01-25</td>\n",
       "      <td>1684</td>\n",
       "      <td>437</td>\n",
       "      <td>914</td>\n",
       "      <td>f</td>\n",
       "      <td>Lower Elementary</td>\n",
       "      <td>4319406</td>\n",
       "    </tr>\n",
       "    <tr>\n",
       "      <th>4583999</th>\n",
       "      <td>4319407</td>\n",
       "      <td>2018-01-25</td>\n",
       "      <td>1684</td>\n",
       "      <td>NaN</td>\n",
       "      <td>f</td>\n",
       "      <td>1</td>\n",
       "      <td>2018-01-25</td>\n",
       "      <td>1684</td>\n",
       "      <td>437</td>\n",
       "      <td>914</td>\n",
       "      <td>f</td>\n",
       "      <td>Lower Elementary</td>\n",
       "      <td>4319407</td>\n",
       "    </tr>\n",
       "    <tr>\n",
       "      <th>4584000</th>\n",
       "      <td>4319408</td>\n",
       "      <td>2018-01-25</td>\n",
       "      <td>1684</td>\n",
       "      <td>NaN</td>\n",
       "      <td>f</td>\n",
       "      <td>1</td>\n",
       "      <td>2018-01-25</td>\n",
       "      <td>1684</td>\n",
       "      <td>437</td>\n",
       "      <td>914</td>\n",
       "      <td>f</td>\n",
       "      <td>Lower Elementary</td>\n",
       "      <td>4319408</td>\n",
       "    </tr>\n",
       "    <tr>\n",
       "      <th>4584001</th>\n",
       "      <td>975951</td>\n",
       "      <td>2016-11-21</td>\n",
       "      <td>193</td>\n",
       "      <td>NaN</td>\n",
       "      <td>t</td>\n",
       "      <td>1</td>\n",
       "      <td>2016-11-21</td>\n",
       "      <td>193</td>\n",
       "      <td>70</td>\n",
       "      <td>134</td>\n",
       "      <td>f</td>\n",
       "      <td>Lower Elementary</td>\n",
       "      <td>975951</td>\n",
       "    </tr>\n",
       "    <tr>\n",
       "      <th>4584002</th>\n",
       "      <td>4319409</td>\n",
       "      <td>2018-01-25</td>\n",
       "      <td>1684</td>\n",
       "      <td>NaN</td>\n",
       "      <td>f</td>\n",
       "      <td>1</td>\n",
       "      <td>2018-01-25</td>\n",
       "      <td>1684</td>\n",
       "      <td>437</td>\n",
       "      <td>914</td>\n",
       "      <td>f</td>\n",
       "      <td>Lower Elementary</td>\n",
       "      <td>4319409</td>\n",
       "    </tr>\n",
       "    <tr>\n",
       "      <th>4584003</th>\n",
       "      <td>4319426</td>\n",
       "      <td>2018-01-25</td>\n",
       "      <td>446</td>\n",
       "      <td>NaN</td>\n",
       "      <td>f</td>\n",
       "      <td>1</td>\n",
       "      <td>2018-01-25</td>\n",
       "      <td>446</td>\n",
       "      <td>217</td>\n",
       "      <td>713</td>\n",
       "      <td>f</td>\n",
       "      <td>Upper Elementary</td>\n",
       "      <td>4319426</td>\n",
       "    </tr>\n",
       "    <tr>\n",
       "      <th>4584004</th>\n",
       "      <td>4319410</td>\n",
       "      <td>2018-01-25</td>\n",
       "      <td>1684</td>\n",
       "      <td>NaN</td>\n",
       "      <td>f</td>\n",
       "      <td>1</td>\n",
       "      <td>2018-01-25</td>\n",
       "      <td>1684</td>\n",
       "      <td>437</td>\n",
       "      <td>914</td>\n",
       "      <td>f</td>\n",
       "      <td>Lower Elementary</td>\n",
       "      <td>4319410</td>\n",
       "    </tr>\n",
       "    <tr>\n",
       "      <th>4584005</th>\n",
       "      <td>4319411</td>\n",
       "      <td>2018-01-25</td>\n",
       "      <td>1684</td>\n",
       "      <td>NaN</td>\n",
       "      <td>f</td>\n",
       "      <td>1</td>\n",
       "      <td>2018-01-25</td>\n",
       "      <td>1684</td>\n",
       "      <td>437</td>\n",
       "      <td>914</td>\n",
       "      <td>f</td>\n",
       "      <td>Lower Elementary</td>\n",
       "      <td>4319411</td>\n",
       "    </tr>\n",
       "    <tr>\n",
       "      <th>4584006</th>\n",
       "      <td>4319412</td>\n",
       "      <td>2018-01-25</td>\n",
       "      <td>1684</td>\n",
       "      <td>NaN</td>\n",
       "      <td>f</td>\n",
       "      <td>1</td>\n",
       "      <td>2018-01-25</td>\n",
       "      <td>1684</td>\n",
       "      <td>437</td>\n",
       "      <td>914</td>\n",
       "      <td>f</td>\n",
       "      <td>Lower Elementary</td>\n",
       "      <td>4319412</td>\n",
       "    </tr>\n",
       "    <tr>\n",
       "      <th>4584007</th>\n",
       "      <td>4319413</td>\n",
       "      <td>2018-01-25</td>\n",
       "      <td>1684</td>\n",
       "      <td>NaN</td>\n",
       "      <td>f</td>\n",
       "      <td>1</td>\n",
       "      <td>2018-01-25</td>\n",
       "      <td>1684</td>\n",
       "      <td>437</td>\n",
       "      <td>914</td>\n",
       "      <td>f</td>\n",
       "      <td>Lower Elementary</td>\n",
       "      <td>4319413</td>\n",
       "    </tr>\n",
       "    <tr>\n",
       "      <th>4584008</th>\n",
       "      <td>4319414</td>\n",
       "      <td>2018-01-25</td>\n",
       "      <td>1684</td>\n",
       "      <td>NaN</td>\n",
       "      <td>f</td>\n",
       "      <td>1</td>\n",
       "      <td>2018-01-25</td>\n",
       "      <td>1684</td>\n",
       "      <td>437</td>\n",
       "      <td>914</td>\n",
       "      <td>f</td>\n",
       "      <td>Lower Elementary</td>\n",
       "      <td>4319414</td>\n",
       "    </tr>\n",
       "    <tr>\n",
       "      <th>4584009</th>\n",
       "      <td>4319415</td>\n",
       "      <td>2018-01-25</td>\n",
       "      <td>1684</td>\n",
       "      <td>NaN</td>\n",
       "      <td>f</td>\n",
       "      <td>1</td>\n",
       "      <td>2018-01-25</td>\n",
       "      <td>1684</td>\n",
       "      <td>437</td>\n",
       "      <td>914</td>\n",
       "      <td>f</td>\n",
       "      <td>Lower Elementary</td>\n",
       "      <td>4319415</td>\n",
       "    </tr>\n",
       "    <tr>\n",
       "      <th>4584010</th>\n",
       "      <td>4319416</td>\n",
       "      <td>2018-01-25</td>\n",
       "      <td>1684</td>\n",
       "      <td>NaN</td>\n",
       "      <td>f</td>\n",
       "      <td>1</td>\n",
       "      <td>2018-01-25</td>\n",
       "      <td>1684</td>\n",
       "      <td>437</td>\n",
       "      <td>914</td>\n",
       "      <td>f</td>\n",
       "      <td>Lower Elementary</td>\n",
       "      <td>4319416</td>\n",
       "    </tr>\n",
       "    <tr>\n",
       "      <th>4584011</th>\n",
       "      <td>4319417</td>\n",
       "      <td>2018-01-25</td>\n",
       "      <td>1684</td>\n",
       "      <td>NaN</td>\n",
       "      <td>f</td>\n",
       "      <td>1</td>\n",
       "      <td>2018-01-25</td>\n",
       "      <td>1684</td>\n",
       "      <td>437</td>\n",
       "      <td>914</td>\n",
       "      <td>f</td>\n",
       "      <td>Lower Elementary</td>\n",
       "      <td>4319417</td>\n",
       "    </tr>\n",
       "    <tr>\n",
       "      <th>4584012</th>\n",
       "      <td>4376675</td>\n",
       "      <td>2018-01-22</td>\n",
       "      <td>2859</td>\n",
       "      <td>20180129142656_5863f9e3-d886-4071-807c-8af9db3...</td>\n",
       "      <td>f</td>\n",
       "      <td>1</td>\n",
       "      <td>2018-01-22</td>\n",
       "      <td>2859</td>\n",
       "      <td>544</td>\n",
       "      <td>1558</td>\n",
       "      <td>f</td>\n",
       "      <td>Preschool</td>\n",
       "      <td>4376675</td>\n",
       "    </tr>\n",
       "  </tbody>\n",
       "</table>\n",
       "<p>4584013 rows × 13 columns</p>\n",
       "</div>"
      ],
      "text/plain": [
       "            id_x        date  classroom_id  \\\n",
       "0        4319418  2018-01-25          1684   \n",
       "1        4319419  2018-01-25          1684   \n",
       "2        4319420  2018-01-25          1684   \n",
       "3        4319421  2018-01-25          1684   \n",
       "4        4319422  2018-01-25          1684   \n",
       "5        4376681  2018-01-29          2859   \n",
       "6        4376671  2018-01-29          2859   \n",
       "7        4376672  2018-01-26          2859   \n",
       "8        4376683  2018-01-29          2427   \n",
       "9         522797  2016-09-09           338   \n",
       "10       4322055  2018-01-25           649   \n",
       "11       4319428  2018-01-25           446   \n",
       "12       4319429  2018-01-25           446   \n",
       "13       4319438  2018-01-25          2540   \n",
       "14       4319439  2018-01-25          1684   \n",
       "15       4319443  2018-01-25          2540   \n",
       "16       4319435  2018-01-25          3300   \n",
       "17       4319444  2018-01-25          3300   \n",
       "18       4319447  2018-01-25          2540   \n",
       "19       4319456  2018-01-25          2540   \n",
       "20       4319482  2018-01-25          2440   \n",
       "21       4319491  2018-01-24          3153   \n",
       "22       4319503  2018-01-24          3153   \n",
       "23       4319505  2018-01-24          3153   \n",
       "24       4319511  2018-01-25          3300   \n",
       "25       4319484  2018-01-25          3300   \n",
       "26       4319485  2018-01-25          3300   \n",
       "27       4319437  2018-01-25          1986   \n",
       "28       4376674  2018-01-29          2859   \n",
       "29       4319433  2018-01-25          1684   \n",
       "...          ...         ...           ...   \n",
       "4583983  4376664  2018-01-26          2859   \n",
       "4583984  4376608  2018-01-29           649   \n",
       "4583985  4319390  2018-01-25          2862   \n",
       "4583986  4319393  2018-01-25          2862   \n",
       "4583987  4319395  2018-01-25          2862   \n",
       "4583988  4376657  2018-01-26          2859   \n",
       "4583989  4376607  2018-01-29            45   \n",
       "4583990  4376673  2018-01-30          2859   \n",
       "4583991  4376655  2018-01-29          2859   \n",
       "4583992  4376667  2018-01-25          2859   \n",
       "4583993  4376659  2018-01-24          2859   \n",
       "4583994  4376609  2018-01-29           649   \n",
       "4583995  4319403  2018-01-25          1684   \n",
       "4583996  4319404  2018-01-25          1684   \n",
       "4583997  4319405  2018-01-25          1684   \n",
       "4583998  4319406  2018-01-25          1684   \n",
       "4583999  4319407  2018-01-25          1684   \n",
       "4584000  4319408  2018-01-25          1684   \n",
       "4584001   975951  2016-11-21           193   \n",
       "4584002  4319409  2018-01-25          1684   \n",
       "4584003  4319426  2018-01-25           446   \n",
       "4584004  4319410  2018-01-25          1684   \n",
       "4584005  4319411  2018-01-25          1684   \n",
       "4584006  4319412  2018-01-25          1684   \n",
       "4584007  4319413  2018-01-25          1684   \n",
       "4584008  4319414  2018-01-25          1684   \n",
       "4584009  4319415  2018-01-25          1684   \n",
       "4584010  4319416  2018-01-25          1684   \n",
       "4584011  4319417  2018-01-25          1684   \n",
       "4584012  4376675  2018-01-22          2859   \n",
       "\n",
       "                                         picture_file_name private  exists  \\\n",
       "0                                                      NaN       f       1   \n",
       "1                                                      NaN       f       1   \n",
       "2                                                      NaN       f       1   \n",
       "3                                                      NaN       f       1   \n",
       "4                                                      NaN       f       1   \n",
       "5        20180129142656_5863f9e3-d886-4071-807c-8af9db3...       f       1   \n",
       "6        20180129142656_5863f9e3-d886-4071-807c-8af9db3...       f       1   \n",
       "7        20180129142656_5863f9e3-d886-4071-807c-8af9db3...       f       1   \n",
       "8        20180129133055_2d125c6c-580c-456f-9220-72632d5...       f       1   \n",
       "9                                              Henry_D.jpg       f       1   \n",
       "10       20180125143935_ca23fba2-5c50-46e7-99de-f81e216...       f       1   \n",
       "11                                                     NaN       f       1   \n",
       "12                                                     NaN       f       1   \n",
       "13                                                     NaN       t       1   \n",
       "14                                                     NaN       f       1   \n",
       "15                                                     NaN       t       1   \n",
       "16                                                     NaN       f       1   \n",
       "17                                                     NaN       f       1   \n",
       "18                                                     NaN       t       1   \n",
       "19                                                     NaN       t       1   \n",
       "20                                                     NaN       f       1   \n",
       "21                                                     NaN       t       1   \n",
       "22                                                     NaN       t       1   \n",
       "23                                                     NaN       t       1   \n",
       "24                                                     NaN       f       1   \n",
       "25                                                     NaN       f       1   \n",
       "26                                                     NaN       f       1   \n",
       "27                                                     NaN       f       1   \n",
       "28       20180129142656_5863f9e3-d886-4071-807c-8af9db3...       f       1   \n",
       "29                                                     NaN       f       1   \n",
       "...                                                    ...     ...     ...   \n",
       "4583983  20180129142656_5863f9e3-d886-4071-807c-8af9db3...       f       1   \n",
       "4583984  20180129143223_f2bab9a2-c091-43a3-997f-b7497cb...       f       1   \n",
       "4583985                                                NaN       f       1   \n",
       "4583986                                                NaN       f       1   \n",
       "4583987                                                NaN       f       1   \n",
       "4583988  20180129142656_5863f9e3-d886-4071-807c-8af9db3...       f       1   \n",
       "4583989  20180129143315_bb656051-23e8-4405-b7bf-c4203e5...       f       1   \n",
       "4583990  20180129142656_5863f9e3-d886-4071-807c-8af9db3...       f       1   \n",
       "4583991  20180129142656_5863f9e3-d886-4071-807c-8af9db3...       f       1   \n",
       "4583992  20180129142656_5863f9e3-d886-4071-807c-8af9db3...       f       1   \n",
       "4583993  20180129142656_5863f9e3-d886-4071-807c-8af9db3...       f       1   \n",
       "4583994  20180129143231_1902f9be-f3a5-43c7-a6dc-96b1dbd...       f       1   \n",
       "4583995                                                NaN       f       1   \n",
       "4583996                                                NaN       f       1   \n",
       "4583997                                                NaN       f       1   \n",
       "4583998                                                NaN       f       1   \n",
       "4583999                                                NaN       f       1   \n",
       "4584000                                                NaN       f       1   \n",
       "4584001                                                NaN       t       1   \n",
       "4584002                                                NaN       f       1   \n",
       "4584003                                                NaN       f       1   \n",
       "4584004                                                NaN       f       1   \n",
       "4584005                                                NaN       f       1   \n",
       "4584006                                                NaN       f       1   \n",
       "4584007                                                NaN       f       1   \n",
       "4584008                                                NaN       f       1   \n",
       "4584009                                                NaN       f       1   \n",
       "4584010                                                NaN       f       1   \n",
       "4584011                                                NaN       f       1   \n",
       "4584012  20180129142656_5863f9e3-d886-4071-807c-8af9db3...       f       1   \n",
       "\n",
       "          new_date  id_y  school_id  lesson_set_id inactive  \\\n",
       "0       2018-01-25  1684        437            914        f   \n",
       "1       2018-01-25  1684        437            914        f   \n",
       "2       2018-01-25  1684        437            914        f   \n",
       "3       2018-01-25  1684        437            914        f   \n",
       "4       2018-01-25  1684        437            914        f   \n",
       "5       2018-01-29  2859        544           1558        f   \n",
       "6       2018-01-29  2859        544           1558        f   \n",
       "7       2018-01-26  2859        544           1558        f   \n",
       "8       2018-01-29  2427        823           1178        f   \n",
       "9       2016-09-09   338        103            212        f   \n",
       "10      2018-01-25   649        266            357        f   \n",
       "11      2018-01-25   446        217            713        f   \n",
       "12      2018-01-25   446        217            713        f   \n",
       "13      2018-01-25  2540        839           1485        f   \n",
       "14      2018-01-25  1684        437            914        f   \n",
       "15      2018-01-25  2540        839           1485        f   \n",
       "16      2018-01-25  3300       1009           1650        f   \n",
       "17      2018-01-25  3300       1009           1650        f   \n",
       "18      2018-01-25  2540        839           1485        f   \n",
       "19      2018-01-25  2540        839           1485        f   \n",
       "20      2018-01-25  2440        825           1180        f   \n",
       "21      2018-01-24  3153        951           1541        f   \n",
       "22      2018-01-24  3153        951           1541        f   \n",
       "23      2018-01-24  3153        951           1541        f   \n",
       "24      2018-01-25  3300       1009           1650        f   \n",
       "25      2018-01-25  3300       1009           1650        f   \n",
       "26      2018-01-25  3300       1009           1650        f   \n",
       "27      2018-01-25  1986        429            722        f   \n",
       "28      2018-01-29  2859        544           1558        f   \n",
       "29      2018-01-25  1684        437            914        f   \n",
       "...            ...   ...        ...            ...      ...   \n",
       "4583983 2018-01-26  2859        544           1558        f   \n",
       "4583984 2018-01-29   649        266            357        f   \n",
       "4583985 2018-01-25  2862        544           1558        f   \n",
       "4583986 2018-01-25  2862        544           1558        f   \n",
       "4583987 2018-01-25  2862        544           1558        f   \n",
       "4583988 2018-01-26  2859        544           1558        f   \n",
       "4583989 2018-01-29    45         23             43        f   \n",
       "4583990 2018-01-30  2859        544           1558        f   \n",
       "4583991 2018-01-29  2859        544           1558        f   \n",
       "4583992 2018-01-25  2859        544           1558        f   \n",
       "4583993 2018-01-24  2859        544           1558        f   \n",
       "4583994 2018-01-29   649        266            357        f   \n",
       "4583995 2018-01-25  1684        437            914        f   \n",
       "4583996 2018-01-25  1684        437            914        f   \n",
       "4583997 2018-01-25  1684        437            914        f   \n",
       "4583998 2018-01-25  1684        437            914        f   \n",
       "4583999 2018-01-25  1684        437            914        f   \n",
       "4584000 2018-01-25  1684        437            914        f   \n",
       "4584001 2016-11-21   193         70            134        f   \n",
       "4584002 2018-01-25  1684        437            914        f   \n",
       "4584003 2018-01-25   446        217            713        f   \n",
       "4584004 2018-01-25  1684        437            914        f   \n",
       "4584005 2018-01-25  1684        437            914        f   \n",
       "4584006 2018-01-25  1684        437            914        f   \n",
       "4584007 2018-01-25  1684        437            914        f   \n",
       "4584008 2018-01-25  1684        437            914        f   \n",
       "4584009 2018-01-25  1684        437            914        f   \n",
       "4584010 2018-01-25  1684        437            914        f   \n",
       "4584011 2018-01-25  1684        437            914        f   \n",
       "4584012 2018-01-22  2859        544           1558        f   \n",
       "\n",
       "                 classroom_type  post_id  \n",
       "0              Lower Elementary  4319418  \n",
       "1              Lower Elementary  4319419  \n",
       "2              Lower Elementary  4319420  \n",
       "3              Lower Elementary  4319421  \n",
       "4              Lower Elementary  4319422  \n",
       "5                     Preschool  4376681  \n",
       "6                     Preschool  4376671  \n",
       "7                     Preschool  4376672  \n",
       "8                        Infant  4376683  \n",
       "9        Preschool/Kindergarten   522797  \n",
       "10                      Primary  4322055  \n",
       "11             Upper Elementary  4319428  \n",
       "12             Upper Elementary  4319429  \n",
       "13             Lower Elementary  4319438  \n",
       "14             Lower Elementary  4319439  \n",
       "15             Lower Elementary  4319443  \n",
       "16                   Elementary  4319435  \n",
       "17                   Elementary  4319444  \n",
       "18             Lower Elementary  4319447  \n",
       "19             Lower Elementary  4319456  \n",
       "20                      Primary  4319482  \n",
       "21                      Primary  4319491  \n",
       "22                      Primary  4319503  \n",
       "23                      Primary  4319505  \n",
       "24                   Elementary  4319511  \n",
       "25                   Elementary  4319484  \n",
       "26                   Elementary  4319485  \n",
       "27                      Toddler  4319437  \n",
       "28                    Preschool  4376674  \n",
       "29             Lower Elementary  4319433  \n",
       "...                         ...      ...  \n",
       "4583983               Preschool  4376664  \n",
       "4583984                 Primary  4376608  \n",
       "4583985               Preschool  4319390  \n",
       "4583986               Preschool  4319393  \n",
       "4583987               Preschool  4319395  \n",
       "4583988               Preschool  4376657  \n",
       "4583989              Elementary  4376607  \n",
       "4583990               Preschool  4376673  \n",
       "4583991               Preschool  4376655  \n",
       "4583992               Preschool  4376667  \n",
       "4583993               Preschool  4376659  \n",
       "4583994                 Primary  4376609  \n",
       "4583995        Lower Elementary  4319403  \n",
       "4583996        Lower Elementary  4319404  \n",
       "4583997        Lower Elementary  4319405  \n",
       "4583998        Lower Elementary  4319406  \n",
       "4583999        Lower Elementary  4319407  \n",
       "4584000        Lower Elementary  4319408  \n",
       "4584001        Lower Elementary   975951  \n",
       "4584002        Lower Elementary  4319409  \n",
       "4584003        Upper Elementary  4319426  \n",
       "4584004        Lower Elementary  4319410  \n",
       "4584005        Lower Elementary  4319411  \n",
       "4584006        Lower Elementary  4319412  \n",
       "4584007        Lower Elementary  4319413  \n",
       "4584008        Lower Elementary  4319414  \n",
       "4584009        Lower Elementary  4319415  \n",
       "4584010        Lower Elementary  4319416  \n",
       "4584011        Lower Elementary  4319417  \n",
       "4584012               Preschool  4376675  \n",
       "\n",
       "[4584013 rows x 13 columns]"
      ]
     },
     "execution_count": 43,
     "metadata": {},
     "output_type": "execute_result"
    }
   ],
   "source": [
    "posts_merge = posts.merge(classrooms,how='left', left_on='classroom_id', right_on='id')\n",
    "posts_merge['post_id']=posts_merge['id_x']\n",
    "print(len(posts_merge))\n",
    "posts_merge"
   ]
  },
  {
   "cell_type": "code",
   "execution_count": 44,
   "metadata": {},
   "outputs": [
    {
     "name": "stdout",
     "output_type": "stream",
     "text": [
      "13805957\n"
     ]
    },
    {
     "data": {
      "text/html": [
       "<div>\n",
       "<style scoped>\n",
       "    .dataframe tbody tr th:only-of-type {\n",
       "        vertical-align: middle;\n",
       "    }\n",
       "\n",
       "    .dataframe tbody tr th {\n",
       "        vertical-align: top;\n",
       "    }\n",
       "\n",
       "    .dataframe thead th {\n",
       "        text-align: right;\n",
       "    }\n",
       "</style>\n",
       "<table border=\"1\" class=\"dataframe\">\n",
       "  <thead>\n",
       "    <tr style=\"text-align: right;\">\n",
       "      <th></th>\n",
       "      <th>id_x</th>\n",
       "      <th>date</th>\n",
       "      <th>classroom_id</th>\n",
       "      <th>picture_file_name</th>\n",
       "      <th>private</th>\n",
       "      <th>exists</th>\n",
       "      <th>new_date</th>\n",
       "      <th>id_y</th>\n",
       "      <th>school_id</th>\n",
       "      <th>lesson_set_id</th>\n",
       "      <th>inactive</th>\n",
       "      <th>classroom_type</th>\n",
       "      <th>post_id_x</th>\n",
       "      <th>child_id</th>\n",
       "      <th>post_id_y</th>\n",
       "    </tr>\n",
       "  </thead>\n",
       "  <tbody>\n",
       "    <tr>\n",
       "      <th>0</th>\n",
       "      <td>4319418</td>\n",
       "      <td>2018-01-25</td>\n",
       "      <td>1684</td>\n",
       "      <td>NaN</td>\n",
       "      <td>f</td>\n",
       "      <td>1</td>\n",
       "      <td>2018-01-25</td>\n",
       "      <td>1684</td>\n",
       "      <td>437</td>\n",
       "      <td>914</td>\n",
       "      <td>f</td>\n",
       "      <td>Lower Elementary</td>\n",
       "      <td>4319418</td>\n",
       "      <td>1301209.0</td>\n",
       "      <td>4319418.0</td>\n",
       "    </tr>\n",
       "    <tr>\n",
       "      <th>1</th>\n",
       "      <td>4319418</td>\n",
       "      <td>2018-01-25</td>\n",
       "      <td>1684</td>\n",
       "      <td>NaN</td>\n",
       "      <td>f</td>\n",
       "      <td>1</td>\n",
       "      <td>2018-01-25</td>\n",
       "      <td>1684</td>\n",
       "      <td>437</td>\n",
       "      <td>914</td>\n",
       "      <td>f</td>\n",
       "      <td>Lower Elementary</td>\n",
       "      <td>4319418</td>\n",
       "      <td>1301210.0</td>\n",
       "      <td>4319418.0</td>\n",
       "    </tr>\n",
       "    <tr>\n",
       "      <th>2</th>\n",
       "      <td>4319418</td>\n",
       "      <td>2018-01-25</td>\n",
       "      <td>1684</td>\n",
       "      <td>NaN</td>\n",
       "      <td>f</td>\n",
       "      <td>1</td>\n",
       "      <td>2018-01-25</td>\n",
       "      <td>1684</td>\n",
       "      <td>437</td>\n",
       "      <td>914</td>\n",
       "      <td>f</td>\n",
       "      <td>Lower Elementary</td>\n",
       "      <td>4319418</td>\n",
       "      <td>1301211.0</td>\n",
       "      <td>4319418.0</td>\n",
       "    </tr>\n",
       "  </tbody>\n",
       "</table>\n",
       "</div>"
      ],
      "text/plain": [
       "      id_x        date  classroom_id picture_file_name private  exists  \\\n",
       "0  4319418  2018-01-25          1684               NaN       f       1   \n",
       "1  4319418  2018-01-25          1684               NaN       f       1   \n",
       "2  4319418  2018-01-25          1684               NaN       f       1   \n",
       "\n",
       "    new_date  id_y  school_id  lesson_set_id inactive    classroom_type  \\\n",
       "0 2018-01-25  1684        437            914        f  Lower Elementary   \n",
       "1 2018-01-25  1684        437            914        f  Lower Elementary   \n",
       "2 2018-01-25  1684        437            914        f  Lower Elementary   \n",
       "\n",
       "   post_id_x   child_id  post_id_y  \n",
       "0    4319418  1301209.0  4319418.0  \n",
       "1    4319418  1301210.0  4319418.0  \n",
       "2    4319418  1301211.0  4319418.0  "
      ]
     },
     "execution_count": 44,
     "metadata": {},
     "output_type": "execute_result"
    }
   ],
   "source": [
    "posts_merge = posts_merge.merge(child_posts.groupby(,how='left', left_on='id_x', right_on='post_id')\n",
    "print(len(posts_merge))\n",
    "posts_merge.head(3)"
   ]
  },
  {
   "cell_type": "code",
   "execution_count": 45,
   "metadata": {},
   "outputs": [],
   "source": [
    "# posts_merge.drop('id_x', axis=1)"
   ]
  },
  {
   "cell_type": "code",
   "execution_count": 46,
   "metadata": {},
   "outputs": [
    {
     "name": "stdout",
     "output_type": "stream",
     "text": [
      "118817493\n"
     ]
    },
    {
     "data": {
      "text/html": [
       "<div>\n",
       "<style scoped>\n",
       "    .dataframe tbody tr th:only-of-type {\n",
       "        vertical-align: middle;\n",
       "    }\n",
       "\n",
       "    .dataframe tbody tr th {\n",
       "        vertical-align: top;\n",
       "    }\n",
       "\n",
       "    .dataframe thead th {\n",
       "        text-align: right;\n",
       "    }\n",
       "</style>\n",
       "<table border=\"1\" class=\"dataframe\">\n",
       "  <thead>\n",
       "    <tr style=\"text-align: right;\">\n",
       "      <th></th>\n",
       "      <th>id_x</th>\n",
       "      <th>date</th>\n",
       "      <th>classroom_id</th>\n",
       "      <th>picture_file_name</th>\n",
       "      <th>private</th>\n",
       "      <th>exists</th>\n",
       "      <th>new_date</th>\n",
       "      <th>id_y</th>\n",
       "      <th>school_id</th>\n",
       "      <th>lesson_set_id</th>\n",
       "      <th>inactive</th>\n",
       "      <th>classroom_type</th>\n",
       "      <th>post_id_x</th>\n",
       "      <th>child_id</th>\n",
       "      <th>post_id_y</th>\n",
       "      <th>lesson_id</th>\n",
       "      <th>post_id</th>\n",
       "    </tr>\n",
       "  </thead>\n",
       "  <tbody>\n",
       "    <tr>\n",
       "      <th>0</th>\n",
       "      <td>4319418</td>\n",
       "      <td>2018-01-25</td>\n",
       "      <td>1684</td>\n",
       "      <td>NaN</td>\n",
       "      <td>f</td>\n",
       "      <td>1</td>\n",
       "      <td>2018-01-25</td>\n",
       "      <td>1684</td>\n",
       "      <td>437</td>\n",
       "      <td>914</td>\n",
       "      <td>f</td>\n",
       "      <td>Lower Elementary</td>\n",
       "      <td>4319418</td>\n",
       "      <td>1301209.0</td>\n",
       "      <td>4319418.0</td>\n",
       "      <td>1301209.0</td>\n",
       "      <td>4319418.0</td>\n",
       "    </tr>\n",
       "    <tr>\n",
       "      <th>1</th>\n",
       "      <td>4319418</td>\n",
       "      <td>2018-01-25</td>\n",
       "      <td>1684</td>\n",
       "      <td>NaN</td>\n",
       "      <td>f</td>\n",
       "      <td>1</td>\n",
       "      <td>2018-01-25</td>\n",
       "      <td>1684</td>\n",
       "      <td>437</td>\n",
       "      <td>914</td>\n",
       "      <td>f</td>\n",
       "      <td>Lower Elementary</td>\n",
       "      <td>4319418</td>\n",
       "      <td>1301209.0</td>\n",
       "      <td>4319418.0</td>\n",
       "      <td>1301210.0</td>\n",
       "      <td>4319418.0</td>\n",
       "    </tr>\n",
       "    <tr>\n",
       "      <th>2</th>\n",
       "      <td>4319418</td>\n",
       "      <td>2018-01-25</td>\n",
       "      <td>1684</td>\n",
       "      <td>NaN</td>\n",
       "      <td>f</td>\n",
       "      <td>1</td>\n",
       "      <td>2018-01-25</td>\n",
       "      <td>1684</td>\n",
       "      <td>437</td>\n",
       "      <td>914</td>\n",
       "      <td>f</td>\n",
       "      <td>Lower Elementary</td>\n",
       "      <td>4319418</td>\n",
       "      <td>1301209.0</td>\n",
       "      <td>4319418.0</td>\n",
       "      <td>1301211.0</td>\n",
       "      <td>4319418.0</td>\n",
       "    </tr>\n",
       "  </tbody>\n",
       "</table>\n",
       "</div>"
      ],
      "text/plain": [
       "      id_x        date  classroom_id picture_file_name private  exists  \\\n",
       "0  4319418  2018-01-25          1684               NaN       f       1   \n",
       "1  4319418  2018-01-25          1684               NaN       f       1   \n",
       "2  4319418  2018-01-25          1684               NaN       f       1   \n",
       "\n",
       "    new_date  id_y  school_id  lesson_set_id inactive    classroom_type  \\\n",
       "0 2018-01-25  1684        437            914        f  Lower Elementary   \n",
       "1 2018-01-25  1684        437            914        f  Lower Elementary   \n",
       "2 2018-01-25  1684        437            914        f  Lower Elementary   \n",
       "\n",
       "   post_id_x   child_id  post_id_y  lesson_id    post_id  \n",
       "0    4319418  1301209.0  4319418.0  1301209.0  4319418.0  \n",
       "1    4319418  1301209.0  4319418.0  1301210.0  4319418.0  \n",
       "2    4319418  1301209.0  4319418.0  1301211.0  4319418.0  "
      ]
     },
     "execution_count": 46,
     "metadata": {},
     "output_type": "execute_result"
    }
   ],
   "source": [
    "posts_merge=posts_merge.merge(lesson_posts, how='left', left_on='id_x', right_on='post_id')\n",
    "print(len(posts_merge))\n",
    "posts_merge.head(3)"
   ]
  },
  {
   "cell_type": "code",
   "execution_count": 40,
   "metadata": {},
   "outputs": [
    {
     "data": {
      "text/plain": [
       "118817493"
      ]
     },
     "execution_count": 40,
     "metadata": {},
     "output_type": "execute_result"
    }
   ],
   "source": [
    "len(posts_merge)\n",
    "# posts_merge.head(10)"
   ]
  },
  {
   "cell_type": "code",
   "execution_count": null,
   "metadata": {},
   "outputs": [],
   "source": [
    "posts_merge=posts_merge.merge(teachers, how='left', left_on='classroom_id', right_on='default_classroom_id')\n",
    "posts_merge.head(3)"
   ]
  },
  {
   "cell_type": "code",
   "execution_count": null,
   "metadata": {},
   "outputs": [],
   "source": [
    "posts_merge = posts_merge.merge(students, how='left', left_on='child_id', right_on='child_id')\n",
    "posts_merge.head(3)"
   ]
  },
  {
   "cell_type": "code",
   "execution_count": null,
   "metadata": {},
   "outputs": [],
   "source": [
    "posts_merge.current_student = posts_merge.current\n",
    "posts_merge.drop('current', axis=1)\n",
    "posts_merge.head(3)"
   ]
  },
  {
   "cell_type": "code",
   "execution_count": null,
   "metadata": {},
   "outputs": [],
   "source": [
    "posts_merge = posts_merge.merge(planning_events, how='left', left_on)\n",
    "posts_merge.head(3)"
   ]
  },
  {
   "cell_type": "code",
   "execution_count": null,
   "metadata": {},
   "outputs": [],
   "source": []
  },
  {
   "cell_type": "code",
   "execution_count": null,
   "metadata": {},
   "outputs": [],
   "source": []
  },
  {
   "cell_type": "markdown",
   "metadata": {
    "heading_collapsed": true
   },
   "source": [
    "## Combine planning_events into one dataframe for analysis:"
   ]
  },
  {
   "cell_type": "code",
   "execution_count": null,
   "metadata": {
    "hidden": true
   },
   "outputs": [],
   "source": [
    "planning_events.created_at = pd.to_datetime(planning_events.created_at)"
   ]
  },
  {
   "cell_type": "code",
   "execution_count": null,
   "metadata": {
    "hidden": true
   },
   "outputs": [],
   "source": [
    "planning_events['created_at'].apply(lambda x: isinstance(x, pd.Timestamp))"
   ]
  },
  {
   "cell_type": "code",
   "execution_count": null,
   "metadata": {
    "hidden": true
   },
   "outputs": [],
   "source": [
    "planning_events"
   ]
  },
  {
   "cell_type": "markdown",
   "metadata": {
    "heading_collapsed": true
   },
   "source": [
    "## Make hist of posts in last 30 days"
   ]
  },
  {
   "cell_type": "code",
   "execution_count": null,
   "metadata": {
    "hidden": true
   },
   "outputs": [],
   "source": [
    "np.exp(5)"
   ]
  },
  {
   "cell_type": "code",
   "execution_count": null,
   "metadata": {
    "hidden": true
   },
   "outputs": [],
   "source": [
    "np.exp(2)"
   ]
  },
  {
   "cell_type": "code",
   "execution_count": null,
   "metadata": {
    "hidden": true
   },
   "outputs": [],
   "source": [
    "# posts['new_date']=pd.to_datetime(posts['date'])"
   ]
  },
  {
   "cell_type": "code",
   "execution_count": null,
   "metadata": {
    "hidden": true
   },
   "outputs": [],
   "source": [
    "posts.head(3)"
   ]
  },
  {
   "cell_type": "code",
   "execution_count": null,
   "metadata": {
    "hidden": true
   },
   "outputs": [],
   "source": [
    "plt.hist(num_posts_by_class['exists'], bins=100);"
   ]
  },
  {
   "cell_type": "code",
   "execution_count": null,
   "metadata": {
    "hidden": true
   },
   "outputs": [],
   "source": [
    "plt.hist(np.log(num_posts_by_class['exists']), bins=100);"
   ]
  },
  {
   "cell_type": "code",
   "execution_count": null,
   "metadata": {
    "hidden": true
   },
   "outputs": [],
   "source": [
    "plt.hist(num_posts_by_class)"
   ]
  },
  {
   "cell_type": "markdown",
   "metadata": {
    "heading_collapsed": true,
    "hidden": true
   },
   "source": [
    "### Num posts in the last X days"
   ]
  },
  {
   "cell_type": "code",
   "execution_count": null,
   "metadata": {
    "hidden": true
   },
   "outputs": [],
   "source": [
    "last_month_posts_total[last_month_posts_total[\"exists_last_month_posts\"]>0]"
   ]
  },
  {
   "cell_type": "code",
   "execution_count": null,
   "metadata": {
    "hidden": true
   },
   "outputs": [],
   "source": [
    "def posts_since(posts,date):\n",
    "    last_month_posts = posts[posts['new_date']>date].groupby('classroom_id').count()\n",
    "    num_posts_by_class = posts.groupby('classroom_id').sum()\n",
    "    last_month_posts_total= num_posts_by_class.join(last_month_posts, how='left', lsuffix='_num_posts_by_class', rsuffix='_last_month_posts')\n",
    "    last_month_posts_total.loc[last_month_posts_total['id_last_month_posts'].isnull(),'exists_last_month_posts'] =0\n",
    "    plt.hist(last_month_posts_total['exists_last_month_posts'],bins=40)\n",
    "\n",
    "def log_posts_since(posts,date):\n",
    "    last_month_posts = posts[posts['new_date']>date].groupby('classroom_id').count()\n",
    "    num_posts_by_class = posts.groupby('classroom_id').sum()\n",
    "    last_month_posts_total= num_posts_by_class.join(last_month_posts, how='left', lsuffix='_num_posts_by_class', rsuffix='_last_month_posts')\n",
    "    last_month_posts_total.loc[last_month_posts_total['id_last_month_posts'].isnull(),'exists_last_month_posts'] =0\n",
    "    plt.hist(np.log(last_month_posts_total['exists_last_month_posts']+1),bins=40)\n",
    "posts_since(posts, pd.to_datetime(\"Feb 15 2018\"))"
   ]
  },
  {
   "cell_type": "code",
   "execution_count": null,
   "metadata": {
    "hidden": true,
    "scrolled": true
   },
   "outputs": [],
   "source": [
    "plt.hist(np.log(last_month_posts_total['exists_last_month_posts']+1),bins=30);"
   ]
  },
  {
   "cell_type": "code",
   "execution_count": null,
   "metadata": {
    "hidden": true,
    "scrolled": true
   },
   "outputs": [],
   "source": [
    "last_month_posts_total['exists_last_month_posts'].head(5)"
   ]
  },
  {
   "cell_type": "code",
   "execution_count": null,
   "metadata": {
    "hidden": true
   },
   "outputs": [],
   "source": [
    "posts_since(posts, pd.to_datetime(\"Feb 15 2011\"))"
   ]
  },
  {
   "cell_type": "code",
   "execution_count": null,
   "metadata": {
    "hidden": true
   },
   "outputs": [],
   "source": [
    "posts_since(posts, pd.to_datetime(\"Jan 15 2018\"))"
   ]
  },
  {
   "cell_type": "code",
   "execution_count": null,
   "metadata": {
    "hidden": true
   },
   "outputs": [],
   "source": [
    "log_posts_since(posts, pd.to_datetime(\"jan 15 2018\"))"
   ]
  },
  {
   "cell_type": "code",
   "execution_count": null,
   "metadata": {
    "hidden": true
   },
   "outputs": [],
   "source": [
    "log_posts_since(posts, pd.to_datetime(\"feb 15 2018\"))"
   ]
  },
  {
   "cell_type": "code",
   "execution_count": null,
   "metadata": {
    "hidden": true,
    "scrolled": true
   },
   "outputs": [],
   "source": [
    "sums_class_in_last_month = sum_post[sum_post['new_date']>pd.to_datetime(\"Feb 15 2018\")].groupby('classroom_id').count()[:100]\n",
    "sums_class_in_last_month.head(5)"
   ]
  },
  {
   "cell_type": "markdown",
   "metadata": {
    "heading_collapsed": true,
    "hidden": true
   },
   "source": [
    "### Num of days (in last month) with > 0 posts"
   ]
  },
  {
   "cell_type": "code",
   "execution_count": null,
   "metadata": {
    "hidden": true
   },
   "outputs": [],
   "source": [
    "def days_with_one_post_since(posts, date):\n",
    "    days_one_post_in_last_month = posts[posts['new_date']> date].groupby(['classroom_id','new_date']).sum().groupby('classroom_id').count()\n",
    "    num_posts_by_class = posts.groupby('classroom_id').count()\n",
    "    days_one_post_in_last_month = num_posts_by_class.join(days_one_post_in_last_month, how='left', lsuffix='_num_posts_by_class', rsuffix='_days_one_post_in_last_month')\n",
    "    days_one_post_in_last_month.loc[days_one_post_in_last_month['exists_days_one_post_in_last_month'].isnull(), 'exists_days_one_post_in_last_month'] = 0\n",
    "    plt.hist(days_one_post_in_last_month['exists_days_one_post_in_last_month'],bins=30);\n",
    "    \n",
    "def log_days_with_one_post_since(posts, date):\n",
    "    days_one_post_in_last_month = posts[posts['new_date']> date].groupby(['classroom_id','new_date']).sum().groupby('classroom_id').count()\n",
    "    num_posts_by_class = posts.groupby('classroom_id').count()\n",
    "    days_one_post_in_last_month = num_posts_by_class.join(days_one_post_in_last_month, how='left', lsuffix='_num_posts_by_class', rsuffix='_days_one_post_in_last_month')\n",
    "    days_one_post_in_last_month.loc[days_one_post_in_last_month['exists_days_one_post_in_last_month'].isnull(), 'exists_days_one_post_in_last_month'] = 0\n",
    "    plt.hist(np.log(days_one_post_in_last_month['exists_days_one_post_in_last_month']+1),bins=30);\n",
    "days_with_one_post_since(posts, pd.to_datetime(\"feb 15 2018\"))"
   ]
  },
  {
   "cell_type": "code",
   "execution_count": null,
   "metadata": {
    "hidden": true
   },
   "outputs": [],
   "source": [
    "log_days_with_one_post_since(posts, pd.to_datetime(\"feb 15 2018\"))"
   ]
  },
  {
   "cell_type": "code",
   "execution_count": null,
   "metadata": {
    "hidden": true
   },
   "outputs": [],
   "source": [
    "days_with_one_post_since(posts, pd.to_datetime(\"feb 15 2011\"))"
   ]
  },
  {
   "cell_type": "code",
   "execution_count": null,
   "metadata": {
    "hidden": true
   },
   "outputs": [],
   "source": [
    "log_days_with_one_post_since(posts, pd.to_datetime(\"feb 15 2011\"))"
   ]
  },
  {
   "cell_type": "markdown",
   "metadata": {},
   "source": [
    "## Hearts"
   ]
  },
  {
   "cell_type": "code",
   "execution_count": null,
   "metadata": {},
   "outputs": [],
   "source": [
    "sum(posts[posts['classroom_id']==4]['new_date']>pd.to_datetime('feb 15 2018'))"
   ]
  },
  {
   "cell_type": "code",
   "execution_count": null,
   "metadata": {},
   "outputs": [],
   "source": [
    "sum(posts[posts['classroom_id']==4]['new_date']>pd.to_datetime('feb 15 2018'))"
   ]
  },
  {
   "cell_type": "markdown",
   "metadata": {},
   "source": [
    "### in the last 90 days:\n",
    "one <3 rewarded if:\n",
    "1. the min of last three # posts/month is greater than 50\n",
    "2. the min of last three # posts/month is greater than 200\n",
    "3. the min of least month is greater than zero\n",
    "4. the min of least WEEK is greater than zero (so one post every week) \n",
    "5. the least month is more than a fourth of the greatest month. (again, over the last three months)"
   ]
  },
  {
   "cell_type": "code",
   "execution_count": null,
   "metadata": {},
   "outputs": [],
   "source": [
    "self.record_keeping_quantity_1 = month_min >= 50\n",
    "self.record_keeping_quantity_2 = month_min >= 200\n",
    "self.record_keeping_frequency_1 = month_min > 0\n",
    "self.record_keeping_frequency_2 = week_min > 0\n",
    "self.record_keeping_consistency = month_max && month_max < month_min * 4"
   ]
  }
 ],
 "metadata": {
  "kernelspec": {
   "display_name": "Python 3",
   "language": "python",
   "name": "python3"
  },
  "language_info": {
   "codemirror_mode": {
    "name": "ipython",
    "version": 3
   },
   "file_extension": ".py",
   "mimetype": "text/x-python",
   "name": "python",
   "nbconvert_exporter": "python",
   "pygments_lexer": "ipython3",
   "version": "3.6.4"
  }
 },
 "nbformat": 4,
 "nbformat_minor": 2
}
