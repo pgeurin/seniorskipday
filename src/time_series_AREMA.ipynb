{
 "cells": [
  {
   "cell_type": "code",
   "execution_count": 1,
   "metadata": {},
   "outputs": [],
   "source": [
    "import six.moves\n",
    "def arima_process(size, ar_coefs, ma_coefs, d=0):\n",
    "    \"\"\"Simulate a series from an arima model.\"\"\"\n",
    "    arma = ArmaProcess(ar_coefs, ma_coefs)\n",
    "    arma_series = arma.generate_sample(size + d)\n",
    "    # Integrate d times.\n",
    "    for i in six.moves.range(d):\n",
    "        arma_series = np.cumsum(arma_series)\n",
    "    return pd.Series(arma_series)"
   ]
  },
  {
   "cell_type": "code",
   "execution_count": 2,
   "metadata": {},
   "outputs": [],
   "source": [
    "def plot_arima_process(ax, size, ar_coefs, ma_coefs, d=0):\n",
    "    series = arima_process(size, ar_coefs, ma_coefs, d)\n",
    "    ax.plot(series.index, series)"
   ]
  },
  {
   "cell_type": "code",
   "execution_count": null,
   "metadata": {},
   "outputs": [],
   "source": []
  }
 ],
 "metadata": {
  "kernelspec": {
   "display_name": "Python 3",
   "language": "python",
   "name": "python3"
  },
  "language_info": {
   "codemirror_mode": {
    "name": "ipython",
    "version": 3
   },
   "file_extension": ".py",
   "mimetype": "text/x-python",
   "name": "python",
   "nbconvert_exporter": "python",
   "pygments_lexer": "ipython3",
   "version": "3.6.4"
  }
 },
 "nbformat": 4,
 "nbformat_minor": 2
}
