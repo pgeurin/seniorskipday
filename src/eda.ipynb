{
 "cells": [
  {
   "cell_type": "markdown",
   "metadata": {},
   "source": [
    "# previous work:"
   ]
  },
  {
   "cell_type": "code",
   "execution_count": 2,
   "metadata": {},
   "outputs": [
    {
     "name": "stderr",
     "output_type": "stream",
     "text": [
      "/Users/macbookpro/anaconda3/lib/python3.6/site-packages/IPython/core/interactiveshell.py:2728: DtypeWarning: Columns (7) have mixed types. Specify dtype option on import or set low_memory=False.\n",
      "  interactivity=interactivity, compiler=compiler, result=result)\n"
     ]
    }
   ],
   "source": [
    "teachers = pd.read_csv('../data/teachers.csv')\n",
    "students = pd.read_csv('../data/students.csv')\n",
    "sessions = pd.read_csv('../data/sessions.csv')\n",
    "schools = pd.read_csv('../data/schools.csv')\n",
    "posts = pd.read_csv('../data/posts.csv')\n",
    "planning_events = pd.read_csv('../data/planning_events.csv')\n",
    "child_posts = pd.read_csv('../data/child_posts.csv')\n",
    "classrooms = pd.read_csv('../data/classrooms.csv')\n",
    "lesson_posts = pd.read_csv('../data/lesson_posts.csv')\n",
    "parents = pd.read_csv('../data/parents.csv')\n",
    "sessions['start_date'] = pd.to_datetime(sessions['start_date'])\n",
    "sessions['stop_date'] = pd.to_datetime(sessions['stop_date'])\n",
    "sessions['exists']=1\n",
    "posts['exists']=1\n",
    "# posts['date'] = pd.to_datetime(posts.date, errors='coerce')\n",
    "posts['date'] = pd.to_datetime(posts.date, errors='coerce')\n",
    "classrooms_merged = pd.read_csv('../data/classrooms_merged.csv')"
   ]
  },
  {
   "cell_type": "markdown",
   "metadata": {
    "heading_collapsed": true
   },
   "source": [
    "## Sessions analysis"
   ]
  },
  {
   "cell_type": "code",
   "execution_count": 2,
   "metadata": {
    "hidden": true,
    "scrolled": true
   },
   "outputs": [
    {
     "data": {
      "text/html": [
       "<div>\n",
       "<style scoped>\n",
       "    .dataframe tbody tr th:only-of-type {\n",
       "        vertical-align: middle;\n",
       "    }\n",
       "\n",
       "    .dataframe tbody tr th {\n",
       "        vertical-align: top;\n",
       "    }\n",
       "\n",
       "    .dataframe thead th {\n",
       "        text-align: right;\n",
       "    }\n",
       "</style>\n",
       "<table border=\"1\" class=\"dataframe\">\n",
       "  <thead>\n",
       "    <tr style=\"text-align: right;\">\n",
       "      <th></th>\n",
       "      <th>id</th>\n",
       "      <th>current</th>\n",
       "      <th>start_date</th>\n",
       "      <th>stop_date</th>\n",
       "      <th>name</th>\n",
       "      <th>school_id</th>\n",
       "      <th>inactive</th>\n",
       "      <th>exists</th>\n",
       "    </tr>\n",
       "  </thead>\n",
       "  <tbody>\n",
       "    <tr>\n",
       "      <th>0</th>\n",
       "      <td>1</td>\n",
       "      <td>f</td>\n",
       "      <td>2012-01-03</td>\n",
       "      <td>2012-06-20</td>\n",
       "      <td>2011-12</td>\n",
       "      <td>2</td>\n",
       "      <td>f</td>\n",
       "      <td>1</td>\n",
       "    </tr>\n",
       "    <tr>\n",
       "      <th>1</th>\n",
       "      <td>2</td>\n",
       "      <td>f</td>\n",
       "      <td>2012-06-25</td>\n",
       "      <td>2012-08-17</td>\n",
       "      <td>Summer 2012</td>\n",
       "      <td>2</td>\n",
       "      <td>f</td>\n",
       "      <td>1</td>\n",
       "    </tr>\n",
       "    <tr>\n",
       "      <th>2</th>\n",
       "      <td>6</td>\n",
       "      <td>f</td>\n",
       "      <td>2013-09-01</td>\n",
       "      <td>2014-07-01</td>\n",
       "      <td>2013-14</td>\n",
       "      <td>3</td>\n",
       "      <td>f</td>\n",
       "      <td>1</td>\n",
       "    </tr>\n",
       "    <tr>\n",
       "      <th>3</th>\n",
       "      <td>3</td>\n",
       "      <td>f</td>\n",
       "      <td>2012-09-04</td>\n",
       "      <td>2013-06-19</td>\n",
       "      <td>2012-13</td>\n",
       "      <td>2</td>\n",
       "      <td>f</td>\n",
       "      <td>1</td>\n",
       "    </tr>\n",
       "    <tr>\n",
       "      <th>4</th>\n",
       "      <td>4</td>\n",
       "      <td>f</td>\n",
       "      <td>2012-09-01</td>\n",
       "      <td>2013-06-30</td>\n",
       "      <td>2012-13</td>\n",
       "      <td>3</td>\n",
       "      <td>f</td>\n",
       "      <td>1</td>\n",
       "    </tr>\n",
       "  </tbody>\n",
       "</table>\n",
       "</div>"
      ],
      "text/plain": [
       "   id current start_date  stop_date         name  school_id inactive  exists\n",
       "0   1       f 2012-01-03 2012-06-20      2011-12          2        f       1\n",
       "1   2       f 2012-06-25 2012-08-17  Summer 2012          2        f       1\n",
       "2   6       f 2013-09-01 2014-07-01      2013-14          3        f       1\n",
       "3   3       f 2012-09-04 2013-06-19      2012-13          2        f       1\n",
       "4   4       f 2012-09-01 2013-06-30      2012-13          3        f       1"
      ]
     },
     "execution_count": 2,
     "metadata": {},
     "output_type": "execute_result"
    }
   ],
   "source": [
    "sessions.head()"
   ]
  },
  {
   "cell_type": "code",
   "execution_count": null,
   "metadata": {
    "hidden": true
   },
   "outputs": [],
   "source": []
  },
  {
   "cell_type": "code",
   "execution_count": 3,
   "metadata": {
    "hidden": true
   },
   "outputs": [
    {
     "data": {
      "text/plain": [
       "14"
      ]
     },
     "execution_count": 3,
     "metadata": {},
     "output_type": "execute_result"
    }
   ],
   "source": [
    "# churners:\n",
    "sum(sessions.groupby('school_id')['stop_date'].max()<pd.to_datetime('april 28, 2018'))"
   ]
  },
  {
   "cell_type": "code",
   "execution_count": null,
   "metadata": {
    "hidden": true
   },
   "outputs": [
    {
     "data": {
      "text/plain": [
       "1973"
      ]
     },
     "execution_count": 4,
     "metadata": {},
     "output_type": "execute_result"
    }
   ],
   "source": [
    "sum(sessions['stop_date']<pd.to_datetime('april 28, 2018'))"
   ]
  },
  {
   "cell_type": "code",
   "execution_count": null,
   "metadata": {
    "hidden": true,
    "scrolled": false
   },
   "outputs": [
    {
     "data": {
      "text/plain": [
       "Text(0.5,1,'school_id start/stop dates')"
      ]
     },
     "execution_count": 5,
     "metadata": {},
     "output_type": "execute_result"
    }
   ],
   "source": [
    "fig, ax = plt.subplots(1,1, figsize=(20,40))\n",
    "point_pairs = [((sessions.start_date[i],sessions.stop_date[i]),(sessions.school_id[i],sessions.school_id[i])) for i in range(len(sessions))]\n",
    "# point_pairs = [((sessions.start_date[i],sessions.stop_date[i]),(sessions.school_id[i],sessions.school_id[i])) for i in range(100)]\n",
    "for x in point_pairs:\n",
    "    ax.plot(x[0], x[1], alpha=.5)\n",
    "ax.set_xlabel('start/stop date')\n",
    "ax.set_ylabel('school_id')\n",
    "ax.set_title('school_id start/stop dates')"
   ]
  },
  {
   "cell_type": "code",
   "execution_count": null,
   "metadata": {
    "hidden": true
   },
   "outputs": [],
   "source": [
    "sessions.start_date[0]"
   ]
  },
  {
   "cell_type": "code",
   "execution_count": null,
   "metadata": {
    "hidden": true
   },
   "outputs": [],
   "source": []
  },
  {
   "cell_type": "code",
   "execution_count": null,
   "metadata": {
    "hidden": true
   },
   "outputs": [],
   "source": [
    "sessions.groupby('start_date').sum().head(5)\n",
    "sum_sessions_date_indexed = sessions.groupby('start_date').sum()\n",
    "sum_sessions_date_indexed['exists'] = np.log(sum_sessions_date_indexed['exists'])\n",
    "sum_sessions_date_indexed[sum_sessions_date_indexed['school_id']==465]['exists']\n",
    "sum_sessions = sum_sessions_date_indexed.reset_index()\n",
    "sum_sessions.head()"
   ]
  },
  {
   "cell_type": "code",
   "execution_count": null,
   "metadata": {
    "hidden": true
   },
   "outputs": [],
   "source": [
    "fig, ax = plt.subplots(1, 1, figsize=(20,3))\n",
    "ax.plot(sum_sessions[sum_sessions['school_id']==24]['start_date'], sum_sessions[sum_sessions['school_id']==24]['exists'])\n",
    "sessions.describe()\n",
    "print('max stop = ' + str(sessions.stop_date.max()))\n",
    "print('max start = ' + str(sessions.start_date.max()))\n",
    "print('min stop = ' + str(sessions.stop_date.min()))\n",
    "print('min start = ' + str(sessions.start_date.min()))"
   ]
  },
  {
   "cell_type": "code",
   "execution_count": null,
   "metadata": {
    "hidden": true
   },
   "outputs": [],
   "source": [
    "sessions.head(3)"
   ]
  },
  {
   "cell_type": "code",
   "execution_count": null,
   "metadata": {
    "hidden": true
   },
   "outputs": [],
   "source": [
    "sessions_grouped = sessions[['start_date','school_id','exists']].groupby(['start_date','school_id']).sum().reset_index().head()\n",
    "# sessions_grouped.set_index('start_date', inplace=True)\n",
    "sessions_grouped.groupby('school_id')['exists'].plot(legend=True)"
   ]
  },
  {
   "cell_type": "code",
   "execution_count": null,
   "metadata": {
    "hidden": true
   },
   "outputs": [],
   "source": [
    "fig, ax = plt.subplots(1,1, figsize=(20,20))\n",
    "ax.plot(sessions[['exists','start_date']].groupby('start_date').sum());"
   ]
  },
  {
   "cell_type": "markdown",
   "metadata": {
    "heading_collapsed": true
   },
   "source": [
    "## Posts analysis"
   ]
  },
  {
   "cell_type": "code",
   "execution_count": null,
   "metadata": {
    "hidden": true
   },
   "outputs": [],
   "source": [
    "posts.head(3)"
   ]
  },
  {
   "cell_type": "code",
   "execution_count": null,
   "metadata": {
    "hidden": true
   },
   "outputs": [],
   "source": [
    "posts.describe()"
   ]
  },
  {
   "cell_type": "code",
   "execution_count": null,
   "metadata": {
    "hidden": true
   },
   "outputs": [],
   "source": [
    "sorted_post_date = posts.date.sort_values()"
   ]
  },
  {
   "cell_type": "code",
   "execution_count": null,
   "metadata": {
    "hidden": true
   },
   "outputs": [],
   "source": [
    "# # posts.date.dtypes\n",
    "# # posts.date.apply(lambda x: not isinstance(x, pd.Timestamp))\n",
    "# sorted_post_date.iloc[-170:]\n",
    "# # posts.date.dtypes\n",
    "# posts['date'] = pd.to_datetime(posts.date, errors='coerce')\n",
    "# # len(posts.date)\n",
    "# # posts.date>'2018-12-12'"
   ]
  },
  {
   "cell_type": "code",
   "execution_count": null,
   "metadata": {
    "hidden": true
   },
   "outputs": [],
   "source": [
    "print(posts.date.max())\n",
    "print(posts.date.min())"
   ]
  },
  {
   "cell_type": "code",
   "execution_count": null,
   "metadata": {
    "hidden": true
   },
   "outputs": [],
   "source": [
    "# posts['exists']=1\n",
    "# posts.head(3)"
   ]
  },
  {
   "cell_type": "code",
   "execution_count": null,
   "metadata": {
    "hidden": true,
    "scrolled": true
   },
   "outputs": [],
   "source": [
    "posts[['date','classroom_id','exists']].groupby(['classroom_id', 'date']).sum().plot();"
   ]
  },
  {
   "cell_type": "code",
   "execution_count": null,
   "metadata": {
    "hidden": true
   },
   "outputs": [],
   "source": [
    "posts[['date','classroom_id','exists']].groupby(['classroom_id', 'date']).sum()"
   ]
  },
  {
   "cell_type": "code",
   "execution_count": null,
   "metadata": {
    "hidden": true
   },
   "outputs": [],
   "source": [
    "sum_post = posts[['date','classroom_id','exists']].groupby(['classroom_id', 'date']).sum()\n",
    "sum_post['exists'] = np.log(sum_post['exists'])\n",
    "sum_post = sum_post.reset_index()\n",
    "sum_post_date_indexed = sum_post.copy()\n",
    "sum_post_date_indexed.set_index('date',inplace=True)\n",
    "# plt.plot(sum_post[sum_post['classroom_id']==1])\n",
    "# plt.scatter(sum_post[sum_post['classroom_id']==1][date], sum_post[sum_post['classroom_id']==1]['exists'])"
   ]
  },
  {
   "cell_type": "code",
   "execution_count": null,
   "metadata": {
    "hidden": true
   },
   "outputs": [],
   "source": [
    "sum_post[sum_post['classroom_id']==3]"
   ]
  },
  {
   "cell_type": "code",
   "execution_count": null,
   "metadata": {
    "hidden": true
   },
   "outputs": [],
   "source": [
    "sum_post['classroom_id'].value_counts()[60:61]\n",
    "sum_post.head()"
   ]
  },
  {
   "cell_type": "code",
   "execution_count": null,
   "metadata": {
    "hidden": true
   },
   "outputs": [],
   "source": [
    "# plt.plot(sum_post[sum_post['classroom_id']==1]);\n",
    "np.exp(5)"
   ]
  },
  {
   "cell_type": "code",
   "execution_count": null,
   "metadata": {
    "hidden": true,
    "scrolled": true
   },
   "outputs": [],
   "source": [
    "fig, ax = plt.subplots(2,1, figsize=(20,3))\n",
    "ax[0].scatter(sum_post[sum_post['classroom_id']==77]['date'].values,sum_post[sum_post['classroom_id']==77]['exists'])\n",
    "ax[1].plot(sum_post[sum_post['classroom_id']==77]['date'],sum_post[sum_post['classroom_id']==77]['exists']);\n",
    "ax[0].set_title(\"Class 77 log(posts)\")"
   ]
  },
  {
   "cell_type": "code",
   "execution_count": null,
   "metadata": {
    "hidden": true
   },
   "outputs": [],
   "source": [
    "fig, ax = plt.subplots(2,1, figsize=(20,3))\n",
    "ax[0].scatter(sum_post[sum_post['classroom_id']==852]['date'].values,sum_post[sum_post['classroom_id']==852]['exists'])\n",
    "ax[1].plot(sum_post[sum_post['classroom_id']==852]['date'],sum_post[sum_post['classroom_id']==852]['exists']);\n",
    "ax[0].set_title(\"Class 852 log(posts)\")"
   ]
  },
  {
   "cell_type": "code",
   "execution_count": null,
   "metadata": {
    "hidden": true,
    "scrolled": false
   },
   "outputs": [],
   "source": [
    "for classroom_id in sum_post['classroom_id'].unique()[0:30]:\n",
    "    fig, ax = plt.subplots(2,1, figsize=(20,3))\n",
    "    ax[0].scatter(sum_post[sum_post['classroom_id']==classroom_id]['date'].values,sum_post[sum_post['classroom_id']==classroom_id]['exists'], s=6)\n",
    "    ax[1].plot(sum_post[sum_post['classroom_id']==classroom_id]['date'],sum_post[sum_post['classroom_id']==classroom_id]['exists']);\n",
    "    ax[0].set_title(f\"Class {classroom_id} log(posts)\")\n",
    "    plt.show()"
   ]
  },
  {
   "cell_type": "markdown",
   "metadata": {
    "heading_collapsed": true
   },
   "source": [
    "## Peek at all data:"
   ]
  },
  {
   "cell_type": "code",
   "execution_count": null,
   "metadata": {
    "hidden": true
   },
   "outputs": [],
   "source": [
    "posts.head(3)"
   ]
  },
  {
   "cell_type": "code",
   "execution_count": null,
   "metadata": {
    "hidden": true
   },
   "outputs": [],
   "source": [
    "planning_events.head(10)"
   ]
  },
  {
   "cell_type": "code",
   "execution_count": null,
   "metadata": {
    "hidden": true
   },
   "outputs": [],
   "source": [
    "classrooms.head(10)"
   ]
  },
  {
   "cell_type": "code",
   "execution_count": null,
   "metadata": {
    "hidden": true
   },
   "outputs": [],
   "source": [
    "len(classrooms.lesson_set_id.unique())"
   ]
  },
  {
   "cell_type": "code",
   "execution_count": null,
   "metadata": {
    "hidden": true
   },
   "outputs": [],
   "source": [
    "classrooms.lesson_set_id.value_counts().head(5)"
   ]
  },
  {
   "cell_type": "code",
   "execution_count": null,
   "metadata": {
    "hidden": true
   },
   "outputs": [],
   "source": [
    "len(classrooms)"
   ]
  },
  {
   "cell_type": "code",
   "execution_count": null,
   "metadata": {
    "hidden": true
   },
   "outputs": [],
   "source": [
    "len(classrooms.id.unique())"
   ]
  },
  {
   "cell_type": "code",
   "execution_count": null,
   "metadata": {
    "hidden": true,
    "scrolled": true
   },
   "outputs": [],
   "source": [
    "teachers.head(3)"
   ]
  },
  {
   "cell_type": "code",
   "execution_count": null,
   "metadata": {
    "hidden": true
   },
   "outputs": [],
   "source": [
    "len(teachers.id.unique())"
   ]
  },
  {
   "cell_type": "code",
   "execution_count": null,
   "metadata": {
    "hidden": true
   },
   "outputs": [],
   "source": [
    "sum(teachers.default_classroom_id.isna())"
   ]
  },
  {
   "cell_type": "code",
   "execution_count": null,
   "metadata": {
    "hidden": true
   },
   "outputs": [],
   "source": [
    "sum(teachers.teacher=='f')"
   ]
  },
  {
   "cell_type": "code",
   "execution_count": null,
   "metadata": {
    "hidden": true
   },
   "outputs": [],
   "source": [
    "len(teachers.default_classroom_id.unique())"
   ]
  },
  {
   "cell_type": "code",
   "execution_count": null,
   "metadata": {
    "hidden": true,
    "scrolled": false
   },
   "outputs": [],
   "source": [
    "students.head()"
   ]
  },
  {
   "cell_type": "code",
   "execution_count": null,
   "metadata": {
    "hidden": true
   },
   "outputs": [],
   "source": [
    "schools.head(5)"
   ]
  },
  {
   "cell_type": "code",
   "execution_count": null,
   "metadata": {
    "hidden": true
   },
   "outputs": [],
   "source": [
    "lesson_posts.head(3)"
   ]
  },
  {
   "cell_type": "code",
   "execution_count": null,
   "metadata": {
    "hidden": true
   },
   "outputs": [],
   "source": [
    "plt.hist(lesson_posts.groupby('lesson_id').count()['post_id'], bins=30);"
   ]
  },
  {
   "cell_type": "code",
   "execution_count": null,
   "metadata": {
    "hidden": true
   },
   "outputs": [],
   "source": [
    "lesson_posts.groupby('lesson_id').count()['post_id'].describe()"
   ]
  },
  {
   "cell_type": "code",
   "execution_count": null,
   "metadata": {
    "hidden": true
   },
   "outputs": [],
   "source": [
    "plt.hist(lesson_posts.groupby('post_id').count()['lesson_id'], bins=30);"
   ]
  },
  {
   "cell_type": "code",
   "execution_count": null,
   "metadata": {
    "hidden": true
   },
   "outputs": [],
   "source": [
    "child_posts.head(3)"
   ]
  },
  {
   "cell_type": "markdown",
   "metadata": {
    "heading_collapsed": true
   },
   "source": [
    "## Combine data into one dataframe for analysis:"
   ]
  },
  {
   "cell_type": "code",
   "execution_count": 2,
   "metadata": {
    "hidden": true
   },
   "outputs": [],
   "source": [
    "posts = pd.read_csv('../data/posts.csv')\n",
    "posts['exists']=1\n",
    "posts['date'] = pd.to_datetime(posts.date, errors='coerce')"
   ]
  },
  {
   "cell_type": "code",
   "execution_count": 3,
   "metadata": {
    "hidden": true
   },
   "outputs": [
    {
     "name": "stdout",
     "output_type": "stream",
     "text": [
      "4584013\n"
     ]
    },
    {
     "data": {
      "text/html": [
       "<div>\n",
       "<style scoped>\n",
       "    .dataframe tbody tr th:only-of-type {\n",
       "        vertical-align: middle;\n",
       "    }\n",
       "\n",
       "    .dataframe tbody tr th {\n",
       "        vertical-align: top;\n",
       "    }\n",
       "\n",
       "    .dataframe thead th {\n",
       "        text-align: right;\n",
       "    }\n",
       "</style>\n",
       "<table border=\"1\" class=\"dataframe\">\n",
       "  <thead>\n",
       "    <tr style=\"text-align: right;\">\n",
       "      <th></th>\n",
       "      <th>id</th>\n",
       "      <th>date</th>\n",
       "      <th>classroom_id</th>\n",
       "      <th>picture_file_name</th>\n",
       "      <th>private</th>\n",
       "      <th>exists</th>\n",
       "    </tr>\n",
       "  </thead>\n",
       "  <tbody>\n",
       "    <tr>\n",
       "      <th>0</th>\n",
       "      <td>4319418</td>\n",
       "      <td>2018-01-25</td>\n",
       "      <td>1684</td>\n",
       "      <td>NaN</td>\n",
       "      <td>f</td>\n",
       "      <td>1</td>\n",
       "    </tr>\n",
       "    <tr>\n",
       "      <th>1</th>\n",
       "      <td>4319419</td>\n",
       "      <td>2018-01-25</td>\n",
       "      <td>1684</td>\n",
       "      <td>NaN</td>\n",
       "      <td>f</td>\n",
       "      <td>1</td>\n",
       "    </tr>\n",
       "    <tr>\n",
       "      <th>2</th>\n",
       "      <td>4319420</td>\n",
       "      <td>2018-01-25</td>\n",
       "      <td>1684</td>\n",
       "      <td>NaN</td>\n",
       "      <td>f</td>\n",
       "      <td>1</td>\n",
       "    </tr>\n",
       "    <tr>\n",
       "      <th>3</th>\n",
       "      <td>4319421</td>\n",
       "      <td>2018-01-25</td>\n",
       "      <td>1684</td>\n",
       "      <td>NaN</td>\n",
       "      <td>f</td>\n",
       "      <td>1</td>\n",
       "    </tr>\n",
       "    <tr>\n",
       "      <th>4</th>\n",
       "      <td>4319422</td>\n",
       "      <td>2018-01-25</td>\n",
       "      <td>1684</td>\n",
       "      <td>NaN</td>\n",
       "      <td>f</td>\n",
       "      <td>1</td>\n",
       "    </tr>\n",
       "  </tbody>\n",
       "</table>\n",
       "</div>"
      ],
      "text/plain": [
       "        id       date  classroom_id picture_file_name private  exists\n",
       "0  4319418 2018-01-25          1684               NaN       f       1\n",
       "1  4319419 2018-01-25          1684               NaN       f       1\n",
       "2  4319420 2018-01-25          1684               NaN       f       1\n",
       "3  4319421 2018-01-25          1684               NaN       f       1\n",
       "4  4319422 2018-01-25          1684               NaN       f       1"
      ]
     },
     "execution_count": 3,
     "metadata": {},
     "output_type": "execute_result"
    }
   ],
   "source": [
    "print(len(posts))\n",
    "posts.head()"
   ]
  },
  {
   "cell_type": "code",
   "execution_count": 4,
   "metadata": {
    "hidden": true,
    "scrolled": true
   },
   "outputs": [
    {
     "name": "stdout",
     "output_type": "stream",
     "text": [
      "4585066\n"
     ]
    },
    {
     "data": {
      "text/html": [
       "<div>\n",
       "<style scoped>\n",
       "    .dataframe tbody tr th:only-of-type {\n",
       "        vertical-align: middle;\n",
       "    }\n",
       "\n",
       "    .dataframe tbody tr th {\n",
       "        vertical-align: top;\n",
       "    }\n",
       "\n",
       "    .dataframe thead th {\n",
       "        text-align: right;\n",
       "    }\n",
       "</style>\n",
       "<table border=\"1\" class=\"dataframe\">\n",
       "  <thead>\n",
       "    <tr style=\"text-align: right;\">\n",
       "      <th></th>\n",
       "      <th>school_id</th>\n",
       "      <th>lesson_set_id</th>\n",
       "      <th>inactive</th>\n",
       "      <th>classroom_type</th>\n",
       "      <th>date</th>\n",
       "      <th>classroom_id</th>\n",
       "      <th>picture_file_name</th>\n",
       "      <th>private</th>\n",
       "      <th>exists</th>\n",
       "      <th>post_id</th>\n",
       "    </tr>\n",
       "  </thead>\n",
       "  <tbody>\n",
       "    <tr>\n",
       "      <th>0</th>\n",
       "      <td>855</td>\n",
       "      <td>1281</td>\n",
       "      <td>f</td>\n",
       "      <td>Primary</td>\n",
       "      <td>NaT</td>\n",
       "      <td>2650</td>\n",
       "      <td>NaN</td>\n",
       "      <td>NaN</td>\n",
       "      <td>NaN</td>\n",
       "      <td>NaN</td>\n",
       "    </tr>\n",
       "    <tr>\n",
       "      <th>1</th>\n",
       "      <td>48</td>\n",
       "      <td>126</td>\n",
       "      <td>t</td>\n",
       "      <td>Primary</td>\n",
       "      <td>2015-09-16</td>\n",
       "      <td>174</td>\n",
       "      <td>NaN</td>\n",
       "      <td>f</td>\n",
       "      <td>1.0</td>\n",
       "      <td>89168.0</td>\n",
       "    </tr>\n",
       "    <tr>\n",
       "      <th>2</th>\n",
       "      <td>48</td>\n",
       "      <td>126</td>\n",
       "      <td>t</td>\n",
       "      <td>Primary</td>\n",
       "      <td>2015-10-08</td>\n",
       "      <td>174</td>\n",
       "      <td>NaN</td>\n",
       "      <td>f</td>\n",
       "      <td>1.0</td>\n",
       "      <td>118933.0</td>\n",
       "    </tr>\n",
       "  </tbody>\n",
       "</table>\n",
       "</div>"
      ],
      "text/plain": [
       "   school_id  lesson_set_id inactive classroom_type       date  classroom_id  \\\n",
       "0        855           1281        f        Primary        NaT          2650   \n",
       "1         48            126        t        Primary 2015-09-16           174   \n",
       "2         48            126        t        Primary 2015-10-08           174   \n",
       "\n",
       "  picture_file_name private  exists   post_id  \n",
       "0               NaN     NaN     NaN       NaN  \n",
       "1               NaN       f     1.0   89168.0  \n",
       "2               NaN       f     1.0  118933.0  "
      ]
     },
     "execution_count": 4,
     "metadata": {},
     "output_type": "execute_result"
    }
   ],
   "source": [
    "classrooms_merged = classrooms.merge(posts,how='outer', left_on='id', right_on='classroom_id')\n",
    "classrooms_merged['classroom_id']=classrooms_merged['id_x']\n",
    "classrooms_merged = classrooms_merged.drop('id_x', axis=1)\n",
    "classrooms_merged['post_id']=classrooms_merged['id_y']\n",
    "classrooms_merged = classrooms_merged.drop('id_y', axis=1)\n",
    "print(len(classrooms_merged))\n",
    "classrooms_merged.head(3)"
   ]
  },
  {
   "cell_type": "code",
   "execution_count": 5,
   "metadata": {
    "hidden": true
   },
   "outputs": [
    {
     "data": {
      "text/html": [
       "<div>\n",
       "<style scoped>\n",
       "    .dataframe tbody tr th:only-of-type {\n",
       "        vertical-align: middle;\n",
       "    }\n",
       "\n",
       "    .dataframe tbody tr th {\n",
       "        vertical-align: top;\n",
       "    }\n",
       "\n",
       "    .dataframe thead th {\n",
       "        text-align: right;\n",
       "    }\n",
       "</style>\n",
       "<table border=\"1\" class=\"dataframe\">\n",
       "  <thead>\n",
       "    <tr style=\"text-align: right;\">\n",
       "      <th></th>\n",
       "      <th>post_id</th>\n",
       "      <th>children_per_post_aka_post_blast</th>\n",
       "    </tr>\n",
       "  </thead>\n",
       "  <tbody>\n",
       "    <tr>\n",
       "      <th>0</th>\n",
       "      <td>6</td>\n",
       "      <td>2</td>\n",
       "    </tr>\n",
       "    <tr>\n",
       "      <th>1</th>\n",
       "      <td>7</td>\n",
       "      <td>1</td>\n",
       "    </tr>\n",
       "    <tr>\n",
       "      <th>2</th>\n",
       "      <td>10</td>\n",
       "      <td>1</td>\n",
       "    </tr>\n",
       "  </tbody>\n",
       "</table>\n",
       "</div>"
      ],
      "text/plain": [
       "   post_id  children_per_post_aka_post_blast\n",
       "0        6                                 2\n",
       "1        7                                 1\n",
       "2       10                                 1"
      ]
     },
     "execution_count": 5,
     "metadata": {},
     "output_type": "execute_result"
    }
   ],
   "source": [
    "children_per_post = child_posts.groupby('post_id').count()\n",
    "children_per_post.describe()\n",
    "children_per_post = children_per_post.reset_index()\n",
    "children_per_post['children_per_post_aka_post_blast'] = children_per_post['child_id']\n",
    "children_per_post = children_per_post.drop('child_id', axis=1)\n",
    "children_per_post.head(3)"
   ]
  },
  {
   "cell_type": "code",
   "execution_count": 6,
   "metadata": {
    "hidden": true
   },
   "outputs": [
    {
     "name": "stdout",
     "output_type": "stream",
     "text": [
      "4585066\n"
     ]
    },
    {
     "data": {
      "text/html": [
       "<div>\n",
       "<style scoped>\n",
       "    .dataframe tbody tr th:only-of-type {\n",
       "        vertical-align: middle;\n",
       "    }\n",
       "\n",
       "    .dataframe tbody tr th {\n",
       "        vertical-align: top;\n",
       "    }\n",
       "\n",
       "    .dataframe thead th {\n",
       "        text-align: right;\n",
       "    }\n",
       "</style>\n",
       "<table border=\"1\" class=\"dataframe\">\n",
       "  <thead>\n",
       "    <tr style=\"text-align: right;\">\n",
       "      <th></th>\n",
       "      <th>school_id</th>\n",
       "      <th>lesson_set_id</th>\n",
       "      <th>inactive</th>\n",
       "      <th>classroom_type</th>\n",
       "      <th>date</th>\n",
       "      <th>classroom_id</th>\n",
       "      <th>picture_file_name</th>\n",
       "      <th>private</th>\n",
       "      <th>exists</th>\n",
       "      <th>post_id</th>\n",
       "      <th>children_per_post_aka_post_blast</th>\n",
       "    </tr>\n",
       "  </thead>\n",
       "  <tbody>\n",
       "    <tr>\n",
       "      <th>0</th>\n",
       "      <td>855</td>\n",
       "      <td>1281</td>\n",
       "      <td>f</td>\n",
       "      <td>Primary</td>\n",
       "      <td>NaT</td>\n",
       "      <td>2650</td>\n",
       "      <td>NaN</td>\n",
       "      <td>NaN</td>\n",
       "      <td>NaN</td>\n",
       "      <td>NaN</td>\n",
       "      <td>NaN</td>\n",
       "    </tr>\n",
       "    <tr>\n",
       "      <th>1</th>\n",
       "      <td>48</td>\n",
       "      <td>126</td>\n",
       "      <td>t</td>\n",
       "      <td>Primary</td>\n",
       "      <td>2015-09-16</td>\n",
       "      <td>174</td>\n",
       "      <td>NaN</td>\n",
       "      <td>f</td>\n",
       "      <td>1.0</td>\n",
       "      <td>89168</td>\n",
       "      <td>NaN</td>\n",
       "    </tr>\n",
       "    <tr>\n",
       "      <th>2</th>\n",
       "      <td>48</td>\n",
       "      <td>126</td>\n",
       "      <td>t</td>\n",
       "      <td>Primary</td>\n",
       "      <td>2015-10-08</td>\n",
       "      <td>174</td>\n",
       "      <td>NaN</td>\n",
       "      <td>f</td>\n",
       "      <td>1.0</td>\n",
       "      <td>118933</td>\n",
       "      <td>2.0</td>\n",
       "    </tr>\n",
       "  </tbody>\n",
       "</table>\n",
       "</div>"
      ],
      "text/plain": [
       "   school_id  lesson_set_id inactive classroom_type       date  classroom_id  \\\n",
       "0        855           1281        f        Primary        NaT          2650   \n",
       "1         48            126        t        Primary 2015-09-16           174   \n",
       "2         48            126        t        Primary 2015-10-08           174   \n",
       "\n",
       "  picture_file_name private  exists post_id  children_per_post_aka_post_blast  \n",
       "0               NaN     NaN     NaN     NaN                               NaN  \n",
       "1               NaN       f     1.0   89168                               NaN  \n",
       "2               NaN       f     1.0  118933                               2.0  "
      ]
     },
     "execution_count": 6,
     "metadata": {},
     "output_type": "execute_result"
    }
   ],
   "source": [
    "classrooms_merged = classrooms_merged.merge(children_per_post, how='left', left_on='post_id', right_on='post_id')\n",
    "print(len(classrooms_merged))\n",
    "classrooms_merged.head(3)"
   ]
  },
  {
   "cell_type": "code",
   "execution_count": 7,
   "metadata": {
    "hidden": true,
    "scrolled": true
   },
   "outputs": [
    {
     "data": {
      "text/html": [
       "<div>\n",
       "<style scoped>\n",
       "    .dataframe tbody tr th:only-of-type {\n",
       "        vertical-align: middle;\n",
       "    }\n",
       "\n",
       "    .dataframe tbody tr th {\n",
       "        vertical-align: top;\n",
       "    }\n",
       "\n",
       "    .dataframe thead th {\n",
       "        text-align: right;\n",
       "    }\n",
       "</style>\n",
       "<table border=\"1\" class=\"dataframe\">\n",
       "  <thead>\n",
       "    <tr style=\"text-align: right;\">\n",
       "      <th></th>\n",
       "      <th>post_id</th>\n",
       "    </tr>\n",
       "    <tr>\n",
       "      <th>child_id</th>\n",
       "      <th></th>\n",
       "    </tr>\n",
       "  </thead>\n",
       "  <tbody>\n",
       "    <tr>\n",
       "      <th>1</th>\n",
       "      <td>172</td>\n",
       "    </tr>\n",
       "    <tr>\n",
       "      <th>2</th>\n",
       "      <td>132</td>\n",
       "    </tr>\n",
       "    <tr>\n",
       "      <th>4</th>\n",
       "      <td>899</td>\n",
       "    </tr>\n",
       "  </tbody>\n",
       "</table>\n",
       "</div>"
      ],
      "text/plain": [
       "          post_id\n",
       "child_id         \n",
       "1             172\n",
       "2             132\n",
       "4             899"
      ]
     },
     "execution_count": 7,
     "metadata": {},
     "output_type": "execute_result"
    }
   ],
   "source": [
    "# not adding\n",
    "posts_per_child = child_posts.groupby('child_id').count()\n",
    "posts_per_child.describe()\n",
    "posts_per_child.head(3)"
   ]
  },
  {
   "cell_type": "code",
   "execution_count": 8,
   "metadata": {
    "hidden": true
   },
   "outputs": [
    {
     "name": "stdout",
     "output_type": "stream",
     "text": [
      "376224\n"
     ]
    },
    {
     "data": {
      "text/html": [
       "<div>\n",
       "<style scoped>\n",
       "    .dataframe tbody tr th:only-of-type {\n",
       "        vertical-align: middle;\n",
       "    }\n",
       "\n",
       "    .dataframe tbody tr th {\n",
       "        vertical-align: top;\n",
       "    }\n",
       "\n",
       "    .dataframe thead th {\n",
       "        text-align: right;\n",
       "    }\n",
       "</style>\n",
       "<table border=\"1\" class=\"dataframe\">\n",
       "  <thead>\n",
       "    <tr style=\"text-align: right;\">\n",
       "      <th></th>\n",
       "      <th>lesson_id</th>\n",
       "      <th>post_per_lesson_aka_popularity</th>\n",
       "    </tr>\n",
       "  </thead>\n",
       "  <tbody>\n",
       "    <tr>\n",
       "      <th>0</th>\n",
       "      <td>1</td>\n",
       "      <td>172</td>\n",
       "    </tr>\n",
       "    <tr>\n",
       "      <th>1</th>\n",
       "      <td>2</td>\n",
       "      <td>132</td>\n",
       "    </tr>\n",
       "    <tr>\n",
       "      <th>2</th>\n",
       "      <td>4</td>\n",
       "      <td>899</td>\n",
       "    </tr>\n",
       "  </tbody>\n",
       "</table>\n",
       "</div>"
      ],
      "text/plain": [
       "   lesson_id  post_per_lesson_aka_popularity\n",
       "0          1                             172\n",
       "1          2                             132\n",
       "2          4                             899"
      ]
     },
     "execution_count": 8,
     "metadata": {},
     "output_type": "execute_result"
    }
   ],
   "source": [
    "posts_per_lesson = lesson_posts.groupby('lesson_id').count()\n",
    "posts_per_lesson\n",
    "print(len(posts_per_lesson))\n",
    "posts_per_lesson = posts_per_lesson.reset_index()\n",
    "posts_per_lesson['post_per_lesson_aka_popularity'] = posts_per_lesson['post_id']\n",
    "posts_per_lesson = posts_per_lesson.drop('post_id', axis=1)\n",
    "posts_per_lesson.head(3)\n"
   ]
  },
  {
   "cell_type": "code",
   "execution_count": 9,
   "metadata": {
    "hidden": true
   },
   "outputs": [
    {
     "name": "stdout",
     "output_type": "stream",
     "text": [
      "4585066\n"
     ]
    },
    {
     "data": {
      "text/html": [
       "<div>\n",
       "<style scoped>\n",
       "    .dataframe tbody tr th:only-of-type {\n",
       "        vertical-align: middle;\n",
       "    }\n",
       "\n",
       "    .dataframe tbody tr th {\n",
       "        vertical-align: top;\n",
       "    }\n",
       "\n",
       "    .dataframe thead th {\n",
       "        text-align: right;\n",
       "    }\n",
       "</style>\n",
       "<table border=\"1\" class=\"dataframe\">\n",
       "  <thead>\n",
       "    <tr style=\"text-align: right;\">\n",
       "      <th></th>\n",
       "      <th>school_id</th>\n",
       "      <th>lesson_set_id</th>\n",
       "      <th>inactive</th>\n",
       "      <th>classroom_type</th>\n",
       "      <th>date</th>\n",
       "      <th>classroom_id</th>\n",
       "      <th>picture_file_name</th>\n",
       "      <th>private</th>\n",
       "      <th>exists</th>\n",
       "      <th>post_id</th>\n",
       "      <th>children_per_post_aka_post_blast</th>\n",
       "      <th>lesson_id</th>\n",
       "      <th>post_per_lesson_aka_popularity</th>\n",
       "    </tr>\n",
       "  </thead>\n",
       "  <tbody>\n",
       "    <tr>\n",
       "      <th>0</th>\n",
       "      <td>855</td>\n",
       "      <td>1281</td>\n",
       "      <td>f</td>\n",
       "      <td>Primary</td>\n",
       "      <td>NaT</td>\n",
       "      <td>2650</td>\n",
       "      <td>NaN</td>\n",
       "      <td>NaN</td>\n",
       "      <td>NaN</td>\n",
       "      <td>NaN</td>\n",
       "      <td>NaN</td>\n",
       "      <td>1281.0</td>\n",
       "      <td>18.0</td>\n",
       "    </tr>\n",
       "    <tr>\n",
       "      <th>1</th>\n",
       "      <td>48</td>\n",
       "      <td>126</td>\n",
       "      <td>t</td>\n",
       "      <td>Primary</td>\n",
       "      <td>2015-09-16</td>\n",
       "      <td>174</td>\n",
       "      <td>NaN</td>\n",
       "      <td>f</td>\n",
       "      <td>1.0</td>\n",
       "      <td>89168</td>\n",
       "      <td>NaN</td>\n",
       "      <td>126.0</td>\n",
       "      <td>78.0</td>\n",
       "    </tr>\n",
       "    <tr>\n",
       "      <th>2</th>\n",
       "      <td>48</td>\n",
       "      <td>126</td>\n",
       "      <td>t</td>\n",
       "      <td>Primary</td>\n",
       "      <td>2015-10-08</td>\n",
       "      <td>174</td>\n",
       "      <td>NaN</td>\n",
       "      <td>f</td>\n",
       "      <td>1.0</td>\n",
       "      <td>118933</td>\n",
       "      <td>2.0</td>\n",
       "      <td>126.0</td>\n",
       "      <td>78.0</td>\n",
       "    </tr>\n",
       "  </tbody>\n",
       "</table>\n",
       "</div>"
      ],
      "text/plain": [
       "   school_id  lesson_set_id inactive classroom_type       date  classroom_id  \\\n",
       "0        855           1281        f        Primary        NaT          2650   \n",
       "1         48            126        t        Primary 2015-09-16           174   \n",
       "2         48            126        t        Primary 2015-10-08           174   \n",
       "\n",
       "  picture_file_name private  exists post_id  children_per_post_aka_post_blast  \\\n",
       "0               NaN     NaN     NaN     NaN                               NaN   \n",
       "1               NaN       f     1.0   89168                               NaN   \n",
       "2               NaN       f     1.0  118933                               2.0   \n",
       "\n",
       "   lesson_id  post_per_lesson_aka_popularity  \n",
       "0     1281.0                            18.0  \n",
       "1      126.0                            78.0  \n",
       "2      126.0                            78.0  "
      ]
     },
     "execution_count": 9,
     "metadata": {},
     "output_type": "execute_result"
    }
   ],
   "source": [
    "classrooms_merged = classrooms_merged.merge(posts_per_lesson, how='left', left_on='lesson_set_id', right_on='lesson_id')\n",
    "print(len(classrooms_merged))\n",
    "classrooms_merged.head(3)"
   ]
  },
  {
   "cell_type": "code",
   "execution_count": 10,
   "metadata": {
    "hidden": true
   },
   "outputs": [
    {
     "data": {
      "text/html": [
       "<div>\n",
       "<style scoped>\n",
       "    .dataframe tbody tr th:only-of-type {\n",
       "        vertical-align: middle;\n",
       "    }\n",
       "\n",
       "    .dataframe tbody tr th {\n",
       "        vertical-align: top;\n",
       "    }\n",
       "\n",
       "    .dataframe thead th {\n",
       "        text-align: right;\n",
       "    }\n",
       "</style>\n",
       "<table border=\"1\" class=\"dataframe\">\n",
       "  <thead>\n",
       "    <tr style=\"text-align: right;\">\n",
       "      <th></th>\n",
       "      <th>id</th>\n",
       "      <th>school_id</th>\n",
       "      <th>lesson_set_id</th>\n",
       "      <th>inactive</th>\n",
       "      <th>classroom_type</th>\n",
       "    </tr>\n",
       "  </thead>\n",
       "  <tbody>\n",
       "    <tr>\n",
       "      <th>0</th>\n",
       "      <td>2650</td>\n",
       "      <td>855</td>\n",
       "      <td>1281</td>\n",
       "      <td>f</td>\n",
       "      <td>Primary</td>\n",
       "    </tr>\n",
       "    <tr>\n",
       "      <th>1</th>\n",
       "      <td>174</td>\n",
       "      <td>48</td>\n",
       "      <td>126</td>\n",
       "      <td>t</td>\n",
       "      <td>Primary</td>\n",
       "    </tr>\n",
       "    <tr>\n",
       "      <th>2</th>\n",
       "      <td>2645</td>\n",
       "      <td>862</td>\n",
       "      <td>1276</td>\n",
       "      <td>f</td>\n",
       "      <td>Lower Elementary</td>\n",
       "    </tr>\n",
       "  </tbody>\n",
       "</table>\n",
       "</div>"
      ],
      "text/plain": [
       "     id  school_id  lesson_set_id inactive    classroom_type\n",
       "0  2650        855           1281        f           Primary\n",
       "1   174         48            126        t           Primary\n",
       "2  2645        862           1276        f  Lower Elementary"
      ]
     },
     "execution_count": 10,
     "metadata": {},
     "output_type": "execute_result"
    }
   ],
   "source": [
    "classrooms.head(3)"
   ]
  },
  {
   "cell_type": "code",
   "execution_count": 11,
   "metadata": {
    "hidden": true
   },
   "outputs": [
    {
     "data": {
      "text/plain": [
       "3643"
      ]
     },
     "execution_count": 11,
     "metadata": {},
     "output_type": "execute_result"
    }
   ],
   "source": [
    "len(classrooms_merged.classroom_id.unique())"
   ]
  },
  {
   "cell_type": "code",
   "execution_count": 12,
   "metadata": {
    "hidden": true
   },
   "outputs": [
    {
     "data": {
      "text/plain": [
       "6622"
      ]
     },
     "execution_count": 12,
     "metadata": {},
     "output_type": "execute_result"
    }
   ],
   "source": [
    "len(teachers.default_classroom_id.unique())\n",
    "len(teachers)"
   ]
  },
  {
   "cell_type": "code",
   "execution_count": 13,
   "metadata": {
    "hidden": true
   },
   "outputs": [
    {
     "data": {
      "text/plain": [
       "729"
      ]
     },
     "execution_count": 13,
     "metadata": {},
     "output_type": "execute_result"
    }
   ],
   "source": [
    "len(teachers.school_id.unique())"
   ]
  },
  {
   "cell_type": "code",
   "execution_count": 14,
   "metadata": {
    "hidden": true,
    "scrolled": false
   },
   "outputs": [
    {
     "name": "stdout",
     "output_type": "stream",
     "text": [
      "376224\n"
     ]
    },
    {
     "data": {
      "image/png": "[encoded data removed]",
      "text/plain": [
       "<Figure size 432x288 with 1 Axes>"
      ]
     },
     "metadata": {},
     "output_type": "display_data"
    }
   ],
   "source": [
    "len(lesson_posts.lesson_id.unique())\n",
    "len(lesson_posts.post_id.unique())\n",
    "posts_per_lesson = lesson_posts.groupby('lesson_id').count()\n",
    "print(len(posts_per_lesson))\n",
    "plt.hist(np.log(posts_per_lesson.sample(100).values), bins=30);\n",
    "posts_per_lesson.head(3)\n",
    "posts_per_lesson.rename(index=str, columns={\"post_id\": \"posts_per_lesson\"});"
   ]
  },
  {
   "cell_type": "code",
   "execution_count": 15,
   "metadata": {
    "hidden": true,
    "scrolled": true
   },
   "outputs": [
    {
     "data": {
      "text/html": [
       "<div>\n",
       "<style scoped>\n",
       "    .dataframe tbody tr th:only-of-type {\n",
       "        vertical-align: middle;\n",
       "    }\n",
       "\n",
       "    .dataframe tbody tr th {\n",
       "        vertical-align: top;\n",
       "    }\n",
       "\n",
       "    .dataframe thead th {\n",
       "        text-align: right;\n",
       "    }\n",
       "</style>\n",
       "<table border=\"1\" class=\"dataframe\">\n",
       "  <thead>\n",
       "    <tr style=\"text-align: right;\">\n",
       "      <th></th>\n",
       "      <th>school_id</th>\n",
       "      <th>lesson_set_id</th>\n",
       "      <th>inactive</th>\n",
       "      <th>classroom_type</th>\n",
       "      <th>date</th>\n",
       "      <th>classroom_id</th>\n",
       "      <th>picture_file_name</th>\n",
       "      <th>private</th>\n",
       "      <th>exists</th>\n",
       "      <th>post_id_x</th>\n",
       "      <th>children_per_post_aka_post_blast</th>\n",
       "      <th>lesson_id</th>\n",
       "      <th>post_per_lesson_aka_popularity</th>\n",
       "      <th>post_id_y</th>\n",
       "    </tr>\n",
       "  </thead>\n",
       "  <tbody>\n",
       "    <tr>\n",
       "      <th>0</th>\n",
       "      <td>855</td>\n",
       "      <td>1281</td>\n",
       "      <td>f</td>\n",
       "      <td>Primary</td>\n",
       "      <td>NaT</td>\n",
       "      <td>2650</td>\n",
       "      <td>NaN</td>\n",
       "      <td>NaN</td>\n",
       "      <td>NaN</td>\n",
       "      <td>NaN</td>\n",
       "      <td>NaN</td>\n",
       "      <td>1281.0</td>\n",
       "      <td>18.0</td>\n",
       "      <td>18</td>\n",
       "    </tr>\n",
       "    <tr>\n",
       "      <th>3340262</th>\n",
       "      <td>855</td>\n",
       "      <td>1281</td>\n",
       "      <td>f</td>\n",
       "      <td>Primary</td>\n",
       "      <td>NaT</td>\n",
       "      <td>2649</td>\n",
       "      <td>NaN</td>\n",
       "      <td>NaN</td>\n",
       "      <td>NaN</td>\n",
       "      <td>NaN</td>\n",
       "      <td>NaN</td>\n",
       "      <td>1281.0</td>\n",
       "      <td>18.0</td>\n",
       "      <td>18</td>\n",
       "    </tr>\n",
       "    <tr>\n",
       "      <th>1</th>\n",
       "      <td>48</td>\n",
       "      <td>126</td>\n",
       "      <td>t</td>\n",
       "      <td>Primary</td>\n",
       "      <td>2015-09-16</td>\n",
       "      <td>174</td>\n",
       "      <td>NaN</td>\n",
       "      <td>f</td>\n",
       "      <td>1.0</td>\n",
       "      <td>89168</td>\n",
       "      <td>NaN</td>\n",
       "      <td>126.0</td>\n",
       "      <td>78.0</td>\n",
       "      <td>78</td>\n",
       "    </tr>\n",
       "  </tbody>\n",
       "</table>\n",
       "</div>"
      ],
      "text/plain": [
       "         school_id  lesson_set_id inactive classroom_type       date  \\\n",
       "0              855           1281        f        Primary        NaT   \n",
       "3340262        855           1281        f        Primary        NaT   \n",
       "1               48            126        t        Primary 2015-09-16   \n",
       "\n",
       "         classroom_id picture_file_name private  exists post_id_x  \\\n",
       "0                2650               NaN     NaN     NaN       NaN   \n",
       "3340262          2649               NaN     NaN     NaN       NaN   \n",
       "1                 174               NaN       f     1.0     89168   \n",
       "\n",
       "         children_per_post_aka_post_blast  lesson_id  \\\n",
       "0                                     NaN     1281.0   \n",
       "3340262                               NaN     1281.0   \n",
       "1                                     NaN      126.0   \n",
       "\n",
       "         post_per_lesson_aka_popularity  post_id_y  \n",
       "0                                  18.0         18  \n",
       "3340262                            18.0         18  \n",
       "1                                  78.0         78  "
      ]
     },
     "execution_count": 15,
     "metadata": {},
     "output_type": "execute_result"
    }
   ],
   "source": [
    "classrooms_merged = classrooms_merged.merge(posts_per_lesson, left_on='lesson_set_id', right_index=True)\n",
    "classrooms_merged.head(3)"
   ]
  },
  {
   "cell_type": "code",
   "execution_count": 16,
   "metadata": {
    "hidden": true
   },
   "outputs": [],
   "source": [
    "# next time try merging first, then filter by time, then groupby and count\n",
    "# We're going to have to merge by time soon."
   ]
  },
  {
   "cell_type": "code",
   "execution_count": 17,
   "metadata": {
    "hidden": true
   },
   "outputs": [],
   "source": [
    "classrooms_merged = classrooms_merged.merge(teachers, left_on='classroom_id', right_on='default_classroom_id')"
   ]
  },
  {
   "cell_type": "code",
   "execution_count": 18,
   "metadata": {
    "hidden": true
   },
   "outputs": [],
   "source": [
    "teachers['teach_and_admin'] = (teachers['teacher']=='t') & (teachers['admin']=='t' )\n",
    "teachers['is_teacher'] = teachers['teacher']=='t'\n",
    "teachers['is_admin'] = teachers['admin']=='t'"
   ]
  },
  {
   "cell_type": "code",
   "execution_count": 19,
   "metadata": {
    "hidden": true
   },
   "outputs": [
    {
     "data": {
      "text/html": [
       "<div>\n",
       "<style scoped>\n",
       "    .dataframe tbody tr th:only-of-type {\n",
       "        vertical-align: middle;\n",
       "    }\n",
       "\n",
       "    .dataframe tbody tr th {\n",
       "        vertical-align: top;\n",
       "    }\n",
       "\n",
       "    .dataframe thead th {\n",
       "        text-align: right;\n",
       "    }\n",
       "</style>\n",
       "<table border=\"1\" class=\"dataframe\">\n",
       "  <thead>\n",
       "    <tr style=\"text-align: right;\">\n",
       "      <th></th>\n",
       "      <th>id</th>\n",
       "      <th>school_id</th>\n",
       "      <th>teach_and_admin</th>\n",
       "      <th>is_teacher</th>\n",
       "      <th>is_admin</th>\n",
       "    </tr>\n",
       "    <tr>\n",
       "      <th>default_classroom_id</th>\n",
       "      <th></th>\n",
       "      <th></th>\n",
       "      <th></th>\n",
       "      <th></th>\n",
       "      <th></th>\n",
       "    </tr>\n",
       "  </thead>\n",
       "  <tbody>\n",
       "    <tr>\n",
       "      <th>1.0</th>\n",
       "      <td>252293</td>\n",
       "      <td>34</td>\n",
       "      <td>3.0</td>\n",
       "      <td>17.0</td>\n",
       "      <td>3.0</td>\n",
       "    </tr>\n",
       "    <tr>\n",
       "      <th>3.0</th>\n",
       "      <td>68</td>\n",
       "      <td>3</td>\n",
       "      <td>0.0</td>\n",
       "      <td>1.0</td>\n",
       "      <td>0.0</td>\n",
       "    </tr>\n",
       "    <tr>\n",
       "      <th>4.0</th>\n",
       "      <td>36555</td>\n",
       "      <td>9</td>\n",
       "      <td>0.0</td>\n",
       "      <td>2.0</td>\n",
       "      <td>1.0</td>\n",
       "    </tr>\n",
       "  </tbody>\n",
       "</table>\n",
       "</div>"
      ],
      "text/plain": [
       "                          id  school_id  teach_and_admin  is_teacher  is_admin\n",
       "default_classroom_id                                                          \n",
       "1.0                   252293         34              3.0        17.0       3.0\n",
       "3.0                       68          3              0.0         1.0       0.0\n",
       "4.0                    36555          9              0.0         2.0       1.0"
      ]
     },
     "execution_count": 19,
     "metadata": {},
     "output_type": "execute_result"
    }
   ],
   "source": [
    "teachers_per_class = teachers.groupby('default_classroom_id').sum()\n",
    "teachers_per_class.head(3)"
   ]
  },
  {
   "cell_type": "code",
   "execution_count": 20,
   "metadata": {
    "hidden": true
   },
   "outputs": [],
   "source": [
    "# THIS IS ALMOST DEFINITELY DATA LEAKAGE:\n",
    "classrooms_merged = classrooms_merged.merge(teachers, left_on='classroom_id', right_index=True)"
   ]
  },
  {
   "cell_type": "code",
   "execution_count": 21,
   "metadata": {
    "hidden": true,
    "scrolled": true
   },
   "outputs": [
    {
     "data": {
      "text/html": [
       "<div>\n",
       "<style scoped>\n",
       "    .dataframe tbody tr th:only-of-type {\n",
       "        vertical-align: middle;\n",
       "    }\n",
       "\n",
       "    .dataframe tbody tr th {\n",
       "        vertical-align: top;\n",
       "    }\n",
       "\n",
       "    .dataframe thead th {\n",
       "        text-align: right;\n",
       "    }\n",
       "</style>\n",
       "<table border=\"1\" class=\"dataframe\">\n",
       "  <thead>\n",
       "    <tr style=\"text-align: right;\">\n",
       "      <th></th>\n",
       "      <th>child_id</th>\n",
       "      <th>classroom_id</th>\n",
       "      <th>current</th>\n",
       "    </tr>\n",
       "  </thead>\n",
       "  <tbody>\n",
       "    <tr>\n",
       "      <th>0</th>\n",
       "      <td>997</td>\n",
       "      <td>72</td>\n",
       "      <td>f</td>\n",
       "    </tr>\n",
       "    <tr>\n",
       "      <th>1</th>\n",
       "      <td>13</td>\n",
       "      <td>1</td>\n",
       "      <td>f</td>\n",
       "    </tr>\n",
       "    <tr>\n",
       "      <th>2</th>\n",
       "      <td>2221</td>\n",
       "      <td>55</td>\n",
       "      <td>f</td>\n",
       "    </tr>\n",
       "    <tr>\n",
       "      <th>3</th>\n",
       "      <td>32489</td>\n",
       "      <td>1466</td>\n",
       "      <td>t</td>\n",
       "    </tr>\n",
       "    <tr>\n",
       "      <th>4</th>\n",
       "      <td>8388</td>\n",
       "      <td>60</td>\n",
       "      <td>f</td>\n",
       "    </tr>\n",
       "  </tbody>\n",
       "</table>\n",
       "</div>"
      ],
      "text/plain": [
       "   child_id  classroom_id current\n",
       "0       997            72       f\n",
       "1        13             1       f\n",
       "2      2221            55       f\n",
       "3     32489          1466       t\n",
       "4      8388            60       f"
      ]
     },
     "execution_count": 21,
     "metadata": {},
     "output_type": "execute_result"
    }
   ],
   "source": [
    "students.head()"
   ]
  },
  {
   "cell_type": "code",
   "execution_count": 22,
   "metadata": {
    "hidden": true
   },
   "outputs": [
    {
     "data": {
      "text/plain": [
       "59676"
      ]
     },
     "execution_count": 22,
     "metadata": {},
     "output_type": "execute_result"
    }
   ],
   "source": [
    "len(students.child_id.unique())"
   ]
  },
  {
   "cell_type": "code",
   "execution_count": 23,
   "metadata": {
    "hidden": true
   },
   "outputs": [
    {
     "data": {
      "text/plain": [
       "3066"
      ]
     },
     "execution_count": 23,
     "metadata": {},
     "output_type": "execute_result"
    }
   ],
   "source": [
    "len(students.classroom_id.unique())"
   ]
  },
  {
   "cell_type": "code",
   "execution_count": 24,
   "metadata": {
    "hidden": true
   },
   "outputs": [],
   "source": [
    "current_students_per_class = students[students['current']=='t'].groupby('classroom_id').count()\n",
    "current_students_per_class.drop('current', axis=1)\n",
    "current_students_per_class.rename({'child_id': 'num_current_children'});"
   ]
  },
  {
   "cell_type": "code",
   "execution_count": 25,
   "metadata": {
    "hidden": true
   },
   "outputs": [],
   "source": [
    "old_students_per_class = students[students['current']=='f'].groupby('classroom_id').count()\n",
    "old_students_per_class.drop('current', axis=1)\n",
    "old_students_per_class.rename({'child_id': 'num_old_children'});"
   ]
  },
  {
   "cell_type": "code",
   "execution_count": 26,
   "metadata": {
    "hidden": true
   },
   "outputs": [],
   "source": [
    "classrooms_merged = classrooms_merged.merge(current_students_per_class, left_on='classroom_id', right_index=True)\n",
    "classrooms_merged = classrooms_merged.merge(old_students_per_class, left_on='classroom_id', right_index=True)"
   ]
  },
  {
   "cell_type": "code",
   "execution_count": 27,
   "metadata": {
    "hidden": true
   },
   "outputs": [
    {
     "data": {
      "text/html": [
       "<div>\n",
       "<style scoped>\n",
       "    .dataframe tbody tr th:only-of-type {\n",
       "        vertical-align: middle;\n",
       "    }\n",
       "\n",
       "    .dataframe tbody tr th {\n",
       "        vertical-align: top;\n",
       "    }\n",
       "\n",
       "    .dataframe thead th {\n",
       "        text-align: right;\n",
       "    }\n",
       "</style>\n",
       "<table border=\"1\" class=\"dataframe\">\n",
       "  <thead>\n",
       "    <tr style=\"text-align: right;\">\n",
       "      <th></th>\n",
       "      <th>school_id_x</th>\n",
       "      <th>lesson_set_id</th>\n",
       "      <th>inactive</th>\n",
       "      <th>classroom_type</th>\n",
       "      <th>date</th>\n",
       "      <th>classroom_id</th>\n",
       "      <th>picture_file_name</th>\n",
       "      <th>private</th>\n",
       "      <th>exists</th>\n",
       "      <th>post_id_x</th>\n",
       "      <th>...</th>\n",
       "      <th>default_classroom_id_y</th>\n",
       "      <th>teacher_y</th>\n",
       "      <th>admin_y</th>\n",
       "      <th>teach_and_admin</th>\n",
       "      <th>is_teacher</th>\n",
       "      <th>is_admin</th>\n",
       "      <th>child_id_x</th>\n",
       "      <th>current_x</th>\n",
       "      <th>child_id_y</th>\n",
       "      <th>current_y</th>\n",
       "    </tr>\n",
       "  </thead>\n",
       "  <tbody>\n",
       "    <tr>\n",
       "      <th>2</th>\n",
       "      <td>48</td>\n",
       "      <td>126</td>\n",
       "      <td>f</td>\n",
       "      <td>Primary</td>\n",
       "      <td>2017-01-13</td>\n",
       "      <td>172</td>\n",
       "      <td>NaN</td>\n",
       "      <td>f</td>\n",
       "      <td>1.0</td>\n",
       "      <td>1.18005e+06</td>\n",
       "      <td>...</td>\n",
       "      <td>2479.0</td>\n",
       "      <td>t</td>\n",
       "      <td>f</td>\n",
       "      <td>False</td>\n",
       "      <td>True</td>\n",
       "      <td>False</td>\n",
       "      <td>27</td>\n",
       "      <td>27</td>\n",
       "      <td>38</td>\n",
       "      <td>38</td>\n",
       "    </tr>\n",
       "    <tr>\n",
       "      <th>3</th>\n",
       "      <td>48</td>\n",
       "      <td>126</td>\n",
       "      <td>f</td>\n",
       "      <td>Primary</td>\n",
       "      <td>2017-01-13</td>\n",
       "      <td>172</td>\n",
       "      <td>NaN</td>\n",
       "      <td>f</td>\n",
       "      <td>1.0</td>\n",
       "      <td>1.18005e+06</td>\n",
       "      <td>...</td>\n",
       "      <td>2479.0</td>\n",
       "      <td>t</td>\n",
       "      <td>f</td>\n",
       "      <td>False</td>\n",
       "      <td>True</td>\n",
       "      <td>False</td>\n",
       "      <td>27</td>\n",
       "      <td>27</td>\n",
       "      <td>38</td>\n",
       "      <td>38</td>\n",
       "    </tr>\n",
       "    <tr>\n",
       "      <th>4</th>\n",
       "      <td>48</td>\n",
       "      <td>126</td>\n",
       "      <td>f</td>\n",
       "      <td>Primary</td>\n",
       "      <td>2016-02-13</td>\n",
       "      <td>172</td>\n",
       "      <td>NaN</td>\n",
       "      <td>f</td>\n",
       "      <td>1.0</td>\n",
       "      <td>262186</td>\n",
       "      <td>...</td>\n",
       "      <td>2479.0</td>\n",
       "      <td>t</td>\n",
       "      <td>f</td>\n",
       "      <td>False</td>\n",
       "      <td>True</td>\n",
       "      <td>False</td>\n",
       "      <td>27</td>\n",
       "      <td>27</td>\n",
       "      <td>38</td>\n",
       "      <td>38</td>\n",
       "    </tr>\n",
       "  </tbody>\n",
       "</table>\n",
       "<p>3 rows × 31 columns</p>\n",
       "</div>"
      ],
      "text/plain": [
       "   school_id_x  lesson_set_id inactive classroom_type       date classroom_id  \\\n",
       "2           48            126        f        Primary 2017-01-13          172   \n",
       "3           48            126        f        Primary 2017-01-13          172   \n",
       "4           48            126        f        Primary 2016-02-13          172   \n",
       "\n",
       "  picture_file_name private  exists    post_id_x    ...      \\\n",
       "2               NaN       f     1.0  1.18005e+06    ...       \n",
       "3               NaN       f     1.0  1.18005e+06    ...       \n",
       "4               NaN       f     1.0       262186    ...       \n",
       "\n",
       "   default_classroom_id_y  teacher_y  admin_y  teach_and_admin  is_teacher  \\\n",
       "2                  2479.0          t        f            False        True   \n",
       "3                  2479.0          t        f            False        True   \n",
       "4                  2479.0          t        f            False        True   \n",
       "\n",
       "   is_admin  child_id_x current_x child_id_y  current_y  \n",
       "2     False          27        27         38         38  \n",
       "3     False          27        27         38         38  \n",
       "4     False          27        27         38         38  \n",
       "\n",
       "[3 rows x 31 columns]"
      ]
     },
     "execution_count": 27,
     "metadata": {},
     "output_type": "execute_result"
    }
   ],
   "source": [
    "classrooms_merged.head(3)"
   ]
  },
  {
   "cell_type": "code",
   "execution_count": 28,
   "metadata": {
    "hidden": true
   },
   "outputs": [],
   "source": [
    "classrooms_merged.to_csv('../data/classrooms_merged.csv')"
   ]
  },
  {
   "cell_type": "markdown",
   "metadata": {
    "heading_collapsed": true,
    "hidden": true
   },
   "source": [
    "### NOT MERGED:"
   ]
  },
  {
   "cell_type": "code",
   "execution_count": null,
   "metadata": {
    "hidden": true
   },
   "outputs": [],
   "source": [
    "posts_merge = posts_merge.merge(planning_events, how='left', left_on)\n",
    "posts_merge.head(3)"
   ]
  },
  {
   "cell_type": "code",
   "execution_count": null,
   "metadata": {
    "hidden": true
   },
   "outputs": [],
   "source": [
    "planning_events.child_id.value_counts().head(5)"
   ]
  },
  {
   "cell_type": "code",
   "execution_count": null,
   "metadata": {
    "hidden": true
   },
   "outputs": [],
   "source": [
    "planning_events.head(5)"
   ]
  },
  {
   "cell_type": "code",
   "execution_count": null,
   "metadata": {
    "hidden": true
   },
   "outputs": [],
   "source": [
    "#TODO: merge planning events totals according to time. "
   ]
  },
  {
   "cell_type": "markdown",
   "metadata": {
    "heading_collapsed": true
   },
   "source": [
    "## Combine planning_events into one dataframe for analysis:"
   ]
  },
  {
   "cell_type": "code",
   "execution_count": null,
   "metadata": {
    "hidden": true
   },
   "outputs": [],
   "source": [
    "planning_events.created_at = pd.to_datetime(planning_events.created_at)"
   ]
  },
  {
   "cell_type": "code",
   "execution_count": null,
   "metadata": {
    "hidden": true
   },
   "outputs": [],
   "source": [
    "planning_events['created_at'].apply(lambda x: isinstance(x, pd.Timestamp))"
   ]
  },
  {
   "cell_type": "code",
   "execution_count": null,
   "metadata": {
    "hidden": true
   },
   "outputs": [],
   "source": [
    "len(planning_events.created_by_id.unique())"
   ]
  },
  {
   "cell_type": "markdown",
   "metadata": {
    "heading_collapsed": true
   },
   "source": [
    "## Make hist of posts in last 30 days"
   ]
  },
  {
   "cell_type": "code",
   "execution_count": null,
   "metadata": {
    "hidden": true
   },
   "outputs": [],
   "source": [
    "posts.head(3)"
   ]
  },
  {
   "cell_type": "code",
   "execution_count": null,
   "metadata": {
    "hidden": true
   },
   "outputs": [],
   "source": [
    "plt.hist(np.log(num_posts_by_class['exists']), bins=100);"
   ]
  },
  {
   "cell_type": "code",
   "execution_count": null,
   "metadata": {
    "hidden": true
   },
   "outputs": [],
   "source": [
    "plt.hist(num_posts_by_class)"
   ]
  },
  {
   "cell_type": "markdown",
   "metadata": {
    "heading_collapsed": true,
    "hidden": true
   },
   "source": [
    "### Num posts in the last X days"
   ]
  },
  {
   "cell_type": "code",
   "execution_count": null,
   "metadata": {
    "hidden": true
   },
   "outputs": [],
   "source": [
    "def posts_since(posts,date):\n",
    "    last_month_posts = posts[posts['date']>date].groupby('classroom_id').count()\n",
    "    num_posts_by_class = posts.groupby('classroom_id').sum()\n",
    "    last_month_posts_total= num_posts_by_class.join(last_month_posts, how='left', lsuffix='_num_posts_by_class', rsuffix='_last_month_posts')\n",
    "    last_month_posts_total.loc[last_month_posts_total['id_last_month_posts'].isnull(),'exists_last_month_posts'] =0\n",
    "    fig, ax = plt.subplots(1,1)\n",
    "    ax.set_title(f'class posts since {date.date()}')\n",
    "    ax.hist(last_month_posts_total['exists_last_month_posts'],bins=40)\n",
    "    ax.set_ylabel(\"# of classes\")\n",
    "    ax.set_xlabel(\"# of posts\")\n",
    "    plt.show()\n",
    "    \n",
    "def log_posts_since(posts,date):\n",
    "    last_month_posts = posts[posts['date']>date].groupby('classroom_id').count()\n",
    "    num_posts_by_class = posts.groupby('classroom_id').sum()\n",
    "    last_month_posts_total= num_posts_by_class.join(last_month_posts, how='left', lsuffix='_num_posts_by_class', rsuffix='_last_month_posts')\n",
    "    last_month_posts_total.loc[last_month_posts_total['id_last_month_posts'].isnull(),'exists_last_month_posts'] =0\n",
    "    fig, ax = plt.subplots(1,1)\n",
    "    ax.set_title(f'class log(posts) since {date.date()}')\n",
    "    ax.hist(np.log(last_month_posts_total['exists_last_month_posts']+1),bins=40)\n",
    "    ax.set_ylabel(\"# of classes\")\n",
    "    ax.set_xlabel(\"log(#) of posts\")\n",
    "    plt.show()\n",
    "posts_since(posts, pd.to_datetime(\"Feb 15 2018\"))"
   ]
  },
  {
   "cell_type": "code",
   "execution_count": null,
   "metadata": {
    "hidden": true,
    "scrolled": false
   },
   "outputs": [],
   "source": [
    "posts_since(posts, pd.to_datetime(\"Feb 15 2011\"))\n",
    "posts_since(posts, pd.to_datetime(\"Jan 15 2018\"))\n",
    "log_posts_since(posts, pd.to_datetime(\"jan 15 2018\"))\n",
    "log_posts_since(posts, pd.to_datetime(\"feb 15 2018\"))"
   ]
  },
  {
   "cell_type": "code",
   "execution_count": null,
   "metadata": {
    "hidden": true
   },
   "outputs": [],
   "source": [
    "def plot_posts_between(posts, date1, date2):\n",
    "    print(sum((date1 < posts['date']) & (posts['date'] < date2)))\n",
    "    last_month_posts = posts[(date1 < posts['date']) & (posts['date'] < date2)].groupby('classroom_id').count()\n",
    "    num_posts_by_class = posts.groupby('classroom_id').sum()\n",
    "    last_month_posts_total= num_posts_by_class.join(last_month_posts, how='left', lsuffix='_num_posts_by_class', rsuffix='_last_month_posts')\n",
    "    last_month_posts_total.loc[last_month_posts_total['id_last_month_posts'].isnull(),'exists_last_month_posts'] =0\n",
    "    fig, ax = plt.subplots(1,1)\n",
    "    ax.set_title(f'class posts between {date1.date()} and {date2.date()}')\n",
    "    ax.hist(last_month_posts_total['exists_last_month_posts'],bins=40)\n",
    "    ax.set_ylabel(\"# of classes\")\n",
    "    ax.set_xlabel(\"# of posts\")\n",
    "    plt.show()\n",
    "    \n",
    "def plot_log_posts_between(posts, date1, date2):\n",
    "    print(sum((date1 < posts['date']) & (posts['date'] < date2)))\n",
    "    last_month_posts = posts[(date1 < posts['date']) & (posts['date'] < date2)].groupby('classroom_id').count()\n",
    "    num_posts_by_class = posts.groupby('classroom_id').sum()\n",
    "    last_month_posts_total= num_posts_by_class.join(last_month_posts, how='left', lsuffix='_num_posts_by_class', rsuffix='_last_month_posts')\n",
    "    last_month_posts_total.loc[last_month_posts_total['id_last_month_posts'].isnull(),'exists_last_month_posts'] =0\n",
    "    fig, ax = plt.subplots(1,1)\n",
    "    ax.set_title(f'class log(posts) between {date1.date()} and {date2.date()}')\n",
    "    ax.hist(np.log(last_month_posts_total['exists_last_month_posts']+1),bins=40)\n",
    "    ax.set_ylabel(\"# of classes\")\n",
    "    ax.set_xlabel(\"log(#) of posts\")\n",
    "    plt.show()\n",
    "plot_posts_between(posts, pd.to_datetime(\"Jan 15 2018\"), pd.to_datetime(\"Feb 15 2018\"))\n",
    "plot_log_posts_between(posts, pd.to_datetime(\"Dec 15 2017\"), pd.to_datetime(\"Jan 15 2018\"))\n",
    "plot_log_posts_between(posts, pd.to_datetime(\"Jan 15 2018\"), pd.to_datetime(\"Feb 15 2018\"))\n",
    "plot_log_posts_between(posts, pd.to_datetime(\"FEB 15 2018\"), pd.to_datetime(\"March 15 2018\"))"
   ]
  },
  {
   "cell_type": "code",
   "execution_count": null,
   "metadata": {
    "hidden": true
   },
   "outputs": [],
   "source": [
    "# testing a uniform distribution\n",
    "import random\n",
    "plt.hist(np.log([random.random()*500 for x in range(1015)]),bins=40);"
   ]
  },
  {
   "cell_type": "code",
   "execution_count": null,
   "metadata": {
    "hidden": true,
    "scrolled": true
   },
   "outputs": [],
   "source": [
    "date1, date2 = pd.to_datetime(\"Dec 15 2010\"), pd.to_datetime(\"Jan 15 2011\")\n",
    "sum((date1 < posts['date']) & (posts['date'] < date2))"
   ]
  },
  {
   "cell_type": "markdown",
   "metadata": {
    "heading_collapsed": true,
    "hidden": true
   },
   "source": [
    "### Num of days (in last month) with > 0 posts"
   ]
  },
  {
   "cell_type": "code",
   "execution_count": null,
   "metadata": {
    "hidden": true,
    "scrolled": false
   },
   "outputs": [],
   "source": [
    "def plot_days_with_not_zero_posts_since(posts, date):\n",
    "    days_one_post_in_last_month = posts[posts['date']> date].groupby(['classroom_id','date']).sum().groupby('classroom_id').count()\n",
    "    num_posts_by_class = posts.groupby('classroom_id').count()\n",
    "    days_one_post_in_last_month = num_posts_by_class.join(days_one_post_in_last_month, how='left', lsuffix='_num_posts_by_class', rsuffix='_days_one_post_in_last_month')\n",
    "    days_one_post_in_last_month.loc[days_one_post_in_last_month['exists_days_one_post_in_last_month'].isnull(), 'exists_days_one_post_in_last_month'] = 0\n",
    "    fig, ax = plt.subplots(1,1)\n",
    "    ax.set_title(f'Days with not zero posts since {date.date()}')\n",
    "    ax.hist(days_one_post_in_last_month['exists_days_one_post_in_last_month'],bins=30);\n",
    "    ax.set_ylabel(\"# of classes\")\n",
    "    ax.set_xlabel(\"# of days\")\n",
    "    plt.show()\n",
    "    \n",
    "    \n",
    "def plot_log_days_with_not_zero_posts_since(posts, date):\n",
    "    days_one_post_in_last_month = posts[posts['date']> date].groupby(['classroom_id','date']).sum().groupby('classroom_id').count()\n",
    "    num_posts_by_class = posts.groupby('classroom_id').count()\n",
    "    days_one_post_in_last_month = num_posts_by_class.join(days_one_post_in_last_month, how='left', lsuffix='_num_posts_by_class', rsuffix='_days_one_post_in_last_month')\n",
    "    days_one_post_in_last_month.loc[days_one_post_in_last_month['exists_days_one_post_in_last_month'].isnull(), 'exists_days_one_post_in_last_month'] = 0\n",
    "    fig, ax = plt.subplots(1,1)\n",
    "    ax.set_title(f'Days with not zero posts since {date.date()}')\n",
    "    ax.hist(np.log(days_one_post_in_last_month['exists_days_one_post_in_last_month']+1),bins=30);\n",
    "    ax.set_ylabel(\"# of classes\")\n",
    "    ax.set_xlabel(\"log(#) of days\")\n",
    "    plt.show()\n",
    "    \n",
    "plot_days_with_not_zero_posts_since(posts, pd.to_datetime(\"feb 15 2018\"))\n",
    "plot_log_days_with_not_zero_posts_since(posts, pd.to_datetime(\"feb 15 2018\"))\n",
    "plot_days_with_not_zero_posts_since(posts, pd.to_datetime(\"feb 15 2011\"))\n",
    "plot_log_days_with_not_zero_posts_since(posts, pd.to_datetime(\"feb 15 2011\"))"
   ]
  },
  {
   "cell_type": "code",
   "execution_count": null,
   "metadata": {
    "hidden": true,
    "scrolled": false
   },
   "outputs": [],
   "source": [
    "def plot_days_with_not_zero_posts_between(posts, date1, date2):\n",
    "    print(sum((date1 < posts['date']) & (posts['date'] < date2)))\n",
    "    days_one_post_in_last_month = posts[(date1 < posts['date']) & (posts['date'] < date2)].groupby(['classroom_id','date']).sum().groupby('classroom_id').count()\n",
    "    num_posts_by_class = posts.groupby('classroom_id').count()\n",
    "    days_one_post_in_last_month = num_posts_by_class.join(days_one_post_in_last_month, how='left', lsuffix='_num_posts_by_class', rsuffix='_days_one_post_in_last_month')\n",
    "    days_one_post_in_last_month.loc[days_one_post_in_last_month['exists_days_one_post_in_last_month'].isnull(), 'exists_days_one_post_in_last_month'] = 0\n",
    "    fig, ax = plt.subplots(1,1)\n",
    "    ax.set_title(f'Days with not zero posts between {date1.date()} and {date2.date()}')\n",
    "    ax.hist(days_one_post_in_last_month['exists_days_one_post_in_last_month'],bins=30);\n",
    "    ax.set_ylabel(\"# of classes\")\n",
    "    ax.set_xlabel(\"# of days\")\n",
    "    plt.show()\n",
    "    \n",
    "    \n",
    "def plot_log_days_with_not_zero_posts_between(posts, date1, date2):\n",
    "    print(sum((date1 < posts['date']) & (posts['date'] < date2)))\n",
    "    days_one_post_in_last_month = posts[(date1 < posts['date']) & (posts['date'] < date2)].groupby(['classroom_id','date']).sum().groupby('classroom_id').count()\n",
    "    num_posts_by_class = posts.groupby('classroom_id').count()\n",
    "    days_one_post_in_last_month = num_posts_by_class.join(days_one_post_in_last_month, how='left', lsuffix='_num_posts_by_class', rsuffix='_days_one_post_in_last_month')\n",
    "    days_one_post_in_last_month.loc[days_one_post_in_last_month['exists_days_one_post_in_last_month'].isnull(), 'exists_days_one_post_in_last_month'] = 0\n",
    "    fig, ax = plt.subplots(1,1)\n",
    "    ax.set_title(f'Days with not zero posts between {date1.date()} and {date2.date()}')\n",
    "    ax.hist(np.log(days_one_post_in_last_month['exists_days_one_post_in_last_month']+1),bins=30);\n",
    "    ax.set_ylabel(\"# of classes\")\n",
    "    ax.set_xlabel(\"# of days\")\n",
    "    plt.show()\n",
    "    \n",
    "plot_days_with_not_zero_posts_between(posts, pd.to_datetime(\"Feb 15 2018\"), pd.to_datetime(\"Feb 16 2018\"))\n",
    "plot_days_with_not_zero_posts_between(posts, pd.to_datetime(\"Jan 15 2018\"), pd.to_datetime(\"Feb 15 2018\"))\n",
    "plot_log_days_with_not_zero_posts_between(posts, pd.to_datetime(\"Dec 15 2017\"), pd.to_datetime(\"Jan 15 2018\"))\n",
    "plot_days_with_not_zero_posts_between(posts, pd.to_datetime(\"Jan 15 2018\"), pd.to_datetime(\"Feb 15 2018\"))\n",
    "plot_log_days_with_not_zero_posts_between(posts, pd.to_datetime(\"FEB 15 2018\"), pd.to_datetime(\"March 15 2018\"))"
   ]
  },
  {
   "cell_type": "markdown",
   "metadata": {
    "heading_collapsed": true
   },
   "source": [
    "## chart zero entry classes per month over time"
   ]
  },
  {
   "cell_type": "code",
   "execution_count": null,
   "metadata": {
    "hidden": true
   },
   "outputs": [],
   "source": [
    "def posts_between(posts, date1, date2):\n",
    "    print('total posts in this timeframe = ' + str(sum((date1 < posts['date']) & (posts['date'] < date2))))\n",
    "    last_month_posts = posts[(date1 < posts['date']) & (posts['date'] < date2)].groupby('classroom_id').count()\n",
    "    num_posts_by_class = posts.groupby('classroom_id').sum()\n",
    "    last_month_posts_total= num_posts_by_class.join(last_month_posts, how='left', lsuffix='_num_posts_by_class', rsuffix='_last_month_posts')\n",
    "    last_month_posts_total.loc[last_month_posts_total['id_last_month_posts'].isnull(),'exists_last_month_posts'] =0\n",
    "    return last_month_posts_total\n",
    "    \n",
    "def log_posts_between(posts, date1, date2):\n",
    "    print(sum((date1 < posts['date']) & (posts['date'] < date2)))\n",
    "    last_month_posts = posts[(date1 < posts['date']) & (posts['date'] < date2)].groupby('classroom_id').count()\n",
    "    num_posts_by_class = posts.groupby('classroom_id').sum()\n",
    "    last_month_posts_total= num_posts_by_class.join(last_month_posts, how='left', lsuffix='_num_posts_by_class', rsuffix='_last_month_posts')\n",
    "    last_month_posts_total.loc[last_month_posts_total['id_last_month_posts'].isnull(),'exists_last_month_posts'] =0\n",
    "    last_month_posts_total['exists_last_month_posts'] = np.log(last_month_posts_total['exists_last_month_posts']+1)\n",
    "    return last_month_posts_total\n",
    "    \n",
    "    \n",
    "def plot_days_with_not_zero_posts_between(posts, date1, date2):\n",
    "    print(sum((date1 < posts['date']) & (posts['date'] < date2)))\n",
    "    days_one_post_in_last_month = posts[(date1 < posts['date']) & (posts['date'] < date2)].groupby(['classroom_id','date']).sum().groupby('classroom_id').count()\n",
    "    num_posts_by_class = posts.groupby('classroom_id').count()\n",
    "    days_one_post_in_last_month = num_posts_by_class.join(days_one_post_in_last_month, how='left', lsuffix='_num_posts_by_class', rsuffix='_days_one_post_in_last_month')\n",
    "    days_one_post_in_last_month.loc[days_one_post_in_last_month['exists_days_one_post_in_last_month'].isnull(), 'exists_days_one_post_in_last_month'] = 0\n",
    "    return days_one_post_in_last_month\n",
    "    \n",
    "def plot_log_days_with_not_zero_posts_between(posts, date1, date2):\n",
    "    print(sum((date1 < posts['date']) & (posts['date'] < date2)))\n",
    "    days_one_post_in_last_month = posts[(date1 < posts['date']) & (posts['date'] < date2)].groupby(['classroom_id','date']).sum().groupby('classroom_id').count()\n",
    "    num_posts_by_class = posts.groupby('classroom_id').count()\n",
    "    days_one_post_in_last_month = num_posts_by_class.join(days_one_post_in_last_month, how='left', lsuffix='_num_posts_by_class', rsuffix='_days_one_post_in_last_month')\n",
    "    days_one_post_in_last_month.loc[days_one_post_in_last_month['exists_days_one_post_in_last_month'].isnull(), 'exists_days_one_post_in_last_month'] = 0\n",
    "    days_one_post_in_last_month['exists_days_one_post_in_last_month'] = np.log(days_one_post_in_last_month['exists_days_one_post_in_last_month']+1)\n",
    "    return days_one_post_in_last_month"
   ]
  },
  {
   "cell_type": "code",
   "execution_count": null,
   "metadata": {
    "hidden": true
   },
   "outputs": [],
   "source": [
    "posts.groupby(pd.Grouper(freq=\"M\"), as_index=False).count()"
   ]
  },
  {
   "cell_type": "raw",
   "metadata": {
    "hidden": true
   },
   "source": [
    "posts.groupby([(posts['date'].year),(posts['date'].month)]).sum()"
   ]
  },
  {
   "cell_type": "code",
   "execution_count": null,
   "metadata": {
    "hidden": true
   },
   "outputs": [],
   "source": [
    "# months = \"jan, feb, mar, april, may, june, july, aug, sept, oct, nov, dec\".split(',')\n",
    "# for classroom_id in posts['classroom_id'].unique():\n",
    "#     for year in range(2011,2018)\n",
    "#         for i_month in range(months):\n",
    "#             posts_between(posts, date1=pd.datetime(str(year) + months[i_month]), date2=)\n",
    "#             plot_days_with_not_zero_posts_between(posts, date1, date2)"
   ]
  },
  {
   "cell_type": "markdown",
   "metadata": {
    "heading_collapsed": true
   },
   "source": [
    "## Hearts"
   ]
  },
  {
   "cell_type": "code",
   "execution_count": null,
   "metadata": {
    "hidden": true
   },
   "outputs": [],
   "source": [
    "sum(posts[posts['classroom_id']==4]['date']>pd.to_datetime('feb 15 2018'))"
   ]
  },
  {
   "cell_type": "code",
   "execution_count": null,
   "metadata": {
    "hidden": true
   },
   "outputs": [],
   "source": [
    "sum(posts[posts['classroom_id']==4]['date']>pd.to_datetime('feb 15 2018'))"
   ]
  },
  {
   "cell_type": "markdown",
   "metadata": {
    "hidden": true
   },
   "source": [
    "### in the last 90 days:\n",
    "one <3 rewarded if:\n",
    "1. the min of last three # posts/month is greater than 50\n",
    "2. the min of last three # posts/month is greater than 200\n",
    "3. the min of least month is greater than zero\n",
    "4. the min of least WEEK is greater than zero (so one post every week) \n",
    "5. the least month is more than a fourth of the greatest month. (again, over the last three months)"
   ]
  },
  {
   "cell_type": "code",
   "execution_count": null,
   "metadata": {
    "hidden": true
   },
   "outputs": [],
   "source": [
    "self.record_keeping_quantity_1 = month_min >= 50\n",
    "self.record_keeping_quantity_2 = month_min >= 200\n",
    "self.record_keeping_frequency_1 = month_min > 0\n",
    "self.record_keeping_frequency_2 = week_min > 0\n",
    "self.record_keeping_consistency = month_max && month_max < month_min * 4"
   ]
  },
  {
   "cell_type": "markdown",
   "metadata": {
    "heading_collapsed": true
   },
   "source": [
    "## look at premade hearts"
   ]
  },
  {
   "cell_type": "code",
   "execution_count": null,
   "metadata": {
    "hidden": true
   },
   "outputs": [],
   "source": [
    "hearts = pd.read_csv('../data2/health_checks.csv')\n",
    "hearts['date'] = pd.to_datetime(hearts['date'], errors='coerce')\n",
    "hearts.head(3)"
   ]
  },
  {
   "cell_type": "code",
   "execution_count": null,
   "metadata": {
    "hidden": true
   },
   "outputs": [],
   "source": [
    "classrooms_merged.head(10)"
   ]
  },
  {
   "cell_type": "code",
   "execution_count": null,
   "metadata": {
    "hidden": true
   },
   "outputs": [],
   "source": [
    "hearts_merged = classrooms_merged.merge(hearts, how='left', left_on=['school_id','date'], right_on=['school_id','date'])"
   ]
  },
  {
   "cell_type": "code",
   "execution_count": null,
   "metadata": {
    "hidden": true
   },
   "outputs": [],
   "source": [
    "len(hearts_merged)"
   ]
  },
  {
   "cell_type": "code",
   "execution_count": null,
   "metadata": {
    "hidden": true
   },
   "outputs": [],
   "source": [
    "len(hearts)"
   ]
  },
  {
   "cell_type": "code",
   "execution_count": null,
   "metadata": {
    "hidden": true
   },
   "outputs": [],
   "source": [
    "len(classrooms_merged)"
   ]
  },
  {
   "cell_type": "code",
   "execution_count": null,
   "metadata": {
    "hidden": true
   },
   "outputs": [],
   "source": [
    "hearts_merged.columns"
   ]
  },
  {
   "cell_type": "code",
   "execution_count": null,
   "metadata": {
    "hidden": true
   },
   "outputs": [],
   "source": [
    "hearts_merged['classroom_id'] = hearts_merged['classroom_id_x']\n",
    "hearts_merged = hearts_merged.drop('classroom_id_y', axis=1)\n",
    "hearts_merged = hearts_merged.drop('classroom_id_x', axis=1)\n",
    "hearts_merged.head(3)\n"
   ]
  },
  {
   "cell_type": "code",
   "execution_count": null,
   "metadata": {
    "hidden": true
   },
   "outputs": [],
   "source": [
    "sum(pd.isna(hearts_merged['date']))\n",
    "\n",
    "# sum(pd.isna(hearts_merged_cleaned_date['date']))"
   ]
  },
  {
   "cell_type": "code",
   "execution_count": null,
   "metadata": {
    "hidden": true,
    "scrolled": false
   },
   "outputs": [],
   "source": [
    "from autoregression import cleandata\n",
    "hearts_merged_cleaned_date = cleandata.clean_df_respect_to_y(hearts_merged, 'date')\n",
    "\n",
    "def plot_hearts(hearts_merged):\n",
    "    for classroom_id in sum_post['classroom_id'].unique()[20:30]:\n",
    "        fig, ax = plt.subplots(2,1, figsize=(20,3))\n",
    "        ax.flatten()\n",
    "        ax[0].scatter(hearts_merged[hearts_merged['classroom_id']==classroom_id]['date'].values,hearts_merged[hearts_merged['classroom_id']==classroom_id]['score'], s=1)\n",
    "        ax[1].plot(hearts_merged[hearts_merged['classroom_id']==classroom_id].sort_values('date')['date'],hearts_merged[hearts_merged['classroom_id']==classroom_id].sort_values('date')['score']);\n",
    "        ax[0].set_title(f\"Class {classroom_id} score\")\n",
    "\n",
    "    #     ax[0].get_xaxis().set_label_coords(2011,2019)\n",
    "    #     ax[1].get_xaxis().set_label_coords(2011,2019)\n",
    "    #     x0, x1 = ax[0].xaxis.label.get_position()\n",
    "    #     print(x0, x1)\n",
    "    # #     ax[1].xaxis.label.set_position([x0, x1])\n",
    "    # #     ax[1].xaxis._autolabelpos=False\n",
    "    #     ax[0].set_xticks([pd.to_datetime(x0),pd.to_datetime(x1)])\n",
    "    #     ax[1].set_xticks([pd.to_datetime(x0),pd.to_datetime(x1)])\n",
    "        plt.show()\n",
    "plot_hearts(hearts_merged_cleaned_date)"
   ]
  },
  {
   "cell_type": "code",
   "execution_count": null,
   "metadata": {
    "hidden": true
   },
   "outputs": [],
   "source": []
  },
  {
   "cell_type": "code",
   "execution_count": null,
   "metadata": {
    "hidden": true
   },
   "outputs": [],
   "source": [
    "\n"
   ]
  },
  {
   "cell_type": "markdown",
   "metadata": {
    "heading_collapsed": true
   },
   "source": [
    "## make non-zero monthly groupings"
   ]
  },
  {
   "cell_type": "code",
   "execution_count": 3,
   "metadata": {
    "hidden": true
   },
   "outputs": [
    {
     "data": {
      "text/html": [
       "<div>\n",
       "<style scoped>\n",
       "    .dataframe tbody tr th:only-of-type {\n",
       "        vertical-align: middle;\n",
       "    }\n",
       "\n",
       "    .dataframe tbody tr th {\n",
       "        vertical-align: top;\n",
       "    }\n",
       "\n",
       "    .dataframe thead th {\n",
       "        text-align: right;\n",
       "    }\n",
       "</style>\n",
       "<table border=\"1\" class=\"dataframe\">\n",
       "  <thead>\n",
       "    <tr style=\"text-align: right;\">\n",
       "      <th></th>\n",
       "      <th></th>\n",
       "      <th>id</th>\n",
       "      <th>date</th>\n",
       "      <th>picture_file_name</th>\n",
       "      <th>private</th>\n",
       "      <th>exists</th>\n",
       "    </tr>\n",
       "    <tr>\n",
       "      <th>classroom_id</th>\n",
       "      <th>year_month</th>\n",
       "      <th></th>\n",
       "      <th></th>\n",
       "      <th></th>\n",
       "      <th></th>\n",
       "      <th></th>\n",
       "    </tr>\n",
       "  </thead>\n",
       "  <tbody>\n",
       "    <tr>\n",
       "      <th rowspan=\"3\" valign=\"top\">1</th>\n",
       "      <th>2011-12-01</th>\n",
       "      <td>16</td>\n",
       "      <td>16</td>\n",
       "      <td>16</td>\n",
       "      <td>16</td>\n",
       "      <td>16</td>\n",
       "    </tr>\n",
       "    <tr>\n",
       "      <th>2012-01-01</th>\n",
       "      <td>167</td>\n",
       "      <td>167</td>\n",
       "      <td>71</td>\n",
       "      <td>167</td>\n",
       "      <td>167</td>\n",
       "    </tr>\n",
       "    <tr>\n",
       "      <th>2012-02-01</th>\n",
       "      <td>262</td>\n",
       "      <td>262</td>\n",
       "      <td>93</td>\n",
       "      <td>262</td>\n",
       "      <td>262</td>\n",
       "    </tr>\n",
       "  </tbody>\n",
       "</table>\n",
       "</div>"
      ],
      "text/plain": [
       "                          id  date  picture_file_name  private  exists\n",
       "classroom_id year_month                                               \n",
       "1            2011-12-01   16    16                 16       16      16\n",
       "             2012-01-01  167   167                 71      167     167\n",
       "             2012-02-01  262   262                 93      262     262"
      ]
     },
     "execution_count": 3,
     "metadata": {},
     "output_type": "execute_result"
    }
   ],
   "source": [
    "posts['year_month'] = pd.to_datetime(posts['date']).map(lambda dt: dt.replace(day=1))\n",
    "posts.groupby(['classroom_id','year_month']).count().head(3)"
   ]
  },
  {
   "cell_type": "code",
   "execution_count": null,
   "metadata": {
    "hidden": true
   },
   "outputs": [
    {
     "data": {
      "text/plain": [
       "year_month  classroom_id\n",
       "1908-10-01  1               0\n",
       "            3               0\n",
       "            4               0\n",
       "dtype: int64"
      ]
     },
     "execution_count": 4,
     "metadata": {},
     "output_type": "execute_result"
    }
   ],
   "source": [
    "class_month_posts = posts.pivot_table(index='classroom_id', \n",
    "                     columns='year_month', \n",
    "                     values='exists',\n",
    "                     fill_value=0, \n",
    "                     aggfunc='count').unstack()\n",
    "class_month_posts.head(3)"
   ]
  },
  {
   "cell_type": "code",
   "execution_count": null,
   "metadata": {
    "hidden": true
   },
   "outputs": [],
   "source": [
    "# pretty good so far, but I want those zeros\n",
    "class_month_posts = posts.pivot_table(index='year_month',\n",
    "                     columns='classroom_id', \n",
    "                     values='exists',\n",
    "                     fill_value=0, \n",
    "                     aggfunc='count').unstack()\n",
    "class_month_posts.head(3)"
   ]
  },
  {
   "cell_type": "code",
   "execution_count": null,
   "metadata": {
    "hidden": true
   },
   "outputs": [],
   "source": [
    "for classroom_id in class_month_posts['classroom_id'].unique()[0:10]:\n",
    "    fig, ax = plt.subplots(2,1, figsize=(20,3))\n",
    "    ax.flatten()\n",
    "    ax[0].scatter(class_month_posts[class_month_posts['classroom_id']==classroom_id]['date'].values,class_month_posts[class_month_posts['classroom_id']==classroom_id]['exists'], s=1)\n",
    "    ax[1].plot(class_month_posts[class_month_posts['classroom_id']==classroom_id].sort_values('date')['date'],class_month_posts[class_month_posts['classroom_id']==classroom_id].sort_values('date')['exists']);\n",
    "    ax[0].set_title(f\"Class {classroom_id} score\")"
   ]
  },
  {
   "cell_type": "code",
   "execution_count": null,
   "metadata": {
    "hidden": true,
    "scrolled": false
   },
   "outputs": [],
   "source": [
    "for classroom_id in list(class_month_posts.index.get_level_values(0).unique())[0:10]:\n",
    "    fig, ax = plt.subplots(2,1, figsize=(20,3))\n",
    "    ax.flatten()\n",
    "    dates = np.array(class_month_posts[classroom_id].index)\n",
    "    current_monthly_posts = class_month_posts[classroom_id].values\n",
    "    ax[0].scatter(dates, current_monthly_posts>0, s=1)\n",
    "    ax[1].plot(dates, current_monthly_posts>0)\n",
    "#     ax[1].plot(class_month_posts[class_month_posts['classroom_id']==classroom_id].sort_values('date')['date'],class_month_posts[class_month_posts['classroom_id']==classroom_id].sort_values('date'));\n",
    "    ax[0].set_title(f\"Class {classroom_id} score\")\n",
    "    ax[0].set_xlim(\"2011\",\"2018\")\n",
    "    ax[1].set_xlim(\"2011\",\"2018\")\n",
    "    plt.show()"
   ]
  },
  {
   "cell_type": "markdown",
   "metadata": {},
   "source": [
    "## find the ended session cases"
   ]
  },
  {
   "cell_type": "code",
   "execution_count": null,
   "metadata": {},
   "outputs": [],
   "source": [
    "sessions.head(3)"
   ]
  },
  {
   "cell_type": "code",
   "execution_count": null,
   "metadata": {},
   "outputs": [],
   "source": [
    "sessions.groupby('school_id', 'stop_date').count()"
   ]
  },
  {
   "cell_type": "code",
   "execution_count": null,
   "metadata": {},
   "outputs": [],
   "source": [
    "continued_accounts = (sessions.groupby('school_id').agg({'stop_date' : [np.max]}) > pd.to_datetime(\"march 2018\")).sum()"
   ]
  },
  {
   "cell_type": "code",
   "execution_count": null,
   "metadata": {},
   "outputs": [],
   "source": [
    "total_accounts = len(sessions.groupby('school_id').agg({'stop_date' : [np.max]}) > pd.to_datetime(\"march 2018\"))"
   ]
  },
  {
   "cell_type": "code",
   "execution_count": null,
   "metadata": {},
   "outputs": [],
   "source": [
    "sessions.groupby('school_id').agg({'stop_date' : [np.max]}) > pd.to_datetime(\"march 2018\")"
   ]
  },
  {
   "cell_type": "code",
   "execution_count": null,
   "metadata": {},
   "outputs": [],
   "source": []
  },
  {
   "cell_type": "markdown",
   "metadata": {},
   "source": [
    "# Current Work"
   ]
  },
  {
   "cell_type": "markdown",
   "metadata": {
    "heading_collapsed": true
   },
   "source": [
    "## make y_hat creator function"
   ]
  },
  {
   "cell_type": "code",
   "execution_count": null,
   "metadata": {
    "hidden": true
   },
   "outputs": [],
   "source": [
    "# for each classroom make a set of data, per total history, warning about use decay. \n",
    "import datetime\n",
    "from datetime import timedelta\n",
    "now = pd.to_datetime('Jan 24, 2015')\n",
    "# six_months_later = now - datetime.datetime(1,6,1)\n",
    "six_months = timedelta(days=365//2)\n",
    "one_year = timedelta(days=365)"
   ]
  },
  {
   "cell_type": "code",
   "execution_count": null,
   "metadata": {
    "hidden": true
   },
   "outputs": [],
   "source": [
    "#get classroom id = 1 between now and a year from now\n",
    "y = posts_between(posts, now+six_months, now+one_year)['exists_last_month_posts']\n",
    "for classroom in posts.classroom_id.unique():\n",
    "    print(y.loc[classroom])\n",
    "    "
   ]
  },
  {
   "cell_type": "code",
   "execution_count": null,
   "metadata": {
    "hidden": true
   },
   "outputs": [],
   "source": [
    "X = classrooms_merged.groupby('classroom_id')"
   ]
  },
  {
   "cell_type": "code",
   "execution_count": null,
   "metadata": {
    "hidden": true
   },
   "outputs": [],
   "source": [
    "# then scan this function forward in time\n",
    "# function that aggregates the data 6 months in the future (zero use to start)\n",
    "# a function that keeps track of aggregated child/teacher/image/post stats over each month ago\n",
    "# LATER function that has a coeff for alllll the history timeseries data, "
   ]
  },
  {
   "cell_type": "code",
   "execution_count": null,
   "metadata": {
    "hidden": true
   },
   "outputs": [],
   "source": [
    "class_month_posts = posts.pivot_table(index='year_month',\n",
    "                     columns='classroom_id', \n",
    "                     values='exists',\n",
    "                     fill_value=0, \n",
    "                     aggfunc='count').unstack()\n",
    "class_month_posts.head(3)"
   ]
  },
  {
   "cell_type": "code",
   "execution_count": null,
   "metadata": {
    "hidden": true
   },
   "outputs": [],
   "source": []
  }
 ],
 "metadata": {
  "kernelspec": {
   "display_name": "Python 3",
   "language": "python",
   "name": "python3"
  },
  "language_info": {
   "codemirror_mode": {
    "name": "ipython",
    "version": 3
   },
   "file_extension": ".py",
   "mimetype": "text/x-python",
   "name": "python",
   "nbconvert_exporter": "python",
   "pygments_lexer": "ipython3",
   "version": "3.6.4"
  }
 },
 "nbformat": 4,
 "nbformat_minor": 2
}
