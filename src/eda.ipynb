{
 "cells": [
  {
   "cell_type": "code",
   "execution_count": 3,
   "metadata": {},
   "outputs": [],
   "source": [
    "teachers = pd.read_csv('../data/teachers.csv')\n",
    "students = pd.read_csv('../data/students.csv')\n",
    "sessions = pd.read_csv('../data/sessions.csv')\n",
    "schools = pd.read_csv('../data/schools.csv')\n",
    "posts = pd.read_csv('../data/posts.csv')\n",
    "planning_events = pd.read_csv('../data/planning_events.csv')\n",
    "child_posts = pd.read_csv('../data/child_posts.csv')\n",
    "classrooms = pd.read_csv('../data/classrooms.csv')\n",
    "lesson_posts = pd.read_csv('../data/lesson_posts.csv')\n",
    "parents = pd.read_csv('../data/parents.csv')\n",
    "sessions['start_date'] = pd.to_datetime(sessions['start_date'])\n",
    "sessions['stop_date'] = pd.to_datetime(sessions['stop_date'])\n",
    "sessions['exists']=1\n",
    "posts['exists']=1\n",
    "# posts['date'] = pd.to_datetime(posts.date, errors='coerce')\n",
    "posts['date'] = pd.to_datetime(posts.date, errors='coerce')"
   ]
  },
  {
   "cell_type": "markdown",
   "metadata": {
    "heading_collapsed": true
   },
   "source": [
    "## Sessions analysis"
   ]
  },
  {
   "cell_type": "code",
   "execution_count": 2,
   "metadata": {
    "hidden": true,
    "scrolled": true
   },
   "outputs": [
    {
     "data": {
      "text/html": [
       "<div>\n",
       "<style scoped>\n",
       "    .dataframe tbody tr th:only-of-type {\n",
       "        vertical-align: middle;\n",
       "    }\n",
       "\n",
       "    .dataframe tbody tr th {\n",
       "        vertical-align: top;\n",
       "    }\n",
       "\n",
       "    .dataframe thead th {\n",
       "        text-align: right;\n",
       "    }\n",
       "</style>\n",
       "<table border=\"1\" class=\"dataframe\">\n",
       "  <thead>\n",
       "    <tr style=\"text-align: right;\">\n",
       "      <th></th>\n",
       "      <th>id</th>\n",
       "      <th>current</th>\n",
       "      <th>start_date</th>\n",
       "      <th>stop_date</th>\n",
       "      <th>name</th>\n",
       "      <th>school_id</th>\n",
       "      <th>inactive</th>\n",
       "      <th>exists</th>\n",
       "    </tr>\n",
       "  </thead>\n",
       "  <tbody>\n",
       "    <tr>\n",
       "      <th>0</th>\n",
       "      <td>1</td>\n",
       "      <td>f</td>\n",
       "      <td>2012-01-03</td>\n",
       "      <td>2012-06-20</td>\n",
       "      <td>2011-12</td>\n",
       "      <td>2</td>\n",
       "      <td>f</td>\n",
       "      <td>1</td>\n",
       "    </tr>\n",
       "    <tr>\n",
       "      <th>1</th>\n",
       "      <td>2</td>\n",
       "      <td>f</td>\n",
       "      <td>2012-06-25</td>\n",
       "      <td>2012-08-17</td>\n",
       "      <td>Summer 2012</td>\n",
       "      <td>2</td>\n",
       "      <td>f</td>\n",
       "      <td>1</td>\n",
       "    </tr>\n",
       "    <tr>\n",
       "      <th>2</th>\n",
       "      <td>6</td>\n",
       "      <td>f</td>\n",
       "      <td>2013-09-01</td>\n",
       "      <td>2014-07-01</td>\n",
       "      <td>2013-14</td>\n",
       "      <td>3</td>\n",
       "      <td>f</td>\n",
       "      <td>1</td>\n",
       "    </tr>\n",
       "    <tr>\n",
       "      <th>3</th>\n",
       "      <td>3</td>\n",
       "      <td>f</td>\n",
       "      <td>2012-09-04</td>\n",
       "      <td>2013-06-19</td>\n",
       "      <td>2012-13</td>\n",
       "      <td>2</td>\n",
       "      <td>f</td>\n",
       "      <td>1</td>\n",
       "    </tr>\n",
       "    <tr>\n",
       "      <th>4</th>\n",
       "      <td>4</td>\n",
       "      <td>f</td>\n",
       "      <td>2012-09-01</td>\n",
       "      <td>2013-06-30</td>\n",
       "      <td>2012-13</td>\n",
       "      <td>3</td>\n",
       "      <td>f</td>\n",
       "      <td>1</td>\n",
       "    </tr>\n",
       "  </tbody>\n",
       "</table>\n",
       "</div>"
      ],
      "text/plain": [
       "   id current start_date  stop_date         name  school_id inactive  exists\n",
       "0   1       f 2012-01-03 2012-06-20      2011-12          2        f       1\n",
       "1   2       f 2012-06-25 2012-08-17  Summer 2012          2        f       1\n",
       "2   6       f 2013-09-01 2014-07-01      2013-14          3        f       1\n",
       "3   3       f 2012-09-04 2013-06-19      2012-13          2        f       1\n",
       "4   4       f 2012-09-01 2013-06-30      2012-13          3        f       1"
      ]
     },
     "execution_count": 2,
     "metadata": {},
     "output_type": "execute_result"
    }
   ],
   "source": [
    "sessions.head()"
   ]
  },
  {
   "cell_type": "code",
   "execution_count": null,
   "metadata": {
    "hidden": true
   },
   "outputs": [],
   "source": []
  },
  {
   "cell_type": "code",
   "execution_count": 3,
   "metadata": {
    "hidden": true
   },
   "outputs": [
    {
     "data": {
      "text/plain": [
       "14"
      ]
     },
     "execution_count": 3,
     "metadata": {},
     "output_type": "execute_result"
    }
   ],
   "source": [
    "# churners:\n",
    "sum(sessions.groupby('school_id')['stop_date'].max()<pd.to_datetime('april 28, 2018'))"
   ]
  },
  {
   "cell_type": "code",
   "execution_count": 4,
   "metadata": {
    "hidden": true
   },
   "outputs": [
    {
     "data": {
      "text/plain": [
       "1973"
      ]
     },
     "execution_count": 4,
     "metadata": {},
     "output_type": "execute_result"
    }
   ],
   "source": [
    "sum(sessions['stop_date']<pd.to_datetime('april 28, 2018'))"
   ]
  },
  {
   "cell_type": "code",
   "execution_count": 5,
   "metadata": {
    "hidden": true,
    "scrolled": false
   },
   "outputs": [
    {
     "data": {
      "text/plain": [
       "Text(0.5,1,'school_id start/stop dates')"
      ]
     },
     "execution_count": 5,
     "metadata": {},
     "output_type": "execute_result"
    },
    {
     "data": {
      "image/png": "[encoded data removed]",
      "text/plain": [
       "<Figure size 1440x2880 with 1 Axes>"
      ]
     },
     "metadata": {},
     "output_type": "display_data"
    }
   ],
   "source": [
    "fig, ax = plt.subplots(1,1, figsize=(20,40))\n",
    "point_pairs = [((sessions.start_date[i],sessions.stop_date[i]),(sessions.school_id[i],sessions.school_id[i])) for i in range(len(sessions))]\n",
    "# point_pairs = [((sessions.start_date[i],sessions.stop_date[i]),(sessions.school_id[i],sessions.school_id[i])) for i in range(100)]\n",
    "for x in point_pairs:\n",
    "    ax.plot(x[0], x[1], alpha=.5)\n",
    "ax.set_xlabel('start/stop date')\n",
    "ax.set_ylabel('school_id')\n",
    "ax.set_title('school_id start/stop dates')"
   ]
  },
  {
   "cell_type": "code",
   "execution_count": 6,
   "metadata": {
    "hidden": true
   },
   "outputs": [
    {
     "data": {
      "text/plain": [
       "Timestamp('2012-01-03 00:00:00')"
      ]
     },
     "execution_count": 6,
     "metadata": {},
     "output_type": "execute_result"
    }
   ],
   "source": [
    "sessions.start_date[0]"
   ]
  },
  {
   "cell_type": "code",
   "execution_count": null,
   "metadata": {
    "hidden": true
   },
   "outputs": [],
   "source": []
  },
  {
   "cell_type": "code",
   "execution_count": 7,
   "metadata": {
    "hidden": true
   },
   "outputs": [
    {
     "data": {
      "text/html": [
       "<div>\n",
       "<style scoped>\n",
       "    .dataframe tbody tr th:only-of-type {\n",
       "        vertical-align: middle;\n",
       "    }\n",
       "\n",
       "    .dataframe tbody tr th {\n",
       "        vertical-align: top;\n",
       "    }\n",
       "\n",
       "    .dataframe thead th {\n",
       "        text-align: right;\n",
       "    }\n",
       "</style>\n",
       "<table border=\"1\" class=\"dataframe\">\n",
       "  <thead>\n",
       "    <tr style=\"text-align: right;\">\n",
       "      <th></th>\n",
       "      <th>start_date</th>\n",
       "      <th>id</th>\n",
       "      <th>school_id</th>\n",
       "      <th>exists</th>\n",
       "    </tr>\n",
       "  </thead>\n",
       "  <tbody>\n",
       "    <tr>\n",
       "      <th>0</th>\n",
       "      <td>2012-01-03</td>\n",
       "      <td>4596</td>\n",
       "      <td>24</td>\n",
       "      <td>0.693147</td>\n",
       "    </tr>\n",
       "    <tr>\n",
       "      <th>1</th>\n",
       "      <td>2012-06-25</td>\n",
       "      <td>4598</td>\n",
       "      <td>24</td>\n",
       "      <td>0.693147</td>\n",
       "    </tr>\n",
       "    <tr>\n",
       "      <th>2</th>\n",
       "      <td>2012-09-01</td>\n",
       "      <td>4</td>\n",
       "      <td>3</td>\n",
       "      <td>0.000000</td>\n",
       "    </tr>\n",
       "    <tr>\n",
       "      <th>3</th>\n",
       "      <td>2012-09-04</td>\n",
       "      <td>6662</td>\n",
       "      <td>90</td>\n",
       "      <td>1.098612</td>\n",
       "    </tr>\n",
       "    <tr>\n",
       "      <th>4</th>\n",
       "      <td>2013-06-20</td>\n",
       "      <td>4606</td>\n",
       "      <td>24</td>\n",
       "      <td>0.693147</td>\n",
       "    </tr>\n",
       "  </tbody>\n",
       "</table>\n",
       "</div>"
      ],
      "text/plain": [
       "  start_date    id  school_id    exists\n",
       "0 2012-01-03  4596         24  0.693147\n",
       "1 2012-06-25  4598         24  0.693147\n",
       "2 2012-09-01     4          3  0.000000\n",
       "3 2012-09-04  6662         90  1.098612\n",
       "4 2013-06-20  4606         24  0.693147"
      ]
     },
     "execution_count": 7,
     "metadata": {},
     "output_type": "execute_result"
    }
   ],
   "source": [
    "sessions.groupby('start_date').sum().head(5)\n",
    "sum_sessions_date_indexed = sessions.groupby('start_date').sum()\n",
    "sum_sessions_date_indexed['exists'] = np.log(sum_sessions_date_indexed['exists'])\n",
    "sum_sessions_date_indexed[sum_sessions_date_indexed['school_id']==465]['exists']\n",
    "sum_sessions = sum_sessions_date_indexed.reset_index()\n",
    "sum_sessions.head()"
   ]
  },
  {
   "cell_type": "code",
   "execution_count": 8,
   "metadata": {
    "hidden": true
   },
   "outputs": [
    {
     "name": "stdout",
     "output_type": "stream",
     "text": [
      "max stop = 2023-12-31 00:00:00\n",
      "max start = 2023-01-01 00:00:00\n",
      "min stop = 2012-06-20 00:00:00\n",
      "min start = 2012-01-03 00:00:00\n"
     ]
    },
    {
     "data": {
      "image/png": "[encoded data removed]",
      "text/plain": [
       "<Figure size 1440x216 with 1 Axes>"
      ]
     },
     "metadata": {},
     "output_type": "display_data"
    }
   ],
   "source": [
    "fig, ax = plt.subplots(1, 1, figsize=(20,3))\n",
    "ax.plot(sum_sessions[sum_sessions['school_id']==24]['start_date'], sum_sessions[sum_sessions['school_id']==24]['exists'])\n",
    "sessions.describe()\n",
    "print('max stop = ' + str(sessions.stop_date.max()))\n",
    "print('max start = ' + str(sessions.start_date.max()))\n",
    "print('min stop = ' + str(sessions.stop_date.min()))\n",
    "print('min start = ' + str(sessions.start_date.min()))"
   ]
  },
  {
   "cell_type": "code",
   "execution_count": 9,
   "metadata": {
    "hidden": true
   },
   "outputs": [
    {
     "data": {
      "text/html": [
       "<div>\n",
       "<style scoped>\n",
       "    .dataframe tbody tr th:only-of-type {\n",
       "        vertical-align: middle;\n",
       "    }\n",
       "\n",
       "    .dataframe tbody tr th {\n",
       "        vertical-align: top;\n",
       "    }\n",
       "\n",
       "    .dataframe thead th {\n",
       "        text-align: right;\n",
       "    }\n",
       "</style>\n",
       "<table border=\"1\" class=\"dataframe\">\n",
       "  <thead>\n",
       "    <tr style=\"text-align: right;\">\n",
       "      <th></th>\n",
       "      <th>id</th>\n",
       "      <th>current</th>\n",
       "      <th>start_date</th>\n",
       "      <th>stop_date</th>\n",
       "      <th>name</th>\n",
       "      <th>school_id</th>\n",
       "      <th>inactive</th>\n",
       "      <th>exists</th>\n",
       "    </tr>\n",
       "  </thead>\n",
       "  <tbody>\n",
       "    <tr>\n",
       "      <th>0</th>\n",
       "      <td>1</td>\n",
       "      <td>f</td>\n",
       "      <td>2012-01-03</td>\n",
       "      <td>2012-06-20</td>\n",
       "      <td>2011-12</td>\n",
       "      <td>2</td>\n",
       "      <td>f</td>\n",
       "      <td>1</td>\n",
       "    </tr>\n",
       "    <tr>\n",
       "      <th>1</th>\n",
       "      <td>2</td>\n",
       "      <td>f</td>\n",
       "      <td>2012-06-25</td>\n",
       "      <td>2012-08-17</td>\n",
       "      <td>Summer 2012</td>\n",
       "      <td>2</td>\n",
       "      <td>f</td>\n",
       "      <td>1</td>\n",
       "    </tr>\n",
       "    <tr>\n",
       "      <th>2</th>\n",
       "      <td>6</td>\n",
       "      <td>f</td>\n",
       "      <td>2013-09-01</td>\n",
       "      <td>2014-07-01</td>\n",
       "      <td>2013-14</td>\n",
       "      <td>3</td>\n",
       "      <td>f</td>\n",
       "      <td>1</td>\n",
       "    </tr>\n",
       "  </tbody>\n",
       "</table>\n",
       "</div>"
      ],
      "text/plain": [
       "   id current start_date  stop_date         name  school_id inactive  exists\n",
       "0   1       f 2012-01-03 2012-06-20      2011-12          2        f       1\n",
       "1   2       f 2012-06-25 2012-08-17  Summer 2012          2        f       1\n",
       "2   6       f 2013-09-01 2014-07-01      2013-14          3        f       1"
      ]
     },
     "execution_count": 9,
     "metadata": {},
     "output_type": "execute_result"
    }
   ],
   "source": [
    "sessions.head(3)"
   ]
  },
  {
   "cell_type": "code",
   "execution_count": 10,
   "metadata": {
    "hidden": true
   },
   "outputs": [
    {
     "data": {
      "text/plain": [
       "school_id\n",
       "2     AxesSubplot(0.125,0.125;0.775x0.755)\n",
       "3     AxesSubplot(0.125,0.125;0.775x0.755)\n",
       "22    AxesSubplot(0.125,0.125;0.775x0.755)\n",
       "Name: exists, dtype: object"
      ]
     },
     "execution_count": 10,
     "metadata": {},
     "output_type": "execute_result"
    },
    {
     "data": {
      "image/png": "[encoded data removed]",
      "text/plain": [
       "<Figure size 432x288 with 1 Axes>"
      ]
     },
     "metadata": {},
     "output_type": "display_data"
    }
   ],
   "source": [
    "sessions_grouped = sessions[['start_date','school_id','exists']].groupby(['start_date','school_id']).sum().reset_index().head()\n",
    "# sessions_grouped.set_index('start_date', inplace=True)\n",
    "sessions_grouped.groupby('school_id')['exists'].plot(legend=True)"
   ]
  },
  {
   "cell_type": "code",
   "execution_count": 11,
   "metadata": {
    "hidden": true
   },
   "outputs": [
    {
     "data": {
      "image/png": "[encoded data removed]",
      "text/plain": [
       "<Figure size 1440x1440 with 1 Axes>"
      ]
     },
     "metadata": {},
     "output_type": "display_data"
    }
   ],
   "source": [
    "fig, ax = plt.subplots(1,1, figsize=(20,20))\n",
    "ax.plot(sessions[['exists','start_date']].groupby('start_date').sum());"
   ]
  },
  {
   "cell_type": "markdown",
   "metadata": {},
   "source": [
    "## Posts analysis"
   ]
  },
  {
   "cell_type": "code",
   "execution_count": 12,
   "metadata": {},
   "outputs": [
    {
     "data": {
      "text/html": [
       "<div>\n",
       "<style scoped>\n",
       "    .dataframe tbody tr th:only-of-type {\n",
       "        vertical-align: middle;\n",
       "    }\n",
       "\n",
       "    .dataframe tbody tr th {\n",
       "        vertical-align: top;\n",
       "    }\n",
       "\n",
       "    .dataframe thead th {\n",
       "        text-align: right;\n",
       "    }\n",
       "</style>\n",
       "<table border=\"1\" class=\"dataframe\">\n",
       "  <thead>\n",
       "    <tr style=\"text-align: right;\">\n",
       "      <th></th>\n",
       "      <th>id</th>\n",
       "      <th>date</th>\n",
       "      <th>classroom_id</th>\n",
       "      <th>picture_file_name</th>\n",
       "      <th>private</th>\n",
       "      <th>exists</th>\n",
       "    </tr>\n",
       "  </thead>\n",
       "  <tbody>\n",
       "    <tr>\n",
       "      <th>0</th>\n",
       "      <td>4319418</td>\n",
       "      <td>2018-01-25</td>\n",
       "      <td>1684</td>\n",
       "      <td>NaN</td>\n",
       "      <td>f</td>\n",
       "      <td>1</td>\n",
       "    </tr>\n",
       "    <tr>\n",
       "      <th>1</th>\n",
       "      <td>4319419</td>\n",
       "      <td>2018-01-25</td>\n",
       "      <td>1684</td>\n",
       "      <td>NaN</td>\n",
       "      <td>f</td>\n",
       "      <td>1</td>\n",
       "    </tr>\n",
       "    <tr>\n",
       "      <th>2</th>\n",
       "      <td>4319420</td>\n",
       "      <td>2018-01-25</td>\n",
       "      <td>1684</td>\n",
       "      <td>NaN</td>\n",
       "      <td>f</td>\n",
       "      <td>1</td>\n",
       "    </tr>\n",
       "    <tr>\n",
       "      <th>3</th>\n",
       "      <td>4319421</td>\n",
       "      <td>2018-01-25</td>\n",
       "      <td>1684</td>\n",
       "      <td>NaN</td>\n",
       "      <td>f</td>\n",
       "      <td>1</td>\n",
       "    </tr>\n",
       "    <tr>\n",
       "      <th>4</th>\n",
       "      <td>4319422</td>\n",
       "      <td>2018-01-25</td>\n",
       "      <td>1684</td>\n",
       "      <td>NaN</td>\n",
       "      <td>f</td>\n",
       "      <td>1</td>\n",
       "    </tr>\n",
       "    <tr>\n",
       "      <th>5</th>\n",
       "      <td>4376681</td>\n",
       "      <td>2018-01-29</td>\n",
       "      <td>2859</td>\n",
       "      <td>20180129142656_5863f9e3-d886-4071-807c-8af9db3...</td>\n",
       "      <td>f</td>\n",
       "      <td>1</td>\n",
       "    </tr>\n",
       "    <tr>\n",
       "      <th>6</th>\n",
       "      <td>4376671</td>\n",
       "      <td>2018-01-29</td>\n",
       "      <td>2859</td>\n",
       "      <td>20180129142656_5863f9e3-d886-4071-807c-8af9db3...</td>\n",
       "      <td>f</td>\n",
       "      <td>1</td>\n",
       "    </tr>\n",
       "    <tr>\n",
       "      <th>7</th>\n",
       "      <td>4376672</td>\n",
       "      <td>2018-01-26</td>\n",
       "      <td>2859</td>\n",
       "      <td>20180129142656_5863f9e3-d886-4071-807c-8af9db3...</td>\n",
       "      <td>f</td>\n",
       "      <td>1</td>\n",
       "    </tr>\n",
       "    <tr>\n",
       "      <th>8</th>\n",
       "      <td>4376683</td>\n",
       "      <td>2018-01-29</td>\n",
       "      <td>2427</td>\n",
       "      <td>20180129133055_2d125c6c-580c-456f-9220-72632d5...</td>\n",
       "      <td>f</td>\n",
       "      <td>1</td>\n",
       "    </tr>\n",
       "    <tr>\n",
       "      <th>9</th>\n",
       "      <td>522797</td>\n",
       "      <td>2016-09-09</td>\n",
       "      <td>338</td>\n",
       "      <td>Henry_D.jpg</td>\n",
       "      <td>f</td>\n",
       "      <td>1</td>\n",
       "    </tr>\n",
       "    <tr>\n",
       "      <th>10</th>\n",
       "      <td>4322055</td>\n",
       "      <td>2018-01-25</td>\n",
       "      <td>649</td>\n",
       "      <td>20180125143935_ca23fba2-5c50-46e7-99de-f81e216...</td>\n",
       "      <td>f</td>\n",
       "      <td>1</td>\n",
       "    </tr>\n",
       "    <tr>\n",
       "      <th>11</th>\n",
       "      <td>4319428</td>\n",
       "      <td>2018-01-25</td>\n",
       "      <td>446</td>\n",
       "      <td>NaN</td>\n",
       "      <td>f</td>\n",
       "      <td>1</td>\n",
       "    </tr>\n",
       "    <tr>\n",
       "      <th>12</th>\n",
       "      <td>4319429</td>\n",
       "      <td>2018-01-25</td>\n",
       "      <td>446</td>\n",
       "      <td>NaN</td>\n",
       "      <td>f</td>\n",
       "      <td>1</td>\n",
       "    </tr>\n",
       "    <tr>\n",
       "      <th>13</th>\n",
       "      <td>4319438</td>\n",
       "      <td>2018-01-25</td>\n",
       "      <td>2540</td>\n",
       "      <td>NaN</td>\n",
       "      <td>t</td>\n",
       "      <td>1</td>\n",
       "    </tr>\n",
       "    <tr>\n",
       "      <th>14</th>\n",
       "      <td>4319439</td>\n",
       "      <td>2018-01-25</td>\n",
       "      <td>1684</td>\n",
       "      <td>NaN</td>\n",
       "      <td>f</td>\n",
       "      <td>1</td>\n",
       "    </tr>\n",
       "    <tr>\n",
       "      <th>15</th>\n",
       "      <td>4319443</td>\n",
       "      <td>2018-01-25</td>\n",
       "      <td>2540</td>\n",
       "      <td>NaN</td>\n",
       "      <td>t</td>\n",
       "      <td>1</td>\n",
       "    </tr>\n",
       "    <tr>\n",
       "      <th>16</th>\n",
       "      <td>4319435</td>\n",
       "      <td>2018-01-25</td>\n",
       "      <td>3300</td>\n",
       "      <td>NaN</td>\n",
       "      <td>f</td>\n",
       "      <td>1</td>\n",
       "    </tr>\n",
       "    <tr>\n",
       "      <th>17</th>\n",
       "      <td>4319444</td>\n",
       "      <td>2018-01-25</td>\n",
       "      <td>3300</td>\n",
       "      <td>NaN</td>\n",
       "      <td>f</td>\n",
       "      <td>1</td>\n",
       "    </tr>\n",
       "    <tr>\n",
       "      <th>18</th>\n",
       "      <td>4319447</td>\n",
       "      <td>2018-01-25</td>\n",
       "      <td>2540</td>\n",
       "      <td>NaN</td>\n",
       "      <td>t</td>\n",
       "      <td>1</td>\n",
       "    </tr>\n",
       "    <tr>\n",
       "      <th>19</th>\n",
       "      <td>4319456</td>\n",
       "      <td>2018-01-25</td>\n",
       "      <td>2540</td>\n",
       "      <td>NaN</td>\n",
       "      <td>t</td>\n",
       "      <td>1</td>\n",
       "    </tr>\n",
       "    <tr>\n",
       "      <th>20</th>\n",
       "      <td>4319482</td>\n",
       "      <td>2018-01-25</td>\n",
       "      <td>2440</td>\n",
       "      <td>NaN</td>\n",
       "      <td>f</td>\n",
       "      <td>1</td>\n",
       "    </tr>\n",
       "    <tr>\n",
       "      <th>21</th>\n",
       "      <td>4319491</td>\n",
       "      <td>2018-01-24</td>\n",
       "      <td>3153</td>\n",
       "      <td>NaN</td>\n",
       "      <td>t</td>\n",
       "      <td>1</td>\n",
       "    </tr>\n",
       "    <tr>\n",
       "      <th>22</th>\n",
       "      <td>4319503</td>\n",
       "      <td>2018-01-24</td>\n",
       "      <td>3153</td>\n",
       "      <td>NaN</td>\n",
       "      <td>t</td>\n",
       "      <td>1</td>\n",
       "    </tr>\n",
       "    <tr>\n",
       "      <th>23</th>\n",
       "      <td>4319505</td>\n",
       "      <td>2018-01-24</td>\n",
       "      <td>3153</td>\n",
       "      <td>NaN</td>\n",
       "      <td>t</td>\n",
       "      <td>1</td>\n",
       "    </tr>\n",
       "    <tr>\n",
       "      <th>24</th>\n",
       "      <td>4319511</td>\n",
       "      <td>2018-01-25</td>\n",
       "      <td>3300</td>\n",
       "      <td>NaN</td>\n",
       "      <td>f</td>\n",
       "      <td>1</td>\n",
       "    </tr>\n",
       "    <tr>\n",
       "      <th>25</th>\n",
       "      <td>4319484</td>\n",
       "      <td>2018-01-25</td>\n",
       "      <td>3300</td>\n",
       "      <td>NaN</td>\n",
       "      <td>f</td>\n",
       "      <td>1</td>\n",
       "    </tr>\n",
       "    <tr>\n",
       "      <th>26</th>\n",
       "      <td>4319485</td>\n",
       "      <td>2018-01-25</td>\n",
       "      <td>3300</td>\n",
       "      <td>NaN</td>\n",
       "      <td>f</td>\n",
       "      <td>1</td>\n",
       "    </tr>\n",
       "    <tr>\n",
       "      <th>27</th>\n",
       "      <td>4319437</td>\n",
       "      <td>2018-01-25</td>\n",
       "      <td>1986</td>\n",
       "      <td>NaN</td>\n",
       "      <td>f</td>\n",
       "      <td>1</td>\n",
       "    </tr>\n",
       "    <tr>\n",
       "      <th>28</th>\n",
       "      <td>4376674</td>\n",
       "      <td>2018-01-29</td>\n",
       "      <td>2859</td>\n",
       "      <td>20180129142656_5863f9e3-d886-4071-807c-8af9db3...</td>\n",
       "      <td>f</td>\n",
       "      <td>1</td>\n",
       "    </tr>\n",
       "    <tr>\n",
       "      <th>29</th>\n",
       "      <td>4319433</td>\n",
       "      <td>2018-01-25</td>\n",
       "      <td>1684</td>\n",
       "      <td>NaN</td>\n",
       "      <td>f</td>\n",
       "      <td>1</td>\n",
       "    </tr>\n",
       "    <tr>\n",
       "      <th>...</th>\n",
       "      <td>...</td>\n",
       "      <td>...</td>\n",
       "      <td>...</td>\n",
       "      <td>...</td>\n",
       "      <td>...</td>\n",
       "      <td>...</td>\n",
       "    </tr>\n",
       "    <tr>\n",
       "      <th>4583983</th>\n",
       "      <td>4376664</td>\n",
       "      <td>2018-01-26</td>\n",
       "      <td>2859</td>\n",
       "      <td>20180129142656_5863f9e3-d886-4071-807c-8af9db3...</td>\n",
       "      <td>f</td>\n",
       "      <td>1</td>\n",
       "    </tr>\n",
       "    <tr>\n",
       "      <th>4583984</th>\n",
       "      <td>4376608</td>\n",
       "      <td>2018-01-29</td>\n",
       "      <td>649</td>\n",
       "      <td>20180129143223_f2bab9a2-c091-43a3-997f-b7497cb...</td>\n",
       "      <td>f</td>\n",
       "      <td>1</td>\n",
       "    </tr>\n",
       "    <tr>\n",
       "      <th>4583985</th>\n",
       "      <td>4319390</td>\n",
       "      <td>2018-01-25</td>\n",
       "      <td>2862</td>\n",
       "      <td>NaN</td>\n",
       "      <td>f</td>\n",
       "      <td>1</td>\n",
       "    </tr>\n",
       "    <tr>\n",
       "      <th>4583986</th>\n",
       "      <td>4319393</td>\n",
       "      <td>2018-01-25</td>\n",
       "      <td>2862</td>\n",
       "      <td>NaN</td>\n",
       "      <td>f</td>\n",
       "      <td>1</td>\n",
       "    </tr>\n",
       "    <tr>\n",
       "      <th>4583987</th>\n",
       "      <td>4319395</td>\n",
       "      <td>2018-01-25</td>\n",
       "      <td>2862</td>\n",
       "      <td>NaN</td>\n",
       "      <td>f</td>\n",
       "      <td>1</td>\n",
       "    </tr>\n",
       "    <tr>\n",
       "      <th>4583988</th>\n",
       "      <td>4376657</td>\n",
       "      <td>2018-01-26</td>\n",
       "      <td>2859</td>\n",
       "      <td>20180129142656_5863f9e3-d886-4071-807c-8af9db3...</td>\n",
       "      <td>f</td>\n",
       "      <td>1</td>\n",
       "    </tr>\n",
       "    <tr>\n",
       "      <th>4583989</th>\n",
       "      <td>4376607</td>\n",
       "      <td>2018-01-29</td>\n",
       "      <td>45</td>\n",
       "      <td>20180129143315_bb656051-23e8-4405-b7bf-c4203e5...</td>\n",
       "      <td>f</td>\n",
       "      <td>1</td>\n",
       "    </tr>\n",
       "    <tr>\n",
       "      <th>4583990</th>\n",
       "      <td>4376673</td>\n",
       "      <td>2018-01-30</td>\n",
       "      <td>2859</td>\n",
       "      <td>20180129142656_5863f9e3-d886-4071-807c-8af9db3...</td>\n",
       "      <td>f</td>\n",
       "      <td>1</td>\n",
       "    </tr>\n",
       "    <tr>\n",
       "      <th>4583991</th>\n",
       "      <td>4376655</td>\n",
       "      <td>2018-01-29</td>\n",
       "      <td>2859</td>\n",
       "      <td>20180129142656_5863f9e3-d886-4071-807c-8af9db3...</td>\n",
       "      <td>f</td>\n",
       "      <td>1</td>\n",
       "    </tr>\n",
       "    <tr>\n",
       "      <th>4583992</th>\n",
       "      <td>4376667</td>\n",
       "      <td>2018-01-25</td>\n",
       "      <td>2859</td>\n",
       "      <td>20180129142656_5863f9e3-d886-4071-807c-8af9db3...</td>\n",
       "      <td>f</td>\n",
       "      <td>1</td>\n",
       "    </tr>\n",
       "    <tr>\n",
       "      <th>4583993</th>\n",
       "      <td>4376659</td>\n",
       "      <td>2018-01-24</td>\n",
       "      <td>2859</td>\n",
       "      <td>20180129142656_5863f9e3-d886-4071-807c-8af9db3...</td>\n",
       "      <td>f</td>\n",
       "      <td>1</td>\n",
       "    </tr>\n",
       "    <tr>\n",
       "      <th>4583994</th>\n",
       "      <td>4376609</td>\n",
       "      <td>2018-01-29</td>\n",
       "      <td>649</td>\n",
       "      <td>20180129143231_1902f9be-f3a5-43c7-a6dc-96b1dbd...</td>\n",
       "      <td>f</td>\n",
       "      <td>1</td>\n",
       "    </tr>\n",
       "    <tr>\n",
       "      <th>4583995</th>\n",
       "      <td>4319403</td>\n",
       "      <td>2018-01-25</td>\n",
       "      <td>1684</td>\n",
       "      <td>NaN</td>\n",
       "      <td>f</td>\n",
       "      <td>1</td>\n",
       "    </tr>\n",
       "    <tr>\n",
       "      <th>4583996</th>\n",
       "      <td>4319404</td>\n",
       "      <td>2018-01-25</td>\n",
       "      <td>1684</td>\n",
       "      <td>NaN</td>\n",
       "      <td>f</td>\n",
       "      <td>1</td>\n",
       "    </tr>\n",
       "    <tr>\n",
       "      <th>4583997</th>\n",
       "      <td>4319405</td>\n",
       "      <td>2018-01-25</td>\n",
       "      <td>1684</td>\n",
       "      <td>NaN</td>\n",
       "      <td>f</td>\n",
       "      <td>1</td>\n",
       "    </tr>\n",
       "    <tr>\n",
       "      <th>4583998</th>\n",
       "      <td>4319406</td>\n",
       "      <td>2018-01-25</td>\n",
       "      <td>1684</td>\n",
       "      <td>NaN</td>\n",
       "      <td>f</td>\n",
       "      <td>1</td>\n",
       "    </tr>\n",
       "    <tr>\n",
       "      <th>4583999</th>\n",
       "      <td>4319407</td>\n",
       "      <td>2018-01-25</td>\n",
       "      <td>1684</td>\n",
       "      <td>NaN</td>\n",
       "      <td>f</td>\n",
       "      <td>1</td>\n",
       "    </tr>\n",
       "    <tr>\n",
       "      <th>4584000</th>\n",
       "      <td>4319408</td>\n",
       "      <td>2018-01-25</td>\n",
       "      <td>1684</td>\n",
       "      <td>NaN</td>\n",
       "      <td>f</td>\n",
       "      <td>1</td>\n",
       "    </tr>\n",
       "    <tr>\n",
       "      <th>4584001</th>\n",
       "      <td>975951</td>\n",
       "      <td>2016-11-21</td>\n",
       "      <td>193</td>\n",
       "      <td>NaN</td>\n",
       "      <td>t</td>\n",
       "      <td>1</td>\n",
       "    </tr>\n",
       "    <tr>\n",
       "      <th>4584002</th>\n",
       "      <td>4319409</td>\n",
       "      <td>2018-01-25</td>\n",
       "      <td>1684</td>\n",
       "      <td>NaN</td>\n",
       "      <td>f</td>\n",
       "      <td>1</td>\n",
       "    </tr>\n",
       "    <tr>\n",
       "      <th>4584003</th>\n",
       "      <td>4319426</td>\n",
       "      <td>2018-01-25</td>\n",
       "      <td>446</td>\n",
       "      <td>NaN</td>\n",
       "      <td>f</td>\n",
       "      <td>1</td>\n",
       "    </tr>\n",
       "    <tr>\n",
       "      <th>4584004</th>\n",
       "      <td>4319410</td>\n",
       "      <td>2018-01-25</td>\n",
       "      <td>1684</td>\n",
       "      <td>NaN</td>\n",
       "      <td>f</td>\n",
       "      <td>1</td>\n",
       "    </tr>\n",
       "    <tr>\n",
       "      <th>4584005</th>\n",
       "      <td>4319411</td>\n",
       "      <td>2018-01-25</td>\n",
       "      <td>1684</td>\n",
       "      <td>NaN</td>\n",
       "      <td>f</td>\n",
       "      <td>1</td>\n",
       "    </tr>\n",
       "    <tr>\n",
       "      <th>4584006</th>\n",
       "      <td>4319412</td>\n",
       "      <td>2018-01-25</td>\n",
       "      <td>1684</td>\n",
       "      <td>NaN</td>\n",
       "      <td>f</td>\n",
       "      <td>1</td>\n",
       "    </tr>\n",
       "    <tr>\n",
       "      <th>4584007</th>\n",
       "      <td>4319413</td>\n",
       "      <td>2018-01-25</td>\n",
       "      <td>1684</td>\n",
       "      <td>NaN</td>\n",
       "      <td>f</td>\n",
       "      <td>1</td>\n",
       "    </tr>\n",
       "    <tr>\n",
       "      <th>4584008</th>\n",
       "      <td>4319414</td>\n",
       "      <td>2018-01-25</td>\n",
       "      <td>1684</td>\n",
       "      <td>NaN</td>\n",
       "      <td>f</td>\n",
       "      <td>1</td>\n",
       "    </tr>\n",
       "    <tr>\n",
       "      <th>4584009</th>\n",
       "      <td>4319415</td>\n",
       "      <td>2018-01-25</td>\n",
       "      <td>1684</td>\n",
       "      <td>NaN</td>\n",
       "      <td>f</td>\n",
       "      <td>1</td>\n",
       "    </tr>\n",
       "    <tr>\n",
       "      <th>4584010</th>\n",
       "      <td>4319416</td>\n",
       "      <td>2018-01-25</td>\n",
       "      <td>1684</td>\n",
       "      <td>NaN</td>\n",
       "      <td>f</td>\n",
       "      <td>1</td>\n",
       "    </tr>\n",
       "    <tr>\n",
       "      <th>4584011</th>\n",
       "      <td>4319417</td>\n",
       "      <td>2018-01-25</td>\n",
       "      <td>1684</td>\n",
       "      <td>NaN</td>\n",
       "      <td>f</td>\n",
       "      <td>1</td>\n",
       "    </tr>\n",
       "    <tr>\n",
       "      <th>4584012</th>\n",
       "      <td>4376675</td>\n",
       "      <td>2018-01-22</td>\n",
       "      <td>2859</td>\n",
       "      <td>20180129142656_5863f9e3-d886-4071-807c-8af9db3...</td>\n",
       "      <td>f</td>\n",
       "      <td>1</td>\n",
       "    </tr>\n",
       "  </tbody>\n",
       "</table>\n",
       "<p>4584013 rows × 6 columns</p>\n",
       "</div>"
      ],
      "text/plain": [
       "              id       date  classroom_id  \\\n",
       "0        4319418 2018-01-25          1684   \n",
       "1        4319419 2018-01-25          1684   \n",
       "2        4319420 2018-01-25          1684   \n",
       "3        4319421 2018-01-25          1684   \n",
       "4        4319422 2018-01-25          1684   \n",
       "5        4376681 2018-01-29          2859   \n",
       "6        4376671 2018-01-29          2859   \n",
       "7        4376672 2018-01-26          2859   \n",
       "8        4376683 2018-01-29          2427   \n",
       "9         522797 2016-09-09           338   \n",
       "10       4322055 2018-01-25           649   \n",
       "11       4319428 2018-01-25           446   \n",
       "12       4319429 2018-01-25           446   \n",
       "13       4319438 2018-01-25          2540   \n",
       "14       4319439 2018-01-25          1684   \n",
       "15       4319443 2018-01-25          2540   \n",
       "16       4319435 2018-01-25          3300   \n",
       "17       4319444 2018-01-25          3300   \n",
       "18       4319447 2018-01-25          2540   \n",
       "19       4319456 2018-01-25          2540   \n",
       "20       4319482 2018-01-25          2440   \n",
       "21       4319491 2018-01-24          3153   \n",
       "22       4319503 2018-01-24          3153   \n",
       "23       4319505 2018-01-24          3153   \n",
       "24       4319511 2018-01-25          3300   \n",
       "25       4319484 2018-01-25          3300   \n",
       "26       4319485 2018-01-25          3300   \n",
       "27       4319437 2018-01-25          1986   \n",
       "28       4376674 2018-01-29          2859   \n",
       "29       4319433 2018-01-25          1684   \n",
       "...          ...        ...           ...   \n",
       "4583983  4376664 2018-01-26          2859   \n",
       "4583984  4376608 2018-01-29           649   \n",
       "4583985  4319390 2018-01-25          2862   \n",
       "4583986  4319393 2018-01-25          2862   \n",
       "4583987  4319395 2018-01-25          2862   \n",
       "4583988  4376657 2018-01-26          2859   \n",
       "4583989  4376607 2018-01-29            45   \n",
       "4583990  4376673 2018-01-30          2859   \n",
       "4583991  4376655 2018-01-29          2859   \n",
       "4583992  4376667 2018-01-25          2859   \n",
       "4583993  4376659 2018-01-24          2859   \n",
       "4583994  4376609 2018-01-29           649   \n",
       "4583995  4319403 2018-01-25          1684   \n",
       "4583996  4319404 2018-01-25          1684   \n",
       "4583997  4319405 2018-01-25          1684   \n",
       "4583998  4319406 2018-01-25          1684   \n",
       "4583999  4319407 2018-01-25          1684   \n",
       "4584000  4319408 2018-01-25          1684   \n",
       "4584001   975951 2016-11-21           193   \n",
       "4584002  4319409 2018-01-25          1684   \n",
       "4584003  4319426 2018-01-25           446   \n",
       "4584004  4319410 2018-01-25          1684   \n",
       "4584005  4319411 2018-01-25          1684   \n",
       "4584006  4319412 2018-01-25          1684   \n",
       "4584007  4319413 2018-01-25          1684   \n",
       "4584008  4319414 2018-01-25          1684   \n",
       "4584009  4319415 2018-01-25          1684   \n",
       "4584010  4319416 2018-01-25          1684   \n",
       "4584011  4319417 2018-01-25          1684   \n",
       "4584012  4376675 2018-01-22          2859   \n",
       "\n",
       "                                         picture_file_name private  exists  \n",
       "0                                                      NaN       f       1  \n",
       "1                                                      NaN       f       1  \n",
       "2                                                      NaN       f       1  \n",
       "3                                                      NaN       f       1  \n",
       "4                                                      NaN       f       1  \n",
       "5        20180129142656_5863f9e3-d886-4071-807c-8af9db3...       f       1  \n",
       "6        20180129142656_5863f9e3-d886-4071-807c-8af9db3...       f       1  \n",
       "7        20180129142656_5863f9e3-d886-4071-807c-8af9db3...       f       1  \n",
       "8        20180129133055_2d125c6c-580c-456f-9220-72632d5...       f       1  \n",
       "9                                              Henry_D.jpg       f       1  \n",
       "10       20180125143935_ca23fba2-5c50-46e7-99de-f81e216...       f       1  \n",
       "11                                                     NaN       f       1  \n",
       "12                                                     NaN       f       1  \n",
       "13                                                     NaN       t       1  \n",
       "14                                                     NaN       f       1  \n",
       "15                                                     NaN       t       1  \n",
       "16                                                     NaN       f       1  \n",
       "17                                                     NaN       f       1  \n",
       "18                                                     NaN       t       1  \n",
       "19                                                     NaN       t       1  \n",
       "20                                                     NaN       f       1  \n",
       "21                                                     NaN       t       1  \n",
       "22                                                     NaN       t       1  \n",
       "23                                                     NaN       t       1  \n",
       "24                                                     NaN       f       1  \n",
       "25                                                     NaN       f       1  \n",
       "26                                                     NaN       f       1  \n",
       "27                                                     NaN       f       1  \n",
       "28       20180129142656_5863f9e3-d886-4071-807c-8af9db3...       f       1  \n",
       "29                                                     NaN       f       1  \n",
       "...                                                    ...     ...     ...  \n",
       "4583983  20180129142656_5863f9e3-d886-4071-807c-8af9db3...       f       1  \n",
       "4583984  20180129143223_f2bab9a2-c091-43a3-997f-b7497cb...       f       1  \n",
       "4583985                                                NaN       f       1  \n",
       "4583986                                                NaN       f       1  \n",
       "4583987                                                NaN       f       1  \n",
       "4583988  20180129142656_5863f9e3-d886-4071-807c-8af9db3...       f       1  \n",
       "4583989  20180129143315_bb656051-23e8-4405-b7bf-c4203e5...       f       1  \n",
       "4583990  20180129142656_5863f9e3-d886-4071-807c-8af9db3...       f       1  \n",
       "4583991  20180129142656_5863f9e3-d886-4071-807c-8af9db3...       f       1  \n",
       "4583992  20180129142656_5863f9e3-d886-4071-807c-8af9db3...       f       1  \n",
       "4583993  20180129142656_5863f9e3-d886-4071-807c-8af9db3...       f       1  \n",
       "4583994  20180129143231_1902f9be-f3a5-43c7-a6dc-96b1dbd...       f       1  \n",
       "4583995                                                NaN       f       1  \n",
       "4583996                                                NaN       f       1  \n",
       "4583997                                                NaN       f       1  \n",
       "4583998                                                NaN       f       1  \n",
       "4583999                                                NaN       f       1  \n",
       "4584000                                                NaN       f       1  \n",
       "4584001                                                NaN       t       1  \n",
       "4584002                                                NaN       f       1  \n",
       "4584003                                                NaN       f       1  \n",
       "4584004                                                NaN       f       1  \n",
       "4584005                                                NaN       f       1  \n",
       "4584006                                                NaN       f       1  \n",
       "4584007                                                NaN       f       1  \n",
       "4584008                                                NaN       f       1  \n",
       "4584009                                                NaN       f       1  \n",
       "4584010                                                NaN       f       1  \n",
       "4584011                                                NaN       f       1  \n",
       "4584012  20180129142656_5863f9e3-d886-4071-807c-8af9db3...       f       1  \n",
       "\n",
       "[4584013 rows x 6 columns]"
      ]
     },
     "execution_count": 12,
     "metadata": {},
     "output_type": "execute_result"
    }
   ],
   "source": [
    "posts"
   ]
  },
  {
   "cell_type": "code",
   "execution_count": 13,
   "metadata": {},
   "outputs": [
    {
     "data": {
      "text/html": [
       "<div>\n",
       "<style scoped>\n",
       "    .dataframe tbody tr th:only-of-type {\n",
       "        vertical-align: middle;\n",
       "    }\n",
       "\n",
       "    .dataframe tbody tr th {\n",
       "        vertical-align: top;\n",
       "    }\n",
       "\n",
       "    .dataframe thead th {\n",
       "        text-align: right;\n",
       "    }\n",
       "</style>\n",
       "<table border=\"1\" class=\"dataframe\">\n",
       "  <thead>\n",
       "    <tr style=\"text-align: right;\">\n",
       "      <th></th>\n",
       "      <th>id</th>\n",
       "      <th>classroom_id</th>\n",
       "      <th>exists</th>\n",
       "    </tr>\n",
       "  </thead>\n",
       "  <tbody>\n",
       "    <tr>\n",
       "      <th>count</th>\n",
       "      <td>4.584013e+06</td>\n",
       "      <td>4.584013e+06</td>\n",
       "      <td>4584013.0</td>\n",
       "    </tr>\n",
       "    <tr>\n",
       "      <th>mean</th>\n",
       "      <td>2.551726e+06</td>\n",
       "      <td>1.250037e+03</td>\n",
       "      <td>1.0</td>\n",
       "    </tr>\n",
       "    <tr>\n",
       "      <th>std</th>\n",
       "      <td>1.469805e+06</td>\n",
       "      <td>9.544487e+02</td>\n",
       "      <td>0.0</td>\n",
       "    </tr>\n",
       "    <tr>\n",
       "      <th>min</th>\n",
       "      <td>6.000000e+00</td>\n",
       "      <td>1.000000e+00</td>\n",
       "      <td>1.0</td>\n",
       "    </tr>\n",
       "    <tr>\n",
       "      <th>25%</th>\n",
       "      <td>1.264436e+06</td>\n",
       "      <td>4.980000e+02</td>\n",
       "      <td>1.0</td>\n",
       "    </tr>\n",
       "    <tr>\n",
       "      <th>50%</th>\n",
       "      <td>2.567237e+06</td>\n",
       "      <td>9.850000e+02</td>\n",
       "      <td>1.0</td>\n",
       "    </tr>\n",
       "    <tr>\n",
       "      <th>75%</th>\n",
       "      <td>3.826450e+06</td>\n",
       "      <td>1.902000e+03</td>\n",
       "      <td>1.0</td>\n",
       "    </tr>\n",
       "    <tr>\n",
       "      <th>max</th>\n",
       "      <td>5.088035e+06</td>\n",
       "      <td>3.862000e+03</td>\n",
       "      <td>1.0</td>\n",
       "    </tr>\n",
       "  </tbody>\n",
       "</table>\n",
       "</div>"
      ],
      "text/plain": [
       "                 id  classroom_id     exists\n",
       "count  4.584013e+06  4.584013e+06  4584013.0\n",
       "mean   2.551726e+06  1.250037e+03        1.0\n",
       "std    1.469805e+06  9.544487e+02        0.0\n",
       "min    6.000000e+00  1.000000e+00        1.0\n",
       "25%    1.264436e+06  4.980000e+02        1.0\n",
       "50%    2.567237e+06  9.850000e+02        1.0\n",
       "75%    3.826450e+06  1.902000e+03        1.0\n",
       "max    5.088035e+06  3.862000e+03        1.0"
      ]
     },
     "execution_count": 13,
     "metadata": {},
     "output_type": "execute_result"
    }
   ],
   "source": [
    "posts.describe()"
   ]
  },
  {
   "cell_type": "code",
   "execution_count": 14,
   "metadata": {},
   "outputs": [],
   "source": [
    "sorted_post_date = posts.date.sort_values()"
   ]
  },
  {
   "cell_type": "code",
   "execution_count": 15,
   "metadata": {},
   "outputs": [],
   "source": [
    "# # posts.date.dtypes\n",
    "# # posts.date.apply(lambda x: not isinstance(x, pd.Timestamp))\n",
    "# sorted_post_date.iloc[-170:]\n",
    "# # posts.date.dtypes\n",
    "# posts['date'] = pd.to_datetime(posts.date, errors='coerce')\n",
    "# # len(posts.date)\n",
    "# # posts.date>'2018-12-12'"
   ]
  },
  {
   "cell_type": "code",
   "execution_count": 16,
   "metadata": {},
   "outputs": [
    {
     "name": "stdout",
     "output_type": "stream",
     "text": [
      "2020-08-24 00:00:00\n",
      "1908-10-09 00:00:00\n"
     ]
    }
   ],
   "source": [
    "print(posts.date.max())\n",
    "print(posts.date.min())"
   ]
  },
  {
   "cell_type": "code",
   "execution_count": 17,
   "metadata": {},
   "outputs": [],
   "source": [
    "# posts['exists']=1\n",
    "# posts.head(3)"
   ]
  },
  {
   "cell_type": "code",
   "execution_count": 94,
   "metadata": {
    "scrolled": true
   },
   "outputs": [
    {
     "data": {
      "image/png": "[encoded data removed]",
      "text/plain": [
       "<Figure size 432x288 with 1 Axes>"
      ]
     },
     "metadata": {},
     "output_type": "display_data"
    }
   ],
   "source": [
    "posts[['date','classroom_id','exists']].groupby(['classroom_id', 'date']).sum().plot();"
   ]
  },
  {
   "cell_type": "code",
   "execution_count": 96,
   "metadata": {},
   "outputs": [
    {
     "data": {
      "text/html": [
       "<div>\n",
       "<style scoped>\n",
       "    .dataframe tbody tr th:only-of-type {\n",
       "        vertical-align: middle;\n",
       "    }\n",
       "\n",
       "    .dataframe tbody tr th {\n",
       "        vertical-align: top;\n",
       "    }\n",
       "\n",
       "    .dataframe thead th {\n",
       "        text-align: right;\n",
       "    }\n",
       "</style>\n",
       "<table border=\"1\" class=\"dataframe\">\n",
       "  <thead>\n",
       "    <tr style=\"text-align: right;\">\n",
       "      <th></th>\n",
       "      <th></th>\n",
       "      <th>exists</th>\n",
       "    </tr>\n",
       "    <tr>\n",
       "      <th>classroom_id</th>\n",
       "      <th>date</th>\n",
       "      <th></th>\n",
       "    </tr>\n",
       "  </thead>\n",
       "  <tbody>\n",
       "    <tr>\n",
       "      <th rowspan=\"30\" valign=\"top\">1</th>\n",
       "      <th>2011-12-25</th>\n",
       "      <td>16</td>\n",
       "    </tr>\n",
       "    <tr>\n",
       "      <th>2012-01-05</th>\n",
       "      <td>25</td>\n",
       "    </tr>\n",
       "    <tr>\n",
       "      <th>2012-01-06</th>\n",
       "      <td>16</td>\n",
       "    </tr>\n",
       "    <tr>\n",
       "      <th>2012-01-12</th>\n",
       "      <td>16</td>\n",
       "    </tr>\n",
       "    <tr>\n",
       "      <th>2012-01-13</th>\n",
       "      <td>22</td>\n",
       "    </tr>\n",
       "    <tr>\n",
       "      <th>2012-01-14</th>\n",
       "      <td>9</td>\n",
       "    </tr>\n",
       "    <tr>\n",
       "      <th>2012-01-17</th>\n",
       "      <td>7</td>\n",
       "    </tr>\n",
       "    <tr>\n",
       "      <th>2012-01-25</th>\n",
       "      <td>17</td>\n",
       "    </tr>\n",
       "    <tr>\n",
       "      <th>2012-01-26</th>\n",
       "      <td>7</td>\n",
       "    </tr>\n",
       "    <tr>\n",
       "      <th>2012-01-27</th>\n",
       "      <td>43</td>\n",
       "    </tr>\n",
       "    <tr>\n",
       "      <th>2012-01-30</th>\n",
       "      <td>4</td>\n",
       "    </tr>\n",
       "    <tr>\n",
       "      <th>2012-01-31</th>\n",
       "      <td>1</td>\n",
       "    </tr>\n",
       "    <tr>\n",
       "      <th>2012-02-01</th>\n",
       "      <td>6</td>\n",
       "    </tr>\n",
       "    <tr>\n",
       "      <th>2012-02-03</th>\n",
       "      <td>4</td>\n",
       "    </tr>\n",
       "    <tr>\n",
       "      <th>2012-02-04</th>\n",
       "      <td>3</td>\n",
       "    </tr>\n",
       "    <tr>\n",
       "      <th>2012-02-06</th>\n",
       "      <td>33</td>\n",
       "    </tr>\n",
       "    <tr>\n",
       "      <th>2012-02-07</th>\n",
       "      <td>10</td>\n",
       "    </tr>\n",
       "    <tr>\n",
       "      <th>2012-02-08</th>\n",
       "      <td>5</td>\n",
       "    </tr>\n",
       "    <tr>\n",
       "      <th>2012-02-09</th>\n",
       "      <td>42</td>\n",
       "    </tr>\n",
       "    <tr>\n",
       "      <th>2012-02-10</th>\n",
       "      <td>7</td>\n",
       "    </tr>\n",
       "    <tr>\n",
       "      <th>2012-02-11</th>\n",
       "      <td>3</td>\n",
       "    </tr>\n",
       "    <tr>\n",
       "      <th>2012-02-13</th>\n",
       "      <td>9</td>\n",
       "    </tr>\n",
       "    <tr>\n",
       "      <th>2012-02-14</th>\n",
       "      <td>12</td>\n",
       "    </tr>\n",
       "    <tr>\n",
       "      <th>2012-02-15</th>\n",
       "      <td>10</td>\n",
       "    </tr>\n",
       "    <tr>\n",
       "      <th>2012-02-16</th>\n",
       "      <td>13</td>\n",
       "    </tr>\n",
       "    <tr>\n",
       "      <th>2012-02-17</th>\n",
       "      <td>2</td>\n",
       "    </tr>\n",
       "    <tr>\n",
       "      <th>2012-02-21</th>\n",
       "      <td>8</td>\n",
       "    </tr>\n",
       "    <tr>\n",
       "      <th>2012-02-22</th>\n",
       "      <td>19</td>\n",
       "    </tr>\n",
       "    <tr>\n",
       "      <th>2012-02-23</th>\n",
       "      <td>3</td>\n",
       "    </tr>\n",
       "    <tr>\n",
       "      <th>2012-02-24</th>\n",
       "      <td>13</td>\n",
       "    </tr>\n",
       "    <tr>\n",
       "      <th>...</th>\n",
       "      <th>...</th>\n",
       "      <td>...</td>\n",
       "    </tr>\n",
       "    <tr>\n",
       "      <th rowspan=\"8\" valign=\"top\">3836</th>\n",
       "      <th>2018-02-20</th>\n",
       "      <td>3</td>\n",
       "    </tr>\n",
       "    <tr>\n",
       "      <th>2018-02-22</th>\n",
       "      <td>1</td>\n",
       "    </tr>\n",
       "    <tr>\n",
       "      <th>2018-02-28</th>\n",
       "      <td>1</td>\n",
       "    </tr>\n",
       "    <tr>\n",
       "      <th>2018-03-08</th>\n",
       "      <td>1</td>\n",
       "    </tr>\n",
       "    <tr>\n",
       "      <th>2018-03-09</th>\n",
       "      <td>2</td>\n",
       "    </tr>\n",
       "    <tr>\n",
       "      <th>2018-03-12</th>\n",
       "      <td>4</td>\n",
       "    </tr>\n",
       "    <tr>\n",
       "      <th>2018-03-13</th>\n",
       "      <td>1</td>\n",
       "    </tr>\n",
       "    <tr>\n",
       "      <th>2018-03-16</th>\n",
       "      <td>39</td>\n",
       "    </tr>\n",
       "    <tr>\n",
       "      <th>3837</th>\n",
       "      <th>2018-03-13</th>\n",
       "      <td>5</td>\n",
       "    </tr>\n",
       "    <tr>\n",
       "      <th rowspan=\"4\" valign=\"top\">3838</th>\n",
       "      <th>2018-03-13</th>\n",
       "      <td>85</td>\n",
       "    </tr>\n",
       "    <tr>\n",
       "      <th>2018-03-14</th>\n",
       "      <td>79</td>\n",
       "    </tr>\n",
       "    <tr>\n",
       "      <th>2018-03-16</th>\n",
       "      <td>66</td>\n",
       "    </tr>\n",
       "    <tr>\n",
       "      <th>2018-03-17</th>\n",
       "      <td>69</td>\n",
       "    </tr>\n",
       "    <tr>\n",
       "      <th>3840</th>\n",
       "      <th>2018-03-12</th>\n",
       "      <td>23</td>\n",
       "    </tr>\n",
       "    <tr>\n",
       "      <th rowspan=\"9\" valign=\"top\">3843</th>\n",
       "      <th>2017-11-21</th>\n",
       "      <td>9</td>\n",
       "    </tr>\n",
       "    <tr>\n",
       "      <th>2017-11-28</th>\n",
       "      <td>6</td>\n",
       "    </tr>\n",
       "    <tr>\n",
       "      <th>2017-11-29</th>\n",
       "      <td>3</td>\n",
       "    </tr>\n",
       "    <tr>\n",
       "      <th>2018-01-26</th>\n",
       "      <td>5</td>\n",
       "    </tr>\n",
       "    <tr>\n",
       "      <th>2018-02-15</th>\n",
       "      <td>3</td>\n",
       "    </tr>\n",
       "    <tr>\n",
       "      <th>2018-02-16</th>\n",
       "      <td>12</td>\n",
       "    </tr>\n",
       "    <tr>\n",
       "      <th>2018-03-13</th>\n",
       "      <td>222</td>\n",
       "    </tr>\n",
       "    <tr>\n",
       "      <th>2018-03-14</th>\n",
       "      <td>146</td>\n",
       "    </tr>\n",
       "    <tr>\n",
       "      <th>2018-03-15</th>\n",
       "      <td>66</td>\n",
       "    </tr>\n",
       "    <tr>\n",
       "      <th rowspan=\"2\" valign=\"top\">3849</th>\n",
       "      <th>2018-03-15</th>\n",
       "      <td>28</td>\n",
       "    </tr>\n",
       "    <tr>\n",
       "      <th>2018-03-16</th>\n",
       "      <td>23</td>\n",
       "    </tr>\n",
       "    <tr>\n",
       "      <th rowspan=\"2\" valign=\"top\">3859</th>\n",
       "      <th>2018-03-15</th>\n",
       "      <td>5</td>\n",
       "    </tr>\n",
       "    <tr>\n",
       "      <th>2018-03-16</th>\n",
       "      <td>1</td>\n",
       "    </tr>\n",
       "    <tr>\n",
       "      <th rowspan=\"2\" valign=\"top\">3860</th>\n",
       "      <th>2018-03-15</th>\n",
       "      <td>16</td>\n",
       "    </tr>\n",
       "    <tr>\n",
       "      <th>2018-03-16</th>\n",
       "      <td>2</td>\n",
       "    </tr>\n",
       "    <tr>\n",
       "      <th>3862</th>\n",
       "      <th>2018-03-15</th>\n",
       "      <td>1</td>\n",
       "    </tr>\n",
       "  </tbody>\n",
       "</table>\n",
       "<p>203159 rows × 1 columns</p>\n",
       "</div>"
      ],
      "text/plain": [
       "                         exists\n",
       "classroom_id date              \n",
       "1            2011-12-25      16\n",
       "             2012-01-05      25\n",
       "             2012-01-06      16\n",
       "             2012-01-12      16\n",
       "             2012-01-13      22\n",
       "             2012-01-14       9\n",
       "             2012-01-17       7\n",
       "             2012-01-25      17\n",
       "             2012-01-26       7\n",
       "             2012-01-27      43\n",
       "             2012-01-30       4\n",
       "             2012-01-31       1\n",
       "             2012-02-01       6\n",
       "             2012-02-03       4\n",
       "             2012-02-04       3\n",
       "             2012-02-06      33\n",
       "             2012-02-07      10\n",
       "             2012-02-08       5\n",
       "             2012-02-09      42\n",
       "             2012-02-10       7\n",
       "             2012-02-11       3\n",
       "             2012-02-13       9\n",
       "             2012-02-14      12\n",
       "             2012-02-15      10\n",
       "             2012-02-16      13\n",
       "             2012-02-17       2\n",
       "             2012-02-21       8\n",
       "             2012-02-22      19\n",
       "             2012-02-23       3\n",
       "             2012-02-24      13\n",
       "...                         ...\n",
       "3836         2018-02-20       3\n",
       "             2018-02-22       1\n",
       "             2018-02-28       1\n",
       "             2018-03-08       1\n",
       "             2018-03-09       2\n",
       "             2018-03-12       4\n",
       "             2018-03-13       1\n",
       "             2018-03-16      39\n",
       "3837         2018-03-13       5\n",
       "3838         2018-03-13      85\n",
       "             2018-03-14      79\n",
       "             2018-03-16      66\n",
       "             2018-03-17      69\n",
       "3840         2018-03-12      23\n",
       "3843         2017-11-21       9\n",
       "             2017-11-28       6\n",
       "             2017-11-29       3\n",
       "             2018-01-26       5\n",
       "             2018-02-15       3\n",
       "             2018-02-16      12\n",
       "             2018-03-13     222\n",
       "             2018-03-14     146\n",
       "             2018-03-15      66\n",
       "3849         2018-03-15      28\n",
       "             2018-03-16      23\n",
       "3859         2018-03-15       5\n",
       "             2018-03-16       1\n",
       "3860         2018-03-15      16\n",
       "             2018-03-16       2\n",
       "3862         2018-03-15       1\n",
       "\n",
       "[203159 rows x 1 columns]"
      ]
     },
     "execution_count": 96,
     "metadata": {},
     "output_type": "execute_result"
    }
   ],
   "source": [
    "posts[['date','classroom_id','exists']].groupby(['classroom_id', 'date']).sum()"
   ]
  },
  {
   "cell_type": "code",
   "execution_count": 95,
   "metadata": {},
   "outputs": [],
   "source": [
    "sum_post = posts[['date','classroom_id','exists']].groupby(['classroom_id', 'date']).sum()\n",
    "sum_post['exists'] = np.log(sum_post['exists'])\n",
    "sum_post = sum_post.reset_index()\n",
    "sum_post_date_indexed = sum_post.copy()\n",
    "sum_post_date_indexed.set_index('date',inplace=True)\n",
    "# plt.plot(sum_post[sum_post['classroom_id']==1])\n",
    "# plt.scatter(sum_post[sum_post['classroom_id']==1][date], sum_post[sum_post['classroom_id']==1]['exists'])"
   ]
  },
  {
   "cell_type": "code",
   "execution_count": null,
   "metadata": {},
   "outputs": [],
   "source": [
    "sum_post[sum_post['classroom_id']==3]"
   ]
  },
  {
   "cell_type": "code",
   "execution_count": null,
   "metadata": {},
   "outputs": [],
   "source": [
    "sum_post['classroom_id'].value_counts()[60:61]\n",
    "sum_post.head()"
   ]
  },
  {
   "cell_type": "code",
   "execution_count": null,
   "metadata": {},
   "outputs": [],
   "source": [
    "# plt.plot(sum_post[sum_post['classroom_id']==1]);\n",
    "np.exp(5)"
   ]
  },
  {
   "cell_type": "code",
   "execution_count": null,
   "metadata": {
    "scrolled": true
   },
   "outputs": [],
   "source": [
    "fig, ax = plt.subplots(2,1, figsize=(20,3))\n",
    "ax[0].scatter(sum_post[sum_post['classroom_id']==77]['date'].values,sum_post[sum_post['classroom_id']==77]['exists'])\n",
    "ax[1].plot(sum_post[sum_post['classroom_id']==77]['date'],sum_post[sum_post['classroom_id']==77]['exists']);\n",
    "ax[0].set_title(\"Class 77 log(posts)\")"
   ]
  },
  {
   "cell_type": "code",
   "execution_count": null,
   "metadata": {},
   "outputs": [],
   "source": [
    "fig, ax = plt.subplots(2,1, figsize=(20,3))\n",
    "ax[0].scatter(sum_post[sum_post['classroom_id']==852]['date'].values,sum_post[sum_post['classroom_id']==852]['exists'])\n",
    "ax[1].plot(sum_post[sum_post['classroom_id']==852]['date'],sum_post[sum_post['classroom_id']==852]['exists']);\n",
    "ax[0].set_title(\"Class 852 log(posts)\")"
   ]
  },
  {
   "cell_type": "code",
   "execution_count": null,
   "metadata": {
    "scrolled": false
   },
   "outputs": [],
   "source": [
    "for classroom_id in sum_post['classroom_id'].unique()[0:30]:\n",
    "    fig, ax = plt.subplots(2,1, figsize=(20,3))\n",
    "    ax[0].scatter(sum_post[sum_post['classroom_id']==classroom_id]['date'].values,sum_post[sum_post['classroom_id']==classroom_id]['exists'], s=6)\n",
    "    ax[1].plot(sum_post[sum_post['classroom_id']==classroom_id]['date'],sum_post[sum_post['classroom_id']==classroom_id]['exists']);\n",
    "    ax[0].set_title(f\"Class {classroom_id} log(posts)\")\n",
    "    plt.show()"
   ]
  },
  {
   "cell_type": "markdown",
   "metadata": {
    "heading_collapsed": true
   },
   "source": [
    "## Peek at all data:"
   ]
  },
  {
   "cell_type": "code",
   "execution_count": null,
   "metadata": {
    "hidden": true
   },
   "outputs": [],
   "source": [
    "posts.head()"
   ]
  },
  {
   "cell_type": "code",
   "execution_count": null,
   "metadata": {
    "hidden": true
   },
   "outputs": [],
   "source": [
    "planning_events.head(3)"
   ]
  },
  {
   "cell_type": "code",
   "execution_count": null,
   "metadata": {
    "hidden": true
   },
   "outputs": [],
   "source": [
    "classrooms.head(10)"
   ]
  },
  {
   "cell_type": "code",
   "execution_count": null,
   "metadata": {
    "hidden": true,
    "scrolled": true
   },
   "outputs": [],
   "source": [
    "teachers.head(10)"
   ]
  },
  {
   "cell_type": "code",
   "execution_count": null,
   "metadata": {
    "hidden": true,
    "scrolled": false
   },
   "outputs": [],
   "source": [
    "students.head()"
   ]
  },
  {
   "cell_type": "code",
   "execution_count": null,
   "metadata": {
    "hidden": true
   },
   "outputs": [],
   "source": [
    "schools.head(5)"
   ]
  },
  {
   "cell_type": "code",
   "execution_count": null,
   "metadata": {
    "hidden": true
   },
   "outputs": [],
   "source": [
    "lesson_posts.head(3)"
   ]
  },
  {
   "cell_type": "code",
   "execution_count": null,
   "metadata": {
    "hidden": true
   },
   "outputs": [],
   "source": [
    "plt.hist(lesson_posts.groupby('lesson_id').count()['post_id'], bins=30);"
   ]
  },
  {
   "cell_type": "code",
   "execution_count": null,
   "metadata": {
    "hidden": true
   },
   "outputs": [],
   "source": [
    "lesson_posts.groupby('lesson_id').count()['post_id'].describe()"
   ]
  },
  {
   "cell_type": "code",
   "execution_count": null,
   "metadata": {
    "hidden": true
   },
   "outputs": [],
   "source": [
    "plt.hist(lesson_posts.groupby('post_id').count()['lesson_id'], bins=30);"
   ]
  },
  {
   "cell_type": "code",
   "execution_count": null,
   "metadata": {
    "hidden": true
   },
   "outputs": [],
   "source": [
    "child_posts.head(3)"
   ]
  },
  {
   "cell_type": "markdown",
   "metadata": {},
   "source": [
    "## Combine data into one dataframe for analysis:"
   ]
  },
  {
   "cell_type": "code",
   "execution_count": 102,
   "metadata": {},
   "outputs": [],
   "source": [
    "posts = pd.read_csv('../data/posts.csv')\n",
    "posts['exists']=1\n",
    "posts['date'] = pd.to_datetime(posts.date, errors='coerce')"
   ]
  },
  {
   "cell_type": "code",
   "execution_count": 103,
   "metadata": {},
   "outputs": [
    {
     "name": "stdout",
     "output_type": "stream",
     "text": [
      "4584013\n"
     ]
    },
    {
     "data": {
      "text/html": [
       "<div>\n",
       "<style scoped>\n",
       "    .dataframe tbody tr th:only-of-type {\n",
       "        vertical-align: middle;\n",
       "    }\n",
       "\n",
       "    .dataframe tbody tr th {\n",
       "        vertical-align: top;\n",
       "    }\n",
       "\n",
       "    .dataframe thead th {\n",
       "        text-align: right;\n",
       "    }\n",
       "</style>\n",
       "<table border=\"1\" class=\"dataframe\">\n",
       "  <thead>\n",
       "    <tr style=\"text-align: right;\">\n",
       "      <th></th>\n",
       "      <th>id</th>\n",
       "      <th>date</th>\n",
       "      <th>classroom_id</th>\n",
       "      <th>picture_file_name</th>\n",
       "      <th>private</th>\n",
       "      <th>exists</th>\n",
       "    </tr>\n",
       "  </thead>\n",
       "  <tbody>\n",
       "    <tr>\n",
       "      <th>0</th>\n",
       "      <td>4319418</td>\n",
       "      <td>2018-01-25</td>\n",
       "      <td>1684</td>\n",
       "      <td>NaN</td>\n",
       "      <td>f</td>\n",
       "      <td>1</td>\n",
       "    </tr>\n",
       "    <tr>\n",
       "      <th>1</th>\n",
       "      <td>4319419</td>\n",
       "      <td>2018-01-25</td>\n",
       "      <td>1684</td>\n",
       "      <td>NaN</td>\n",
       "      <td>f</td>\n",
       "      <td>1</td>\n",
       "    </tr>\n",
       "    <tr>\n",
       "      <th>2</th>\n",
       "      <td>4319420</td>\n",
       "      <td>2018-01-25</td>\n",
       "      <td>1684</td>\n",
       "      <td>NaN</td>\n",
       "      <td>f</td>\n",
       "      <td>1</td>\n",
       "    </tr>\n",
       "    <tr>\n",
       "      <th>3</th>\n",
       "      <td>4319421</td>\n",
       "      <td>2018-01-25</td>\n",
       "      <td>1684</td>\n",
       "      <td>NaN</td>\n",
       "      <td>f</td>\n",
       "      <td>1</td>\n",
       "    </tr>\n",
       "    <tr>\n",
       "      <th>4</th>\n",
       "      <td>4319422</td>\n",
       "      <td>2018-01-25</td>\n",
       "      <td>1684</td>\n",
       "      <td>NaN</td>\n",
       "      <td>f</td>\n",
       "      <td>1</td>\n",
       "    </tr>\n",
       "  </tbody>\n",
       "</table>\n",
       "</div>"
      ],
      "text/plain": [
       "        id       date  classroom_id picture_file_name private  exists\n",
       "0  4319418 2018-01-25          1684               NaN       f       1\n",
       "1  4319419 2018-01-25          1684               NaN       f       1\n",
       "2  4319420 2018-01-25          1684               NaN       f       1\n",
       "3  4319421 2018-01-25          1684               NaN       f       1\n",
       "4  4319422 2018-01-25          1684               NaN       f       1"
      ]
     },
     "execution_count": 103,
     "metadata": {},
     "output_type": "execute_result"
    }
   ],
   "source": [
    "print(len(posts))\n",
    "posts.head()"
   ]
  },
  {
   "cell_type": "code",
   "execution_count": 104,
   "metadata": {
    "scrolled": true
   },
   "outputs": [
    {
     "name": "stdout",
     "output_type": "stream",
     "text": [
      "4585066\n"
     ]
    },
    {
     "data": {
      "text/html": [
       "<div>\n",
       "<style scoped>\n",
       "    .dataframe tbody tr th:only-of-type {\n",
       "        vertical-align: middle;\n",
       "    }\n",
       "\n",
       "    .dataframe tbody tr th {\n",
       "        vertical-align: top;\n",
       "    }\n",
       "\n",
       "    .dataframe thead th {\n",
       "        text-align: right;\n",
       "    }\n",
       "</style>\n",
       "<table border=\"1\" class=\"dataframe\">\n",
       "  <thead>\n",
       "    <tr style=\"text-align: right;\">\n",
       "      <th></th>\n",
       "      <th>school_id</th>\n",
       "      <th>lesson_set_id</th>\n",
       "      <th>inactive</th>\n",
       "      <th>classroom_type</th>\n",
       "      <th>date</th>\n",
       "      <th>classroom_id</th>\n",
       "      <th>picture_file_name</th>\n",
       "      <th>private</th>\n",
       "      <th>exists</th>\n",
       "      <th>post_id</th>\n",
       "    </tr>\n",
       "  </thead>\n",
       "  <tbody>\n",
       "    <tr>\n",
       "      <th>0</th>\n",
       "      <td>855</td>\n",
       "      <td>1281</td>\n",
       "      <td>f</td>\n",
       "      <td>Primary</td>\n",
       "      <td>NaT</td>\n",
       "      <td>2650</td>\n",
       "      <td>NaN</td>\n",
       "      <td>NaN</td>\n",
       "      <td>NaN</td>\n",
       "      <td>NaN</td>\n",
       "    </tr>\n",
       "    <tr>\n",
       "      <th>1</th>\n",
       "      <td>48</td>\n",
       "      <td>126</td>\n",
       "      <td>t</td>\n",
       "      <td>Primary</td>\n",
       "      <td>2015-09-16</td>\n",
       "      <td>174</td>\n",
       "      <td>NaN</td>\n",
       "      <td>f</td>\n",
       "      <td>1.0</td>\n",
       "      <td>89168.0</td>\n",
       "    </tr>\n",
       "    <tr>\n",
       "      <th>2</th>\n",
       "      <td>48</td>\n",
       "      <td>126</td>\n",
       "      <td>t</td>\n",
       "      <td>Primary</td>\n",
       "      <td>2015-10-08</td>\n",
       "      <td>174</td>\n",
       "      <td>NaN</td>\n",
       "      <td>f</td>\n",
       "      <td>1.0</td>\n",
       "      <td>118933.0</td>\n",
       "    </tr>\n",
       "  </tbody>\n",
       "</table>\n",
       "</div>"
      ],
      "text/plain": [
       "   school_id  lesson_set_id inactive classroom_type       date  classroom_id  \\\n",
       "0        855           1281        f        Primary        NaT          2650   \n",
       "1         48            126        t        Primary 2015-09-16           174   \n",
       "2         48            126        t        Primary 2015-10-08           174   \n",
       "\n",
       "  picture_file_name private  exists   post_id  \n",
       "0               NaN     NaN     NaN       NaN  \n",
       "1               NaN       f     1.0   89168.0  \n",
       "2               NaN       f     1.0  118933.0  "
      ]
     },
     "execution_count": 104,
     "metadata": {},
     "output_type": "execute_result"
    }
   ],
   "source": [
    "classrooms_merged = classrooms.merge(posts,how='outer', left_on='id', right_on='classroom_id')\n",
    "classrooms_merged['classroom_id']=classrooms_merged['id_x']\n",
    "classrooms_merged = classrooms_merged.drop('id_x', axis=1)\n",
    "classrooms_merged['post_id']=classrooms_merged['id_y']\n",
    "classrooms_merged = classrooms_merged.drop('id_y', axis=1)\n",
    "print(len(classrooms_merged))\n",
    "classrooms_merged.head(3)"
   ]
  },
  {
   "cell_type": "code",
   "execution_count": 105,
   "metadata": {},
   "outputs": [
    {
     "data": {
      "text/html": [
       "<div>\n",
       "<style scoped>\n",
       "    .dataframe tbody tr th:only-of-type {\n",
       "        vertical-align: middle;\n",
       "    }\n",
       "\n",
       "    .dataframe tbody tr th {\n",
       "        vertical-align: top;\n",
       "    }\n",
       "\n",
       "    .dataframe thead th {\n",
       "        text-align: right;\n",
       "    }\n",
       "</style>\n",
       "<table border=\"1\" class=\"dataframe\">\n",
       "  <thead>\n",
       "    <tr style=\"text-align: right;\">\n",
       "      <th></th>\n",
       "      <th>post_id</th>\n",
       "      <th>children_per_post_aka_post_blast</th>\n",
       "    </tr>\n",
       "  </thead>\n",
       "  <tbody>\n",
       "    <tr>\n",
       "      <th>0</th>\n",
       "      <td>6</td>\n",
       "      <td>2</td>\n",
       "    </tr>\n",
       "    <tr>\n",
       "      <th>1</th>\n",
       "      <td>7</td>\n",
       "      <td>1</td>\n",
       "    </tr>\n",
       "    <tr>\n",
       "      <th>2</th>\n",
       "      <td>10</td>\n",
       "      <td>1</td>\n",
       "    </tr>\n",
       "  </tbody>\n",
       "</table>\n",
       "</div>"
      ],
      "text/plain": [
       "   post_id  children_per_post_aka_post_blast\n",
       "0        6                                 2\n",
       "1        7                                 1\n",
       "2       10                                 1"
      ]
     },
     "execution_count": 105,
     "metadata": {},
     "output_type": "execute_result"
    }
   ],
   "source": [
    "children_per_post = child_posts.groupby('post_id').count()\n",
    "children_per_post.describe()\n",
    "children_per_post = children_per_post.reset_index()\n",
    "children_per_post['children_per_post_aka_post_blast'] = children_per_post['child_id']\n",
    "children_per_post = children_per_post.drop('child_id', axis=1)\n",
    "children_per_post.head(3)"
   ]
  },
  {
   "cell_type": "code",
   "execution_count": 106,
   "metadata": {},
   "outputs": [
    {
     "name": "stdout",
     "output_type": "stream",
     "text": [
      "4585066\n"
     ]
    },
    {
     "data": {
      "text/html": [
       "<div>\n",
       "<style scoped>\n",
       "    .dataframe tbody tr th:only-of-type {\n",
       "        vertical-align: middle;\n",
       "    }\n",
       "\n",
       "    .dataframe tbody tr th {\n",
       "        vertical-align: top;\n",
       "    }\n",
       "\n",
       "    .dataframe thead th {\n",
       "        text-align: right;\n",
       "    }\n",
       "</style>\n",
       "<table border=\"1\" class=\"dataframe\">\n",
       "  <thead>\n",
       "    <tr style=\"text-align: right;\">\n",
       "      <th></th>\n",
       "      <th>school_id</th>\n",
       "      <th>lesson_set_id</th>\n",
       "      <th>inactive</th>\n",
       "      <th>classroom_type</th>\n",
       "      <th>date</th>\n",
       "      <th>classroom_id</th>\n",
       "      <th>picture_file_name</th>\n",
       "      <th>private</th>\n",
       "      <th>exists</th>\n",
       "      <th>post_id</th>\n",
       "      <th>children_per_post_aka_post_blast</th>\n",
       "    </tr>\n",
       "  </thead>\n",
       "  <tbody>\n",
       "    <tr>\n",
       "      <th>0</th>\n",
       "      <td>855</td>\n",
       "      <td>1281</td>\n",
       "      <td>f</td>\n",
       "      <td>Primary</td>\n",
       "      <td>NaT</td>\n",
       "      <td>2650</td>\n",
       "      <td>NaN</td>\n",
       "      <td>NaN</td>\n",
       "      <td>NaN</td>\n",
       "      <td>NaN</td>\n",
       "      <td>NaN</td>\n",
       "    </tr>\n",
       "    <tr>\n",
       "      <th>1</th>\n",
       "      <td>48</td>\n",
       "      <td>126</td>\n",
       "      <td>t</td>\n",
       "      <td>Primary</td>\n",
       "      <td>2015-09-16</td>\n",
       "      <td>174</td>\n",
       "      <td>NaN</td>\n",
       "      <td>f</td>\n",
       "      <td>1.0</td>\n",
       "      <td>89168</td>\n",
       "      <td>NaN</td>\n",
       "    </tr>\n",
       "    <tr>\n",
       "      <th>2</th>\n",
       "      <td>48</td>\n",
       "      <td>126</td>\n",
       "      <td>t</td>\n",
       "      <td>Primary</td>\n",
       "      <td>2015-10-08</td>\n",
       "      <td>174</td>\n",
       "      <td>NaN</td>\n",
       "      <td>f</td>\n",
       "      <td>1.0</td>\n",
       "      <td>118933</td>\n",
       "      <td>2.0</td>\n",
       "    </tr>\n",
       "  </tbody>\n",
       "</table>\n",
       "</div>"
      ],
      "text/plain": [
       "   school_id  lesson_set_id inactive classroom_type       date  classroom_id  \\\n",
       "0        855           1281        f        Primary        NaT          2650   \n",
       "1         48            126        t        Primary 2015-09-16           174   \n",
       "2         48            126        t        Primary 2015-10-08           174   \n",
       "\n",
       "  picture_file_name private  exists post_id  children_per_post_aka_post_blast  \n",
       "0               NaN     NaN     NaN     NaN                               NaN  \n",
       "1               NaN       f     1.0   89168                               NaN  \n",
       "2               NaN       f     1.0  118933                               2.0  "
      ]
     },
     "execution_count": 106,
     "metadata": {},
     "output_type": "execute_result"
    }
   ],
   "source": [
    "classrooms_merged = classrooms_merged.merge(children_per_post, how='left', left_on='post_id', right_on='post_id')\n",
    "print(len(classrooms_merged))\n",
    "classrooms_merged.head(3)"
   ]
  },
  {
   "cell_type": "code",
   "execution_count": 108,
   "metadata": {
    "scrolled": true
   },
   "outputs": [
    {
     "data": {
      "text/html": [
       "<div>\n",
       "<style scoped>\n",
       "    .dataframe tbody tr th:only-of-type {\n",
       "        vertical-align: middle;\n",
       "    }\n",
       "\n",
       "    .dataframe tbody tr th {\n",
       "        vertical-align: top;\n",
       "    }\n",
       "\n",
       "    .dataframe thead th {\n",
       "        text-align: right;\n",
       "    }\n",
       "</style>\n",
       "<table border=\"1\" class=\"dataframe\">\n",
       "  <thead>\n",
       "    <tr style=\"text-align: right;\">\n",
       "      <th></th>\n",
       "      <th>post_id</th>\n",
       "    </tr>\n",
       "    <tr>\n",
       "      <th>child_id</th>\n",
       "      <th></th>\n",
       "    </tr>\n",
       "  </thead>\n",
       "  <tbody>\n",
       "    <tr>\n",
       "      <th>1</th>\n",
       "      <td>172</td>\n",
       "    </tr>\n",
       "    <tr>\n",
       "      <th>2</th>\n",
       "      <td>132</td>\n",
       "    </tr>\n",
       "    <tr>\n",
       "      <th>4</th>\n",
       "      <td>899</td>\n",
       "    </tr>\n",
       "  </tbody>\n",
       "</table>\n",
       "</div>"
      ],
      "text/plain": [
       "          post_id\n",
       "child_id         \n",
       "1             172\n",
       "2             132\n",
       "4             899"
      ]
     },
     "execution_count": 108,
     "metadata": {},
     "output_type": "execute_result"
    }
   ],
   "source": [
    "# not adding\n",
    "posts_per_child = child_posts.groupby('child_id').count()\n",
    "posts_per_child.describe()\n",
    "posts_per_child.head(3)"
   ]
  },
  {
   "cell_type": "code",
   "execution_count": 109,
   "metadata": {},
   "outputs": [
    {
     "name": "stdout",
     "output_type": "stream",
     "text": [
      "376224\n"
     ]
    },
    {
     "data": {
      "text/html": [
       "<div>\n",
       "<style scoped>\n",
       "    .dataframe tbody tr th:only-of-type {\n",
       "        vertical-align: middle;\n",
       "    }\n",
       "\n",
       "    .dataframe tbody tr th {\n",
       "        vertical-align: top;\n",
       "    }\n",
       "\n",
       "    .dataframe thead th {\n",
       "        text-align: right;\n",
       "    }\n",
       "</style>\n",
       "<table border=\"1\" class=\"dataframe\">\n",
       "  <thead>\n",
       "    <tr style=\"text-align: right;\">\n",
       "      <th></th>\n",
       "      <th>lesson_id</th>\n",
       "      <th>post_per_lesson_aka_popularity</th>\n",
       "    </tr>\n",
       "  </thead>\n",
       "  <tbody>\n",
       "    <tr>\n",
       "      <th>0</th>\n",
       "      <td>1</td>\n",
       "      <td>172</td>\n",
       "    </tr>\n",
       "    <tr>\n",
       "      <th>1</th>\n",
       "      <td>2</td>\n",
       "      <td>132</td>\n",
       "    </tr>\n",
       "    <tr>\n",
       "      <th>2</th>\n",
       "      <td>4</td>\n",
       "      <td>899</td>\n",
       "    </tr>\n",
       "  </tbody>\n",
       "</table>\n",
       "</div>"
      ],
      "text/plain": [
       "   lesson_id  post_per_lesson_aka_popularity\n",
       "0          1                             172\n",
       "1          2                             132\n",
       "2          4                             899"
      ]
     },
     "execution_count": 109,
     "metadata": {},
     "output_type": "execute_result"
    }
   ],
   "source": [
    "posts_per_lesson = lesson_posts.groupby('lesson_id').count()\n",
    "posts_per_lesson\n",
    "print(len(posts_per_lesson))\n",
    "posts_per_lesson = posts_per_lesson.reset_index()\n",
    "posts_per_lesson['post_per_lesson_aka_popularity'] = posts_per_lesson['post_id']\n",
    "posts_per_lesson = posts_per_lesson.drop('post_id', axis=1)\n",
    "posts_per_lesson.head(3)\n"
   ]
  },
  {
   "cell_type": "code",
   "execution_count": 110,
   "metadata": {},
   "outputs": [
    {
     "name": "stdout",
     "output_type": "stream",
     "text": [
      "4585066\n"
     ]
    },
    {
     "data": {
      "text/html": [
       "<div>\n",
       "<style scoped>\n",
       "    .dataframe tbody tr th:only-of-type {\n",
       "        vertical-align: middle;\n",
       "    }\n",
       "\n",
       "    .dataframe tbody tr th {\n",
       "        vertical-align: top;\n",
       "    }\n",
       "\n",
       "    .dataframe thead th {\n",
       "        text-align: right;\n",
       "    }\n",
       "</style>\n",
       "<table border=\"1\" class=\"dataframe\">\n",
       "  <thead>\n",
       "    <tr style=\"text-align: right;\">\n",
       "      <th></th>\n",
       "      <th>school_id</th>\n",
       "      <th>lesson_set_id</th>\n",
       "      <th>inactive</th>\n",
       "      <th>classroom_type</th>\n",
       "      <th>date</th>\n",
       "      <th>classroom_id</th>\n",
       "      <th>picture_file_name</th>\n",
       "      <th>private</th>\n",
       "      <th>exists</th>\n",
       "      <th>post_id</th>\n",
       "      <th>children_per_post_aka_post_blast</th>\n",
       "      <th>lesson_id</th>\n",
       "      <th>post_per_lesson_aka_popularity</th>\n",
       "    </tr>\n",
       "  </thead>\n",
       "  <tbody>\n",
       "    <tr>\n",
       "      <th>0</th>\n",
       "      <td>855</td>\n",
       "      <td>1281</td>\n",
       "      <td>f</td>\n",
       "      <td>Primary</td>\n",
       "      <td>NaT</td>\n",
       "      <td>2650</td>\n",
       "      <td>NaN</td>\n",
       "      <td>NaN</td>\n",
       "      <td>NaN</td>\n",
       "      <td>NaN</td>\n",
       "      <td>NaN</td>\n",
       "      <td>1281.0</td>\n",
       "      <td>18.0</td>\n",
       "    </tr>\n",
       "    <tr>\n",
       "      <th>1</th>\n",
       "      <td>48</td>\n",
       "      <td>126</td>\n",
       "      <td>t</td>\n",
       "      <td>Primary</td>\n",
       "      <td>2015-09-16</td>\n",
       "      <td>174</td>\n",
       "      <td>NaN</td>\n",
       "      <td>f</td>\n",
       "      <td>1.0</td>\n",
       "      <td>89168</td>\n",
       "      <td>NaN</td>\n",
       "      <td>126.0</td>\n",
       "      <td>78.0</td>\n",
       "    </tr>\n",
       "    <tr>\n",
       "      <th>2</th>\n",
       "      <td>48</td>\n",
       "      <td>126</td>\n",
       "      <td>t</td>\n",
       "      <td>Primary</td>\n",
       "      <td>2015-10-08</td>\n",
       "      <td>174</td>\n",
       "      <td>NaN</td>\n",
       "      <td>f</td>\n",
       "      <td>1.0</td>\n",
       "      <td>118933</td>\n",
       "      <td>2.0</td>\n",
       "      <td>126.0</td>\n",
       "      <td>78.0</td>\n",
       "    </tr>\n",
       "  </tbody>\n",
       "</table>\n",
       "</div>"
      ],
      "text/plain": [
       "   school_id  lesson_set_id inactive classroom_type       date  classroom_id  \\\n",
       "0        855           1281        f        Primary        NaT          2650   \n",
       "1         48            126        t        Primary 2015-09-16           174   \n",
       "2         48            126        t        Primary 2015-10-08           174   \n",
       "\n",
       "  picture_file_name private  exists post_id  children_per_post_aka_post_blast  \\\n",
       "0               NaN     NaN     NaN     NaN                               NaN   \n",
       "1               NaN       f     1.0   89168                               NaN   \n",
       "2               NaN       f     1.0  118933                               2.0   \n",
       "\n",
       "   lesson_id  post_per_lesson_aka_popularity  \n",
       "0     1281.0                            18.0  \n",
       "1      126.0                            78.0  \n",
       "2      126.0                            78.0  "
      ]
     },
     "execution_count": 110,
     "metadata": {},
     "output_type": "execute_result"
    }
   ],
   "source": [
    "classrooms_merged = classrooms_merged.merge(posts_per_lesson, how='left', left_on='lesson_set_id', right_on='lesson_id')\n",
    "print(len(classrooms_merged))\n",
    "classrooms_merged.head(3)"
   ]
  },
  {
   "cell_type": "code",
   "execution_count": null,
   "metadata": {},
   "outputs": [],
   "source": []
  },
  {
   "cell_type": "code",
   "execution_count": null,
   "metadata": {},
   "outputs": [],
   "source": []
  },
  {
   "cell_type": "markdown",
   "metadata": {
    "heading_collapsed": true
   },
   "source": [
    "### NOT MERGED:"
   ]
  },
  {
   "cell_type": "code",
   "execution_count": null,
   "metadata": {
    "hidden": true
   },
   "outputs": [],
   "source": [
    "posts_merge=posts_merge.merge(lesson_posts, how='left', left_on='id_x', right_on='post_id')\n",
    "print(len(posts_merge))\n",
    "posts_merge.head(3)"
   ]
  },
  {
   "cell_type": "code",
   "execution_count": null,
   "metadata": {
    "hidden": true
   },
   "outputs": [],
   "source": [
    "len(posts_merge)\n",
    "# posts_merge.head(10)"
   ]
  },
  {
   "cell_type": "code",
   "execution_count": null,
   "metadata": {
    "hidden": true
   },
   "outputs": [],
   "source": [
    "posts_merge=posts_merge.merge(teachers, how='left', left_on='classroom_id', right_on='default_classroom_id')\n",
    "posts_merge.head(3)"
   ]
  },
  {
   "cell_type": "code",
   "execution_count": null,
   "metadata": {
    "hidden": true
   },
   "outputs": [],
   "source": [
    "posts_merge = posts_merge.merge(students, how='left', left_on='child_id', right_on='child_id')\n",
    "posts_merge.head(3)"
   ]
  },
  {
   "cell_type": "code",
   "execution_count": null,
   "metadata": {
    "hidden": true
   },
   "outputs": [],
   "source": [
    "posts_merge.current_student = posts_merge.current\n",
    "posts_merge.drop('current', axis=1)\n",
    "posts_merge.head(3)"
   ]
  },
  {
   "cell_type": "code",
   "execution_count": null,
   "metadata": {
    "hidden": true
   },
   "outputs": [],
   "source": [
    "posts_merge = posts_merge.merge(planning_events, how='left', left_on)\n",
    "posts_merge.head(3)"
   ]
  },
  {
   "cell_type": "code",
   "execution_count": null,
   "metadata": {
    "hidden": true
   },
   "outputs": [],
   "source": []
  },
  {
   "cell_type": "code",
   "execution_count": null,
   "metadata": {
    "hidden": true
   },
   "outputs": [],
   "source": []
  },
  {
   "cell_type": "markdown",
   "metadata": {
    "heading_collapsed": true
   },
   "source": [
    "## Combine planning_events into one dataframe for analysis:"
   ]
  },
  {
   "cell_type": "code",
   "execution_count": 79,
   "metadata": {
    "hidden": true
   },
   "outputs": [],
   "source": [
    "planning_events.created_at = pd.to_datetime(planning_events.created_at)"
   ]
  },
  {
   "cell_type": "code",
   "execution_count": 80,
   "metadata": {
    "hidden": true
   },
   "outputs": [
    {
     "data": {
      "text/plain": [
       "0          True\n",
       "1          True\n",
       "2          True\n",
       "3          True\n",
       "4          True\n",
       "5          True\n",
       "6          True\n",
       "7          True\n",
       "8          True\n",
       "9          True\n",
       "10         True\n",
       "11         True\n",
       "12         True\n",
       "13         True\n",
       "14         True\n",
       "15         True\n",
       "16         True\n",
       "17         True\n",
       "18         True\n",
       "19         True\n",
       "20         True\n",
       "21         True\n",
       "22         True\n",
       "23         True\n",
       "24         True\n",
       "25         True\n",
       "26         True\n",
       "27         True\n",
       "28         True\n",
       "29         True\n",
       "           ... \n",
       "5430276    True\n",
       "5430277    True\n",
       "5430278    True\n",
       "5430279    True\n",
       "5430280    True\n",
       "5430281    True\n",
       "5430282    True\n",
       "5430283    True\n",
       "5430284    True\n",
       "5430285    True\n",
       "5430286    True\n",
       "5430287    True\n",
       "5430288    True\n",
       "5430289    True\n",
       "5430290    True\n",
       "5430291    True\n",
       "5430292    True\n",
       "5430293    True\n",
       "5430294    True\n",
       "5430295    True\n",
       "5430296    True\n",
       "5430297    True\n",
       "5430298    True\n",
       "5430299    True\n",
       "5430300    True\n",
       "5430301    True\n",
       "5430302    True\n",
       "5430303    True\n",
       "5430304    True\n",
       "5430305    True\n",
       "Name: created_at, Length: 5430306, dtype: bool"
      ]
     },
     "execution_count": 80,
     "metadata": {},
     "output_type": "execute_result"
    }
   ],
   "source": [
    "planning_events['created_at'].apply(lambda x: isinstance(x, pd.Timestamp))"
   ]
  },
  {
   "cell_type": "code",
   "execution_count": 81,
   "metadata": {
    "hidden": true
   },
   "outputs": [
    {
     "data": {
      "text/html": [
       "<div>\n",
       "<style scoped>\n",
       "    .dataframe tbody tr th:only-of-type {\n",
       "        vertical-align: middle;\n",
       "    }\n",
       "\n",
       "    .dataframe tbody tr th {\n",
       "        vertical-align: top;\n",
       "    }\n",
       "\n",
       "    .dataframe thead th {\n",
       "        text-align: right;\n",
       "    }\n",
       "</style>\n",
       "<table border=\"1\" class=\"dataframe\">\n",
       "  <thead>\n",
       "    <tr style=\"text-align: right;\">\n",
       "      <th></th>\n",
       "      <th>classroom_id</th>\n",
       "      <th>child_id</th>\n",
       "      <th>lesson_id</th>\n",
       "      <th>event_type</th>\n",
       "      <th>created_at</th>\n",
       "      <th>created_by_id</th>\n",
       "    </tr>\n",
       "  </thead>\n",
       "  <tbody>\n",
       "    <tr>\n",
       "      <th>0</th>\n",
       "      <td>1</td>\n",
       "      <td>4</td>\n",
       "      <td>551</td>\n",
       "      <td>plan</td>\n",
       "      <td>2014-01-08 04:11:55.625921</td>\n",
       "      <td>NaN</td>\n",
       "    </tr>\n",
       "    <tr>\n",
       "      <th>1</th>\n",
       "      <td>1</td>\n",
       "      <td>4</td>\n",
       "      <td>544</td>\n",
       "      <td>plan</td>\n",
       "      <td>2014-01-08 04:11:55.625921</td>\n",
       "      <td>NaN</td>\n",
       "    </tr>\n",
       "    <tr>\n",
       "      <th>2</th>\n",
       "      <td>1</td>\n",
       "      <td>4</td>\n",
       "      <td>538</td>\n",
       "      <td>plan</td>\n",
       "      <td>2014-01-08 04:11:55.625921</td>\n",
       "      <td>NaN</td>\n",
       "    </tr>\n",
       "    <tr>\n",
       "      <th>3</th>\n",
       "      <td>1</td>\n",
       "      <td>4</td>\n",
       "      <td>518</td>\n",
       "      <td>plan</td>\n",
       "      <td>2014-01-08 04:11:55.625921</td>\n",
       "      <td>NaN</td>\n",
       "    </tr>\n",
       "    <tr>\n",
       "      <th>4</th>\n",
       "      <td>1</td>\n",
       "      <td>4</td>\n",
       "      <td>31</td>\n",
       "      <td>plan</td>\n",
       "      <td>2014-01-08 04:11:55.625921</td>\n",
       "      <td>NaN</td>\n",
       "    </tr>\n",
       "    <tr>\n",
       "      <th>5</th>\n",
       "      <td>1</td>\n",
       "      <td>4</td>\n",
       "      <td>46</td>\n",
       "      <td>plan</td>\n",
       "      <td>2014-01-08 04:11:55.625921</td>\n",
       "      <td>NaN</td>\n",
       "    </tr>\n",
       "    <tr>\n",
       "      <th>6</th>\n",
       "      <td>1</td>\n",
       "      <td>12</td>\n",
       "      <td>551</td>\n",
       "      <td>plan</td>\n",
       "      <td>2014-01-08 04:11:55.625921</td>\n",
       "      <td>NaN</td>\n",
       "    </tr>\n",
       "    <tr>\n",
       "      <th>7</th>\n",
       "      <td>1</td>\n",
       "      <td>12</td>\n",
       "      <td>544</td>\n",
       "      <td>plan</td>\n",
       "      <td>2014-01-08 04:11:55.625921</td>\n",
       "      <td>NaN</td>\n",
       "    </tr>\n",
       "    <tr>\n",
       "      <th>8</th>\n",
       "      <td>1</td>\n",
       "      <td>12</td>\n",
       "      <td>536</td>\n",
       "      <td>plan</td>\n",
       "      <td>2014-01-08 04:11:55.625921</td>\n",
       "      <td>NaN</td>\n",
       "    </tr>\n",
       "    <tr>\n",
       "      <th>9</th>\n",
       "      <td>1</td>\n",
       "      <td>12</td>\n",
       "      <td>538</td>\n",
       "      <td>plan</td>\n",
       "      <td>2014-01-08 04:11:55.625921</td>\n",
       "      <td>NaN</td>\n",
       "    </tr>\n",
       "    <tr>\n",
       "      <th>10</th>\n",
       "      <td>1</td>\n",
       "      <td>12</td>\n",
       "      <td>518</td>\n",
       "      <td>plan</td>\n",
       "      <td>2014-01-08 04:11:55.625921</td>\n",
       "      <td>NaN</td>\n",
       "    </tr>\n",
       "    <tr>\n",
       "      <th>11</th>\n",
       "      <td>1</td>\n",
       "      <td>12</td>\n",
       "      <td>31</td>\n",
       "      <td>plan</td>\n",
       "      <td>2014-01-08 04:11:55.625921</td>\n",
       "      <td>NaN</td>\n",
       "    </tr>\n",
       "    <tr>\n",
       "      <th>12</th>\n",
       "      <td>1</td>\n",
       "      <td>12</td>\n",
       "      <td>46</td>\n",
       "      <td>plan</td>\n",
       "      <td>2014-01-08 04:11:55.625921</td>\n",
       "      <td>NaN</td>\n",
       "    </tr>\n",
       "    <tr>\n",
       "      <th>13</th>\n",
       "      <td>1</td>\n",
       "      <td>16</td>\n",
       "      <td>689</td>\n",
       "      <td>plan</td>\n",
       "      <td>2014-01-08 04:11:55.625921</td>\n",
       "      <td>NaN</td>\n",
       "    </tr>\n",
       "    <tr>\n",
       "      <th>14</th>\n",
       "      <td>1</td>\n",
       "      <td>16</td>\n",
       "      <td>688</td>\n",
       "      <td>plan</td>\n",
       "      <td>2014-01-08 04:11:55.625921</td>\n",
       "      <td>NaN</td>\n",
       "    </tr>\n",
       "    <tr>\n",
       "      <th>15</th>\n",
       "      <td>1</td>\n",
       "      <td>16</td>\n",
       "      <td>435</td>\n",
       "      <td>plan</td>\n",
       "      <td>2014-01-08 04:11:55.625921</td>\n",
       "      <td>NaN</td>\n",
       "    </tr>\n",
       "    <tr>\n",
       "      <th>16</th>\n",
       "      <td>1</td>\n",
       "      <td>16</td>\n",
       "      <td>439</td>\n",
       "      <td>plan</td>\n",
       "      <td>2014-01-08 04:11:55.625921</td>\n",
       "      <td>NaN</td>\n",
       "    </tr>\n",
       "    <tr>\n",
       "      <th>17</th>\n",
       "      <td>1</td>\n",
       "      <td>16</td>\n",
       "      <td>551</td>\n",
       "      <td>plan</td>\n",
       "      <td>2014-01-08 04:11:55.625921</td>\n",
       "      <td>NaN</td>\n",
       "    </tr>\n",
       "    <tr>\n",
       "      <th>18</th>\n",
       "      <td>1</td>\n",
       "      <td>16</td>\n",
       "      <td>522</td>\n",
       "      <td>plan</td>\n",
       "      <td>2014-01-08 04:11:55.625921</td>\n",
       "      <td>NaN</td>\n",
       "    </tr>\n",
       "    <tr>\n",
       "      <th>19</th>\n",
       "      <td>1</td>\n",
       "      <td>16</td>\n",
       "      <td>523</td>\n",
       "      <td>plan</td>\n",
       "      <td>2014-01-08 04:11:55.625921</td>\n",
       "      <td>NaN</td>\n",
       "    </tr>\n",
       "    <tr>\n",
       "      <th>20</th>\n",
       "      <td>1</td>\n",
       "      <td>16</td>\n",
       "      <td>518</td>\n",
       "      <td>plan</td>\n",
       "      <td>2014-01-08 04:11:55.625921</td>\n",
       "      <td>NaN</td>\n",
       "    </tr>\n",
       "    <tr>\n",
       "      <th>21</th>\n",
       "      <td>1</td>\n",
       "      <td>17</td>\n",
       "      <td>552</td>\n",
       "      <td>plan</td>\n",
       "      <td>2014-01-08 04:11:55.625921</td>\n",
       "      <td>NaN</td>\n",
       "    </tr>\n",
       "    <tr>\n",
       "      <th>22</th>\n",
       "      <td>1</td>\n",
       "      <td>17</td>\n",
       "      <td>522</td>\n",
       "      <td>plan</td>\n",
       "      <td>2014-01-08 04:11:55.625921</td>\n",
       "      <td>NaN</td>\n",
       "    </tr>\n",
       "    <tr>\n",
       "      <th>23</th>\n",
       "      <td>1</td>\n",
       "      <td>17</td>\n",
       "      <td>523</td>\n",
       "      <td>plan</td>\n",
       "      <td>2014-01-08 04:11:55.625921</td>\n",
       "      <td>NaN</td>\n",
       "    </tr>\n",
       "    <tr>\n",
       "      <th>24</th>\n",
       "      <td>1</td>\n",
       "      <td>17</td>\n",
       "      <td>542</td>\n",
       "      <td>plan</td>\n",
       "      <td>2014-01-08 04:11:55.625921</td>\n",
       "      <td>NaN</td>\n",
       "    </tr>\n",
       "    <tr>\n",
       "      <th>25</th>\n",
       "      <td>1</td>\n",
       "      <td>17</td>\n",
       "      <td>518</td>\n",
       "      <td>plan</td>\n",
       "      <td>2014-01-08 04:11:55.625921</td>\n",
       "      <td>NaN</td>\n",
       "    </tr>\n",
       "    <tr>\n",
       "      <th>26</th>\n",
       "      <td>1</td>\n",
       "      <td>17</td>\n",
       "      <td>31</td>\n",
       "      <td>plan</td>\n",
       "      <td>2014-01-08 04:11:55.625921</td>\n",
       "      <td>NaN</td>\n",
       "    </tr>\n",
       "    <tr>\n",
       "      <th>27</th>\n",
       "      <td>1</td>\n",
       "      <td>17</td>\n",
       "      <td>46</td>\n",
       "      <td>plan</td>\n",
       "      <td>2014-01-08 04:11:55.625921</td>\n",
       "      <td>NaN</td>\n",
       "    </tr>\n",
       "    <tr>\n",
       "      <th>28</th>\n",
       "      <td>1</td>\n",
       "      <td>18</td>\n",
       "      <td>518</td>\n",
       "      <td>plan</td>\n",
       "      <td>2014-01-08 04:11:55.625921</td>\n",
       "      <td>NaN</td>\n",
       "    </tr>\n",
       "    <tr>\n",
       "      <th>29</th>\n",
       "      <td>1</td>\n",
       "      <td>18</td>\n",
       "      <td>151</td>\n",
       "      <td>plan</td>\n",
       "      <td>2014-01-08 04:11:55.625921</td>\n",
       "      <td>NaN</td>\n",
       "    </tr>\n",
       "    <tr>\n",
       "      <th>...</th>\n",
       "      <td>...</td>\n",
       "      <td>...</td>\n",
       "      <td>...</td>\n",
       "      <td>...</td>\n",
       "      <td>...</td>\n",
       "      <td>...</td>\n",
       "    </tr>\n",
       "    <tr>\n",
       "      <th>5430276</th>\n",
       "      <td>42</td>\n",
       "      <td>36183</td>\n",
       "      <td>87860</td>\n",
       "      <td>plan</td>\n",
       "      <td>2018-03-24 17:46:34.622265</td>\n",
       "      <td>445.0</td>\n",
       "    </tr>\n",
       "    <tr>\n",
       "      <th>5430277</th>\n",
       "      <td>42</td>\n",
       "      <td>36183</td>\n",
       "      <td>87861</td>\n",
       "      <td>plan</td>\n",
       "      <td>2018-03-24 17:46:34.622320</td>\n",
       "      <td>445.0</td>\n",
       "    </tr>\n",
       "    <tr>\n",
       "      <th>5430278</th>\n",
       "      <td>42</td>\n",
       "      <td>36183</td>\n",
       "      <td>87862</td>\n",
       "      <td>plan</td>\n",
       "      <td>2018-03-24 17:46:34.622367</td>\n",
       "      <td>445.0</td>\n",
       "    </tr>\n",
       "    <tr>\n",
       "      <th>5430279</th>\n",
       "      <td>42</td>\n",
       "      <td>46848</td>\n",
       "      <td>88070</td>\n",
       "      <td>plan</td>\n",
       "      <td>2018-03-24 18:33:41.155169</td>\n",
       "      <td>445.0</td>\n",
       "    </tr>\n",
       "    <tr>\n",
       "      <th>5430280</th>\n",
       "      <td>43</td>\n",
       "      <td>4348</td>\n",
       "      <td>827649</td>\n",
       "      <td>plan</td>\n",
       "      <td>2018-03-24 19:26:36.494768</td>\n",
       "      <td>445.0</td>\n",
       "    </tr>\n",
       "    <tr>\n",
       "      <th>5430281</th>\n",
       "      <td>43</td>\n",
       "      <td>4353</td>\n",
       "      <td>827649</td>\n",
       "      <td>plan</td>\n",
       "      <td>2018-03-24 19:26:36.494799</td>\n",
       "      <td>445.0</td>\n",
       "    </tr>\n",
       "    <tr>\n",
       "      <th>5430282</th>\n",
       "      <td>43</td>\n",
       "      <td>4357</td>\n",
       "      <td>827649</td>\n",
       "      <td>plan</td>\n",
       "      <td>2018-03-24 19:26:36.494824</td>\n",
       "      <td>445.0</td>\n",
       "    </tr>\n",
       "    <tr>\n",
       "      <th>5430283</th>\n",
       "      <td>43</td>\n",
       "      <td>4327</td>\n",
       "      <td>827520</td>\n",
       "      <td>plan</td>\n",
       "      <td>2018-03-24 17:06:31.480145</td>\n",
       "      <td>445.0</td>\n",
       "    </tr>\n",
       "    <tr>\n",
       "      <th>5430284</th>\n",
       "      <td>43</td>\n",
       "      <td>4365</td>\n",
       "      <td>827520</td>\n",
       "      <td>plan</td>\n",
       "      <td>2018-03-24 17:06:31.480239</td>\n",
       "      <td>445.0</td>\n",
       "    </tr>\n",
       "    <tr>\n",
       "      <th>5430285</th>\n",
       "      <td>43</td>\n",
       "      <td>4331</td>\n",
       "      <td>827487</td>\n",
       "      <td>plan</td>\n",
       "      <td>2018-03-24 19:26:42.300342</td>\n",
       "      <td>445.0</td>\n",
       "    </tr>\n",
       "    <tr>\n",
       "      <th>5430286</th>\n",
       "      <td>43</td>\n",
       "      <td>4340</td>\n",
       "      <td>827487</td>\n",
       "      <td>plan</td>\n",
       "      <td>2018-03-24 19:26:42.300403</td>\n",
       "      <td>445.0</td>\n",
       "    </tr>\n",
       "    <tr>\n",
       "      <th>5430287</th>\n",
       "      <td>42</td>\n",
       "      <td>5097</td>\n",
       "      <td>87873</td>\n",
       "      <td>plan</td>\n",
       "      <td>2018-03-24 23:21:50.252320</td>\n",
       "      <td>445.0</td>\n",
       "    </tr>\n",
       "    <tr>\n",
       "      <th>5430288</th>\n",
       "      <td>42</td>\n",
       "      <td>5097</td>\n",
       "      <td>87873</td>\n",
       "      <td>unplan</td>\n",
       "      <td>2018-03-24 23:21:54.455180</td>\n",
       "      <td>445.0</td>\n",
       "    </tr>\n",
       "    <tr>\n",
       "      <th>5430289</th>\n",
       "      <td>43</td>\n",
       "      <td>4331</td>\n",
       "      <td>827725</td>\n",
       "      <td>plan</td>\n",
       "      <td>2018-03-24 23:22:48.021328</td>\n",
       "      <td>445.0</td>\n",
       "    </tr>\n",
       "    <tr>\n",
       "      <th>5430290</th>\n",
       "      <td>43</td>\n",
       "      <td>36176</td>\n",
       "      <td>827725</td>\n",
       "      <td>plan</td>\n",
       "      <td>2018-03-24 23:22:48.021595</td>\n",
       "      <td>445.0</td>\n",
       "    </tr>\n",
       "    <tr>\n",
       "      <th>5430291</th>\n",
       "      <td>43</td>\n",
       "      <td>4331</td>\n",
       "      <td>827725</td>\n",
       "      <td>plan</td>\n",
       "      <td>2018-03-24 23:23:18.755073</td>\n",
       "      <td>445.0</td>\n",
       "    </tr>\n",
       "    <tr>\n",
       "      <th>5430292</th>\n",
       "      <td>43</td>\n",
       "      <td>4340</td>\n",
       "      <td>827725</td>\n",
       "      <td>plan</td>\n",
       "      <td>2018-03-24 23:23:18.755323</td>\n",
       "      <td>445.0</td>\n",
       "    </tr>\n",
       "    <tr>\n",
       "      <th>5430293</th>\n",
       "      <td>43</td>\n",
       "      <td>4345</td>\n",
       "      <td>827725</td>\n",
       "      <td>plan</td>\n",
       "      <td>2018-03-24 23:23:18.755492</td>\n",
       "      <td>445.0</td>\n",
       "    </tr>\n",
       "    <tr>\n",
       "      <th>5430294</th>\n",
       "      <td>43</td>\n",
       "      <td>4349</td>\n",
       "      <td>827725</td>\n",
       "      <td>plan</td>\n",
       "      <td>2018-03-24 23:23:18.755600</td>\n",
       "      <td>445.0</td>\n",
       "    </tr>\n",
       "    <tr>\n",
       "      <th>5430295</th>\n",
       "      <td>43</td>\n",
       "      <td>4357</td>\n",
       "      <td>827725</td>\n",
       "      <td>plan</td>\n",
       "      <td>2018-03-24 23:23:18.755710</td>\n",
       "      <td>445.0</td>\n",
       "    </tr>\n",
       "    <tr>\n",
       "      <th>5430296</th>\n",
       "      <td>43</td>\n",
       "      <td>36176</td>\n",
       "      <td>827725</td>\n",
       "      <td>plan</td>\n",
       "      <td>2018-03-24 23:23:18.755802</td>\n",
       "      <td>445.0</td>\n",
       "    </tr>\n",
       "    <tr>\n",
       "      <th>5430297</th>\n",
       "      <td>42</td>\n",
       "      <td>46849</td>\n",
       "      <td>88266</td>\n",
       "      <td>unplan</td>\n",
       "      <td>2018-03-25 15:03:21.001491</td>\n",
       "      <td>445.0</td>\n",
       "    </tr>\n",
       "    <tr>\n",
       "      <th>5430298</th>\n",
       "      <td>42</td>\n",
       "      <td>46849</td>\n",
       "      <td>87923</td>\n",
       "      <td>unplan</td>\n",
       "      <td>2018-03-25 15:03:22.015422</td>\n",
       "      <td>445.0</td>\n",
       "    </tr>\n",
       "    <tr>\n",
       "      <th>5430299</th>\n",
       "      <td>42</td>\n",
       "      <td>46850</td>\n",
       "      <td>87928</td>\n",
       "      <td>unplan</td>\n",
       "      <td>2018-03-25 15:33:51.266263</td>\n",
       "      <td>445.0</td>\n",
       "    </tr>\n",
       "    <tr>\n",
       "      <th>5430300</th>\n",
       "      <td>42</td>\n",
       "      <td>46848</td>\n",
       "      <td>87932</td>\n",
       "      <td>plan</td>\n",
       "      <td>2018-03-25 15:35:34.564060</td>\n",
       "      <td>445.0</td>\n",
       "    </tr>\n",
       "    <tr>\n",
       "      <th>5430301</th>\n",
       "      <td>42</td>\n",
       "      <td>46846</td>\n",
       "      <td>87932</td>\n",
       "      <td>plan</td>\n",
       "      <td>2018-03-25 15:35:58.418016</td>\n",
       "      <td>445.0</td>\n",
       "    </tr>\n",
       "    <tr>\n",
       "      <th>5430302</th>\n",
       "      <td>42</td>\n",
       "      <td>46848</td>\n",
       "      <td>87931</td>\n",
       "      <td>plan</td>\n",
       "      <td>2018-03-25 15:36:31.680297</td>\n",
       "      <td>445.0</td>\n",
       "    </tr>\n",
       "    <tr>\n",
       "      <th>5430303</th>\n",
       "      <td>43</td>\n",
       "      <td>4323</td>\n",
       "      <td>827357</td>\n",
       "      <td>plan</td>\n",
       "      <td>2018-04-06 22:15:31.438321</td>\n",
       "      <td>445.0</td>\n",
       "    </tr>\n",
       "    <tr>\n",
       "      <th>5430304</th>\n",
       "      <td>43</td>\n",
       "      <td>4327</td>\n",
       "      <td>827357</td>\n",
       "      <td>plan</td>\n",
       "      <td>2018-04-06 22:15:31.438457</td>\n",
       "      <td>445.0</td>\n",
       "    </tr>\n",
       "    <tr>\n",
       "      <th>5430305</th>\n",
       "      <td>43</td>\n",
       "      <td>4357</td>\n",
       "      <td>827357</td>\n",
       "      <td>plan</td>\n",
       "      <td>2018-04-06 22:15:31.438539</td>\n",
       "      <td>445.0</td>\n",
       "    </tr>\n",
       "  </tbody>\n",
       "</table>\n",
       "<p>5430306 rows × 6 columns</p>\n",
       "</div>"
      ],
      "text/plain": [
       "         classroom_id  child_id  lesson_id event_type  \\\n",
       "0                   1         4        551       plan   \n",
       "1                   1         4        544       plan   \n",
       "2                   1         4        538       plan   \n",
       "3                   1         4        518       plan   \n",
       "4                   1         4         31       plan   \n",
       "5                   1         4         46       plan   \n",
       "6                   1        12        551       plan   \n",
       "7                   1        12        544       plan   \n",
       "8                   1        12        536       plan   \n",
       "9                   1        12        538       plan   \n",
       "10                  1        12        518       plan   \n",
       "11                  1        12         31       plan   \n",
       "12                  1        12         46       plan   \n",
       "13                  1        16        689       plan   \n",
       "14                  1        16        688       plan   \n",
       "15                  1        16        435       plan   \n",
       "16                  1        16        439       plan   \n",
       "17                  1        16        551       plan   \n",
       "18                  1        16        522       plan   \n",
       "19                  1        16        523       plan   \n",
       "20                  1        16        518       plan   \n",
       "21                  1        17        552       plan   \n",
       "22                  1        17        522       plan   \n",
       "23                  1        17        523       plan   \n",
       "24                  1        17        542       plan   \n",
       "25                  1        17        518       plan   \n",
       "26                  1        17         31       plan   \n",
       "27                  1        17         46       plan   \n",
       "28                  1        18        518       plan   \n",
       "29                  1        18        151       plan   \n",
       "...               ...       ...        ...        ...   \n",
       "5430276            42     36183      87860       plan   \n",
       "5430277            42     36183      87861       plan   \n",
       "5430278            42     36183      87862       plan   \n",
       "5430279            42     46848      88070       plan   \n",
       "5430280            43      4348     827649       plan   \n",
       "5430281            43      4353     827649       plan   \n",
       "5430282            43      4357     827649       plan   \n",
       "5430283            43      4327     827520       plan   \n",
       "5430284            43      4365     827520       plan   \n",
       "5430285            43      4331     827487       plan   \n",
       "5430286            43      4340     827487       plan   \n",
       "5430287            42      5097      87873       plan   \n",
       "5430288            42      5097      87873     unplan   \n",
       "5430289            43      4331     827725       plan   \n",
       "5430290            43     36176     827725       plan   \n",
       "5430291            43      4331     827725       plan   \n",
       "5430292            43      4340     827725       plan   \n",
       "5430293            43      4345     827725       plan   \n",
       "5430294            43      4349     827725       plan   \n",
       "5430295            43      4357     827725       plan   \n",
       "5430296            43     36176     827725       plan   \n",
       "5430297            42     46849      88266     unplan   \n",
       "5430298            42     46849      87923     unplan   \n",
       "5430299            42     46850      87928     unplan   \n",
       "5430300            42     46848      87932       plan   \n",
       "5430301            42     46846      87932       plan   \n",
       "5430302            42     46848      87931       plan   \n",
       "5430303            43      4323     827357       plan   \n",
       "5430304            43      4327     827357       plan   \n",
       "5430305            43      4357     827357       plan   \n",
       "\n",
       "                        created_at  created_by_id  \n",
       "0       2014-01-08 04:11:55.625921            NaN  \n",
       "1       2014-01-08 04:11:55.625921            NaN  \n",
       "2       2014-01-08 04:11:55.625921            NaN  \n",
       "3       2014-01-08 04:11:55.625921            NaN  \n",
       "4       2014-01-08 04:11:55.625921            NaN  \n",
       "5       2014-01-08 04:11:55.625921            NaN  \n",
       "6       2014-01-08 04:11:55.625921            NaN  \n",
       "7       2014-01-08 04:11:55.625921            NaN  \n",
       "8       2014-01-08 04:11:55.625921            NaN  \n",
       "9       2014-01-08 04:11:55.625921            NaN  \n",
       "10      2014-01-08 04:11:55.625921            NaN  \n",
       "11      2014-01-08 04:11:55.625921            NaN  \n",
       "12      2014-01-08 04:11:55.625921            NaN  \n",
       "13      2014-01-08 04:11:55.625921            NaN  \n",
       "14      2014-01-08 04:11:55.625921            NaN  \n",
       "15      2014-01-08 04:11:55.625921            NaN  \n",
       "16      2014-01-08 04:11:55.625921            NaN  \n",
       "17      2014-01-08 04:11:55.625921            NaN  \n",
       "18      2014-01-08 04:11:55.625921            NaN  \n",
       "19      2014-01-08 04:11:55.625921            NaN  \n",
       "20      2014-01-08 04:11:55.625921            NaN  \n",
       "21      2014-01-08 04:11:55.625921            NaN  \n",
       "22      2014-01-08 04:11:55.625921            NaN  \n",
       "23      2014-01-08 04:11:55.625921            NaN  \n",
       "24      2014-01-08 04:11:55.625921            NaN  \n",
       "25      2014-01-08 04:11:55.625921            NaN  \n",
       "26      2014-01-08 04:11:55.625921            NaN  \n",
       "27      2014-01-08 04:11:55.625921            NaN  \n",
       "28      2014-01-08 04:11:55.625921            NaN  \n",
       "29      2014-01-08 04:11:55.625921            NaN  \n",
       "...                            ...            ...  \n",
       "5430276 2018-03-24 17:46:34.622265          445.0  \n",
       "5430277 2018-03-24 17:46:34.622320          445.0  \n",
       "5430278 2018-03-24 17:46:34.622367          445.0  \n",
       "5430279 2018-03-24 18:33:41.155169          445.0  \n",
       "5430280 2018-03-24 19:26:36.494768          445.0  \n",
       "5430281 2018-03-24 19:26:36.494799          445.0  \n",
       "5430282 2018-03-24 19:26:36.494824          445.0  \n",
       "5430283 2018-03-24 17:06:31.480145          445.0  \n",
       "5430284 2018-03-24 17:06:31.480239          445.0  \n",
       "5430285 2018-03-24 19:26:42.300342          445.0  \n",
       "5430286 2018-03-24 19:26:42.300403          445.0  \n",
       "5430287 2018-03-24 23:21:50.252320          445.0  \n",
       "5430288 2018-03-24 23:21:54.455180          445.0  \n",
       "5430289 2018-03-24 23:22:48.021328          445.0  \n",
       "5430290 2018-03-24 23:22:48.021595          445.0  \n",
       "5430291 2018-03-24 23:23:18.755073          445.0  \n",
       "5430292 2018-03-24 23:23:18.755323          445.0  \n",
       "5430293 2018-03-24 23:23:18.755492          445.0  \n",
       "5430294 2018-03-24 23:23:18.755600          445.0  \n",
       "5430295 2018-03-24 23:23:18.755710          445.0  \n",
       "5430296 2018-03-24 23:23:18.755802          445.0  \n",
       "5430297 2018-03-25 15:03:21.001491          445.0  \n",
       "5430298 2018-03-25 15:03:22.015422          445.0  \n",
       "5430299 2018-03-25 15:33:51.266263          445.0  \n",
       "5430300 2018-03-25 15:35:34.564060          445.0  \n",
       "5430301 2018-03-25 15:35:58.418016          445.0  \n",
       "5430302 2018-03-25 15:36:31.680297          445.0  \n",
       "5430303 2018-04-06 22:15:31.438321          445.0  \n",
       "5430304 2018-04-06 22:15:31.438457          445.0  \n",
       "5430305 2018-04-06 22:15:31.438539          445.0  \n",
       "\n",
       "[5430306 rows x 6 columns]"
      ]
     },
     "execution_count": 81,
     "metadata": {},
     "output_type": "execute_result"
    }
   ],
   "source": [
    "planning_events"
   ]
  },
  {
   "cell_type": "markdown",
   "metadata": {},
   "source": [
    "## Make hist of posts in last 30 days"
   ]
  },
  {
   "cell_type": "code",
   "execution_count": 82,
   "metadata": {},
   "outputs": [
    {
     "data": {
      "text/html": [
       "<div>\n",
       "<style scoped>\n",
       "    .dataframe tbody tr th:only-of-type {\n",
       "        vertical-align: middle;\n",
       "    }\n",
       "\n",
       "    .dataframe tbody tr th {\n",
       "        vertical-align: top;\n",
       "    }\n",
       "\n",
       "    .dataframe thead th {\n",
       "        text-align: right;\n",
       "    }\n",
       "</style>\n",
       "<table border=\"1\" class=\"dataframe\">\n",
       "  <thead>\n",
       "    <tr style=\"text-align: right;\">\n",
       "      <th></th>\n",
       "      <th>id</th>\n",
       "      <th>date</th>\n",
       "      <th>classroom_id</th>\n",
       "      <th>picture_file_name</th>\n",
       "      <th>private</th>\n",
       "      <th>exists</th>\n",
       "      <th>year_month</th>\n",
       "    </tr>\n",
       "  </thead>\n",
       "  <tbody>\n",
       "    <tr>\n",
       "      <th>0</th>\n",
       "      <td>4319418</td>\n",
       "      <td>2018-01-25</td>\n",
       "      <td>1684</td>\n",
       "      <td>NaN</td>\n",
       "      <td>f</td>\n",
       "      <td>1</td>\n",
       "      <td>2018-01-01</td>\n",
       "    </tr>\n",
       "    <tr>\n",
       "      <th>1</th>\n",
       "      <td>4319419</td>\n",
       "      <td>2018-01-25</td>\n",
       "      <td>1684</td>\n",
       "      <td>NaN</td>\n",
       "      <td>f</td>\n",
       "      <td>1</td>\n",
       "      <td>2018-01-01</td>\n",
       "    </tr>\n",
       "    <tr>\n",
       "      <th>2</th>\n",
       "      <td>4319420</td>\n",
       "      <td>2018-01-25</td>\n",
       "      <td>1684</td>\n",
       "      <td>NaN</td>\n",
       "      <td>f</td>\n",
       "      <td>1</td>\n",
       "      <td>2018-01-01</td>\n",
       "    </tr>\n",
       "  </tbody>\n",
       "</table>\n",
       "</div>"
      ],
      "text/plain": [
       "        id       date  classroom_id picture_file_name private  exists  \\\n",
       "0  4319418 2018-01-25          1684               NaN       f       1   \n",
       "1  4319419 2018-01-25          1684               NaN       f       1   \n",
       "2  4319420 2018-01-25          1684               NaN       f       1   \n",
       "\n",
       "  year_month  \n",
       "0 2018-01-01  \n",
       "1 2018-01-01  \n",
       "2 2018-01-01  "
      ]
     },
     "execution_count": 82,
     "metadata": {},
     "output_type": "execute_result"
    }
   ],
   "source": [
    "posts.head(3)"
   ]
  },
  {
   "cell_type": "code",
   "execution_count": 83,
   "metadata": {},
   "outputs": [
    {
     "ename": "NameError",
     "evalue": "name 'num_posts_by_class' is not defined",
     "output_type": "error",
     "traceback": [
      "\u001b[0;31m---------------------------------------------------------------------------\u001b[0m",
      "\u001b[0;31mNameError\u001b[0m                                 Traceback (most recent call last)",
      "\u001b[0;32m<ipython-input-83-20b69e1f6c91>\u001b[0m in \u001b[0;36m<module>\u001b[0;34m()\u001b[0m\n\u001b[0;32m----> 1\u001b[0;31m \u001b[0mplt\u001b[0m\u001b[0;34m.\u001b[0m\u001b[0mhist\u001b[0m\u001b[0;34m(\u001b[0m\u001b[0mnp\u001b[0m\u001b[0;34m.\u001b[0m\u001b[0mlog\u001b[0m\u001b[0;34m(\u001b[0m\u001b[0mnum_posts_by_class\u001b[0m\u001b[0;34m[\u001b[0m\u001b[0;34m'exists'\u001b[0m\u001b[0;34m]\u001b[0m\u001b[0;34m)\u001b[0m\u001b[0;34m,\u001b[0m \u001b[0mbins\u001b[0m\u001b[0;34m=\u001b[0m\u001b[0;36m100\u001b[0m\u001b[0;34m)\u001b[0m\u001b[0;34m;\u001b[0m\u001b[0;34m\u001b[0m\u001b[0m\n\u001b[0m",
      "\u001b[0;31mNameError\u001b[0m: name 'num_posts_by_class' is not defined"
     ]
    }
   ],
   "source": [
    "plt.hist(np.log(num_posts_by_class['exists']), bins=100);"
   ]
  },
  {
   "cell_type": "code",
   "execution_count": null,
   "metadata": {},
   "outputs": [],
   "source": [
    "plt.hist(num_posts_by_class)"
   ]
  },
  {
   "cell_type": "markdown",
   "metadata": {
    "heading_collapsed": true
   },
   "source": [
    "### Num posts in the last X days"
   ]
  },
  {
   "cell_type": "code",
   "execution_count": 85,
   "metadata": {
    "hidden": true
   },
   "outputs": [
    {
     "data": {
      "image/png": "[encoded data removed]",
      "text/plain": [
       "<Figure size 432x288 with 1 Axes>"
      ]
     },
     "metadata": {},
     "output_type": "display_data"
    }
   ],
   "source": [
    "def posts_since(posts,date):\n",
    "    last_month_posts = posts[posts['date']>date].groupby('classroom_id').count()\n",
    "    num_posts_by_class = posts.groupby('classroom_id').sum()\n",
    "    last_month_posts_total= num_posts_by_class.join(last_month_posts, how='left', lsuffix='_num_posts_by_class', rsuffix='_last_month_posts')\n",
    "    last_month_posts_total.loc[last_month_posts_total['id_last_month_posts'].isnull(),'exists_last_month_posts'] =0\n",
    "    fig, ax = plt.subplots(1,1)\n",
    "    ax.set_title(f'class posts since {date.date()}')\n",
    "    ax.hist(last_month_posts_total['exists_last_month_posts'],bins=40)\n",
    "    ax.set_ylabel(\"# of classes\")\n",
    "    ax.set_xlabel(\"# of posts\")\n",
    "    plt.show()\n",
    "    \n",
    "def log_posts_since(posts,date):\n",
    "    last_month_posts = posts[posts['date']>date].groupby('classroom_id').count()\n",
    "    num_posts_by_class = posts.groupby('classroom_id').sum()\n",
    "    last_month_posts_total= num_posts_by_class.join(last_month_posts, how='left', lsuffix='_num_posts_by_class', rsuffix='_last_month_posts')\n",
    "    last_month_posts_total.loc[last_month_posts_total['id_last_month_posts'].isnull(),'exists_last_month_posts'] =0\n",
    "    fig, ax = plt.subplots(1,1)\n",
    "    ax.set_title(f'class log(posts) since {date.date()}')\n",
    "    ax.hist(np.log(last_month_posts_total['exists_last_month_posts']+1),bins=40)\n",
    "    ax.set_ylabel(\"# of classes\")\n",
    "    ax.set_xlabel(\"log(#) of posts\")\n",
    "    plt.show()\n",
    "posts_since(posts, pd.to_datetime(\"Feb 15 2018\"))"
   ]
  },
  {
   "cell_type": "code",
   "execution_count": 86,
   "metadata": {
    "hidden": true,
    "scrolled": false
   },
   "outputs": [
    {
     "data": {
      "image/png": "[encoded data removed]",
      "text/plain": [
       "<Figure size 432x288 with 1 Axes>"
      ]
     },
     "metadata": {},
     "output_type": "display_data"
    },
    {
     "data": {
      "image/png": "[encoded data removed]",
      "text/plain": [
       "<Figure size 432x288 with 1 Axes>"
      ]
     },
     "metadata": {},
     "output_type": "display_data"
    },
    {
     "data": {
      "image/png": "[encoded data removed]",
      "text/plain": [
       "<Figure size 432x288 with 1 Axes>"
      ]
     },
     "metadata": {},
     "output_type": "display_data"
    },
    {
     "data": {
      "image/png": "[encoded data removed]",
      "text/plain": [
       "<Figure size 432x288 with 1 Axes>"
      ]
     },
     "metadata": {},
     "output_type": "display_data"
    }
   ],
   "source": [
    "posts_since(posts, pd.to_datetime(\"Feb 15 2011\"))\n",
    "posts_since(posts, pd.to_datetime(\"Jan 15 2018\"))\n",
    "log_posts_since(posts, pd.to_datetime(\"jan 15 2018\"))\n",
    "log_posts_since(posts, pd.to_datetime(\"feb 15 2018\"))"
   ]
  },
  {
   "cell_type": "code",
   "execution_count": 88,
   "metadata": {
    "hidden": true
   },
   "outputs": [
    {
     "name": "stdout",
     "output_type": "stream",
     "text": [
      "429215\n"
     ]
    },
    {
     "data": {
      "image/png": "[encoded data removed]",
      "text/plain": [
       "<Figure size 432x288 with 1 Axes>"
      ]
     },
     "metadata": {},
     "output_type": "display_data"
    },
    {
     "name": "stdout",
     "output_type": "stream",
     "text": [
      "220258\n"
     ]
    },
    {
     "data": {
      "image/png": "[encoded data removed]",
      "text/plain": [
       "<Figure size 432x288 with 1 Axes>"
      ]
     },
     "metadata": {},
     "output_type": "display_data"
    },
    {
     "name": "stdout",
     "output_type": "stream",
     "text": [
      "429215\n"
     ]
    },
    {
     "data": {
      "image/png": "[encoded data removed]",
      "text/plain": [
       "<Figure size 432x288 with 1 Axes>"
      ]
     },
     "metadata": {},
     "output_type": "display_data"
    },
    {
     "name": "stdout",
     "output_type": "stream",
     "text": [
      "348676\n"
     ]
    },
    {
     "data": {
      "image/png": "[encoded data removed]",
      "text/plain": [
       "<Figure size 432x288 with 1 Axes>"
      ]
     },
     "metadata": {},
     "output_type": "display_data"
    }
   ],
   "source": [
    "def plot_posts_between(posts, date1, date2):\n",
    "    print(sum((date1 < posts['date']) & (posts['date'] < date2)))\n",
    "    last_month_posts = posts[(date1 < posts['date']) & (posts['date'] < date2)].groupby('classroom_id').count()\n",
    "    num_posts_by_class = posts.groupby('classroom_id').sum()\n",
    "    last_month_posts_total= num_posts_by_class.join(last_month_posts, how='left', lsuffix='_num_posts_by_class', rsuffix='_last_month_posts')\n",
    "    last_month_posts_total.loc[last_month_posts_total['id_last_month_posts'].isnull(),'exists_last_month_posts'] =0\n",
    "    fig, ax = plt.subplots(1,1)\n",
    "    ax.set_title(f'class posts between {date1.date()} and {date2.date()}')\n",
    "    ax.hist(last_month_posts_total['exists_last_month_posts'],bins=40)\n",
    "    ax.set_ylabel(\"# of classes\")\n",
    "    ax.set_xlabel(\"# of posts\")\n",
    "    plt.show()\n",
    "    \n",
    "def plot_log_posts_between(posts, date1, date2):\n",
    "    print(sum((date1 < posts['date']) & (posts['date'] < date2)))\n",
    "    last_month_posts = posts[(date1 < posts['date']) & (posts['date'] < date2)].groupby('classroom_id').count()\n",
    "    num_posts_by_class = posts.groupby('classroom_id').sum()\n",
    "    last_month_posts_total= num_posts_by_class.join(last_month_posts, how='left', lsuffix='_num_posts_by_class', rsuffix='_last_month_posts')\n",
    "    last_month_posts_total.loc[last_month_posts_total['id_last_month_posts'].isnull(),'exists_last_month_posts'] =0\n",
    "    fig, ax = plt.subplots(1,1)\n",
    "    ax.set_title(f'class log(posts) between {date1.date()} and {date2.date()}')\n",
    "    ax.hist(np.log(last_month_posts_total['exists_last_month_posts']+1),bins=40)\n",
    "    ax.set_ylabel(\"# of classes\")\n",
    "    ax.set_xlabel(\"log(#) of posts\")\n",
    "    plt.show()\n",
    "plot_posts_between(posts, pd.to_datetime(\"Jan 15 2018\"), pd.to_datetime(\"Feb 15 2018\"))\n",
    "plot_log_posts_between(posts, pd.to_datetime(\"Dec 15 2017\"), pd.to_datetime(\"Jan 15 2018\"))\n",
    "plot_log_posts_between(posts, pd.to_datetime(\"Jan 15 2018\"), pd.to_datetime(\"Feb 15 2018\"))\n",
    "plot_log_posts_between(posts, pd.to_datetime(\"FEB 15 2018\"), pd.to_datetime(\"March 15 2018\"))"
   ]
  },
  {
   "cell_type": "code",
   "execution_count": 89,
   "metadata": {
    "hidden": true
   },
   "outputs": [
    {
     "data": {
      "image/png": "[encoded data removed]",
      "text/plain": [
       "<Figure size 432x288 with 1 Axes>"
      ]
     },
     "metadata": {},
     "output_type": "display_data"
    }
   ],
   "source": [
    "# testing a uniform distribution\n",
    "import random\n",
    "plt.hist(np.log([random.random()*500 for x in range(1015)]),bins=40);"
   ]
  },
  {
   "cell_type": "code",
   "execution_count": 91,
   "metadata": {
    "hidden": true,
    "scrolled": true
   },
   "outputs": [
    {
     "data": {
      "text/plain": [
       "0"
      ]
     },
     "execution_count": 91,
     "metadata": {},
     "output_type": "execute_result"
    }
   ],
   "source": [
    "date1, date2 = pd.to_datetime(\"Dec 15 2010\"), pd.to_datetime(\"Jan 15 2011\")\n",
    "sum((date1 < posts['date']) & (posts['date'] < date2))"
   ]
  },
  {
   "cell_type": "markdown",
   "metadata": {
    "heading_collapsed": true
   },
   "source": [
    "### Num of days (in last month) with > 0 posts"
   ]
  },
  {
   "cell_type": "code",
   "execution_count": 93,
   "metadata": {
    "hidden": true,
    "scrolled": false
   },
   "outputs": [
    {
     "data": {
      "image/png": "[encoded data removed]",
      "text/plain": [
       "<Figure size 432x288 with 1 Axes>"
      ]
     },
     "metadata": {},
     "output_type": "display_data"
    },
    {
     "data": {
      "image/png": "[encoded data removed]",
      "text/plain": [
       "<Figure size 432x288 with 1 Axes>"
      ]
     },
     "metadata": {},
     "output_type": "display_data"
    },
    {
     "data": {
      "image/png": "[encoded data removed]",
      "text/plain": [
       "<Figure size 432x288 with 1 Axes>"
      ]
     },
     "metadata": {},
     "output_type": "display_data"
    },
    {
     "data": {
      "image/png": "[encoded data removed]",
      "text/plain": [
       "<Figure size 432x288 with 1 Axes>"
      ]
     },
     "metadata": {},
     "output_type": "display_data"
    }
   ],
   "source": [
    "def plot_days_with_not_zero_posts_since(posts, date):\n",
    "    days_one_post_in_last_month = posts[posts['date']> date].groupby(['classroom_id','date']).sum().groupby('classroom_id').count()\n",
    "    num_posts_by_class = posts.groupby('classroom_id').count()\n",
    "    days_one_post_in_last_month = num_posts_by_class.join(days_one_post_in_last_month, how='left', lsuffix='_num_posts_by_class', rsuffix='_days_one_post_in_last_month')\n",
    "    days_one_post_in_last_month.loc[days_one_post_in_last_month['exists_days_one_post_in_last_month'].isnull(), 'exists_days_one_post_in_last_month'] = 0\n",
    "    fig, ax = plt.subplots(1,1)\n",
    "    ax.set_title(f'Days with not zero posts since {date.date()}')\n",
    "    ax.hist(days_one_post_in_last_month['exists_days_one_post_in_last_month'],bins=30);\n",
    "    ax.set_ylabel(\"# of classes\")\n",
    "    ax.set_xlabel(\"# of days\")\n",
    "    plt.show()\n",
    "    \n",
    "    \n",
    "def plot_log_days_with_not_zero_posts_since(posts, date):\n",
    "    days_one_post_in_last_month = posts[posts['date']> date].groupby(['classroom_id','date']).sum().groupby('classroom_id').count()\n",
    "    num_posts_by_class = posts.groupby('classroom_id').count()\n",
    "    days_one_post_in_last_month = num_posts_by_class.join(days_one_post_in_last_month, how='left', lsuffix='_num_posts_by_class', rsuffix='_days_one_post_in_last_month')\n",
    "    days_one_post_in_last_month.loc[days_one_post_in_last_month['exists_days_one_post_in_last_month'].isnull(), 'exists_days_one_post_in_last_month'] = 0\n",
    "    fig, ax = plt.subplots(1,1)\n",
    "    ax.set_title(f'Days with not zero posts since {date.date()}')\n",
    "    ax.hist(np.log(days_one_post_in_last_month['exists_days_one_post_in_last_month']+1),bins=30);\n",
    "    ax.set_ylabel(\"# of classes\")\n",
    "    ax.set_xlabel(\"log(#) of days\")\n",
    "    plt.show()\n",
    "    \n",
    "plot_days_with_not_zero_posts_since(posts, pd.to_datetime(\"feb 15 2018\"))\n",
    "plot_log_days_with_not_zero_posts_since(posts, pd.to_datetime(\"feb 15 2018\"))\n",
    "plot_days_with_not_zero_posts_since(posts, pd.to_datetime(\"feb 15 2011\"))\n",
    "plot_log_days_with_not_zero_posts_since(posts, pd.to_datetime(\"feb 15 2011\"))"
   ]
  },
  {
   "cell_type": "code",
   "execution_count": null,
   "metadata": {
    "hidden": true,
    "scrolled": false
   },
   "outputs": [],
   "source": [
    "def plot_days_with_not_zero_posts_between(posts, date1, date2):\n",
    "    print(sum((date1 < posts['date']) & (posts['date'] < date2)))\n",
    "    days_one_post_in_last_month = posts[(date1 < posts['date']) & (posts['date'] < date2)].groupby(['classroom_id','date']).sum().groupby('classroom_id').count()\n",
    "    num_posts_by_class = posts.groupby('classroom_id').count()\n",
    "    days_one_post_in_last_month = num_posts_by_class.join(days_one_post_in_last_month, how='left', lsuffix='_num_posts_by_class', rsuffix='_days_one_post_in_last_month')\n",
    "    days_one_post_in_last_month.loc[days_one_post_in_last_month['exists_days_one_post_in_last_month'].isnull(), 'exists_days_one_post_in_last_month'] = 0\n",
    "    fig, ax = plt.subplots(1,1)\n",
    "    ax.set_title(f'Days with not zero posts between {date1.date()} and {date2.date()}')\n",
    "    ax.hist(days_one_post_in_last_month['exists_days_one_post_in_last_month'],bins=30);\n",
    "    ax.set_ylabel(\"# of classes\")\n",
    "    ax.set_xlabel(\"# of days\")\n",
    "    plt.show()\n",
    "    \n",
    "    \n",
    "def plot_log_days_with_not_zero_posts_between(posts, date1, date2):\n",
    "    print(sum((date1 < posts['date']) & (posts['date'] < date2)))\n",
    "    days_one_post_in_last_month = posts[(date1 < posts['date']) & (posts['date'] < date2)].groupby(['classroom_id','date']).sum().groupby('classroom_id').count()\n",
    "    num_posts_by_class = posts.groupby('classroom_id').count()\n",
    "    days_one_post_in_last_month = num_posts_by_class.join(days_one_post_in_last_month, how='left', lsuffix='_num_posts_by_class', rsuffix='_days_one_post_in_last_month')\n",
    "    days_one_post_in_last_month.loc[days_one_post_in_last_month['exists_days_one_post_in_last_month'].isnull(), 'exists_days_one_post_in_last_month'] = 0\n",
    "    fig, ax = plt.subplots(1,1)\n",
    "    ax.set_title(f'Days with not zero posts between {date1.date()} and {date2.date()}')\n",
    "    ax.hist(np.log(days_one_post_in_last_month['exists_days_one_post_in_last_month']+1),bins=30);\n",
    "    ax.set_ylabel(\"# of classes\")\n",
    "    ax.set_xlabel(\"# of days\")\n",
    "    plt.show()\n",
    "    \n",
    "plot_days_with_not_zero_posts_between(posts, pd.to_datetime(\"Feb 15 2018\"), pd.to_datetime(\"Feb 16 2018\"))\n",
    "plot_days_with_not_zero_posts_between(posts, pd.to_datetime(\"Jan 15 2018\"), pd.to_datetime(\"Feb 15 2018\"))\n",
    "plot_log_days_with_not_zero_posts_between(posts, pd.to_datetime(\"Dec 15 2017\"), pd.to_datetime(\"Jan 15 2018\"))\n",
    "plot_days_with_not_zero_posts_between(posts, pd.to_datetime(\"Jan 15 2018\"), pd.to_datetime(\"Feb 15 2018\"))\n",
    "plot_log_days_with_not_zero_posts_between(posts, pd.to_datetime(\"FEB 15 2018\"), pd.to_datetime(\"March 15 2018\"))"
   ]
  },
  {
   "cell_type": "markdown",
   "metadata": {},
   "source": [
    "## chart zero entry classes per month over time"
   ]
  },
  {
   "cell_type": "code",
   "execution_count": null,
   "metadata": {},
   "outputs": [],
   "source": [
    "def posts_between(posts, date1, date2):\n",
    "    print(sum((date1 < posts['date']) & (posts['date'] < date2)))\n",
    "    last_month_posts = posts[(date1 < posts['date']) & (posts['date'] < date2)].groupby('classroom_id').count()\n",
    "    num_posts_by_class = posts.groupby('classroom_id').sum()\n",
    "    last_month_posts_total= num_posts_by_class.join(last_month_posts, how='left', lsuffix='_num_posts_by_class', rsuffix='_last_month_posts')\n",
    "    last_month_posts_total.loc[last_month_posts_total['id_last_month_posts'].isnull(),'exists_last_month_posts'] =0\n",
    "    return last_month_posts_total\n",
    "    \n",
    "def log_posts_between(posts, date1, date2):\n",
    "    print(sum((date1 < posts['date']) & (posts['date'] < date2)))\n",
    "    last_month_posts = posts[(date1 < posts['date']) & (posts['date'] < date2)].groupby('classroom_id').count()\n",
    "    num_posts_by_class = posts.groupby('classroom_id').sum()\n",
    "    last_month_posts_total= num_posts_by_class.join(last_month_posts, how='left', lsuffix='_num_posts_by_class', rsuffix='_last_month_posts')\n",
    "    last_month_posts_total.loc[last_month_posts_total['id_last_month_posts'].isnull(),'exists_last_month_posts'] =0\n",
    "    last_month_posts_total['exists_last_month_posts'] = np.log(last_month_posts_total['exists_last_month_posts']+1)\n",
    "    return last_month_posts_total\n",
    "    \n",
    "    \n",
    "def plot_days_with_not_zero_posts_between(posts, date1, date2):\n",
    "    print(sum((date1 < posts['date']) & (posts['date'] < date2)))\n",
    "    days_one_post_in_last_month = posts[(date1 < posts['date']) & (posts['date'] < date2)].groupby(['classroom_id','date']).sum().groupby('classroom_id').count()\n",
    "    num_posts_by_class = posts.groupby('classroom_id').count()\n",
    "    days_one_post_in_last_month = num_posts_by_class.join(days_one_post_in_last_month, how='left', lsuffix='_num_posts_by_class', rsuffix='_days_one_post_in_last_month')\n",
    "    days_one_post_in_last_month.loc[days_one_post_in_last_month['exists_days_one_post_in_last_month'].isnull(), 'exists_days_one_post_in_last_month'] = 0\n",
    "    return days_one_post_in_last_month\n",
    "    \n",
    "def plot_log_days_with_not_zero_posts_between(posts, date1, date2):\n",
    "    print(sum((date1 < posts['date']) & (posts['date'] < date2)))\n",
    "    days_one_post_in_last_month = posts[(date1 < posts['date']) & (posts['date'] < date2)].groupby(['classroom_id','date']).sum().groupby('classroom_id').count()\n",
    "    num_posts_by_class = posts.groupby('classroom_id').count()\n",
    "    days_one_post_in_last_month = num_posts_by_class.join(days_one_post_in_last_month, how='left', lsuffix='_num_posts_by_class', rsuffix='_days_one_post_in_last_month')\n",
    "    days_one_post_in_last_month.loc[days_one_post_in_last_month['exists_days_one_post_in_last_month'].isnull(), 'exists_days_one_post_in_last_month'] = 0\n",
    "    days_one_post_in_last_month['exists_days_one_post_in_last_month'] = np.log(days_one_post_in_last_month['exists_days_one_post_in_last_month']+1)\n",
    "    return days_one_post_in_last_month"
   ]
  },
  {
   "cell_type": "code",
   "execution_count": null,
   "metadata": {},
   "outputs": [],
   "source": [
    "posts.groupby(pd.Grouper(freq=\"M\"), as_index=False).count()"
   ]
  },
  {
   "cell_type": "raw",
   "metadata": {},
   "source": [
    "posts.groupby([(posts['date'].year),(posts['date'].month)]).sum()"
   ]
  },
  {
   "cell_type": "code",
   "execution_count": null,
   "metadata": {},
   "outputs": [],
   "source": [
    "# months = \"jan, feb, mar, april, may, june, july, aug, sept, oct, nov, dec\".split(',')\n",
    "# for classroom_id in posts['classroom_id'].unique():\n",
    "#     for year in range(2011,2018)\n",
    "#         for i_month in range(months):\n",
    "#             posts_between(posts, date1=pd.datetime(str(year) + months[i_month]), date2=)\n",
    "#             plot_days_with_not_zero_posts_between(posts, date1, date2)"
   ]
  },
  {
   "cell_type": "markdown",
   "metadata": {
    "heading_collapsed": true
   },
   "source": [
    "# Hearts"
   ]
  },
  {
   "cell_type": "code",
   "execution_count": null,
   "metadata": {
    "hidden": true
   },
   "outputs": [],
   "source": [
    "sum(posts[posts['classroom_id']==4]['date']>pd.to_datetime('feb 15 2018'))"
   ]
  },
  {
   "cell_type": "code",
   "execution_count": null,
   "metadata": {
    "hidden": true
   },
   "outputs": [],
   "source": [
    "sum(posts[posts['classroom_id']==4]['date']>pd.to_datetime('feb 15 2018'))"
   ]
  },
  {
   "cell_type": "markdown",
   "metadata": {
    "hidden": true
   },
   "source": [
    "### in the last 90 days:\n",
    "one <3 rewarded if:\n",
    "1. the min of last three # posts/month is greater than 50\n",
    "2. the min of last three # posts/month is greater than 200\n",
    "3. the min of least month is greater than zero\n",
    "4. the min of least WEEK is greater than zero (so one post every week) \n",
    "5. the least month is more than a fourth of the greatest month. (again, over the last three months)"
   ]
  },
  {
   "cell_type": "code",
   "execution_count": null,
   "metadata": {
    "hidden": true
   },
   "outputs": [],
   "source": [
    "self.record_keeping_quantity_1 = month_min >= 50\n",
    "self.record_keeping_quantity_2 = month_min >= 200\n",
    "self.record_keeping_frequency_1 = month_min > 0\n",
    "self.record_keeping_frequency_2 = week_min > 0\n",
    "self.record_keeping_consistency = month_max && month_max < month_min * 4"
   ]
  },
  {
   "cell_type": "markdown",
   "metadata": {},
   "source": [
    "# look at premade hearts"
   ]
  },
  {
   "cell_type": "code",
   "execution_count": null,
   "metadata": {},
   "outputs": [],
   "source": [
    "hearts = pd.read_csv('../data2/health_checks.csv')\n",
    "hearts['date'] = pd.to_datetime(hearts['date'], errors='coerce')\n",
    "hearts.head(3)"
   ]
  },
  {
   "cell_type": "code",
   "execution_count": null,
   "metadata": {},
   "outputs": [],
   "source": [
    "classrooms_merged.head(10)"
   ]
  },
  {
   "cell_type": "code",
   "execution_count": null,
   "metadata": {},
   "outputs": [],
   "source": [
    "hearts_merged = classrooms_merged.merge(hearts, how='left', left_on=['school_id','date'], right_on=['school_id','date'])"
   ]
  },
  {
   "cell_type": "code",
   "execution_count": null,
   "metadata": {},
   "outputs": [],
   "source": [
    "len(hearts_merged)"
   ]
  },
  {
   "cell_type": "code",
   "execution_count": null,
   "metadata": {},
   "outputs": [],
   "source": [
    "len(hearts)"
   ]
  },
  {
   "cell_type": "code",
   "execution_count": null,
   "metadata": {},
   "outputs": [],
   "source": [
    "len(classrooms_merged)"
   ]
  },
  {
   "cell_type": "code",
   "execution_count": null,
   "metadata": {},
   "outputs": [],
   "source": [
    "hearts_merged.columns"
   ]
  },
  {
   "cell_type": "code",
   "execution_count": null,
   "metadata": {},
   "outputs": [],
   "source": [
    "hearts_merged['classroom_id'] = hearts_merged['classroom_id_x']\n",
    "hearts_merged = hearts_merged.drop('classroom_id_y', axis=1)\n",
    "hearts_merged = hearts_merged.drop('classroom_id_x', axis=1)\n",
    "hearts_merged.head(3)\n"
   ]
  },
  {
   "cell_type": "code",
   "execution_count": null,
   "metadata": {},
   "outputs": [],
   "source": [
    "sum(pd.isna(hearts_merged['date']))\n",
    "\n",
    "# sum(pd.isna(hearts_merged_cleaned_date['date']))"
   ]
  },
  {
   "cell_type": "code",
   "execution_count": null,
   "metadata": {
    "scrolled": false
   },
   "outputs": [],
   "source": [
    "from autoregression import cleandata\n",
    "hearts_merged_cleaned_date = cleandata.clean_df_respect_to_y(hearts_merged, 'date')\n",
    "\n",
    "def plot_hearts(hearts_merged):\n",
    "    for classroom_id in sum_post['classroom_id'].unique()[20:30]:\n",
    "        fig, ax = plt.subplots(2,1, figsize=(20,3))\n",
    "        ax.flatten()\n",
    "        ax[0].scatter(hearts_merged[hearts_merged['classroom_id']==classroom_id]['date'].values,hearts_merged[hearts_merged['classroom_id']==classroom_id]['score'], s=1)\n",
    "        ax[1].plot(hearts_merged[hearts_merged['classroom_id']==classroom_id].sort_values('date')['date'],hearts_merged[hearts_merged['classroom_id']==classroom_id].sort_values('date')['score']);\n",
    "        ax[0].set_title(f\"Class {classroom_id} score\")\n",
    "\n",
    "    #     ax[0].get_xaxis().set_label_coords(2011,2019)\n",
    "    #     ax[1].get_xaxis().set_label_coords(2011,2019)\n",
    "    #     x0, x1 = ax[0].xaxis.label.get_position()\n",
    "    #     print(x0, x1)\n",
    "    # #     ax[1].xaxis.label.set_position([x0, x1])\n",
    "    # #     ax[1].xaxis._autolabelpos=False\n",
    "    #     ax[0].set_xticks([pd.to_datetime(x0),pd.to_datetime(x1)])\n",
    "    #     ax[1].set_xticks([pd.to_datetime(x0),pd.to_datetime(x1)])\n",
    "        plt.show()\n",
    "plot_hearts(hearts_merged_cleaned_date)"
   ]
  },
  {
   "cell_type": "code",
   "execution_count": null,
   "metadata": {},
   "outputs": [],
   "source": []
  },
  {
   "cell_type": "code",
   "execution_count": null,
   "metadata": {},
   "outputs": [],
   "source": [
    "\n"
   ]
  },
  {
   "cell_type": "markdown",
   "metadata": {},
   "source": [
    "# make non-zero monthly groupings"
   ]
  },
  {
   "cell_type": "code",
   "execution_count": 98,
   "metadata": {},
   "outputs": [
    {
     "data": {
      "text/html": [
       "<div>\n",
       "<style scoped>\n",
       "    .dataframe tbody tr th:only-of-type {\n",
       "        vertical-align: middle;\n",
       "    }\n",
       "\n",
       "    .dataframe tbody tr th {\n",
       "        vertical-align: top;\n",
       "    }\n",
       "\n",
       "    .dataframe thead th {\n",
       "        text-align: right;\n",
       "    }\n",
       "</style>\n",
       "<table border=\"1\" class=\"dataframe\">\n",
       "  <thead>\n",
       "    <tr style=\"text-align: right;\">\n",
       "      <th></th>\n",
       "      <th></th>\n",
       "      <th>id</th>\n",
       "      <th>date</th>\n",
       "      <th>picture_file_name</th>\n",
       "      <th>private</th>\n",
       "      <th>exists</th>\n",
       "    </tr>\n",
       "    <tr>\n",
       "      <th>classroom_id</th>\n",
       "      <th>year_month</th>\n",
       "      <th></th>\n",
       "      <th></th>\n",
       "      <th></th>\n",
       "      <th></th>\n",
       "      <th></th>\n",
       "    </tr>\n",
       "  </thead>\n",
       "  <tbody>\n",
       "    <tr>\n",
       "      <th rowspan=\"3\" valign=\"top\">1</th>\n",
       "      <th>2011-12-01</th>\n",
       "      <td>16</td>\n",
       "      <td>16</td>\n",
       "      <td>16</td>\n",
       "      <td>16</td>\n",
       "      <td>16</td>\n",
       "    </tr>\n",
       "    <tr>\n",
       "      <th>2012-01-01</th>\n",
       "      <td>167</td>\n",
       "      <td>167</td>\n",
       "      <td>71</td>\n",
       "      <td>167</td>\n",
       "      <td>167</td>\n",
       "    </tr>\n",
       "    <tr>\n",
       "      <th>2012-02-01</th>\n",
       "      <td>262</td>\n",
       "      <td>262</td>\n",
       "      <td>93</td>\n",
       "      <td>262</td>\n",
       "      <td>262</td>\n",
       "    </tr>\n",
       "  </tbody>\n",
       "</table>\n",
       "</div>"
      ],
      "text/plain": [
       "                          id  date  picture_file_name  private  exists\n",
       "classroom_id year_month                                               \n",
       "1            2011-12-01   16    16                 16       16      16\n",
       "             2012-01-01  167   167                 71      167     167\n",
       "             2012-02-01  262   262                 93      262     262"
      ]
     },
     "execution_count": 98,
     "metadata": {},
     "output_type": "execute_result"
    }
   ],
   "source": [
    "posts['year_month'] = pd.to_datetime(posts['date']).map(lambda dt: dt.replace(day=1))\n",
    "posts.groupby(['classroom_id','year_month']).count().head(3)"
   ]
  },
  {
   "cell_type": "code",
   "execution_count": 99,
   "metadata": {},
   "outputs": [
    {
     "data": {
      "text/plain": [
       "year_month  classroom_id\n",
       "1908-10-01  1               0\n",
       "            3               0\n",
       "            4               0\n",
       "dtype: int64"
      ]
     },
     "execution_count": 99,
     "metadata": {},
     "output_type": "execute_result"
    }
   ],
   "source": [
    "class_month_posts = posts.pivot_table(index='classroom_id', \n",
    "                     columns='year_month', \n",
    "                     values='exists',\n",
    "                     fill_value=0, \n",
    "                     aggfunc='count').unstack()\n",
    "class_month_posts.head(3)"
   ]
  },
  {
   "cell_type": "code",
   "execution_count": 100,
   "metadata": {},
   "outputs": [
    {
     "data": {
      "text/plain": [
       "classroom_id  year_month\n",
       "1             1908-10-01    0\n",
       "              1917-01-01    0\n",
       "              1917-03-01    0\n",
       "dtype: int64"
      ]
     },
     "execution_count": 100,
     "metadata": {},
     "output_type": "execute_result"
    }
   ],
   "source": [
    "# pretty good so far, but I want those zeros\n",
    "class_month_posts = posts.pivot_table(index='year_month',\n",
    "                     columns='classroom_id', \n",
    "                     values='exists',\n",
    "                     fill_value=0, \n",
    "                     aggfunc='count').unstack()\n",
    "class_month_posts.head(3)"
   ]
  },
  {
   "cell_type": "code",
   "execution_count": 101,
   "metadata": {},
   "outputs": [
    {
     "ename": "KeyError",
     "evalue": "'classroom_id'",
     "output_type": "error",
     "traceback": [
      "\u001b[0;31m---------------------------------------------------------------------------\u001b[0m",
      "\u001b[0;31mTypeError\u001b[0m                                 Traceback (most recent call last)",
      "\u001b[0;32m~/anaconda3/lib/python3.6/site-packages/pandas/core/indexes/multi.py\u001b[0m in \u001b[0;36mget_value\u001b[0;34m(self, series, key)\u001b[0m\n\u001b[1;32m    867\u001b[0m             \u001b[0;32mtry\u001b[0m\u001b[0;34m:\u001b[0m\u001b[0;34m\u001b[0m\u001b[0m\n\u001b[0;32m--> 868\u001b[0;31m                 \u001b[0;32mreturn\u001b[0m \u001b[0mlibindex\u001b[0m\u001b[0;34m.\u001b[0m\u001b[0mget_value_at\u001b[0m\u001b[0;34m(\u001b[0m\u001b[0ms\u001b[0m\u001b[0;34m,\u001b[0m \u001b[0mk\u001b[0m\u001b[0;34m)\u001b[0m\u001b[0;34m\u001b[0m\u001b[0m\n\u001b[0m\u001b[1;32m    869\u001b[0m             \u001b[0;32mexcept\u001b[0m \u001b[0mIndexError\u001b[0m\u001b[0;34m:\u001b[0m\u001b[0;34m\u001b[0m\u001b[0m\n",
      "\u001b[0;32mpandas/_libs/index.pyx\u001b[0m in \u001b[0;36mpandas._libs.index.get_value_at\u001b[0;34m()\u001b[0m\n",
      "\u001b[0;32mpandas/_libs/src/util.pxd\u001b[0m in \u001b[0;36mutil.get_value_at\u001b[0;34m()\u001b[0m\n",
      "\u001b[0;31mTypeError\u001b[0m: 'str' object cannot be interpreted as an integer",
      "\nDuring handling of the above exception, another exception occurred:\n",
      "\u001b[0;31mKeyError\u001b[0m                                  Traceback (most recent call last)",
      "\u001b[0;32m<ipython-input-101-f63b2356e2e7>\u001b[0m in \u001b[0;36m<module>\u001b[0;34m()\u001b[0m\n\u001b[0;32m----> 1\u001b[0;31m \u001b[0;32mfor\u001b[0m \u001b[0mclassroom_id\u001b[0m \u001b[0;32min\u001b[0m \u001b[0mclass_month_posts\u001b[0m\u001b[0;34m[\u001b[0m\u001b[0;34m'classroom_id'\u001b[0m\u001b[0;34m]\u001b[0m\u001b[0;34m.\u001b[0m\u001b[0munique\u001b[0m\u001b[0;34m(\u001b[0m\u001b[0;34m)\u001b[0m\u001b[0;34m[\u001b[0m\u001b[0;36m0\u001b[0m\u001b[0;34m:\u001b[0m\u001b[0;36m10\u001b[0m\u001b[0;34m]\u001b[0m\u001b[0;34m:\u001b[0m\u001b[0;34m\u001b[0m\u001b[0m\n\u001b[0m\u001b[1;32m      2\u001b[0m     \u001b[0mfig\u001b[0m\u001b[0;34m,\u001b[0m \u001b[0max\u001b[0m \u001b[0;34m=\u001b[0m \u001b[0mplt\u001b[0m\u001b[0;34m.\u001b[0m\u001b[0msubplots\u001b[0m\u001b[0;34m(\u001b[0m\u001b[0;36m2\u001b[0m\u001b[0;34m,\u001b[0m\u001b[0;36m1\u001b[0m\u001b[0;34m,\u001b[0m \u001b[0mfigsize\u001b[0m\u001b[0;34m=\u001b[0m\u001b[0;34m(\u001b[0m\u001b[0;36m20\u001b[0m\u001b[0;34m,\u001b[0m\u001b[0;36m3\u001b[0m\u001b[0;34m)\u001b[0m\u001b[0;34m)\u001b[0m\u001b[0;34m\u001b[0m\u001b[0m\n\u001b[1;32m      3\u001b[0m     \u001b[0max\u001b[0m\u001b[0;34m.\u001b[0m\u001b[0mflatten\u001b[0m\u001b[0;34m(\u001b[0m\u001b[0;34m)\u001b[0m\u001b[0;34m\u001b[0m\u001b[0m\n\u001b[1;32m      4\u001b[0m     \u001b[0max\u001b[0m\u001b[0;34m[\u001b[0m\u001b[0;36m0\u001b[0m\u001b[0;34m]\u001b[0m\u001b[0;34m.\u001b[0m\u001b[0mscatter\u001b[0m\u001b[0;34m(\u001b[0m\u001b[0mclass_month_posts\u001b[0m\u001b[0;34m[\u001b[0m\u001b[0mclass_month_posts\u001b[0m\u001b[0;34m[\u001b[0m\u001b[0;34m'classroom_id'\u001b[0m\u001b[0;34m]\u001b[0m\u001b[0;34m==\u001b[0m\u001b[0mclassroom_id\u001b[0m\u001b[0;34m]\u001b[0m\u001b[0;34m[\u001b[0m\u001b[0;34m'date'\u001b[0m\u001b[0;34m]\u001b[0m\u001b[0;34m.\u001b[0m\u001b[0mvalues\u001b[0m\u001b[0;34m,\u001b[0m\u001b[0mclass_month_posts\u001b[0m\u001b[0;34m[\u001b[0m\u001b[0mclass_month_posts\u001b[0m\u001b[0;34m[\u001b[0m\u001b[0;34m'classroom_id'\u001b[0m\u001b[0;34m]\u001b[0m\u001b[0;34m==\u001b[0m\u001b[0mclassroom_id\u001b[0m\u001b[0;34m]\u001b[0m\u001b[0;34m[\u001b[0m\u001b[0;34m'exists'\u001b[0m\u001b[0;34m]\u001b[0m\u001b[0;34m,\u001b[0m \u001b[0ms\u001b[0m\u001b[0;34m=\u001b[0m\u001b[0;36m1\u001b[0m\u001b[0;34m)\u001b[0m\u001b[0;34m\u001b[0m\u001b[0m\n\u001b[1;32m      5\u001b[0m     \u001b[0max\u001b[0m\u001b[0;34m[\u001b[0m\u001b[0;36m1\u001b[0m\u001b[0;34m]\u001b[0m\u001b[0;34m.\u001b[0m\u001b[0mplot\u001b[0m\u001b[0;34m(\u001b[0m\u001b[0mclass_month_posts\u001b[0m\u001b[0;34m[\u001b[0m\u001b[0mclass_month_posts\u001b[0m\u001b[0;34m[\u001b[0m\u001b[0;34m'classroom_id'\u001b[0m\u001b[0;34m]\u001b[0m\u001b[0;34m==\u001b[0m\u001b[0mclassroom_id\u001b[0m\u001b[0;34m]\u001b[0m\u001b[0;34m.\u001b[0m\u001b[0msort_values\u001b[0m\u001b[0;34m(\u001b[0m\u001b[0;34m'date'\u001b[0m\u001b[0;34m)\u001b[0m\u001b[0;34m[\u001b[0m\u001b[0;34m'date'\u001b[0m\u001b[0;34m]\u001b[0m\u001b[0;34m,\u001b[0m\u001b[0mclass_month_posts\u001b[0m\u001b[0;34m[\u001b[0m\u001b[0mclass_month_posts\u001b[0m\u001b[0;34m[\u001b[0m\u001b[0;34m'classroom_id'\u001b[0m\u001b[0;34m]\u001b[0m\u001b[0;34m==\u001b[0m\u001b[0mclassroom_id\u001b[0m\u001b[0;34m]\u001b[0m\u001b[0;34m.\u001b[0m\u001b[0msort_values\u001b[0m\u001b[0;34m(\u001b[0m\u001b[0;34m'date'\u001b[0m\u001b[0;34m)\u001b[0m\u001b[0;34m[\u001b[0m\u001b[0;34m'exists'\u001b[0m\u001b[0;34m]\u001b[0m\u001b[0;34m)\u001b[0m\u001b[0;34m;\u001b[0m\u001b[0;34m\u001b[0m\u001b[0m\n",
      "\u001b[0;32m~/anaconda3/lib/python3.6/site-packages/pandas/core/series.py\u001b[0m in \u001b[0;36m__getitem__\u001b[0;34m(self, key)\u001b[0m\n\u001b[1;32m    621\u001b[0m         \u001b[0mkey\u001b[0m \u001b[0;34m=\u001b[0m \u001b[0mcom\u001b[0m\u001b[0;34m.\u001b[0m\u001b[0m_apply_if_callable\u001b[0m\u001b[0;34m(\u001b[0m\u001b[0mkey\u001b[0m\u001b[0;34m,\u001b[0m \u001b[0mself\u001b[0m\u001b[0;34m)\u001b[0m\u001b[0;34m\u001b[0m\u001b[0m\n\u001b[1;32m    622\u001b[0m         \u001b[0;32mtry\u001b[0m\u001b[0;34m:\u001b[0m\u001b[0;34m\u001b[0m\u001b[0m\n\u001b[0;32m--> 623\u001b[0;31m             \u001b[0mresult\u001b[0m \u001b[0;34m=\u001b[0m \u001b[0mself\u001b[0m\u001b[0;34m.\u001b[0m\u001b[0mindex\u001b[0m\u001b[0;34m.\u001b[0m\u001b[0mget_value\u001b[0m\u001b[0;34m(\u001b[0m\u001b[0mself\u001b[0m\u001b[0;34m,\u001b[0m \u001b[0mkey\u001b[0m\u001b[0;34m)\u001b[0m\u001b[0;34m\u001b[0m\u001b[0m\n\u001b[0m\u001b[1;32m    624\u001b[0m \u001b[0;34m\u001b[0m\u001b[0m\n\u001b[1;32m    625\u001b[0m             \u001b[0;32mif\u001b[0m \u001b[0;32mnot\u001b[0m \u001b[0mis_scalar\u001b[0m\u001b[0;34m(\u001b[0m\u001b[0mresult\u001b[0m\u001b[0;34m)\u001b[0m\u001b[0;34m:\u001b[0m\u001b[0;34m\u001b[0m\u001b[0m\n",
      "\u001b[0;32m~/anaconda3/lib/python3.6/site-packages/pandas/core/indexes/multi.py\u001b[0m in \u001b[0;36mget_value\u001b[0;34m(self, series, key)\u001b[0m\n\u001b[1;32m    874\u001b[0m                     \u001b[0;32mraise\u001b[0m \u001b[0mInvalidIndexError\u001b[0m\u001b[0;34m(\u001b[0m\u001b[0mkey\u001b[0m\u001b[0;34m)\u001b[0m\u001b[0;34m\u001b[0m\u001b[0m\n\u001b[1;32m    875\u001b[0m                 \u001b[0;32melse\u001b[0m\u001b[0;34m:\u001b[0m\u001b[0;34m\u001b[0m\u001b[0m\n\u001b[0;32m--> 876\u001b[0;31m                     \u001b[0;32mraise\u001b[0m \u001b[0me1\u001b[0m\u001b[0;34m\u001b[0m\u001b[0m\n\u001b[0m\u001b[1;32m    877\u001b[0m             \u001b[0;32mexcept\u001b[0m \u001b[0mException\u001b[0m\u001b[0;34m:\u001b[0m  \u001b[0;31m# pragma: no cover\u001b[0m\u001b[0;34m\u001b[0m\u001b[0m\n\u001b[1;32m    878\u001b[0m                 \u001b[0;32mraise\u001b[0m \u001b[0me1\u001b[0m\u001b[0;34m\u001b[0m\u001b[0m\n",
      "\u001b[0;32m~/anaconda3/lib/python3.6/site-packages/pandas/core/indexes/multi.py\u001b[0m in \u001b[0;36mget_value\u001b[0;34m(self, series, key)\u001b[0m\n\u001b[1;32m    858\u001b[0m \u001b[0;34m\u001b[0m\u001b[0m\n\u001b[1;32m    859\u001b[0m         \u001b[0;32mtry\u001b[0m\u001b[0;34m:\u001b[0m\u001b[0;34m\u001b[0m\u001b[0m\n\u001b[0;32m--> 860\u001b[0;31m             \u001b[0;32mreturn\u001b[0m \u001b[0mself\u001b[0m\u001b[0;34m.\u001b[0m\u001b[0m_engine\u001b[0m\u001b[0;34m.\u001b[0m\u001b[0mget_value\u001b[0m\u001b[0;34m(\u001b[0m\u001b[0ms\u001b[0m\u001b[0;34m,\u001b[0m \u001b[0mk\u001b[0m\u001b[0;34m)\u001b[0m\u001b[0;34m\u001b[0m\u001b[0m\n\u001b[0m\u001b[1;32m    861\u001b[0m         \u001b[0;32mexcept\u001b[0m \u001b[0mKeyError\u001b[0m \u001b[0;32mas\u001b[0m \u001b[0me1\u001b[0m\u001b[0;34m:\u001b[0m\u001b[0;34m\u001b[0m\u001b[0m\n\u001b[1;32m    862\u001b[0m             \u001b[0;32mtry\u001b[0m\u001b[0;34m:\u001b[0m\u001b[0;34m\u001b[0m\u001b[0m\n",
      "\u001b[0;32mpandas/_libs/index.pyx\u001b[0m in \u001b[0;36mpandas._libs.index.IndexEngine.get_value\u001b[0;34m()\u001b[0m\n",
      "\u001b[0;32mpandas/_libs/index.pyx\u001b[0m in \u001b[0;36mpandas._libs.index.IndexEngine.get_value\u001b[0;34m()\u001b[0m\n",
      "\u001b[0;32mpandas/_libs/index.pyx\u001b[0m in \u001b[0;36mpandas._libs.index.MultiIndexHashEngine.get_loc\u001b[0;34m()\u001b[0m\n",
      "\u001b[0;31mKeyError\u001b[0m: 'classroom_id'"
     ]
    }
   ],
   "source": [
    "for classroom_id in class_month_posts['classroom_id'].unique()[0:10]:\n",
    "    fig, ax = plt.subplots(2,1, figsize=(20,3))\n",
    "    ax.flatten()\n",
    "    ax[0].scatter(class_month_posts[class_month_posts['classroom_id']==classroom_id]['date'].values,class_month_posts[class_month_posts['classroom_id']==classroom_id]['exists'], s=1)\n",
    "    ax[1].plot(class_month_posts[class_month_posts['classroom_id']==classroom_id].sort_values('date')['date'],class_month_posts[class_month_posts['classroom_id']==classroom_id].sort_values('date')['exists']);\n",
    "    ax[0].set_title(f\"Class {classroom_id} score\")"
   ]
  },
  {
   "cell_type": "code",
   "execution_count": 51,
   "metadata": {
    "scrolled": false
   },
   "outputs": [
    {
     "data": {
      "image/png": "[encoded data removed]",
      "text/plain": [
       "<Figure size 1440x216 with 2 Axes>"
      ]
     },
     "metadata": {},
     "output_type": "display_data"
    },
    {
     "data": {
      "image/png": "[encoded data removed]",
      "text/plain": [
       "<Figure size 1440x216 with 2 Axes>"
      ]
     },
     "metadata": {},
     "output_type": "display_data"
    },
    {
     "data": {
      "image/png": "[encoded data removed]",
      "text/plain": [
       "<Figure size 1440x216 with 2 Axes>"
      ]
     },
     "metadata": {},
     "output_type": "display_data"
    },
    {
     "data": {
      "image/png": "[encoded data removed]",
      "text/plain": [
       "<Figure size 1440x216 with 2 Axes>"
      ]
     },
     "metadata": {},
     "output_type": "display_data"
    },
    {
     "data": {
      "image/png": "[encoded data removed]",
      "text/plain": [
       "<Figure size 1440x216 with 2 Axes>"
      ]
     },
     "metadata": {},
     "output_type": "display_data"
    },
    {
     "data": {
      "image/png": "[encoded data removed]",
      "text/plain": [
       "<Figure size 1440x216 with 2 Axes>"
      ]
     },
     "metadata": {},
     "output_type": "display_data"
    },
    {
     "data": {
      "image/png": "[encoded data removed]",
      "text/plain": [
       "<Figure size 1440x216 with 2 Axes>"
      ]
     },
     "metadata": {},
     "output_type": "display_data"
    },
    {
     "data": {
      "image/png": "[encoded data removed]",
      "text/plain": [
       "<Figure size 1440x216 with 2 Axes>"
      ]
     },
     "metadata": {},
     "output_type": "display_data"
    },
    {
     "data": {
      "image/png": "[encoded data removed]",
      "text/plain": [
       "<Figure size 1440x216 with 2 Axes>"
      ]
     },
     "metadata": {},
     "output_type": "display_data"
    },
    {
     "data": {
      "image/png": "[encoded data removed]",
      "text/plain": [
       "<Figure size 1440x216 with 2 Axes>"
      ]
     },
     "metadata": {},
     "output_type": "display_data"
    }
   ],
   "source": [
    "for classroom_id in list(class_month_posts.index.get_level_values(0).unique())[0:10]:\n",
    "    fig, ax = plt.subplots(2,1, figsize=(20,3))\n",
    "    ax.flatten()\n",
    "    dates = np.array(class_month_posts[classroom_id].index)\n",
    "    current_monthly_posts = class_month_posts[classroom_id].values\n",
    "    ax[0].scatter(dates, current_monthly_posts>0, s=1)\n",
    "    ax[1].plot(dates, current_monthly_posts>0)\n",
    "#     ax[1].plot(class_month_posts[class_month_posts['classroom_id']==classroom_id].sort_values('date')['date'],class_month_posts[class_month_posts['classroom_id']==classroom_id].sort_values('date'));\n",
    "    ax[0].set_title(f\"Class {classroom_id} score\")\n",
    "    ax[0].set_xlim(\"2011\",\"2018\")\n",
    "    ax[1].set_xlim(\"2011\",\"2018\")\n",
    "    plt.show()"
   ]
  },
  {
   "cell_type": "code",
   "execution_count": 29,
   "metadata": {},
   "outputs": [
    {
     "data": {
      "text/plain": [
       "Int64Index([   1,    1,    1,    1,    1,    1,    1,    1,    1,    1,\n",
       "            ...\n",
       "            3862, 3862, 3862, 3862, 3862, 3862, 3862, 3862, 3862, 3862],\n",
       "           dtype='int64', name='classroom_id', length=230510)"
      ]
     },
     "execution_count": 29,
     "metadata": {},
     "output_type": "execute_result"
    }
   ],
   "source": []
  },
  {
   "cell_type": "code",
   "execution_count": 52,
   "metadata": {},
   "outputs": [
    {
     "data": {
      "text/html": [
       "<div>\n",
       "<style scoped>\n",
       "    .dataframe tbody tr th:only-of-type {\n",
       "        vertical-align: middle;\n",
       "    }\n",
       "\n",
       "    .dataframe tbody tr th {\n",
       "        vertical-align: top;\n",
       "    }\n",
       "\n",
       "    .dataframe thead th {\n",
       "        text-align: right;\n",
       "    }\n",
       "</style>\n",
       "<table border=\"1\" class=\"dataframe\">\n",
       "  <thead>\n",
       "    <tr style=\"text-align: right;\">\n",
       "      <th></th>\n",
       "      <th>id</th>\n",
       "      <th>current</th>\n",
       "      <th>start_date</th>\n",
       "      <th>stop_date</th>\n",
       "      <th>name</th>\n",
       "      <th>school_id</th>\n",
       "      <th>inactive</th>\n",
       "      <th>exists</th>\n",
       "    </tr>\n",
       "  </thead>\n",
       "  <tbody>\n",
       "    <tr>\n",
       "      <th>0</th>\n",
       "      <td>1</td>\n",
       "      <td>f</td>\n",
       "      <td>2012-01-03</td>\n",
       "      <td>2012-06-20</td>\n",
       "      <td>2011-12</td>\n",
       "      <td>2</td>\n",
       "      <td>f</td>\n",
       "      <td>1</td>\n",
       "    </tr>\n",
       "    <tr>\n",
       "      <th>1</th>\n",
       "      <td>2</td>\n",
       "      <td>f</td>\n",
       "      <td>2012-06-25</td>\n",
       "      <td>2012-08-17</td>\n",
       "      <td>Summer 2012</td>\n",
       "      <td>2</td>\n",
       "      <td>f</td>\n",
       "      <td>1</td>\n",
       "    </tr>\n",
       "    <tr>\n",
       "      <th>2</th>\n",
       "      <td>6</td>\n",
       "      <td>f</td>\n",
       "      <td>2013-09-01</td>\n",
       "      <td>2014-07-01</td>\n",
       "      <td>2013-14</td>\n",
       "      <td>3</td>\n",
       "      <td>f</td>\n",
       "      <td>1</td>\n",
       "    </tr>\n",
       "  </tbody>\n",
       "</table>\n",
       "</div>"
      ],
      "text/plain": [
       "   id current start_date  stop_date         name  school_id inactive  exists\n",
       "0   1       f 2012-01-03 2012-06-20      2011-12          2        f       1\n",
       "1   2       f 2012-06-25 2012-08-17  Summer 2012          2        f       1\n",
       "2   6       f 2013-09-01 2014-07-01      2013-14          3        f       1"
      ]
     },
     "execution_count": 52,
     "metadata": {},
     "output_type": "execute_result"
    }
   ],
   "source": [
    "sessions.head(3)"
   ]
  },
  {
   "cell_type": "code",
   "execution_count": null,
   "metadata": {},
   "outputs": [],
   "source": [
    "sessions.groupby('school_id', 'stop_date').count()"
   ]
  },
  {
   "cell_type": "code",
   "execution_count": 74,
   "metadata": {},
   "outputs": [],
   "source": [
    "continued_accounts = (sessions.groupby('school_id').agg({'stop_date' : [np.max]}) > pd.to_datetime(\"march 2018\")).sum()"
   ]
  },
  {
   "cell_type": "code",
   "execution_count": 75,
   "metadata": {},
   "outputs": [],
   "source": [
    "total_accounts = len(sessions.groupby('school_id').agg({'stop_date' : [np.max]}) > pd.to_datetime(\"march 2018\"))"
   ]
  },
  {
   "cell_type": "code",
   "execution_count": 78,
   "metadata": {},
   "outputs": [
    {
     "data": {
      "text/html": [
       "<div>\n",
       "<style scoped>\n",
       "    .dataframe tbody tr th:only-of-type {\n",
       "        vertical-align: middle;\n",
       "    }\n",
       "\n",
       "    .dataframe tbody tr th {\n",
       "        vertical-align: top;\n",
       "    }\n",
       "\n",
       "    .dataframe thead tr th {\n",
       "        text-align: left;\n",
       "    }\n",
       "\n",
       "    .dataframe thead tr:last-of-type th {\n",
       "        text-align: right;\n",
       "    }\n",
       "</style>\n",
       "<table border=\"1\" class=\"dataframe\">\n",
       "  <thead>\n",
       "    <tr>\n",
       "      <th></th>\n",
       "      <th>stop_date</th>\n",
       "    </tr>\n",
       "    <tr>\n",
       "      <th></th>\n",
       "      <th>amax</th>\n",
       "    </tr>\n",
       "    <tr>\n",
       "      <th>school_id</th>\n",
       "      <th></th>\n",
       "    </tr>\n",
       "  </thead>\n",
       "  <tbody>\n",
       "    <tr>\n",
       "      <th>2</th>\n",
       "      <td>True</td>\n",
       "    </tr>\n",
       "    <tr>\n",
       "      <th>3</th>\n",
       "      <td>True</td>\n",
       "    </tr>\n",
       "    <tr>\n",
       "      <th>7</th>\n",
       "      <td>True</td>\n",
       "    </tr>\n",
       "    <tr>\n",
       "      <th>8</th>\n",
       "      <td>True</td>\n",
       "    </tr>\n",
       "    <tr>\n",
       "      <th>10</th>\n",
       "      <td>False</td>\n",
       "    </tr>\n",
       "    <tr>\n",
       "      <th>11</th>\n",
       "      <td>True</td>\n",
       "    </tr>\n",
       "    <tr>\n",
       "      <th>12</th>\n",
       "      <td>True</td>\n",
       "    </tr>\n",
       "    <tr>\n",
       "      <th>13</th>\n",
       "      <td>True</td>\n",
       "    </tr>\n",
       "    <tr>\n",
       "      <th>14</th>\n",
       "      <td>True</td>\n",
       "    </tr>\n",
       "    <tr>\n",
       "      <th>15</th>\n",
       "      <td>False</td>\n",
       "    </tr>\n",
       "    <tr>\n",
       "      <th>16</th>\n",
       "      <td>True</td>\n",
       "    </tr>\n",
       "    <tr>\n",
       "      <th>17</th>\n",
       "      <td>True</td>\n",
       "    </tr>\n",
       "    <tr>\n",
       "      <th>18</th>\n",
       "      <td>True</td>\n",
       "    </tr>\n",
       "    <tr>\n",
       "      <th>19</th>\n",
       "      <td>True</td>\n",
       "    </tr>\n",
       "    <tr>\n",
       "      <th>20</th>\n",
       "      <td>False</td>\n",
       "    </tr>\n",
       "    <tr>\n",
       "      <th>21</th>\n",
       "      <td>True</td>\n",
       "    </tr>\n",
       "    <tr>\n",
       "      <th>22</th>\n",
       "      <td>True</td>\n",
       "    </tr>\n",
       "    <tr>\n",
       "      <th>23</th>\n",
       "      <td>True</td>\n",
       "    </tr>\n",
       "    <tr>\n",
       "      <th>24</th>\n",
       "      <td>True</td>\n",
       "    </tr>\n",
       "    <tr>\n",
       "      <th>25</th>\n",
       "      <td>True</td>\n",
       "    </tr>\n",
       "    <tr>\n",
       "      <th>27</th>\n",
       "      <td>True</td>\n",
       "    </tr>\n",
       "    <tr>\n",
       "      <th>28</th>\n",
       "      <td>True</td>\n",
       "    </tr>\n",
       "    <tr>\n",
       "      <th>29</th>\n",
       "      <td>True</td>\n",
       "    </tr>\n",
       "    <tr>\n",
       "      <th>30</th>\n",
       "      <td>True</td>\n",
       "    </tr>\n",
       "    <tr>\n",
       "      <th>31</th>\n",
       "      <td>True</td>\n",
       "    </tr>\n",
       "    <tr>\n",
       "      <th>32</th>\n",
       "      <td>False</td>\n",
       "    </tr>\n",
       "    <tr>\n",
       "      <th>33</th>\n",
       "      <td>False</td>\n",
       "    </tr>\n",
       "    <tr>\n",
       "      <th>34</th>\n",
       "      <td>True</td>\n",
       "    </tr>\n",
       "    <tr>\n",
       "      <th>35</th>\n",
       "      <td>True</td>\n",
       "    </tr>\n",
       "    <tr>\n",
       "      <th>36</th>\n",
       "      <td>True</td>\n",
       "    </tr>\n",
       "    <tr>\n",
       "      <th>...</th>\n",
       "      <td>...</td>\n",
       "    </tr>\n",
       "    <tr>\n",
       "      <th>1124</th>\n",
       "      <td>True</td>\n",
       "    </tr>\n",
       "    <tr>\n",
       "      <th>1126</th>\n",
       "      <td>True</td>\n",
       "    </tr>\n",
       "    <tr>\n",
       "      <th>1127</th>\n",
       "      <td>True</td>\n",
       "    </tr>\n",
       "    <tr>\n",
       "      <th>1128</th>\n",
       "      <td>True</td>\n",
       "    </tr>\n",
       "    <tr>\n",
       "      <th>1129</th>\n",
       "      <td>True</td>\n",
       "    </tr>\n",
       "    <tr>\n",
       "      <th>1130</th>\n",
       "      <td>True</td>\n",
       "    </tr>\n",
       "    <tr>\n",
       "      <th>1131</th>\n",
       "      <td>True</td>\n",
       "    </tr>\n",
       "    <tr>\n",
       "      <th>1132</th>\n",
       "      <td>True</td>\n",
       "    </tr>\n",
       "    <tr>\n",
       "      <th>1133</th>\n",
       "      <td>True</td>\n",
       "    </tr>\n",
       "    <tr>\n",
       "      <th>1134</th>\n",
       "      <td>True</td>\n",
       "    </tr>\n",
       "    <tr>\n",
       "      <th>1135</th>\n",
       "      <td>True</td>\n",
       "    </tr>\n",
       "    <tr>\n",
       "      <th>1136</th>\n",
       "      <td>True</td>\n",
       "    </tr>\n",
       "    <tr>\n",
       "      <th>1137</th>\n",
       "      <td>True</td>\n",
       "    </tr>\n",
       "    <tr>\n",
       "      <th>1138</th>\n",
       "      <td>True</td>\n",
       "    </tr>\n",
       "    <tr>\n",
       "      <th>1139</th>\n",
       "      <td>True</td>\n",
       "    </tr>\n",
       "    <tr>\n",
       "      <th>1140</th>\n",
       "      <td>True</td>\n",
       "    </tr>\n",
       "    <tr>\n",
       "      <th>1141</th>\n",
       "      <td>True</td>\n",
       "    </tr>\n",
       "    <tr>\n",
       "      <th>1142</th>\n",
       "      <td>True</td>\n",
       "    </tr>\n",
       "    <tr>\n",
       "      <th>1144</th>\n",
       "      <td>True</td>\n",
       "    </tr>\n",
       "    <tr>\n",
       "      <th>1145</th>\n",
       "      <td>True</td>\n",
       "    </tr>\n",
       "    <tr>\n",
       "      <th>1146</th>\n",
       "      <td>True</td>\n",
       "    </tr>\n",
       "    <tr>\n",
       "      <th>1147</th>\n",
       "      <td>True</td>\n",
       "    </tr>\n",
       "    <tr>\n",
       "      <th>1148</th>\n",
       "      <td>True</td>\n",
       "    </tr>\n",
       "    <tr>\n",
       "      <th>1149</th>\n",
       "      <td>True</td>\n",
       "    </tr>\n",
       "    <tr>\n",
       "      <th>1150</th>\n",
       "      <td>True</td>\n",
       "    </tr>\n",
       "    <tr>\n",
       "      <th>1151</th>\n",
       "      <td>True</td>\n",
       "    </tr>\n",
       "    <tr>\n",
       "      <th>1152</th>\n",
       "      <td>True</td>\n",
       "    </tr>\n",
       "    <tr>\n",
       "      <th>1153</th>\n",
       "      <td>True</td>\n",
       "    </tr>\n",
       "    <tr>\n",
       "      <th>1154</th>\n",
       "      <td>True</td>\n",
       "    </tr>\n",
       "    <tr>\n",
       "      <th>1155</th>\n",
       "      <td>True</td>\n",
       "    </tr>\n",
       "  </tbody>\n",
       "</table>\n",
       "<p>1002 rows × 1 columns</p>\n",
       "</div>"
      ],
      "text/plain": [
       "          stop_date\n",
       "               amax\n",
       "school_id          \n",
       "2              True\n",
       "3              True\n",
       "7              True\n",
       "8              True\n",
       "10            False\n",
       "11             True\n",
       "12             True\n",
       "13             True\n",
       "14             True\n",
       "15            False\n",
       "16             True\n",
       "17             True\n",
       "18             True\n",
       "19             True\n",
       "20            False\n",
       "21             True\n",
       "22             True\n",
       "23             True\n",
       "24             True\n",
       "25             True\n",
       "27             True\n",
       "28             True\n",
       "29             True\n",
       "30             True\n",
       "31             True\n",
       "32            False\n",
       "33            False\n",
       "34             True\n",
       "35             True\n",
       "36             True\n",
       "...             ...\n",
       "1124           True\n",
       "1126           True\n",
       "1127           True\n",
       "1128           True\n",
       "1129           True\n",
       "1130           True\n",
       "1131           True\n",
       "1132           True\n",
       "1133           True\n",
       "1134           True\n",
       "1135           True\n",
       "1136           True\n",
       "1137           True\n",
       "1138           True\n",
       "1139           True\n",
       "1140           True\n",
       "1141           True\n",
       "1142           True\n",
       "1144           True\n",
       "1145           True\n",
       "1146           True\n",
       "1147           True\n",
       "1148           True\n",
       "1149           True\n",
       "1150           True\n",
       "1151           True\n",
       "1152           True\n",
       "1153           True\n",
       "1154           True\n",
       "1155           True\n",
       "\n",
       "[1002 rows x 1 columns]"
      ]
     },
     "execution_count": 78,
     "metadata": {},
     "output_type": "execute_result"
    }
   ],
   "source": [
    "sessions.groupby('school_id').agg({'stop_date' : [np.max]}) > pd.to_datetime(\"march 2018\")"
   ]
  },
  {
   "cell_type": "code",
   "execution_count": null,
   "metadata": {},
   "outputs": [],
   "source": []
  }
 ],
 "metadata": {
  "kernelspec": {
   "display_name": "Python 3",
   "language": "python",
   "name": "python3"
  },
  "language_info": {
   "codemirror_mode": {
    "name": "ipython",
    "version": 3
   },
   "file_extension": ".py",
   "mimetype": "text/x-python",
   "name": "python",
   "nbconvert_exporter": "python",
   "pygments_lexer": "ipython3",
   "version": "3.6.4"
  }
 },
 "nbformat": 4,
 "nbformat_minor": 2
}
